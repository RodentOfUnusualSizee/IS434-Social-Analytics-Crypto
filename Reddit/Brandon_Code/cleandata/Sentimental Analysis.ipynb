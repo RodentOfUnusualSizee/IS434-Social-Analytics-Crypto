{
 "cells": [
  {
   "cell_type": "code",
   "execution_count": 1,
   "id": "c0535bf1",
   "metadata": {},
   "outputs": [],
   "source": [
    "import pandas as pd"
   ]
  },
  {
   "cell_type": "code",
<<<<<<< Updated upstream
   "execution_count": null,
   "id": "a083f7de",
   "metadata": {},
   "outputs": [],
   "source": []
  },
  {
   "cell_type": "code",
   "execution_count": null,
   "id": "29121259",
   "metadata": {},
   "outputs": [],
   "source": []
  },
  {
   "cell_type": "code",
=======
>>>>>>> Stashed changes
   "execution_count": 2,
   "id": "5ae977cc",
   "metadata": {},
   "outputs": [],
   "source": [
    "# df = pd.read_csv(\"C:/Users/caleb/Documents/tmp/ssa/powerQueryDiscordData.csv\",encoding = \"ISO-8859-1\")\n",
    "df = pd.read_csv(\"./MakerDAO_combined_cleaned.csv\")"
   ]
  },
  {
   "cell_type": "code",
   "execution_count": 3,
<<<<<<< Updated upstream
   "id": "7415bb51",
=======
   "id": "634fe30d",
>>>>>>> Stashed changes
   "metadata": {},
   "outputs": [
    {
     "data": {
      "text/html": [
       "<div>\n",
       "<style scoped>\n",
       "    .dataframe tbody tr th:only-of-type {\n",
       "        vertical-align: middle;\n",
       "    }\n",
       "\n",
       "    .dataframe tbody tr th {\n",
       "        vertical-align: top;\n",
       "    }\n",
       "\n",
       "    .dataframe thead th {\n",
       "        text-align: right;\n",
       "    }\n",
       "</style>\n",
       "<table border=\"1\" class=\"dataframe\">\n",
       "  <thead>\n",
       "    <tr style=\"text-align: right;\">\n",
       "      <th></th>\n",
       "      <th>title</th>\n",
       "      <th>url</th>\n",
       "      <th>author</th>\n",
       "      <th>score</th>\n",
       "      <th>created</th>\n",
       "      <th>numComms</th>\n",
       "      <th>permalink</th>\n",
       "      <th>flair</th>\n",
       "      <th>body</th>\n",
       "      <th>date</th>\n",
       "    </tr>\n",
       "  </thead>\n",
       "  <tbody>\n",
       "    <tr>\n",
       "      <th>0</th>\n",
       "      <td>New “bailout” mechanism</td>\n",
       "      <td>https://www.reddit.com/r/CoinMarketCap/comment...</td>\n",
       "      <td>fOrest9406</td>\n",
       "      <td>1</td>\n",
       "      <td>2021-01-01 01:50:35</td>\n",
       "      <td>2</td>\n",
       "      <td>/r/CoinMarketCap/comments/knukd1/new_bailout_m...</td>\n",
       "      <td>NaN</td>\n",
       "      <td>I want to tell about a novelty from the cross-...</td>\n",
       "      <td>2021-01-01</td>\n",
       "    </tr>\n",
       "    <tr>\n",
       "      <th>1</th>\n",
       "      <td>Stacking, lending and GAS fees</td>\n",
       "      <td>https://www.reddit.com/r/defi/comments/ko80c9/...</td>\n",
       "      <td>paolorepetti85</td>\n",
       "      <td>1</td>\n",
       "      <td>2021-01-01 16:31:53</td>\n",
       "      <td>0</td>\n",
       "      <td>/r/defi/comments/ko80c9/stacking_lending_and_g...</td>\n",
       "      <td>NaN</td>\n",
       "      <td>In most of the defi projects there are a sort ...</td>\n",
       "      <td>2021-01-01</td>\n",
       "    </tr>\n",
       "    <tr>\n",
       "      <th>2</th>\n",
       "      <td>MakerDao pessimistic view</td>\n",
       "      <td>https://www.reddit.com/r/ethtrader/comments/ko...</td>\n",
       "      <td>ckd001</td>\n",
       "      <td>1</td>\n",
       "      <td>2021-01-01 17:53:39</td>\n",
       "      <td>10</td>\n",
       "      <td>/r/ethtrader/comments/ko8trw/makerdao_pessimis...</td>\n",
       "      <td>MAKER</td>\n",
       "      <td>If they had concentrated on decentralized coll...</td>\n",
       "      <td>2021-01-01</td>\n",
       "    </tr>\n",
       "    <tr>\n",
       "      <th>3</th>\n",
       "      <td>230M DAI withdrawn from MakerDAO</td>\n",
       "      <td>https://www.reddit.com/r/MakerDAO/comments/koc...</td>\n",
       "      <td>EconomyIntroduction</td>\n",
       "      <td>1</td>\n",
       "      <td>2021-01-01 23:26:28</td>\n",
       "      <td>2</td>\n",
       "      <td>/r/MakerDAO/comments/koczyp/230m_dai_withdrawn...</td>\n",
       "      <td>NaN</td>\n",
       "      <td>Why was there a sudden drop in DAI locked in M...</td>\n",
       "      <td>2021-01-01</td>\n",
       "    </tr>\n",
       "    <tr>\n",
       "      <th>4</th>\n",
       "      <td>1.8 mil mcap DG (decentral.games)</td>\n",
       "      <td>https://www.reddit.com/r/CryptoMoonShots/comme...</td>\n",
       "      <td>islyfe</td>\n",
       "      <td>1</td>\n",
       "      <td>2021-01-03 07:44:50</td>\n",
       "      <td>0</td>\n",
       "      <td>/r/CryptoMoonShots/comments/kp8qaj/18_mil_mcap...</td>\n",
       "      <td>Low MCAP coin</td>\n",
       "      <td>Backed by Grayscale, makerdao, matic and decen...</td>\n",
       "      <td>2021-01-03</td>\n",
       "    </tr>\n",
       "  </tbody>\n",
       "</table>\n",
       "</div>"
      ],
      "text/plain": [
       "                               title  \\\n",
       "0            New “bailout” mechanism   \n",
       "1     Stacking, lending and GAS fees   \n",
       "2          MakerDao pessimistic view   \n",
       "3   230M DAI withdrawn from MakerDAO   \n",
       "4  1.8 mil mcap DG (decentral.games)   \n",
       "\n",
       "                                                 url               author  \\\n",
       "0  https://www.reddit.com/r/CoinMarketCap/comment...           fOrest9406   \n",
       "1  https://www.reddit.com/r/defi/comments/ko80c9/...       paolorepetti85   \n",
       "2  https://www.reddit.com/r/ethtrader/comments/ko...               ckd001   \n",
       "3  https://www.reddit.com/r/MakerDAO/comments/koc...  EconomyIntroduction   \n",
       "4  https://www.reddit.com/r/CryptoMoonShots/comme...               islyfe   \n",
       "\n",
       "   score              created  numComms  \\\n",
       "0      1  2021-01-01 01:50:35         2   \n",
       "1      1  2021-01-01 16:31:53         0   \n",
       "2      1  2021-01-01 17:53:39        10   \n",
       "3      1  2021-01-01 23:26:28         2   \n",
       "4      1  2021-01-03 07:44:50         0   \n",
       "\n",
       "                                           permalink          flair  \\\n",
       "0  /r/CoinMarketCap/comments/knukd1/new_bailout_m...            NaN   \n",
       "1  /r/defi/comments/ko80c9/stacking_lending_and_g...            NaN   \n",
       "2  /r/ethtrader/comments/ko8trw/makerdao_pessimis...          MAKER   \n",
       "3  /r/MakerDAO/comments/koczyp/230m_dai_withdrawn...            NaN   \n",
       "4  /r/CryptoMoonShots/comments/kp8qaj/18_mil_mcap...  Low MCAP coin   \n",
       "\n",
       "                                                body        date  \n",
       "0  I want to tell about a novelty from the cross-...  2021-01-01  \n",
       "1  In most of the defi projects there are a sort ...  2021-01-01  \n",
       "2  If they had concentrated on decentralized coll...  2021-01-01  \n",
       "3  Why was there a sudden drop in DAI locked in M...  2021-01-01  \n",
       "4  Backed by Grayscale, makerdao, matic and decen...  2021-01-03  "
      ]
     },
     "execution_count": 3,
     "metadata": {},
     "output_type": "execute_result"
    }
   ],
   "source": [
<<<<<<< Updated upstream
    "df.head()"
   ]
  },
  {
   "cell_type": "code",
   "execution_count": 4,
   "id": "e3fad000",
   "metadata": {},
   "outputs": [
    {
     "name": "stdout",
     "output_type": "stream",
     "text": [
      "<class 'pandas.core.frame.DataFrame'>\n",
      "RangeIndex: 1431 entries, 0 to 1430\n",
      "Data columns (total 9 columns):\n",
      " #   Column     Non-Null Count  Dtype \n",
      "---  ------     --------------  ----- \n",
      " 0   title      1431 non-null   object\n",
      " 1   url        1431 non-null   object\n",
      " 2   author     1431 non-null   object\n",
      " 3   score      1431 non-null   int64 \n",
      " 4   created    1431 non-null   object\n",
      " 5   numComms   1431 non-null   int64 \n",
      " 6   permalink  1431 non-null   object\n",
      " 7   flair      248 non-null    object\n",
      " 8   body       1431 non-null   object\n",
      "dtypes: int64(2), object(7)\n",
      "memory usage: 100.7+ KB\n"
     ]
    }
   ],
   "source": [
    "df.info()"
=======
    "df['date'] = df['created'].apply(lambda x: x.split(' ')[0])\n",
    "df.head(5)"
>>>>>>> Stashed changes
   ]
  },
  {
   "cell_type": "code",
<<<<<<< Updated upstream
   "execution_count": 5,
   "id": "634fe30d",
=======
   "execution_count": 4,
   "id": "3742d6cd",
>>>>>>> Stashed changes
   "metadata": {},
   "outputs": [
    {
     "data": {
      "text/html": [
       "<div>\n",
       "<style scoped>\n",
       "    .dataframe tbody tr th:only-of-type {\n",
       "        vertical-align: middle;\n",
       "    }\n",
       "\n",
       "    .dataframe tbody tr th {\n",
       "        vertical-align: top;\n",
       "    }\n",
       "\n",
       "    .dataframe thead th {\n",
       "        text-align: right;\n",
       "    }\n",
       "</style>\n",
       "<table border=\"1\" class=\"dataframe\">\n",
       "  <thead>\n",
       "    <tr style=\"text-align: right;\">\n",
       "      <th></th>\n",
       "      <th>title</th>\n",
       "      <th>url</th>\n",
       "      <th>author</th>\n",
       "      <th>score</th>\n",
       "      <th>created</th>\n",
       "      <th>numComms</th>\n",
       "      <th>permalink</th>\n",
       "      <th>flair</th>\n",
       "      <th>body</th>\n",
       "      <th>date</th>\n",
       "    </tr>\n",
       "  </thead>\n",
       "  <tbody>\n",
       "    <tr>\n",
       "      <th>0</th>\n",
       "      <td>New “bailout” mechanism</td>\n",
       "      <td>https://www.reddit.com/r/CoinMarketCap/comment...</td>\n",
       "      <td>fOrest9406</td>\n",
       "      <td>1</td>\n",
       "      <td>2021-01-01 01:50:35</td>\n",
       "      <td>2</td>\n",
       "      <td>/r/CoinMarketCap/comments/knukd1/new_bailout_m...</td>\n",
       "      <td>NaN</td>\n",
       "      <td>I want to tell about a novelty from the cross-...</td>\n",
       "      <td>2021-01-01</td>\n",
       "    </tr>\n",
       "    <tr>\n",
       "      <th>1</th>\n",
       "      <td>Stacking, lending and GAS fees</td>\n",
       "      <td>https://www.reddit.com/r/defi/comments/ko80c9/...</td>\n",
       "      <td>paolorepetti85</td>\n",
       "      <td>1</td>\n",
       "      <td>2021-01-01 16:31:53</td>\n",
       "      <td>0</td>\n",
       "      <td>/r/defi/comments/ko80c9/stacking_lending_and_g...</td>\n",
       "      <td>NaN</td>\n",
       "      <td>In most of the defi projects there are a sort ...</td>\n",
       "      <td>2021-01-01</td>\n",
       "    </tr>\n",
       "    <tr>\n",
       "      <th>2</th>\n",
       "      <td>MakerDao pessimistic view</td>\n",
       "      <td>https://www.reddit.com/r/ethtrader/comments/ko...</td>\n",
       "      <td>ckd001</td>\n",
       "      <td>1</td>\n",
       "      <td>2021-01-01 17:53:39</td>\n",
       "      <td>10</td>\n",
       "      <td>/r/ethtrader/comments/ko8trw/makerdao_pessimis...</td>\n",
       "      <td>MAKER</td>\n",
       "      <td>If they had concentrated on decentralized coll...</td>\n",
       "      <td>2021-01-01</td>\n",
       "    </tr>\n",
       "    <tr>\n",
       "      <th>3</th>\n",
       "      <td>230M DAI withdrawn from MakerDAO</td>\n",
       "      <td>https://www.reddit.com/r/MakerDAO/comments/koc...</td>\n",
       "      <td>EconomyIntroduction</td>\n",
       "      <td>1</td>\n",
       "      <td>2021-01-01 23:26:28</td>\n",
       "      <td>2</td>\n",
       "      <td>/r/MakerDAO/comments/koczyp/230m_dai_withdrawn...</td>\n",
       "      <td>NaN</td>\n",
       "      <td>Why was there a sudden drop in DAI locked in M...</td>\n",
       "      <td>2021-01-01</td>\n",
       "    </tr>\n",
       "    <tr>\n",
       "      <th>766</th>\n",
       "      <td>Reserve Rights vs Maker</td>\n",
       "      <td>https://www.reddit.com/r/MakerDAO/comments/knx...</td>\n",
       "      <td>tarpmaster</td>\n",
       "      <td>1</td>\n",
       "      <td>2021-01-01 04:48:39</td>\n",
       "      <td>2</td>\n",
       "      <td>/r/MakerDAO/comments/knxry4/reserve_rights_vs_...</td>\n",
       "      <td>NaN</td>\n",
       "      <td>Has anyone done a comparison of the pros and c...</td>\n",
       "      <td>2021-01-01</td>\n",
       "    </tr>\n",
       "  </tbody>\n",
       "</table>\n",
       "</div>"
      ],
      "text/plain": [
       "                                title  \\\n",
       "0             New “bailout” mechanism   \n",
       "1      Stacking, lending and GAS fees   \n",
       "2           MakerDao pessimistic view   \n",
       "3    230M DAI withdrawn from MakerDAO   \n",
       "766           Reserve Rights vs Maker   \n",
       "\n",
       "                                                   url               author  \\\n",
       "0    https://www.reddit.com/r/CoinMarketCap/comment...           fOrest9406   \n",
       "1    https://www.reddit.com/r/defi/comments/ko80c9/...       paolorepetti85   \n",
       "2    https://www.reddit.com/r/ethtrader/comments/ko...               ckd001   \n",
       "3    https://www.reddit.com/r/MakerDAO/comments/koc...  EconomyIntroduction   \n",
       "766  https://www.reddit.com/r/MakerDAO/comments/knx...           tarpmaster   \n",
       "\n",
       "     score              created  numComms  \\\n",
       "0        1  2021-01-01 01:50:35         2   \n",
       "1        1  2021-01-01 16:31:53         0   \n",
       "2        1  2021-01-01 17:53:39        10   \n",
       "3        1  2021-01-01 23:26:28         2   \n",
       "766      1  2021-01-01 04:48:39         2   \n",
       "\n",
       "                                             permalink  flair  \\\n",
       "0    /r/CoinMarketCap/comments/knukd1/new_bailout_m...    NaN   \n",
       "1    /r/defi/comments/ko80c9/stacking_lending_and_g...    NaN   \n",
       "2    /r/ethtrader/comments/ko8trw/makerdao_pessimis...  MAKER   \n",
       "3    /r/MakerDAO/comments/koczyp/230m_dai_withdrawn...    NaN   \n",
       "766  /r/MakerDAO/comments/knxry4/reserve_rights_vs_...    NaN   \n",
       "\n",
       "                                                  body        date  \n",
       "0    I want to tell about a novelty from the cross-...  2021-01-01  \n",
       "1    In most of the defi projects there are a sort ...  2021-01-01  \n",
       "2    If they had concentrated on decentralized coll...  2021-01-01  \n",
       "3    Why was there a sudden drop in DAI locked in M...  2021-01-01  \n",
       "766  Has anyone done a comparison of the pros and c...  2021-01-01  "
      ]
     },
<<<<<<< Updated upstream
     "execution_count": 5,
=======
     "execution_count": 4,
>>>>>>> Stashed changes
     "metadata": {},
     "output_type": "execute_result"
    }
   ],
   "source": [
    "df.sort_values(['date'], inplace=True)\n",
    "df.head(5)"
   ]
  },
  {
   "cell_type": "code",
<<<<<<< Updated upstream
   "execution_count": 6,
=======
   "execution_count": 5,
>>>>>>> Stashed changes
   "id": "dfd1c530",
   "metadata": {},
   "outputs": [],
   "source": [
    "#filling na with forward fill. \n",
    "df = df.fillna(method='ffill')"
   ]
  },
  {
   "cell_type": "code",
<<<<<<< Updated upstream
   "execution_count": 7,
=======
   "execution_count": 6,
>>>>>>> Stashed changes
   "id": "1e1c81a8",
   "metadata": {},
   "outputs": [
    {
     "name": "stdout",
     "output_type": "stream",
     "text": [
      "<class 'pandas.core.frame.DataFrame'>\n",
      "Int64Index: 1431 entries, 0 to 228\n",
      "Data columns (total 10 columns):\n",
      " #   Column     Non-Null Count  Dtype \n",
      "---  ------     --------------  ----- \n",
      " 0   title      1431 non-null   object\n",
      " 1   url        1431 non-null   object\n",
      " 2   author     1431 non-null   object\n",
      " 3   score      1431 non-null   int64 \n",
      " 4   created    1431 non-null   object\n",
      " 5   numComms   1431 non-null   int64 \n",
      " 6   permalink  1431 non-null   object\n",
      " 7   flair      1429 non-null   object\n",
      " 8   body       1431 non-null   object\n",
      " 9   date       1431 non-null   object\n",
      "dtypes: int64(2), object(8)\n",
      "memory usage: 123.0+ KB\n"
     ]
    }
   ],
   "source": [
    "df.info()"
   ]
  },
  {
   "cell_type": "code",
<<<<<<< Updated upstream
   "execution_count": 8,
=======
   "execution_count": 7,
>>>>>>> Stashed changes
   "id": "c56899c5",
   "metadata": {},
   "outputs": [],
   "source": [
    "# Preparing Text Data for Sentimental Analysis\n",
    "\n",
    "import numpy as np\n",
    "import re\n",
    "from nltk.corpus import stopwords\n",
    "\n",
    "stop = stopwords.words('zenglish')\n",
    "\n",
    "def clean_content(contentInput):\n",
    "    if type(contentInput) == np.float:\n",
    "        return \"\"\n",
    "    contentInput = contentInput.lower()\n",
    "    contentInput = re.sub(\"'\", \"\", contentInput) # to avoid removing contractions in english\n",
    "    contentInput = re.sub(\"@[A-Za-z0-9_]+\",\"\", contentInput)\n",
    "    contentInput = re.sub(\"#[A-Za-z0-9_]+\",\"\", contentInput)\n",
    "    contentInput = re.sub(r'http\\S+', '', contentInput)\n",
    "    contentInput = re.sub('[()!?]', ' ', contentInput)\n",
    "    contentInput = re.sub('\\[.*?\\]',' ', contentInput)\n",
    "    contentInput = re.sub(\"[^a-z0-9]\",\" \", contentInput)\n",
    "    contentInput = contentInput.strip()\n",
    "    contentInput = contentInput.split()\n",
    "    contentInput = [w for w in contentInput if not w in stop]\n",
    "    contentInput = \" \".join(word for word in contentInput)\n",
    "    return contentInput"
   ]
  },
  {
   "cell_type": "code",
<<<<<<< Updated upstream
   "execution_count": 9,
=======
   "execution_count": 8,
>>>>>>> Stashed changes
   "id": "5a7822d1",
   "metadata": {},
   "outputs": [
    {
     "data": {
      "text/plain": [
       "['2021-01',\n",
       " '2021-02',\n",
       " '2021-03',\n",
       " '2021-04',\n",
       " '2021-05',\n",
       " '2021-06',\n",
       " '2021-07',\n",
       " '2021-08',\n",
       " '2021-09',\n",
       " '2021-10',\n",
       " '2021-11',\n",
       " '2021-12']"
      ]
     },
<<<<<<< Updated upstream
     "execution_count": 9,
=======
     "execution_count": 8,
>>>>>>> Stashed changes
     "metadata": {},
     "output_type": "execute_result"
    }
   ],
   "source": [
    "# df['date'].unique()\n",
    "df['year_month'] = df['date'].apply(lambda x: x[0:x.rfind('-')])\n",
    "list(df['year_month'].unique())"
   ]
  },
  {
   "cell_type": "code",
<<<<<<< Updated upstream
   "execution_count": 10,
=======
   "execution_count": 9,
>>>>>>> Stashed changes
   "id": "d83efab8",
   "metadata": {},
   "outputs": [],
   "source": [
    "#spliting data into months as for time series sentimental analysis\n",
    "#Getting start and end date of data\n",
    "\n",
    "# monthList = pd.date_range('2021-01-01','2022-02-01', \n",
    "#               freq='MS').strftime(\"%m/%Y\").tolist()\n",
    "\n",
    "monthList = list(df['year_month'].unique())\n",
    "\n",
    "#creating blank dict for later\n",
    "\n",
    "timeSplitData={}\n",
    "timeSplitDataSentiment = {}\n",
    "\n",
    "for month in monthList: \n",
    "    timeSplitData[month] = []\n",
    "    timeSplitDataSentiment[month] = []    \n"
   ]
  },
  {
   "cell_type": "code",
<<<<<<< Updated upstream
   "execution_count": 11,
=======
   "execution_count": 10,
>>>>>>> Stashed changes
   "id": "637d6540",
   "metadata": {},
   "outputs": [
    {
     "data": {
      "text/plain": [
       "{'2021-01': [],\n",
       " '2021-02': [],\n",
       " '2021-03': [],\n",
       " '2021-04': [],\n",
       " '2021-05': [],\n",
       " '2021-06': [],\n",
       " '2021-07': [],\n",
       " '2021-08': [],\n",
       " '2021-09': [],\n",
       " '2021-10': [],\n",
       " '2021-11': [],\n",
       " '2021-12': []}"
      ]
     },
<<<<<<< Updated upstream
     "execution_count": 11,
=======
     "execution_count": 10,
>>>>>>> Stashed changes
     "metadata": {},
     "output_type": "execute_result"
    }
   ],
   "source": [
    "timeSplitData"
   ]
  },
  {
   "cell_type": "code",
<<<<<<< Updated upstream
   "execution_count": 12,
=======
   "execution_count": 11,
>>>>>>> Stashed changes
   "id": "b716d6e0",
   "metadata": {},
   "outputs": [
    {
     "name": "stderr",
     "output_type": "stream",
     "text": [
<<<<<<< Updated upstream
      "<ipython-input-8-cedc3de0ebca>:10: DeprecationWarning: `np.float` is a deprecated alias for the builtin `float`. To silence this warning, use `float` by itself. Doing this will not modify any behavior and is safe. If you specifically wanted the numpy scalar type, use `np.float64` here.\n",
=======
      "<ipython-input-7-cedc3de0ebca>:10: DeprecationWarning: `np.float` is a deprecated alias for the builtin `float`. To silence this warning, use `float` by itself. Doing this will not modify any behavior and is safe. If you specifically wanted the numpy scalar type, use `np.float64` here.\n",
>>>>>>> Stashed changes
      "Deprecated in NumPy 1.20; for more details and guidance: https://numpy.org/devdocs/release/1.20.0-notes.html#deprecations\n",
      "  if type(contentInput) == np.float:\n"
     ]
    }
   ],
   "source": [
    "for row in df.iterrows():\n",
    "    #extracting month data from row\n",
    "\n",
    "    # dateData = row[1]['date']\n",
    "    # tmp = dateData.find('/') \n",
    "\n",
    "    # monthData = dateData[tmp+1:] #removing day e.g '12/'\n",
    "    # if len(monthData) == 6:\n",
    "    #     monthData = \"0\"+monthData\n",
    "    \n",
    "    # if monthData in timeSplitData: # check if data is in range of date we want to analyse\n",
    "\n",
    "    monthData = row[1]['year_month']\n",
    "    content = row[1]['body']\n",
    "    #cleaning Data\n",
    "    cleaned = clean_content(content)\n",
    "    #Storing into time split dict\n",
    "    timeSplitData[monthData].append(cleaned)\n"
   ]
  },
  {
   "cell_type": "code",
<<<<<<< Updated upstream
   "execution_count": 13,
=======
   "execution_count": 12,
>>>>>>> Stashed changes
   "id": "d2b5814b",
   "metadata": {},
   "outputs": [],
   "source": [
    "import nltk\n",
    "# nltk.download('vader_lexicon')\n",
    "from nltk.sentiment.vader import SentimentIntensityAnalyzer\n",
    "\n",
    "sid = SentimentIntensityAnalyzer()"
   ]
  },
  {
   "cell_type": "code",
   "execution_count": 14,
   "id": "c526934b",
   "metadata": {},
   "outputs": [],
   "source": [
    "# ## VADER testing and understanding\n",
    "\n",
    "# testText = \"really painful see sushi chart\"\n",
    "# negativeTest = sid.polarity_scores(testText)\n",
    "\n",
    "# testText = \"market doing well go up\"\n",
    "# positiveTest = sid.polarity_scores(testText)\n",
    "# ## compound can be use to net the sentiment.. negative mean bear\n",
    "\n",
    "# print(negativeTest)\n",
    "# print(positiveTest)"
   ]
  },
  {
   "cell_type": "code",
   "execution_count": 15,
   "id": "b6ef7c61",
   "metadata": {},
   "outputs": [],
   "source": [
    "## Geting Sentiment Score using VANDER's sentiment model\n",
    "for month in timeSplitData:\n",
    "    for content in timeSplitData[month]:\n",
    "        output = sid.polarity_scores(content)\n",
    "        timeSplitDataSentiment[month].append(output)\n"
   ]
  },
  {
   "cell_type": "code",
   "execution_count": 16,
   "id": "8845b700",
   "metadata": {},
   "outputs": [],
   "source": [
    "## Calculating Net Weighted Sentiment Score\n",
    "timeSplitDataNetScore = {}\n",
    "for month in monthList:\n",
    "    timeSplitDataNetScore[month] = 0 \n",
    "    \n",
    "for month in timeSplitDataSentiment:\n",
    "    for output in timeSplitDataSentiment[month]:\n",
    "        compound = output['compound']\n",
    "        compound = compound / len(timeSplitDataSentiment[month])\n",
    "        timeSplitDataNetScore[month] +=compound\n"
   ]
  },
  {
   "cell_type": "code",
   "execution_count": 17,
   "id": "bcdf6ce7",
   "metadata": {},
   "outputs": [
    {
     "data": {
      "text/plain": [
       "{'2021-01': 0.3987874125874128,\n",
       " '2021-02': 0.5084216981132077,\n",
       " '2021-03': 0.49451428571428574,\n",
       " '2021-04': 0.6425643749999994,\n",
       " '2021-05': 0.46996713615023467,\n",
       " '2021-06': 0.5057185840707964,\n",
       " '2021-07': 0.6883381578947367,\n",
       " '2021-08': 0.6565422018348626,\n",
       " '2021-09': 0.5430939393939398,\n",
       " '2021-10': 0.5446525773195875,\n",
       " '2021-11': 0.6926254237288133,\n",
       " '2021-12': 0.6965793103448277}"
      ]
     },
     "execution_count": 17,
     "metadata": {},
     "output_type": "execute_result"
    }
   ],
   "source": [
    "timeSplitDataNetScore"
   ]
  },
  {
   "cell_type": "code",
   "execution_count": 18,
   "id": "d959e007",
   "metadata": {},
   "outputs": [
    {
     "data": {
      "image/png": "iVBORw0KGgoAAAANSUhEUgAAAYsAAAExCAYAAACNsY6YAAAABHNCSVQICAgIfAhkiAAAAAlwSFlzAAALEgAACxIB0t1+/AAAADh0RVh0U29mdHdhcmUAbWF0cGxvdGxpYiB2ZXJzaW9uMy4yLjIsIGh0dHA6Ly9tYXRwbG90bGliLm9yZy+WH4yJAAAgAElEQVR4nO2dd7xU1bX4v4smXEAQQSw0u2JDQIrCFVRs0RgTjSiCJjHEGPWXZ5qGvMT4wtM8U5+aZ9QIKhhssUZGLIB6r1QrWBEpVhBEurT1+2OdkXGYe2fuvXPOmTl3fT+f85lT9tlr7TMze5291i6iqjiO4zhObTSJWwHHcRyn9HFj4TiO4+TFjYXjOI6TFzcWjuM4Tl7cWDiO4zh5cWPhOI7j5MWNRYkjIleLyIRari8SkROC/V+KyG3RaeeUGyLSTUTWikjTuHXJh4hME5GLYpDbQ0RURJo1II/BIvJWMfWKGzcWIRBU4BuCP+XHIjJeRNqELVdV/1tVLwp0KOgHLyIHiMh9IvKpiHwuIq+KyBVhVCYicqGIPF/He/YQkX+IyEciskZE3hSR34pI62LrFxci0kJE/igi7we/mfdE5M9FyvvLlwkAVV2iqm1UdWsx8q+jLioi+xU5zwuDfL9dzHwbiqo+p6oHxq1HMXFjER6nq2oboBdwJHBVzPrsgIjsC8wElgKHqWo74GygL9A2R/p6v2nVU78OwAtAK2CgqrYFhgHtgX3rkd8O+pfIG/ZV2DPvhz33ocBLsWpUPlwArAw+nTBRVd+KvAGLgBMyjv8H+HfG8QCgGlgFvAIMybi2NzAdWAM8CdwITMi4PhJYDKwAxmTKAq5OpwWWAAqsDbaBOfSckKlXjus9gjy+F+T3LPBv4LKsdK8C3wj2FbgcWAh8ClyPvZQcDGwEtgb6rArStwPuBJYH5foV0CS49jvgtfRxLfo1yzg3Dbgo2L8QqAL+jFUovwPGA/8HPA6sA04A9gQeCHR4D7g8I7+rgXsDHdcA84G+Gde7Av8K7l0RfF87BfIOy0i3G7AB6JSjHI8BP67le6iXfsBdwLZA7lrg59nPLHhev8N+j2uBR4FdgYnAamA20CND3kHY73Il8Bbw7Yxr44Gbgt/IGuxFZN/g2rOB3HWBnHOAXYKyLwc+C/a75Poua3gu3YPyfQvYAnTOuDYEeB/4CbAM+Aj4Tsb1r2EGeTX2snR1rt8V9vI0N0vuT4CHgv1TgdeD8n4A/DRTfsY9vwiurwme2/Fx11N1rtfiViCJG1+twLtgFd5fg+O9sErlVKwSHRYcdwquvwD8CatwKoMfV9oA9Az+aJXB9T8Ff5JcxuIrlUINen6c+QfKcT2dx51Aa+wN/9vAzIw0RwT6twiOFZgKdAC6AW/z1cr7+SwZdwIPY2/UPYL03wuuzQB+W4B+tRmLLcBlwR+/FVahfQ4cEzz/CmAu8GugBbAPZuhOynimG4PvqylwLTAjuNYUM/Z/Dp5PS2BQcO1vwO8z9Pp/wKM1lONXmDG+BDgMkIxrTeqrX/ZvMdczC57XAqyl1g6r+N7GjGiz4PsZF6RtjVWs3wmu9cZeCA4Jro/HjEi/4PpEYFKGbAX2yzjeFavoK4Lv/z6CSjj7u6zhuf0nMCvYfw24IuPakOC7vwZoHjyf9cAuGdcPC57v4cAnbH/h+fIZsd3wH5yR90vAt4L9j4DBwf4uQO+M/N8P9g8MntueGfnvG3c9Ved6LW4FkrgFf9C1WEWvwNNA++DaL4C7stI/gTWjuwU/8NYZ1+5muwH4ddafrzWwifobi83AybVcT+exT8a59J9n/+D4D8DfMq5rZp5YBfh0sH8hGcYCq9y+AHpmnPsBMC3Yfwe4uAD9ajMWS7LuGQ/cmXHcP0eaq9heQV4NPJVxrSewIdgfiL0V7/CMg3yXsr2VNIeMt/CstE2BH2GtoC+AD4ELGqpfxm8xn7EYk3H9j8DkjOPTgZeD/XOA57J0+Tvwm4xne1vGtVOBN7N+G/tllz/jei/gs1zfZQ3p3yFokQXP5JWMa0OwFlXmb2MZMKCGvP4C/LmGZ/R/wNhg/xCsFbRTcLwE+83unJXfELYbi/0C2ScAzWsqT6lvHrMIj2+o+diHYE33jsH57sDZIrIqvQGDgD0wd8NnqrouI5/FGft7YhUQAEG6FQ3QcUUgNx+ZMr/A3B7ni0gT4FzM3ZEzPab/njXk2xF7W84s42Ks9VUX/WpjaZ5z3YE9s76PXwKdM9J8nLG/HmgZxD+6AotVdUu2AFWdiblcjhWRg7AK45FcCqrqVlW9SVWPweIxY4HbReTgBupXKJ9k7G/IcZzunNEd6J+lywhg91p0qbFjh4hUiMjfRWSxiKzGXFXtC4kjicgxmMt2UnDqbuAwEemVkWxF1nfzpT4i0l9EporIchH5HLiY7f/RbO4AzhMRwdzA9wb/A7CW0anAYhGZLiIDs29W1QXAjzHDvkxEJolITf+JksWNRcio6nTsjesPwamlWMuifcbWWlWvw5q0u2T19OmWsf8RVkEB9mfDmvI5RReg3lPYjz1vMbKO78AqieOB9ar6Qtb1rhn73bA35Vz5fIq1brpnpf8gQ78zA6OUi7RRrcg4t3tWmlzPIfPcUuC9rO+jraqeWoPMTJYC3WqpmO8AzscqmPtVdWO+DFV1g6rehL299mygflDY76BQlgLTs3Rpo6o/rGd+P8FcNP1VdWfMvQogBdx7QZDuZRH5GIuPAIwqUPbdmPHuqtax4+aa5KrqDKwFPxg4j4yXI1WdrapnYDGph7AXqVx53K2qg7DfugK/L1DPksGNRTT8BRgWvPVMAE4XkZNEpKmItBSRISLSRVUXY+6K3wbdKQdhboA09wOnicggEWmB+WNr+g6XY8G/fWrR6zfA0SJyvYjsDiAi+4nIBBFpX9NNgXHYhrksslsVAD8TkV1EpCvmq78nOP8J0CXQHbXum/cCY0WkrYh0B64InhFYTGZn4I7gGiKyl4j8SUQOV9XlmGE5P3iW36XuvaRmAatF5Bci0irI51AROarAez8CrhOR1sF3eUzG9buAMzGDcWdNmYjIj4PfQCsRaSYiF2A+/JcaqB/YM6/tN1AXHgMOEJGRItI82I4KWkD10aUt1nJZFfR8+00hmYhISyx2NhpzXaW3y4ARBbaq2gIrVXWjiPTDjEBt3Il1Xtiiqs8HerQQkREi0k5VN2PB8h26JIvIgSJynIjshMWXNuRKV+q4sYiAoFK7E/hPVV0KnIG5EpZjb2s/Y/t3cR7mp16J/XnuzMhnPubbvhurpD7Denzkkrkec2dUBS6DATnSvIv53XsA84Pm+AOYwVqTp1h3YgHCXAMGH8aCsi9jPWP+EZx/Buut87GIfBqcuwxrISwEng/Kdnug30rgaKz1MVNE1mDxn8+xoCzA97HntwLzJ1fn0fsrBAbrdKyyeQ9r7dyGBXsLvXc/zHf9PubXT19/H3gRe5N8rpasNmCG9+NA/o+wAOrChugXcC3wq+A38NMC78mJqq4BTgSGY63Fj7E35J0KzOJqzPCvCsZF/AXrdPAp1pkhVWA+38Ce2Z2q+nF6w35nTYGTC8jjEuCa4Df1a2poEWRwF3AoO74cjQQWBW60i7EXg2x2Aq7Dyvkx1gr5ZQE6lhQSBGAcp06IyChgdNC0zjyvWPB7Qe47Gxcicjvwoar+Km5dnPojIq2wIHVvVX0nbn3iINJBVk4yCGIll2DdQ50aEJEewDexQZlOefNDYHZjNRTgbiinjojISZj77BPMZeTkQET+C5gHXK+q78Wtj1N/RGQRFnv7ScyqxIq7oRzHcZy8eMvCcRzHyYsbC8dxHCcviQpwd+zYUXv06FGve9etW0fr1tHMeh2lrKTLS3LZopaX5LJFLa+cyjZ37txPVbVT3oRxzzdSzK1Pnz5aX6ZOnVrve0tZVtLlJblsUctLctmilldOZQPmqM8N5TiO4xQDNxaO4zhOXkI1FiJysoi8JSILROTKHNd/JiIvB9s8EdkazBGT917HcRwnOkIzFsE0wzcBp2CzZ54rIj0z06jq9araS1V7YfPRT1fVlYXc6ziO40RHmC2LfsACtcnQNmHzzp9RS/pzgX/W817HcRwnREIbwS0iZ2Erpl0UHI/E5q2/NEfaCmzGzv2ClkVd7h2NTVVM586d+0yaNCk7SUGsXbuWNm1qXKelqEQpK+nykly2qOUluWxRy4tK1m5PPcU+t93GTsuW8cVuu7HwootYdsIJdcpj6NChc1W1b96EhXSZqs+GLXSeucTiSOCGGtKeQ8b6xHW5N3PzrrONT16Syxa1vCSXLWp5kciaMEG1VStV2L5VVNj5OkCBXWfDHJT3Pl9dMa0L21dMy2Y4211Qdb3XcRynNJg4EcaM4dglS6BbNxg7FkaMqFse27bBp5/Cxx/DRx/ZZ679d94xE5HJ+vUwZkzdZRZAmMZiNrC/iOyNrWY2nByrUYlIO+BYvrpoSEH3Oo7jlAwTJ8Lo0bB+va3PunixHYNV3uvW7Vjp5zICy5bB1hwL6bVtC7vvbluvXvD227n1WLIklOKFZixUdYuIXAo8ga1edbuqzheRi4PrNwdJzwSmqOq6fPeGpavjOE6DGTPG3uwzWb8eLrwQLr4Y1q7d8Z6mTaFz5+1G4Mgjt+/vscf2/d13h+zpPGbONIOUTbduRStSJqHODaWqjwOPZ527Oet4PDC+kHsdp9FQDHeGEy01vdFv2QIXXZTbCHTsCE3q2Sl17NgvWzJfUlFh50MgURMJOk4iyOfOcEqTbt1yv+l37w5//nPx5aV/C2PGoEuWICG/VPh0H45TatTkzhgzJh59nMIYO9be7DMJ8U0fMMOwaBHTn3kGFi0K9WXCjYXjlBo1uTNCClw6RWLECPjZzwBQsBbFLbckpjXoxsJxSo2aApR77BGtHk7d2bYNmjSh6pFHQn/Tjxo3Fo5TaowdC81yhBNXrIB7741eH6dwUikYMIAtbdvGrUnRcWPhOKXGiBGw777QogUqYu6Mv/4VeveGc86Byy+HTZvi1tLJZvlymDMHTj45bk1CwY2F45Qamzdbr5pLLtkeuLz8cpg+Hf7jP+CGG2Dw4Nw9b5z4mDLFRlS7sXAcJxJeegk2boRjjvnq+ebN4U9/gvvvhzfftJbG4z4UqWRIpWzcRJ8+cWsSCm4sHKfUqK62z6OPzn39W9+CuXOha1f42tesS+2WLdHp5+zItm3wxBNw0kn1H2RX4iSzVI5TzlRVWZxizz1rTrPffvDCCzYy+L//G4YNs7mFnHh46SWLWSTUBQVuLByntFC1lkW2CyoXrVrBrbfC+PE2T9CRR1pcw4meVMo+TzwxXj1CxI2F45QSixfDhx/W7ILKxQUXmLFo1w6OOw6uu87cIk50pFIWq9htt7g1CQ03Fo5TSqTjFYW0LDI57DCYPRvOPhuuugrOOANWriy+fs6OrFplLsEEu6DAjYXjlBbV1dCmDRx6aN3vbdsW/vlPuPFGC7b27m0GxAmXp5+29SfcWDiOExlVVTBgQO4R3IUgAj/6ETz/vMU/Bg2Cm27acUU1p3ikUuYCHDAgbk1CxY2F45QKa9bAq6/WLV5RE/36WQ+dYcPg0kvhvPMsf6e4qMLkyXDCCfU38GWCGwvHKRVmzrTAdF3jFTXRoQM88ghce63NKXXUUTBvXnHydoz58+GDD+CUU+LWJHTcWDhOqVBdbW6k/v2Ll2eTJnDlleZXX7XKWhx33lm8/Bs76S6zJ50Urx4R4MbCcUqFqioLbLdrV/y8hwyBl182Q3TBBbby3saNxZfT2Eil7Dvr0iVuTULHjYXjlAJbt8KMGcVzQeVi993hySfhl7+0wXwDB8K774YnL+msXQvPPZf4XlBp3Fg4Tinw+uuwenVxgtu10ayZrZfx2GM2ALB3b/jxj6FHD4497jjo0cPWAHfyM22aTRXvxsJxnMioqrLPMFsWmXzta9ZbqmNHWytj8WJE1QzI6NFuMAohlbI1tgcNiluTSHBj4TilQHU1dO4Me+8dnczu3XPPVrt+vc1k69ROKmXTq+y0U9yaRIIbC8cpBaqqrFUhEq3cpUtzn1+yJFo9yo0FCyze00hcUBCysRCRk0XkLRFZICJX1pBmiIi8LCLzRWR6xvlFIvJacG1OmHo6Tqx8/DEsXBh+vCIX3brV7bxjTJ5sn41gfEWa0IyFiDQFbgJOAXoC54pIz6w07YG/AV9X1UOAs7OyGaqqvVS1b1h6Ok7s5FvsKEzGjjW/eyYtW9p5p2ZSKdh/f9hnn7g1iYwwWxb9gAWqulBVNwGTgDOy0pwH/EtVlwCo6rIQ9XGc0qS62vzevXtHL3vECLjlFujeHU27wE4+2c47udm4EaZObVQuKADRkCYYE5GzgJNV9aLgeCTQX1UvzUjzF6A5cAjQFvirqt4ZXHsP+AxQ4O+qeksNckYDowE6d+7cZ9KkSfXSd+3atbRp06Ze95ayrKTLS0LZjrz0UhDhpRtuiEReTaxdu5ajr7mGiiVLmHH33aEvD1qu390uc+ZwxM9+xqvXXsvKGiYPLKeyDR06dG5B3htVDWXDXEq3ZRyPBG7ISnMjMANoDXQE3gEOCK7tGXzuBrwCVOaT2adPH60vU6dOrfe9pSwr6fLKvmwbNqi2aKH6859HI68Wpk6dqjpxoiqoTpsWjbwIKZq8K65Q3Wkn1bVrw5dVIA2RB8zRAur0MF8d3ge6Zhx3AT7MkSalqutU9VPgWeAIAFX9MPhcBjyIubWcUmbiRB/cVVfmzrWBXXHEK3LxjW/Yeho+f1TNpFJQWQmtW8etSaSEaSxmA/uLyN4i0gIYDjySleZhYLCINBORCqA/8IaItBaRtgAi0ho4EfDpMkuZiRNtMJcP7qob6cF4pWIsKipstb377rPxFs5XWbLERts3sngFhGgsVHULcCnwBPAGcK+qzheRi0Xk4iDNG0AKeBWYhbmt5gGdgedF5JXg/L9VNRWWrk4RGDNmx8rFB3flp7raetV06hS3JtsZNcrWvnj44bg1KT2eeMI+G6GxCHW1DlV9HHg869zNWcfXA9dnnVtI4I5yyoSaBnH54K6aUTVjceqpcWvyVSorbXT3nXfCuefGrU1pkUpB165w8MFxaxI5PoLbKQ4+uKvuLFgAy5dHNx9UoTRpAiNHwpQp8NFHcWtTOmzeDE89ZQPxoh5pXwK4sXCKw9ixOy4rWVHhg7tqI87BePkYOdJW7fOY03ZeeMFmBm6ELihwY+EUixEjbAbTdN/8Tp1ssJcP7qqZqipo3740XRoHHAADBsAdd5i7zDEXVLNmNnlgI8SNhVMcFi60OY5+/3u2tmhhRsINRe1UV9sCRCEPfqs3o0bZmt2vvBK3JqVBKmWtwDBWMiwDSvRX6pQd6V4iX/86q3v2hGefjVefUuezz2D+/NKLV2RyzjnQvLmPuQB7EXrppUbrggI3Fk6xmDzZ1mLYf38+P/xwW+959eq4tSpdZsywz1KMV6Tp0AFOP93iFrnWvWhMTJlin24sHKcBfPEFPPOM/ZFEWHX44RYcTQdwnR2pqoKmTaFfiU9MMGoULFu2vbJsrKRStjjVEY23R78bC6fhVFXBunVfvnWt7tnTAoHuiqqZ6mro1av0p4w45RTYddfG7YrautWM5UknlW58KQIab8md4pFKmW976FAAtrVqBX37urGoiS1bYObM0nZBpWnRwgbmPfQQrFoVtzbxMHcurFjRqBY6yoUbC6fhpFK2aH3bttvPDR4Ms2bBhg3x6VWqvPKKTYVSysHtTEaNMlfj/ffHrUk8TJ5sg/CGDYtbk1hxY+E0jA8+gNde2/Gtq7LSRrzOnBmPXqVMKQ/Gy0XfvnDQQY3XFZVKWWxp113j1iRW3Fg4DaOmidWOOcbexp57LnqdSp2qKptfqGvX/GlLARFrXTz3nI2naUysWGEt5EbcCyqNGwunYaRSsOeecOihXz2/yy5w+OEet8hFdXX5tCrSjBhhRmPChLg1iZannrKefW4s3Fg4DWDLFnjyyS+7zO5AZaVVjJs3R69bqbJ0qW3lZiy6dbMODHfe2bim/0il7MXnqKPi1iR23Fg49WfWLOshU9NbV2WlBXJffDFavUqZdLyiXILbmYwaBe++axPqNQZUzViceKKNiWnkuLFw6k8qZf3OTzgh9/XBg+3TXVHbqaqy2XgPPzxuTerON79pujeWQPerr9o0H+6CAtxYOA0hlbKZSXfZJff1zp1t9lI3Ftuprob+/W1cSrnRtq0ZjHvugY0b49YmfFLB4pwnnRSvHiWCGwunfixfDnPm5H/rqqyE55+3IGFjZ906mzOr3OIVmVxwgbkeH3ssbk3CJ5WyUfZ77BG3JiWBGwunfjz5pPl0CzEWq1bZVNeNnVmzbOqIcoxXpBk6FPbaK/muqNWr7SXHXVBf4sbCqR+plC121KdP7ekqK+3TXVHbg9sDBsSrR0No2hTOP99GNS9bFrc24fHMM9bbz43Fl7ixcOrOtm3be4nkm1ite3frdunGwoLbhxxSc4ynXBg50irSf/4zbk3CI5WyGM3AgXFrUjK4sXDqzksvWcyi0LeuwYPNWDSm/vnZbNtmXU7LOV6R5pBDrEWZVFdUusvs8cfbRIoO4MbCqQ/pXiInnlhY+spK+OQTeOed8HQqdd54w2I3STAWYGMuXnwxmbGot96CxYvdBZWFGwun7qRS0Lu3dY0thHTcojHPE1XOg/FyMXy4rVly111xa1J8vMtsTkI1FiJysoi8JSILROTKGtIMEZGXRWS+iEyvy71ODKxaZe6Uusztf+CB0KlT445bVFfbM9hvv7g1KQ677Wa/gQkTrIdXkkilbJbdHj3i1qSkCM1YiEhT4CbgFKAncK6I9MxK0x74G/B1VT0EOLvQe52YePppqxzq0kQXsdZFYzYWVVXmgso1h1a5MmoUfPih9RxKChs2wPTpjX6ho1yE2bLoByxQ1YWqugmYBJyRleY84F+qugRAVZfV4V4nDlIpaNeu7t0/Bw+GRYtgyZJQ1Cppli+3eE1S4hVpTjsN2rdPVqB7+nQbne7xih0I01jsBSzNOH4/OJfJAcAuIjJNROaKyKg63OtETbqXyAknmL+6LjTmuEXS4hVpWraEc86Bf/0L1qyJW5viMHkytGq1/ffqfEnef7yIPK2qx+c7l+vWHOey+042A/oAxwOtgBdEZEaB96Z1GQ2MBujcuTPTpk3Lo1Zu1q5dW+97S1lWMeVVvPce/d5/n7eGD+ejWvLLKW/rVga1bs2ySZN4e6/i2f1yeJb7TJpEl2bNeH7dOrbV8d5S/13ufOih9F6/njfGjuWTOr6Nl+J31+/BB9lw+OG8NmNG6LKKSSTyVDXnBrQEOgCvALsE+x2AHsAbNd2Xcf9A4ImM46uAq7LSXAlcnXH8DyxukffeXFufPn20vkydOrXe95ayrKLK+8MfVEF1yZL6yTv1VNWDDy6OLvlkhUS95B1zjOqAAdHJqyf1krVtm+q++6oed1w08hpAXnnvvmu/77/+NXxZRaYh8oA5mqduVdVa3VA/AOYCBwWf6e1hLPicj9nA/iKyt4i0AIYDj2SleRgYLCLNRKQC6A+8UeC9TtSkUjYgq77LgVZW2niDJE8Tkc0XX9iEi0lzQaVJL7k6dWr5x6NqWiLYAWqJWajqX1V1b+CnqrqPqu4dbEeo6o35MlbVLcClwBOYAbhXVeeLyMUicnGQ5g0gBbwKzAJuU9V5Nd3bwLI6DWHdOuvN1JA/UtoP/PzzxdGpHHjpJTMYSQtuZ3L++RbPmjgxbk0aRioFe+8N++8ftyYlSd6YhareICJHY+6nZhnn83aBUNXHgcezzt2cdXw9cH0h9zoxMm0abNrUMGPRp48FD5991tZFaAxUVdlnko3FPvtYb7c774QrryzP7sGbNlm38FGjylP/CMjbG0pE7gL+AAwCjgq2viHr5ZQaqZStkjZoUP3zaNHCutw2pvEW1dVWme6+e9yahMuoUfDmm+ZyK0eqqqz17OMraqSQrrN9gWNU9RJVvSzYLg9bMafEmDzZ1jJo2bJh+VRW2gJAn39eHL1KGVWrhJIar8jk7LPtt1GuYy5SKVu9cOjQuDUpWQoxFvOAhL8WObWyYAG8+25xAn+VlVaJpsceJJn33rMJFJPsgkrTrh184xs2bfmmTXFrU3dSKXOltWkTtyYlSyHGoiPwuog8ISKPpLewFXNKiPTEasUwFgMG2IC+xuCKagzxikxGjYIVK6wVWk588AG8+qr3gspDIcNwrw5bCafESaVsArxiTIJXUQFHHdU4jEV1Ney8s3U3bgwMG2YzEd9xB5xRRrPzeJfZgsjbslDV6cAioHmwPxt4MWS9nFJh40brQ1/MP9LgwTB7NqxfX7w8S5HqamtJNW0atybR0KwZjBgBjz1mLYxyIZWCPfeEQw+NW5OSppDeUN8H7gf+HpzaC3goTKWcEuL5561SL6axqKyEzZth5szi5VlqfP45vPZa4whuZzJqlH2399wTtyaFsWULPPmk/b69y2ytFBKz+BFwDLAaQFXfAXYLUymnhEilrMvrkCHFy/OYY+yPmeRJBWfOtEB+Y4lXpDniCDj88PLpFTVrlq3R4i6ovBRiLL5QmyYcABFpRg2T+jkJJJWylkDr1sXLs317q1SSHLeoqoImTaB//7g1iZ5Ro8xYvvVW3JrkJ5UyN+GwYXFrUvIUYiymi8gvgVYiMgy4D3g0XLWckmDpUpg/P5y3rspK8+mXYzfLQqiutjfstm3j1iR6zjvPDGU5LLmaSllcqX37uDUpeQoxFlcCy4HXsMkFHwd+FaZSTokQZi+RykpblezFBPaV2LIFZsxofC6oNHvsASeeaMZi27a4tamZ5cttxLm7oAqikN5Q21T1VlU9W1XPCvbdDdUYSKWgSxfoGcKKtulpQ5Loipo3D9aubXzB7UxGjbJZaEv5+33ySYsrubEoiEJ6Q50mIi+JyEoRWS0ia0RkdRTKOTGyeXO4vUQ6d4YDDyztyqS+pEenN9aWBdg4i7ZtSzvQPXkydOwIvXvHrUlZUIgb6i/ABcCuqrqzqrZV1Z1D1suJm5kzYfXqcN+6Kiuta+7WreHJiIOqKoH1MPIAACAASURBVOu337173JrER0WFzRd1332lOZ5m2zZzs550ksVXnLwU8pSWAvPc9dTISPcSOT7f6rkNoLLSxiPMmxeejDiorrZWRWPvtz9qlLnjHirBYVkvvWQxC3dBFUwhxuLnwOMicpWIXJHewlbMiZnJk2HgwHB7iaQXQ0qSK+rDD2HRosYdr0gzeLC1rkrRFZWe7+zEE+PVo4woxFiMBdZja3K3zdicpPLJJ9ZLKey3rm7dbEuSsfB4xXaaNIGRIy329eGHcWvzVVIpW4xrNx9fXCiFGIsOqvpNVf2Nqv42vYWumRMfU6bYZxQLwVRWmrFIipezqspWAzzyyLg1KQ1GjrT4wN13x63Jdlatghde8IWO6kghxuIpEfG2WmMilbI3rl69wpdVWQnLlsHbb4cvKwqqq21W3ebN49akNDjgAHNn3nFH6bwQPP20darweEWdKHRuqJSIbPCus42ArVuj7SWSjlskYZ6o9CBDd0F9lVGjrBPDK6/ErYmRStliTY1xKpYGUMigvLaq2kRVW3nX2UbAiy/a9NJRvXUdcIC1YpIQt5g920Zve3D7q3z72zYZZSkEulXNWAwbZlOqOwVTo7EQkYOCz965tuhUdCIllbIun1FNrCayPW5R7qSD2wMHxqtHqdGhA5x+OkycaMY0TubPh/ffdxdUPaitZZHuHvvHHNsfQtbLiYtUCvr2hU6dopM5eDAsXmxbOVNVBQcdBLvuGrcmpceoURabSs83FhfpLrMnnRSvHmVIjcZCVUcHu6eo6tDMDTg1GvWcSPnsM5sAL+q3riTELVS3D8ZzduTkk21qjbhdUamUrYjXpUu8epQhhUQwqws8twMicrKIvCUiC0TkyhzXh4jI5yLycrD9OuPaIhF5LTg/pxB5TgN56inr5hi1sTjsMAs4lrMr6q23YOVKj1fURIsWcO658PDD1nU1Bppu2GAvJO6Cqhe1xSx2F5E+2DoWR2bEK4YAFfkyFpGmwE3AKUBP4FwRyTV96XOq2ivYrsm6NjQ437fgEjn1J5WyEdv9+kUrt2lTm4W2nFsWPhgvP6NGwRdf2HxRMdD+5Zdt/RQfX1EvamtZnITFJroAf2J7vOIK4JcF5N0PWKCqC4OV9iYBZzRMXSc04u4lUlkJb75pfu1ypLraArkHHBC3JqVLnz5w8MGxuaI6zJplKz56669e1BazuCOIT1yYFbP4uqr+q4C898ImIUzzfnAum4Ei8oqITBaRQzJVAKaIyFwRGZ3jPqeYzJtnUzLE1UQv97hFVZW1KnwG05oRsdbF88/Du+9GLr7DrFlw3HGw006Ry04ChbxCPiYi5wE9MtPncBllk2vKzewhnC8C3VV1rYicCjwE7B9cO0ZVPxSR3YAnReRNVd3BqR0YktEAnTt3Ztq0aQUUaUfWrl1b73tLWVah8rpOmsS+QHXbtmxqoG71KZ9s3sygnXbio7vvZkEdehOVwrNs9vnnDHrzTRYOGsSSIuuStN/lTvvswwARFv3ud6z91rciKdtuTz3FvjffTKsVK9i8Zg3v/OpXLDvhhFBllsLvsuioaq0bkALuwWaf/Ul6K+C+gcATGcdXAVfluWcR0DHH+auBn+aT2adPH60vU6dOrfe9pSyrYHlDh6oedlh08nJx3HGqvXpFI6ue5JT36KOqoDp9ejTyQiIyWT17qjZrpttEVLt3V50wITxZEyaoVlTY95PeKirClakl8rssEGCO5qlbVbWglkUXVa2Pb2I2sL+I7A18AAwHzstMICK7A5+oqopIP8wttkJEWgNNVHVNsH8ikK8l49SXNWvMNfDjH8erR2Ul/Pa31lsmzKnRi011tcV5+no/jLxMnAgLFsCWLeZ6WLwYRgde5hEj6penqgXO16+3bcOG7Z9XXLHj4kvr18OYMfWX10gpxFhUi8hhqvpaXTJW1S0icinwBNAUuF1V54vIxcH1m4GzgB+KyBZgAzA8MBydgQfFFo9pBtytqqm6yHfqwNSptoxq3L1EKiu3j1c4tYyG8lRV2dKcFXk7CTpjxliPpEzWr4fLLrM1uzMr+szP2s5t2FD3SQqXLClemRoJhRiLQcCFIvIe8AUWi1BVPTzfjar6OPB41rmbM/ZvBG7Mcd9C4IgCdHOKQSpVGr1E+ve32VqffbZ8jMXmzTBrFlx8cdyalAc1VdKffQa/DDpZVlTYNO8VFV/db9XKRsfXdC3Xue98x9ZnyaZbt/DKmFAKMRbeKTnJqNqqeMcfbwOn4qSiwqb3LqfBeS+/DBs3+viKQunWLfe0Ll26wDvvWE+lYi5H+8c/mpsr0xVVUQFjxxZPRiOhkFlnFwNdgeOC/fWF3OeUCe+8Y8uAlsqo1sGDbfbWbD9zqVJVZZ9xt8rKhbFjd3TXVVTAdddBy5bFX7d8xAi45Rbo3h0VsWVeb7nF4xX1IG+lLyK/AX6B9WYCaA5MCFMpJ0JKbWK1ykqbmXTGjLg1KYzqaquA9twzbk3Kgzgq7xEjYNEipj/zjL0YuaGoF4W0EM4Evg6sA1DVD/E1uJNDKmWjjvfZJ25NjGOOsbfLchicp2otC29V1A2vvMuSQozFpqAvrgIEXVmdJLBhA0ybVjouKLAJBXv1Ko+4xZIlNurd4xVOI6AQY3GviPwdaC8i3weeAm4NVy0nEp57zgxGKRkLMFfUCy/s2MWy1PB4hdOIKCTA/QfgfuAB4ADg16p6Q9iKORGQSlnvk2OPjVuTrzJ4sBmxuXPj1qR2qquhTRtbH8FxEk5BvZpU9UngOmwdi5WhauRERyplhqLUBpMNHmyfpe6KqqqysSG+lrPTCKhtPYvHROTQYH8PYB7wXeAuEYl5XginwSxeDG+8UXouKIDddrPlSUvZWKxZA6++6i4op9FQW8tib1WdF+x/B3hSVU8H+mNGwyln0mshl6KxAItbVFXB1q1xa5KbWbNsVUEPbjuNhNqMxeaM/eMJpu1Q1TXAtjCVciJg8mQbTXvQQXFrkpvKSvj8c3itTlOSRUdVlXXxHTAgbk0cJxJqMxZLReQyETkT6I1NVY6ItMIG5jnlyqZN8PTTNnFgsUfMFov0Ykil6oqqrrbAdrt2cWviOJFQm7H4HnAIcCFwjqqmV1kfAIwLWS8nTF54wXzupeqCAuja1Ub3lqKx2LrVnqHHK5xGRI3dOFR1GbDDVJqqOhWYGqZSTsikUtaD57jj4takdiorTVfV0moBvf46rF7t8QqnUeETAjZGUil7K95557g1qZ3KSli+HN56K25NvooPxnMaIW4sGhsffWTTapeyCypNOm5RavNEVVdD586w995xa+I4kVHIrLM7vD7lOueUCVOm2Gc5GIv997dKudTiFtXV5oIqJdeY44RMIS2LXFN7+HQf5UoqBbvvDkeUwUKEIta6KCFj0XzlSnj3XXdBOY2OGgPcIjIQOBroJCJXZFzaGVtT2yk3tm61lsXpp5fPW/HgwXDffTbivHv3uLWh3fz5tuPBbaeRUVvLogXQBjMobTO21cBZ4auWQCZOhB49OPa446BHDzuOkjlzYOXK8nBBpSmx8Rbt5s2zyRd7945bFceJlNq6zk4HpovIeFVdLCKtVXVdhLoli4kTv1wLWMDelEePtmtRLf6SSlmLYtiwaOQVg0MPhfbtzViMHBm3Nuw8fz707WsGw3EaEYXELPYUkdeBNwBE5AgR+Vu4aiWQMWN2XFd6/Xo7HxWpFPTrB7vuGp3MhtK0KQwaFH+PqIkToVs3MxavvRZ9q9BxYqYQY/EX4CRgBYCqvgJUhqlUIlmypObzGzaEL3/FCpv8rpxcUGkqK22sxSefxCM/3SpcutRahatX27EbDKcRUeh6FkuzTpXoVKAlTLduuc+r2pTc554LDz4YnuF46imbJbVcjQXE17oohVah48RMIcZiqYgcDaiItBCRnxK4pJw6MHYstGr11XMVFXDllXDeeVaZf/ObZjjOO6/4hmPyZOjQAY46qnh5RkXv3vas4gpy19YqdJxGQiHG4mLgR8BewPtAr+A4LyJysoi8JSILROTKHNeHiMjnIvJysP260HvLjhEjbJZXQEWsG+gtt8C118Lf/24jq5980gzFk08W13Bs22bxihNPtBhAudG8OQwcGI+xUK15ZtmaWouOk0AKWYP7U1UdoaqdVXU3VT1fVVfku09EmgI3AacAPYFzRaRnjqTPqWqvYLumjveWD9u22ZrSw4Yx/ZlnYNGir/aCatYMTjhhR8MxZUqDDUebhQvN31+OLqg0lZW2Mt2qVfnTFovNm+Gii0xmtpGtqLDWouM0EmoblPfrmq4Bqqr/lSfvfsACVV0Y5DcJOAN4vQC9GnJvaTJtmnWXvfba/GnThuOEE+Cmm+zee++Ff/0L/vlPaNPGBtadfbYZgGz3VhYdZs2ynRNPbHAxYqOy0t7yq6rga18LX96qVfCtb8Ezz8Cvfw0HHABjxqBLliDdupmhiKrLs+OUAKKquS+I/CTH6dbYOhe7qmqbWjMWOQs4WVUvCo5HAv1V9dKMNEOABzD31ofAT1V1fiH3ZuQxGhgN0Llz5z6TJk2qvcQ1sHbtWtq0qbVIDeLgsWPpMGMGL9x/P6s3b66XLNm6lfYvvUSnadPo9NxzNF+9mi2tWrFi4ECWDxnCyn792Jaj//9hl11Gi40bmXvrrcUoSl7CeJZNvviCQaedxvtnncXCH/wgVFktP/qIw666ilYffMBbP/0pn5x0UqjyaiNKeUkuW9TyyqlsQ4cOnauqffMmVNW8GzZy+1fAe8Dvgd0KuOds4LaM45HADVlpdgbaBPunAu8Uem+urU+fPlpfpk6dWu9787JqlWrLlqo//GHxZG3erDpliur3v6+6666qoNqmjeq556o++KDq+vWqEyaodu2q20B1553tOAJCe5ZHH606YEC4sl54QbVTJ9VddlGdNm2Hy6H+TnIQpbwkly1qeeVUNmCOFmAHao1ZiEgHEfkd8Crmsuqtqr9QWxgpH+8DXTOOu2Cth0xDtVpV1wb7jwPNRaRjIfeWFffcAxs3wne+U7w8mzWzkdi33GIxjilTrPvtlClw5pmwyy5wwQXJGhtQWWlTlqwLaSKB++6DoUNtnY8XXoBjjw1HjuOUITUaCxG5HpgNrAEOU9WrVfWzOuQ9G9hfRPYWkRbAcOCRLBm7i9iMdiLSL9BnRSH3lhW3327TVvTN39KrF82b72g4mje3iQMzKfexAZWVsGULzJhR3HxV4brr4Nvfhj59LP8DDyyuDMcpc2prWfwE2BNzP30oIquDbY2IrM6XsapuAS4FnsDGZdyrFo+4WETSy7WeBcwTkVeA/wWGBy2jnPfWt5Cx8sYbMHOmtSqimOk1bThqevsu57EBRx8NTZoUtwvt5s3w/e/DVVdZy+ypp6Bjx+Ll7zgJobaJBBu8il7gWno869zNGfs3AjcWem9ZMm6cuYzOPz9aud26We+rXOfLlXbtoFev4o3kXrUKzjoLnn4a/vM/4be/LZ+p2x0nYnxZ1TDZvBnuvBNOO83GSUTJ2LE2FiCTJIwNqKy0eMKmTQ3L5733rKXy7LMwfjxcc40bCsepBTcWYZJK2WC4Yga2C2XECIthdO/+1RHj5T42YPBg6ywwZ07985g5EwYM2B7fueCC4unnOAnFjUWYjBtnLYpgmo/IGTECFi3KPWK8XBk82D7rG7e4/34YMsQGNs6YYfuO4+TFjUVYLFsGjz4Ko0ZZ0NkpDp06wcEH191YqML//I+Neu/d23s8OU4dcWMRFhMnWjfPOFxQSaey0qb9yO4aXBObN9sYk1/8AoYPt4B2p07h6ug4CcONRRiomguqXz/oWd7zH5YklZU2yPDVV/On/fxzOPVUuO02+NWvzIi3bBm+jo6TMNxYhMHcubb05ne/G7cmyaTQuMWiRdbjafp0M97/9V82TsNxnDrj/5wwGDfO3l6HD49bk2TStSv06FG7sZg1C/r3hw8/hCeegAsvjEo7x0kkbiyKzcaNcPfdtgZFTYvmOA2nstKMRa5Zkx94wOZ1atPGxmQMHRq9fo6TMNxYFJuHHrKRwe6CCpfKSvj0Uyoypy9Rheuvt1HZRx5pPZ4OOig+HR0nQbixKDbjxtkAOH+bDZfKSgDapYPcmzfDD34AP/85nHOOLVrkPZ4cp2i4sSgmS5facqgXXOCB1LCZNQuaNOGAP/3J5rvq3RtuvdVm1b37bu/x5DhFpsaJBJ16cMcd5grxYGq4TJxo4ya2bbO1OpYute3734ff/S5u7Rwnkfjrb7FQtQnphg6FvfeOW5tkM2aMrc2RzZQp0eviOI0ENxbF4rnn4N13fcR2FNS0Jkc5r9XhOCWOG4ticfvt0LYtfOtbcWuSfGpak6Oc1+pwnBLHjUUxWLPG1m8ePnzHNSSc4pPUtTocp4RxY1EM7rvPfOjugoqGpK7V4TgljBuLYnD77Tb4a8CAuDVpPCRxrQ7HKWHcWDSUt9+26bK/8x1fltNxnMTixqKhjB8PTZvCyJFxa+I4jhMabiwawtatNhDvlFNgjz3i1sZxHCc03Fg0hClTbApsD2w7jpNw3Fg0hHHjoGNHOO20uDVxHMcJlVCNhYicLCJvicgCEbmylnRHichWETkr49wiEXlNRF4WkTlh6lkvVqyAhx+G88+HFi3i1sZxHCdUQptIUESaAjcBw4D3gdki8oiqvp4j3e+BJ3JkM1RVPw1LxwZx992waZO7oBzHaRSE2bLoByxQ1YWqugmYBJyRI91lwAPAshB1KT7jxtm02IcfHrcmjuM4oSOaa1nKYmRsLqWTVfWi4Hgk0F9VL81IsxdwN3Ac8A/gMVW9P7j2HvAZoMDfVfWWGuSMBkYDdO7cuc+kSZPqpe/atWtp06ZNQWnbLFhA3+9/n7cvv5wPzzwzVFnFIMnykly2qOUluWxRyyunsg0dOnSuqvbNm1BVQ9mAs4HbMo5HAjdkpbkPGBDsjwfOyri2Z/C5G/AKUJlPZp8+fbS+TJ06tfDEl1+u2qKF6ooV4csqAkmWl+SyRS0vyWWLWl45lQ2YowXU6WEufvQ+0DXjuAvwYVaavsAksZHPHYFTRWSLqj6kqh8CqOoyEXkQc2s9G6K+hfHFFzBhAnzjG9ChQ9zaOI7jREKYMYvZwP4isreItACGA49kJlDVvVW1h6r2AO4HLlHVh0SktYi0BRCR1sCJwLwQdS2cRx+FlSvhu9+NWxPHcZzICK1loapbRORSrJdTU+B2VZ0vIhcH12+u5fbOwINBi6MZcLeqpsLStU6MGwddusAJJ8StieM4TmSEuga3qj4OPJ51LqeRUNULM/YXAkeEqVu9+OADSKXgyittPijHcZxGgo/grgt33QXbtvnYCsdxGh1uLApF1VxQgwfDfvvFrY3jOE6kuLEolOpqW7vCWxWO4zRC3FgUyrhx0Lo1nH123Jo4juNEjhuLQli3Du65B779bYhwVKbjOE6p4MaiEO6/H9audReU4ziNFjcWhTBunAW1Bw2KWxPHcZxYcGORj3ffhenTrVVhgwQdx3EaHW4s8jF+PDRpAqNGxa2J4zhObLixqI2tW+GOO2DYMJviw3Ecp5HixqI2nnkGli71SQMdx2n0uLGojdtvh112ga9/PW5NHMdxYsWNRU189hk8+CCcdx60bBm3No7jOLHixqImJk2yhY7cBeU4juPGokZuvx0OPxyOPDJuTRzHcWLHjUUu5s2DOXN8bIXjOE6AG4tcjBsHzZvDiBFxa+I4jlMSuLHIZvNmW+To9NOhU6e4tXEcxykJ3Fhk8+9/w/LlPmmg4zhOBm4sshk3DnbfHU4+OW5NHMdxSgY3Fpl8/LG1LEaNgmbN4tbGcRynZHBjkcmECTYflLugHMdxvoIbizSq5oIaOBAOOihubRzHcUoKNxYBbd94A15/3VsVjuM4OQjVWIjIySLylogsEJEra0l3lIhsFZGz6npvsdgjlYJWreCcc8IW5TiOU3aEZixEpClwE3AK0BM4V0R61pDu98ATdb23KEycCN26scejj9oiR48+GooYx3GccibMlkU/YIGqLlTVTcAk4Iwc6S4DHgCW1ePehjFxIoweDUuXIgDr1tnxxIlFF+U4jlPOiKqGk7G5lE5W1YuC45FAf1W9NCPNXsDdwHHAP4DHVPX+Qu7NyGM0MBqgc+fOfSZNmlSwjgOGD6flJ5/scH5j587MqEM+dWXt2rW0adMmtPwbk7wkly1qeUkuW9TyyqlsQ4cOnauqffMmVNVQNuBs4LaM45HADVlp7gMGBPvjgbMKvTfX1qdPH60TIqrWD+qrm0jd8qkjU6dODTX/xiQvyWWLWl6Syxa1vHIqGzBHC6jTwxx59j7QNeO4C/BhVpq+wCSxmV07AqeKyJYC72043brB4sW5zzuO4zhfEmbMYjawv4jsLSItgOHAI5kJVHVvVe2hqj2A+4FLVPWhQu4tCmPHQkXFV89VVNh5x3Ec50tCMxaqugW4FOvl9AZwr6rOF5GLReTi+txbdCVHjIBbboHu3VER6N7djn1qcsdxnK8Q6gRIqvo48HjWuZtrSHthvntDYcQIGDGC6dOmMWTIkNDFOY7jlCM+gttxHMfJixsLx3EcJy9uLBzHcZy8uLFwHMdx8uLGwnEcx8lLaNN9xIGILAdyjLIriI7Ap0VUp1RkJV1ekssWtbwkly1qeeVUtu6q2ilfokQZi4YgInO0kPlRykxW0uUluWxRy0ty2aKWl8SyuRvKcRzHyYsbC8dxHCcvbiy2c0tCZSVdXpLLFrW8JJctanmJK5vHLBzHcZy8eMvCcRzHyYsbC8dxHCcvbiwcJyQkWNUrQnn+f3ZCw39cZUKUFUEUskSkZdgysuR1FZGK/CmLIqu3iHTWiAKCIjJURPZX1W1RGCgRaS4izYP9RP0u45QXJfUpW2IfRrERkYNEZO8I5R0vIteIyJUisk+YFYGInCgifxSR/0lXOmHIyZA3BJgaPNMoKrdTgf8F2kUg63TgVuCgsGUF8o7H1n25UUR2DttAichpwHjgIRE5LMzfSvC7vEZErojCGIrIKSLyexH5RUTyIqtTilGfuLEogOAP8jpwkYiEXgkE8v4IrAF2AW4SkY5hVAQi8jXg98A8QID/yLgW1u+jA3Ao8F3ggJD/kKcCY4HrVfWjrGtFLZ+IdAX+G7hcVadLQDFlZMk7Bbge+AnwJrBXcL5pSPKOB34LjAOqgZ9nXCv2szwe+B/gLWAzMFtEBquqhvFMReRo4K/AQqACeFZEjglRXmR1SrHqEzcWeRCRtsBQ4FqgNXCWiBwYory9gB8Cl6rq9Vhl8BHQPgRZXYDvAT9W1XHA80BzETk54+0jjN/IK8B92Hw2VwM7i0hnEdmpmEJEpCNwBfCKqlaLSHsR+Z6I/EBEDgihfC2BD1S1SkT2xCq7cSIyLISy9QR+gf1O/gZ0Aq4BUNWtxZSVwUBgkqo+BUwGWojIT0WkdwjPcgAwXlUnquoNWOtpQiBLQ/hdHgA8rap/V9XfAL8CbhaRgcWWJyJtiKhOKWZ94sYiPxuAm1V1DHAzsA/25fbMTFTEH9MqbIDNbABV/RRznwwNQd5K4GfBW3AHrLJpjf1RXxCRQ4rpZghetJsAG4HPsB/xAuBfwDSgc7FkBawFbgI+EZHrsDXdewFHAM+LSM8iu1EWBLJOwN6+FwMvAVcCxxdRDsCHwPdUtTo4vgxoIyLDiiwnk5XAwSLyA+CfwAdAK2CSiBxV5Gf5BdAl461+HvYyc7+I7FUsWRn5vxUcdgRQ1X9gLY0HRGTfIpdtPdHVKSsxt+hMaFh94saiBkRkXxHpjg1cfAdAVd/ELPO+wDdFpK2IfEtEujf0xxTI66Gq61T1YVX9QoIgIlYJrQ/SnSQiezREXloWsFlV3w1O98AMx3mqejXwD2B4fWVkydtHRLoBO6nqNlX9AHsL3xmYAhwJLMMq92LIS5fvC1V9EHgWOBr4p6pepqqXYH+gs4sgax8R6SYiFUGz/j3gXGChqt6oqn8F7gIuzvg+GyJv38DPvS793QX5rgPeAPoE54riOgnkdQsOJwCvYb//l1X1ClX9L+xZ/kdDK7csWeOB/sB4EbkPGKSqI4CHgP0aIieTDFfMG8CewCWBLqKqt2FG/4RiyUuLxf7TodYpQf4bgMdUdXPG91Ov+qRZQ5VJIiJyJtYM/RyYKyLzVXU8gKq+ISLXA6OBe4F+wDHFkiciLwLzVHW8qm4OkiwPrp2BuW2+WQxZZJRNVV8MrkvwB1pPEV4mcsh7M3hrmw/8GegNfAc4CbhWRC5T1U1FkveSiMxW1Uki8o6qvp1Rvk1Ag9w1OWQ9j7kWbgB6i8hQVZ2KVeQrGyIrh7zM724zsFlE7sHehJ9X1eeLKU9EXgGeV9U/By9RP8x4lp9hLeJ6x9RyyJoCDMP+X7sC/w6S7oy5LxuEiHwDOF9VzwJQ1VUi8iPs+QHchrXetgG7F1Ne4NZqBmwJnmFR65TssmWQ/n7qV5+oqm8ZG/ZjnIG9ie4ePMj7ML9+ZrprgY+BQ8KWB/wMa/LPboi8WmT9R1a64YGsg0Io2/3ARcBu2FvqtzPS7xGCvAcwf21munOBOQ0pXw2y/gVcCDTHguo3AHcDLwNHRPS7HAuMAZqF9N1dDjTFWmt/w96K5wCHFlnWg8AlWem+h71k7N3AsvUG3gHeBaZnXesa/GZuxVxtrxfhP55TXvo7Yvu0Sw2uU2qR1TRj/yf1qU/q/QCSumE9IR4AegTHrYFK4B5gRHCuHRZXODJkeecH50YCbwP7R1C2bwBTG/LnL0DeA8DpQPPgfPMIv7vjsbfWBpWvBlnHBhXqaVirbDfMN9w1irJllG/PEOXdj7llOgH/D/glDX+pKOR764m583oVoWwDgLOD/X9jLabM6+2Bw7CXin3DlMd2g7Ez1pppUJ2SR1b6/3Y+5oqqU33SoIeQ1A2z8M8AbYPjtsEPm9gApgAABu5JREFU51rsraoJ0CIKecFxp/QfKQJZ7YDOEZTtOuwNXKL67oLjnYHdQpb1e6BJxL/LohjcAuVdH2XZguMWQJsiytslY/+xrEq1wca2jvK6Bp/FemmqTVYnoA22Ol7d8i32Qynnje3NwabAn7AgW/rH2wV4Gtg9Ynl7RSiraH+SAuUV0yhFVr4SLVvU8oryPyhQVoPck7XIbpKx/xjWW+4C4HaKaJgKkDcOaB2RrDuAlvXJ03tDZaDBk1Xrp/5nLBA0WUQOAI7DmstbIpb3RYSy6h1Yrqe8oo0HiLJ8JVq2qOUV5X9QoKzNNefQINlfjmJW1dOwUfd/Av6iqkXpmVegvD+r6rqIZP1RVTfWJ09fzwIb8Rr8WL/cD7persH6r+8DdMOCiS+Xk7wkly1qeUkuW9TyYi5bk6Ay7QGsVtWVInIsFtQ+U1Xnl5O8yGQVs+lTThvwdewNIn2c2VtgCNZsOyB9DRsjUBbyklw2f5blK6/EynYskAJ6BscDaXgvq8jkRV021UYas8D6MS/F+offnXG+ORb8mQF8sxzlJbls/izLV16Jlu3McpQXddm+zL/YGZbDBpycfpjYdAz/zLq+S/BZlB4tUcpLctn8WZavvFIuG0XokRelvKjL9mW+xcqo3DaC3hzYTKtzgXsyrhW990WU8pJcNn+W5SsvyWVL+rNU1cYT4BZbQ2F/oJWq/m9wroWqbhKb0nkW8CLmN60Efq717DUQtbwkly1qeUkuW9Tykly2qOVFXbachGGBSm0DTsWG7V+CzVf/t4xrzTP2VwMrgMPKRV6Sy+bPsnzlJblsSX+WNeoRRqaltGHd76qB44PjdsBzwIFk+POw3hjv0fB5YCKTl+Sy+bMsX3lJLlvSn2VtW2OYdfYL4Heq+rSItMBmU90IdNDgKQe0Aoap6oIykpfkskUtL8lli1pekssWtbyoy1YzYVmhuDfMIjcnxxxOwN+B/sH+gHKTl+Sy+bMsX3lJLlvSn2UhWyKn+xBbV/pxbArluyRY4zawzGBNuQoRORdbqnGPcpGX5LJFLS/JZYtaXpLLFrW8qMtWMFFZpSg2rBtZV2ydhCHYMp0/wRYxOSQj3R+BJ4HpNMyfGJm8JJfNn2X5ykty2ZL+LOusX1SCIiuQTRNwC7AX2+e+uhxb7OPA4Phn2PrIDZqHP2p5SS6bP8vylZfksiX9WdZJtyiFhVoQW5f3KGwJxnuwfsaZ13+OTc/bIkjXoAVpopSX5LL5syxfeUkuW9KfZb10jFpgKIWwlclexZplN2KTbC0CrspI0wO4tdzkJbls/izLV16Sy5b0Z1lvPeMUXqQv9WjgTYLlCLEm3O+APYEl2CLw+2FrI8/BupyVhbwkl82fZfnKS3LZkv4sG/Rc4hJctALYw74w47gT8O9gfx9s1au/BQ+6wSMbo5SX5LL5syxfeUkuW9KfZYN0jVN4UQpgAaGdM/a7YDMx7hGc6w40A9qVm7wkl82fZfnKS3LZkv4sG7KV/TgLVd2qqquDQwFWAStV9SMROR/4JTZ/yuflJi/JZYtaXpLLFrW8JJctanlRl60hJHLWWREZD3wEnIg18V5Lirwkly1qeUkuW9Tykly2qOVFXbZCSZSxEBHBhsi/EXwer6rvJEFekssWtbwkly1qeUkuW9Tyoi5bXUmUsUgjIhcCs7UIC6+Xmrwkly1qeUkuW9Tykly2qOVFXbZCSaqxEI2wYFHKS3LZopaX5LJFLS/JZYtaXtRlK5REGgvHcRynuJR9byjHcRwnfNxYOI7jOHlxY+E4juPkxY2F4xSIiKiI3JVx3ExElovIY/XMr72IXJJxPKS+eTlO2LixcJzCWQccKiKtguNh2DoD9aU9cEneVI5TArixcJy6MRn4WrB/LvDP9AUR6SAiD4nIqyIyQ0QOD85fLSK3i8g0EVkoIpcHt1wH7CsiL4vI9cG5NiJyv4i8KSITg4FajhM7biwcp25MAoaLSEvgcGBmxrXfAi+p6uHYnD53Zlw7CDgJ6Af8RkSaA1cC76pqL1X9WZDuSODHQE9s1tFjwiyM4xSKGwvHqQOq+iq2EM25wONZlwcBdwXpngF2FZF2wbV/q+oXqvopsAxbXzkXs1T1fVXdBrwcyHKc2GkWtwKOU4Y8AvwBGIItg5kml8soPer1i4xzW6n5v1doOseJFG9ZOE7duR24JsdsoM8CI8B6NgGfZkw/nYs1QNtQNHScIuNvLY5TR1T1feCvOS5dDYwTkVeB9cAFefJZISJVIjIPC5z/u9i6Ok6x8LmhHMdxnLy4G8pxHMfJixsLx3EcJy9uLBzHcZy8uLFwHMdx8uLGwnEcx8mLGwvHcRwnL24sHMdxnLy4sXAcx3Hy8v8BQfIHHKqhF94AAAAASUVORK5CYII=",
      "text/plain": [
       "<Figure size 432x288 with 1 Axes>"
      ]
     },
     "metadata": {
      "needs_background": "light"
     },
     "output_type": "display_data"
    }
   ],
   "source": [
    "import matplotlib.pyplot as plt\n",
    "\n",
    "xAxis = []\n",
    "yAxis = []\n",
    "\n",
    "for date in timeSplitDataNetScore:\n",
    "    xAxis.append(date)\n",
    "    yAxis.append(timeSplitDataNetScore[date])\n",
    "\n",
    "plt.plot(xAxis,yAxis, color='red', marker='o')\n",
    "plt.title('Reddit CryptoCurrency Sentimental Analysis')\n",
    "plt.xlabel('Month')\n",
    "plt.xticks(rotation=45)\n",
    "plt.ylabel('Net Sentiment')\n",
    "plt.grid(True)\n",
    "plt.show()"
   ]
  }
 ],
 "metadata": {
  "kernelspec": {
   "display_name": "Python 3 (ipykernel)",
   "language": "python",
   "name": "python3"
  },
  "language_info": {
   "codemirror_mode": {
    "name": "ipython",
    "version": 3
   },
   "file_extension": ".py",
   "mimetype": "text/x-python",
   "name": "python",
   "nbconvert_exporter": "python",
   "pygments_lexer": "ipython3",
   "version": "3.8.3"
  }
 },
 "nbformat": 4,
 "nbformat_minor": 5
}
