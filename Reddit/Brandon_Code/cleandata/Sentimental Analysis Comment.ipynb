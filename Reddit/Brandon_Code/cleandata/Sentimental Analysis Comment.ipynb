{
 "cells": [
  {
   "cell_type": "code",
   "execution_count": 58,
   "id": "c0535bf1",
   "metadata": {},
   "outputs": [],
   "source": [
    "import pandas as pd"
   ]
  },
  {
   "cell_type": "code",
   "execution_count": 59,
   "id": "5ae977cc",
   "metadata": {},
   "outputs": [],
   "source": [
    "# df = pd.read_csv(\"C:/Users/caleb/Documents/tmp/ssa/powerQueryDiscordData.csv\",encoding = \"ISO-8859-1\")\n",
    "df = pd.read_csv(\"./aave_5k.csv\")"
   ]
  },
  {
   "cell_type": "code",
   "execution_count": 60,
   "id": "7415bb51",
   "metadata": {},
   "outputs": [
    {
     "data": {
      "text/html": [
       "<div>\n",
       "<style scoped>\n",
       "    .dataframe tbody tr th:only-of-type {\n",
       "        vertical-align: middle;\n",
       "    }\n",
       "\n",
       "    .dataframe tbody tr th {\n",
       "        vertical-align: top;\n",
       "    }\n",
       "\n",
       "    .dataframe thead th {\n",
       "        text-align: right;\n",
       "    }\n",
       "</style>\n",
       "<table border=\"1\" class=\"dataframe\">\n",
       "  <thead>\n",
       "    <tr style=\"text-align: right;\">\n",
       "      <th></th>\n",
       "      <th>id</th>\n",
       "      <th>author</th>\n",
       "      <th>title</th>\n",
       "      <th>body</th>\n",
       "      <th>created</th>\n",
       "      <th>url</th>\n",
       "    </tr>\n",
       "  </thead>\n",
       "  <tbody>\n",
       "    <tr>\n",
       "      <th>0</th>\n",
       "      <td>rt4973</td>\n",
       "      <td>Benny_Brave</td>\n",
       "      <td>This week on Dapps #57 of @thedapplist there a...</td>\n",
       "      <td>NaN</td>\n",
       "      <td>2022-01-01 05:54:57</td>\n",
       "      <td>https://i.redd.it/pohewsve9y881.jpg</td>\n",
       "    </tr>\n",
       "    <tr>\n",
       "      <th>1</th>\n",
       "      <td>rszt1u</td>\n",
       "      <td>HODL0</td>\n",
       "      <td>Aave expands to StarkNet, Gutter City in The S...</td>\n",
       "      <td>NaN</td>\n",
       "      <td>2022-01-01 02:14:02</td>\n",
       "      <td>https://i.redd.it/zu2auisz5x881.png</td>\n",
       "    </tr>\n",
       "    <tr>\n",
       "      <th>2</th>\n",
       "      <td>rszp0e</td>\n",
       "      <td>Tahirasiddiqui</td>\n",
       "      <td>This week in Dapps - Ep.57 is here! 🎉 Aave exp...</td>\n",
       "      <td>NaN</td>\n",
       "      <td>2022-01-01 02:08:35</td>\n",
       "      <td>https://i.redd.it/2u1u3bs05x881.jpg</td>\n",
       "    </tr>\n",
       "    <tr>\n",
       "      <th>3</th>\n",
       "      <td>rsx2ii</td>\n",
       "      <td>seeldoger47</td>\n",
       "      <td>[H] Cryto (ADA, ALGO, ATOM, AAVE, BAL, BAND, B...</td>\n",
       "      <td>#I don't take the following payments: Cashapp,...</td>\n",
       "      <td>2022-01-01 00:06:40</td>\n",
       "      <td>https://www.reddit.com/r/Cash4Cash/comments/rs...</td>\n",
       "    </tr>\n",
       "    <tr>\n",
       "      <th>4</th>\n",
       "      <td>rswglb</td>\n",
       "      <td>n0lefin</td>\n",
       "      <td>What’s the deal with AAVE?</td>\n",
       "      <td>[removed]</td>\n",
       "      <td>2021-12-31 23:37:39</td>\n",
       "      <td>https://www.reddit.com/r/CryptoCurrency/commen...</td>\n",
       "    </tr>\n",
       "  </tbody>\n",
       "</table>\n",
       "</div>"
      ],
      "text/plain": [
       "       id          author                                              title  \\\n",
       "0  rt4973     Benny_Brave  This week on Dapps #57 of @thedapplist there a...   \n",
       "1  rszt1u           HODL0  Aave expands to StarkNet, Gutter City in The S...   \n",
       "2  rszp0e  Tahirasiddiqui  This week in Dapps - Ep.57 is here! 🎉 Aave exp...   \n",
       "3  rsx2ii     seeldoger47  [H] Cryto (ADA, ALGO, ATOM, AAVE, BAL, BAND, B...   \n",
       "4  rswglb         n0lefin                         What’s the deal with AAVE?   \n",
       "\n",
       "                                                body              created  \\\n",
       "0                                                NaN  2022-01-01 05:54:57   \n",
       "1                                                NaN  2022-01-01 02:14:02   \n",
       "2                                                NaN  2022-01-01 02:08:35   \n",
       "3  #I don't take the following payments: Cashapp,...  2022-01-01 00:06:40   \n",
       "4                                          [removed]  2021-12-31 23:37:39   \n",
       "\n",
       "                                                 url  \n",
       "0                https://i.redd.it/pohewsve9y881.jpg  \n",
       "1                https://i.redd.it/zu2auisz5x881.png  \n",
       "2                https://i.redd.it/2u1u3bs05x881.jpg  \n",
       "3  https://www.reddit.com/r/Cash4Cash/comments/rs...  \n",
       "4  https://www.reddit.com/r/CryptoCurrency/commen...  "
      ]
     },
     "execution_count": 60,
     "metadata": {},
     "output_type": "execute_result"
    }
   ],
   "source": [
    "df.head()"
   ]
  },
  {
   "cell_type": "code",
   "execution_count": 61,
   "id": "e3fad000",
   "metadata": {},
   "outputs": [
    {
     "name": "stdout",
     "output_type": "stream",
     "text": [
      "<class 'pandas.core.frame.DataFrame'>\n",
      "RangeIndex: 5000 entries, 0 to 4999\n",
      "Data columns (total 6 columns):\n",
      " #   Column   Non-Null Count  Dtype \n",
      "---  ------   --------------  ----- \n",
      " 0   id       5000 non-null   object\n",
      " 1   author   5000 non-null   object\n",
      " 2   title    5000 non-null   object\n",
      " 3   body     2004 non-null   object\n",
      " 4   created  5000 non-null   object\n",
      " 5   url      5000 non-null   object\n",
      "dtypes: object(6)\n",
      "memory usage: 234.5+ KB\n"
     ]
    }
   ],
   "source": [
    "df.info()"
   ]
  },
  {
   "cell_type": "code",
   "execution_count": 62,
   "id": "634fe30d",
   "metadata": {},
   "outputs": [],
   "source": [
    "df['date'] = df['created'].apply(lambda x: x.split(' ')[0])"
   ]
  },
  {
   "cell_type": "code",
   "execution_count": 63,
   "id": "dfd1c530",
   "metadata": {},
   "outputs": [],
   "source": [
    "#filling na with forward fill. \n",
    "df = df.fillna(method='ffill')"
   ]
  },
  {
   "cell_type": "code",
   "execution_count": 64,
   "id": "1e1c81a8",
   "metadata": {},
   "outputs": [
    {
     "name": "stdout",
     "output_type": "stream",
     "text": [
      "<class 'pandas.core.frame.DataFrame'>\n",
      "RangeIndex: 5000 entries, 0 to 4999\n",
      "Data columns (total 7 columns):\n",
      " #   Column   Non-Null Count  Dtype \n",
      "---  ------   --------------  ----- \n",
      " 0   id       5000 non-null   object\n",
      " 1   author   5000 non-null   object\n",
      " 2   title    5000 non-null   object\n",
      " 3   body     4997 non-null   object\n",
      " 4   created  5000 non-null   object\n",
      " 5   url      5000 non-null   object\n",
      " 6   date     5000 non-null   object\n",
      "dtypes: object(7)\n",
      "memory usage: 273.6+ KB\n"
     ]
    }
   ],
   "source": [
    "df.info()"
   ]
  },
  {
   "cell_type": "code",
   "execution_count": 65,
   "id": "c56899c5",
   "metadata": {},
   "outputs": [],
   "source": [
    "# Preparing Text Data for Sentimental Analysis\n",
    "\n",
    "import numpy as np\n",
    "import re\n",
    "from nltk.corpus import stopwords\n",
    "\n",
    "stop = stopwords.words('english')\n",
    "\n",
    "def clean_content(contentInput):\n",
    "    if type(contentInput) == np.float:\n",
    "        return \"\"\n",
    "    contentInput = contentInput.lower()\n",
    "    contentInput = re.sub(\"'\", \"\", contentInput) # to avoid removing contractions in english\n",
    "    contentInput = re.sub(\"@[A-Za-z0-9_]+\",\"\", contentInput)\n",
    "    contentInput = re.sub(\"#[A-Za-z0-9_]+\",\"\", contentInput)\n",
    "    contentInput = re.sub(r'http\\S+', '', contentInput)\n",
    "    contentInput = re.sub('[()!?]', ' ', contentInput)\n",
    "    contentInput = re.sub('\\[.*?\\]',' ', contentInput)\n",
    "    contentInput = re.sub(\"[^a-z0-9]\",\" \", contentInput)\n",
    "    contentInput = contentInput.strip()\n",
    "    contentInput = contentInput.split()\n",
    "    contentInput = [w for w in contentInput if not w in stop]\n",
    "    contentInput = \" \".join(word for word in contentInput)\n",
    "    return contentInput"
   ]
  },
  {
   "cell_type": "code",
   "execution_count": 66,
   "id": "5a7822d1",
   "metadata": {},
   "outputs": [
    {
     "data": {
      "text/plain": [
       "['2022-01',\n",
       " '2021-12',\n",
       " '2021-11',\n",
       " '2021-10',\n",
       " '2021-09',\n",
       " '2021-08',\n",
       " '2021-07',\n",
       " '2021-06',\n",
       " '2021-05']"
      ]
     },
     "execution_count": 66,
     "metadata": {},
     "output_type": "execute_result"
    }
   ],
   "source": [
    "# df['date'].unique()\n",
    "df['year_month'] = df['date'].apply(lambda x: x[0:x.rfind('-')])\n",
    "list(df['year_month'].unique())"
   ]
  },
  {
   "cell_type": "code",
   "execution_count": 67,
   "id": "d83efab8",
   "metadata": {},
   "outputs": [],
   "source": [
    "#spliting data into months as for time series sentimental analysis\n",
    "#Getting start and end date of data\n",
    "\n",
    "# monthList = pd.date_range('2021-01-01','2022-02-01', \n",
    "#               freq='MS').strftime(\"%m/%Y\").tolist()\n",
    "\n",
    "monthList = list(df['year_month'].unique())\n",
    "monthList.reverse()\n",
    "\n",
    "#creating blank dict for later\n",
    "\n",
    "timeSplitData={}\n",
    "timeSplitDataSentiment = {}\n",
    "\n",
    "for month in monthList: \n",
    "    timeSplitData[month] = []\n",
    "    timeSplitDataSentiment[month] = []    \n"
   ]
  },
  {
   "cell_type": "code",
   "execution_count": 68,
   "id": "637d6540",
   "metadata": {},
   "outputs": [
    {
     "data": {
      "text/plain": [
       "{'2021-05': [],\n",
       " '2021-06': [],\n",
       " '2021-07': [],\n",
       " '2021-08': [],\n",
       " '2021-09': [],\n",
       " '2021-10': [],\n",
       " '2021-11': [],\n",
       " '2021-12': [],\n",
       " '2022-01': []}"
      ]
     },
     "execution_count": 68,
     "metadata": {},
     "output_type": "execute_result"
    }
   ],
   "source": [
    "timeSplitData"
   ]
  },
  {
   "cell_type": "code",
   "execution_count": 69,
   "id": "b716d6e0",
   "metadata": {},
   "outputs": [
    {
     "name": "stderr",
     "output_type": "stream",
     "text": [
      "<ipython-input-65-cedc3de0ebca>:10: DeprecationWarning: `np.float` is a deprecated alias for the builtin `float`. To silence this warning, use `float` by itself. Doing this will not modify any behavior and is safe. If you specifically wanted the numpy scalar type, use `np.float64` here.\n",
      "Deprecated in NumPy 1.20; for more details and guidance: https://numpy.org/devdocs/release/1.20.0-notes.html#deprecations\n",
      "  if type(contentInput) == np.float:\n"
     ]
    }
   ],
   "source": [
    "for row in df.iterrows():\n",
    "    #extracting month data from row\n",
    "\n",
    "    # dateData = row[1]['date']\n",
    "    # tmp = dateData.find('/') \n",
    "\n",
    "    # monthData = dateData[tmp+1:] #removing day e.g '12/'\n",
    "    # if len(monthData) == 6:\n",
    "    #     monthData = \"0\"+monthData\n",
    "    \n",
    "    # if monthData in timeSplitData: # check if data is in range of date we want to analyse\n",
    "\n",
    "    monthData = row[1]['year_month']\n",
    "    content = row[1]['body']\n",
    "    #cleaning Data\n",
    "    cleaned = clean_content(content)\n",
    "    #Storing into time split dict\n",
    "    timeSplitData[monthData].append(cleaned)\n"
   ]
  },
  {
   "cell_type": "code",
   "execution_count": 70,
   "id": "d2b5814b",
   "metadata": {},
   "outputs": [
    {
     "name": "stderr",
     "output_type": "stream",
     "text": [
      "[nltk_data] Downloading package vader_lexicon to\n",
      "[nltk_data]     /Users/lamchingrou/nltk_data...\n",
      "[nltk_data]   Package vader_lexicon is already up-to-date!\n"
     ]
    }
   ],
   "source": [
    "import nltk\n",
    "nltk.download('vader_lexicon')\n",
    "from nltk.sentiment.vader import SentimentIntensityAnalyzer\n",
    "\n",
    "sid = SentimentIntensityAnalyzer()"
   ]
  },
  {
   "cell_type": "code",
   "execution_count": 71,
   "id": "c526934b",
   "metadata": {},
   "outputs": [],
   "source": [
    "# ## VADER testing and understanding\n",
    "\n",
    "# testText = \"really painful see sushi chart\"\n",
    "# negativeTest = sid.polarity_scores(testText)\n",
    "\n",
    "# testText = \"market doing well go up\"\n",
    "# positiveTest = sid.polarity_scores(testText)\n",
    "# ## compound can be use to net the sentiment.. negative mean bear\n",
    "\n",
    "# print(negativeTest)\n",
    "# print(positiveTest)"
   ]
  },
  {
   "cell_type": "code",
   "execution_count": 72,
   "id": "b6ef7c61",
   "metadata": {},
   "outputs": [],
   "source": [
    "## Geting Sentiment Score using VANDER's sentiment model\n",
    "for month in timeSplitData:\n",
    "    for content in timeSplitData[month]:\n",
    "        output = sid.polarity_scores(content)\n",
    "        timeSplitDataSentiment[month].append(output)\n"
   ]
  },
  {
   "cell_type": "code",
   "execution_count": 73,
   "id": "8845b700",
   "metadata": {},
   "outputs": [],
   "source": [
    "## Calculating Net Weighted Sentiment Score\n",
    "timeSplitDataNetScore = {}\n",
    "for month in monthList:\n",
    "    timeSplitDataNetScore[month] = 0 \n",
    "    \n",
    "for month in timeSplitDataSentiment:\n",
    "    for output in timeSplitDataSentiment[month]:\n",
    "        compound = output['compound']\n",
    "        compound = compound / len(timeSplitDataSentiment[month])\n",
    "        timeSplitDataNetScore[month] +=compound\n"
   ]
  },
  {
   "cell_type": "code",
   "execution_count": 74,
   "id": "bcdf6ce7",
   "metadata": {},
   "outputs": [
    {
     "data": {
      "text/plain": [
       "{'2021-05': 0.15250797773654912,\n",
       " '2021-06': 0.2219583941605843,\n",
       " '2021-07': 0.13246645898234702,\n",
       " '2021-08': 0.17900127659574488,\n",
       " '2021-09': 0.2584282608695653,\n",
       " '2021-10': 0.34140615384615414,\n",
       " '2021-11': 0.245884584178499,\n",
       " '2021-12': 0.17028578088578095,\n",
       " '2022-01': 0.100475}"
      ]
     },
     "execution_count": 74,
     "metadata": {},
     "output_type": "execute_result"
    }
   ],
   "source": [
    "timeSplitDataNetScore"
   ]
  },
  {
   "cell_type": "code",
   "execution_count": 75,
   "id": "d959e007",
   "metadata": {},
   "outputs": [
    {
     "data": {
      "image/png": "[encoded data removed]",
      "text/plain": [
       "<Figure size 432x288 with 1 Axes>"
      ]
     },
     "metadata": {
      "needs_background": "light"
     },
     "output_type": "display_data"
    }
   ],
   "source": [
    "import matplotlib.pyplot as plt\n",
    "\n",
    "xAxis = []\n",
    "yAxis = []\n",
    "\n",
    "for date in timeSplitDataNetScore:\n",
    "    xAxis.append(date)\n",
    "    yAxis.append(timeSplitDataNetScore[date])\n",
    "\n",
    "plt.plot(xAxis,yAxis, color='red', marker='o')\n",
    "plt.title('Discord CryptoCurrency Sentimental Analysis')\n",
    "plt.xlabel('Month')\n",
    "plt.xticks(rotation=45)\n",
    "plt.ylabel('Net Sentiment')\n",
    "plt.grid(True)\n",
    "plt.show()"
   ]
  }
 ],
 "metadata": {
  "kernelspec": {
   "display_name": "Python 3 (ipykernel)",
   "language": "python",
   "name": "python3"
  },
  "language_info": {
   "codemirror_mode": {
    "name": "ipython",
    "version": 3
   },
   "file_extension": ".py",
   "mimetype": "text/x-python",
   "name": "python",
   "nbconvert_exporter": "python",
   "pygments_lexer": "ipython3",
   "version": "3.8.3"
  }
 },
 "nbformat": 4,
 "nbformat_minor": 5
}
