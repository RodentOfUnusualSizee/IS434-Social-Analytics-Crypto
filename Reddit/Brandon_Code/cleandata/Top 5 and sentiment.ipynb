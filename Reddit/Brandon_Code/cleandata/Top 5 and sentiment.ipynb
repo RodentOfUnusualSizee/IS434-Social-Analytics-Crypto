{
 "cells": [
  {
   "cell_type": "code",
   "execution_count": 1,
   "id": "c0535bf1",
   "metadata": {},
   "outputs": [],
   "source": [
    "import pandas as pd"
   ]
  },
  {
   "cell_type": "code",
   "execution_count": 43,
   "id": "5ae977cc",
   "metadata": {},
   "outputs": [],
   "source": [
    "# Reddit Comments\n",
    "# df = pd.read_csv(\"C:/Users/caleb/Documents/tmp/ssa/powerQueryDiscordData.csv\",encoding = \"ISO-8859-1\")\n",
    "df = pd.read_csv(\"./MakerDAO_comment_combined_cleaned.csv\")"
   ]
  },
  {
   "cell_type": "code",
   "execution_count": 44,
   "id": "7415bb51",
   "metadata": {},
   "outputs": [
    {
     "data": {
      "text/html": [
       "<div>\n",
       "<style scoped>\n",
       "    .dataframe tbody tr th:only-of-type {\n",
       "        vertical-align: middle;\n",
       "    }\n",
       "\n",
       "    .dataframe tbody tr th {\n",
       "        vertical-align: top;\n",
       "    }\n",
       "\n",
       "    .dataframe thead th {\n",
       "        text-align: right;\n",
       "    }\n",
       "</style>\n",
       "<table border=\"1\" class=\"dataframe\">\n",
       "  <thead>\n",
       "    <tr style=\"text-align: right;\">\n",
       "      <th></th>\n",
       "      <th>author</th>\n",
       "      <th>body</th>\n",
       "      <th>created</th>\n",
       "    </tr>\n",
       "  </thead>\n",
       "  <tbody>\n",
       "    <tr>\n",
       "      <th>0</th>\n",
       "      <td>biba8163</td>\n",
       "      <td>Yes, you are probably right that there is grea...</td>\n",
       "      <td>2021-01-01 01:54:40</td>\n",
       "    </tr>\n",
       "    <tr>\n",
       "      <th>1</th>\n",
       "      <td>jolly_octopus</td>\n",
       "      <td>The definition of security broader than the ex...</td>\n",
       "      <td>2021-01-01 05:26:31</td>\n",
       "    </tr>\n",
       "    <tr>\n",
       "      <th>2</th>\n",
       "      <td>Think-notlikedasheep</td>\n",
       "      <td>&amp;gt;Binance coin is pretty obviously a securit...</td>\n",
       "      <td>2021-01-01 06:06:36</td>\n",
       "    </tr>\n",
       "    <tr>\n",
       "      <th>3</th>\n",
       "      <td>gremlin0x</td>\n",
       "      <td>So the current large debt system is MakerDAO. ...</td>\n",
       "      <td>2021-01-01 07:02:27</td>\n",
       "    </tr>\n",
       "    <tr>\n",
       "      <th>4</th>\n",
       "      <td>freehk_fktheccp</td>\n",
       "      <td>This is not exclusive to Ethereum by any means...</td>\n",
       "      <td>2021-01-01 08:25:34</td>\n",
       "    </tr>\n",
       "  </tbody>\n",
       "</table>\n",
       "</div>"
      ],
      "text/plain": [
       "                 author                                               body  \\\n",
       "0              biba8163  Yes, you are probably right that there is grea...   \n",
       "1         jolly_octopus  The definition of security broader than the ex...   \n",
       "2  Think-notlikedasheep  &gt;Binance coin is pretty obviously a securit...   \n",
       "3             gremlin0x  So the current large debt system is MakerDAO. ...   \n",
       "4       freehk_fktheccp  This is not exclusive to Ethereum by any means...   \n",
       "\n",
       "               created  \n",
       "0  2021-01-01 01:54:40  \n",
       "1  2021-01-01 05:26:31  \n",
       "2  2021-01-01 06:06:36  \n",
       "3  2021-01-01 07:02:27  \n",
       "4  2021-01-01 08:25:34  "
      ]
     },
     "execution_count": 44,
     "metadata": {},
     "output_type": "execute_result"
    }
   ],
   "source": [
    "df.head()"
   ]
  },
  {
   "cell_type": "code",
   "execution_count": 45,
   "id": "e3fad000",
   "metadata": {},
   "outputs": [
    {
     "name": "stdout",
     "output_type": "stream",
     "text": [
      "<class 'pandas.core.frame.DataFrame'>\n",
      "RangeIndex: 3142 entries, 0 to 3141\n",
      "Data columns (total 3 columns):\n",
      " #   Column   Non-Null Count  Dtype \n",
      "---  ------   --------------  ----- \n",
      " 0   author   3142 non-null   object\n",
      " 1   body     3142 non-null   object\n",
      " 2   created  3142 non-null   object\n",
      "dtypes: object(3)\n",
      "memory usage: 73.8+ KB\n"
     ]
    }
   ],
   "source": [
    "df.info()"
   ]
  },
  {
   "cell_type": "code",
   "execution_count": 46,
   "id": "634fe30d",
   "metadata": {},
   "outputs": [
    {
     "data": {
      "text/html": [
       "<div>\n",
       "<style scoped>\n",
       "    .dataframe tbody tr th:only-of-type {\n",
       "        vertical-align: middle;\n",
       "    }\n",
       "\n",
       "    .dataframe tbody tr th {\n",
       "        vertical-align: top;\n",
       "    }\n",
       "\n",
       "    .dataframe thead th {\n",
       "        text-align: right;\n",
       "    }\n",
       "</style>\n",
       "<table border=\"1\" class=\"dataframe\">\n",
       "  <thead>\n",
       "    <tr style=\"text-align: right;\">\n",
       "      <th></th>\n",
       "      <th>author</th>\n",
       "      <th>body</th>\n",
       "      <th>created</th>\n",
       "      <th>date</th>\n",
       "    </tr>\n",
       "  </thead>\n",
       "  <tbody>\n",
       "    <tr>\n",
       "      <th>0</th>\n",
       "      <td>biba8163</td>\n",
       "      <td>Yes, you are probably right that there is grea...</td>\n",
       "      <td>2021-01-01 01:54:40</td>\n",
       "      <td>2021-01-01</td>\n",
       "    </tr>\n",
       "    <tr>\n",
       "      <th>1</th>\n",
       "      <td>jolly_octopus</td>\n",
       "      <td>The definition of security broader than the ex...</td>\n",
       "      <td>2021-01-01 05:26:31</td>\n",
       "      <td>2021-01-01</td>\n",
       "    </tr>\n",
       "    <tr>\n",
       "      <th>2</th>\n",
       "      <td>Think-notlikedasheep</td>\n",
       "      <td>&amp;gt;Binance coin is pretty obviously a securit...</td>\n",
       "      <td>2021-01-01 06:06:36</td>\n",
       "      <td>2021-01-01</td>\n",
       "    </tr>\n",
       "    <tr>\n",
       "      <th>3</th>\n",
       "      <td>gremlin0x</td>\n",
       "      <td>So the current large debt system is MakerDAO. ...</td>\n",
       "      <td>2021-01-01 07:02:27</td>\n",
       "      <td>2021-01-01</td>\n",
       "    </tr>\n",
       "    <tr>\n",
       "      <th>4</th>\n",
       "      <td>freehk_fktheccp</td>\n",
       "      <td>This is not exclusive to Ethereum by any means...</td>\n",
       "      <td>2021-01-01 08:25:34</td>\n",
       "      <td>2021-01-01</td>\n",
       "    </tr>\n",
       "  </tbody>\n",
       "</table>\n",
       "</div>"
      ],
      "text/plain": [
       "                 author                                               body  \\\n",
       "0              biba8163  Yes, you are probably right that there is grea...   \n",
       "1         jolly_octopus  The definition of security broader than the ex...   \n",
       "2  Think-notlikedasheep  &gt;Binance coin is pretty obviously a securit...   \n",
       "3             gremlin0x  So the current large debt system is MakerDAO. ...   \n",
       "4       freehk_fktheccp  This is not exclusive to Ethereum by any means...   \n",
       "\n",
       "               created        date  \n",
       "0  2021-01-01 01:54:40  2021-01-01  \n",
       "1  2021-01-01 05:26:31  2021-01-01  \n",
       "2  2021-01-01 06:06:36  2021-01-01  \n",
       "3  2021-01-01 07:02:27  2021-01-01  \n",
       "4  2021-01-01 08:25:34  2021-01-01  "
      ]
     },
     "execution_count": 46,
     "metadata": {},
     "output_type": "execute_result"
    }
   ],
   "source": [
    "df['date'] = df['created'].apply(lambda x: x.split(' ')[0])\n",
    "df.sort_values(['date'], inplace=True)\n",
    "df.head(5)"
   ]
  },
  {
   "cell_type": "code",
   "execution_count": 47,
   "id": "dfd1c530",
   "metadata": {},
   "outputs": [],
   "source": [
    "#filling na with forward fill. \n",
    "df = df.fillna(method='ffill')"
   ]
  },
  {
   "cell_type": "code",
   "execution_count": 48,
   "id": "1e1c81a8",
   "metadata": {},
   "outputs": [
    {
     "name": "stdout",
     "output_type": "stream",
     "text": [
      "<class 'pandas.core.frame.DataFrame'>\n",
      "Int64Index: 3142 entries, 0 to 1252\n",
      "Data columns (total 4 columns):\n",
      " #   Column   Non-Null Count  Dtype \n",
      "---  ------   --------------  ----- \n",
      " 0   author   3142 non-null   object\n",
      " 1   body     3142 non-null   object\n",
      " 2   created  3142 non-null   object\n",
      " 3   date     3142 non-null   object\n",
      "dtypes: object(4)\n",
      "memory usage: 122.7+ KB\n"
     ]
    }
   ],
   "source": [
    "df.info()"
   ]
  },
  {
   "cell_type": "code",
   "execution_count": 49,
   "id": "c56899c5",
   "metadata": {},
   "outputs": [],
   "source": [
    "# Preparing Text Data for Sentimental Analysis\n",
    "\n",
    "import numpy as np\n",
    "import re\n",
    "from nltk.corpus import stopwords\n",
    "\n",
    "stop = stopwords.words('english')\n",
    "\n",
    "def clean_content(contentInput):\n",
    "    if type(contentInput) == np.float:\n",
    "        return \"\"\n",
    "    contentInput = contentInput.lower()\n",
    "    contentInput = re.sub(\"'\", \"\", contentInput) # to avoid removing contractions in english\n",
    "    contentInput = re.sub(\"@[A-Za-z0-9_]+\",\"\", contentInput)\n",
    "    contentInput = re.sub(\"#[A-Za-z0-9_]+\",\"\", contentInput)\n",
    "    contentInput = re.sub(r'http\\S+', '', contentInput)\n",
    "    contentInput = re.sub('[()!?]', ' ', contentInput)\n",
    "    contentInput = re.sub('\\[.*?\\]',' ', contentInput)\n",
    "    contentInput = re.sub(\"[^a-z0-9]\",\" \", contentInput)\n",
    "    contentInput = contentInput.strip()\n",
    "    contentInput = contentInput.split()\n",
    "    contentInput = [w for w in contentInput if not w in stop]\n",
    "    contentInput = \" \".join(word for word in contentInput)\n",
    "    return contentInput"
   ]
  },
  {
   "cell_type": "code",
   "execution_count": 50,
   "id": "5a7822d1",
   "metadata": {},
   "outputs": [
    {
     "data": {
      "text/plain": [
       "['2021-01',\n",
       " '2021-02',\n",
       " '2021-03',\n",
       " '2021-04',\n",
       " '2021-05',\n",
       " '2021-06',\n",
       " '2021-07',\n",
       " '2021-08',\n",
       " '2021-09',\n",
       " '2021-10',\n",
       " '2021-11',\n",
       " '2021-12']"
      ]
     },
     "execution_count": 50,
     "metadata": {},
     "output_type": "execute_result"
    }
   ],
   "source": [
    "# df['date'].unique()\n",
    "df['year_month'] = df['date'].apply(lambda x: x[0:x.rfind('-')])\n",
    "list(df['year_month'].unique())"
   ]
  },
  {
   "cell_type": "code",
   "execution_count": 51,
   "id": "d83efab8",
   "metadata": {},
   "outputs": [],
   "source": [
    "#spliting data into months as for time series sentimental analysis\n",
    "#Getting start and end date of data\n",
    "\n",
    "# monthList = pd.date_range('2021-01-01','2022-02-01', \n",
    "#               freq='MS').strftime(\"%m/%Y\").tolist()\n",
    "\n",
    "monthList = list(df['year_month'].unique())\n",
    "\n",
    "\n",
    "#creating blank dict for later\n",
    "\n",
    "timeSplitData={}\n",
    "timeSplitDataSentiment = {}\n",
    "\n",
    "for month in monthList: \n",
    "    timeSplitData[month] = []\n",
    "    timeSplitDataSentiment[month] = []    \n"
   ]
  },
  {
   "cell_type": "code",
   "execution_count": 52,
   "id": "637d6540",
   "metadata": {},
   "outputs": [
    {
     "data": {
      "text/plain": [
       "{'2021-01': [],\n",
       " '2021-02': [],\n",
       " '2021-03': [],\n",
       " '2021-04': [],\n",
       " '2021-05': [],\n",
       " '2021-06': [],\n",
       " '2021-07': [],\n",
       " '2021-08': [],\n",
       " '2021-09': [],\n",
       " '2021-10': [],\n",
       " '2021-11': [],\n",
       " '2021-12': []}"
      ]
     },
     "execution_count": 52,
     "metadata": {},
     "output_type": "execute_result"
    }
   ],
   "source": [
    "timeSplitData"
   ]
  },
  {
   "cell_type": "code",
   "execution_count": 53,
   "id": "b716d6e0",
   "metadata": {},
   "outputs": [
    {
     "name": "stderr",
     "output_type": "stream",
     "text": [
      "<ipython-input-49-cedc3de0ebca>:10: DeprecationWarning: `np.float` is a deprecated alias for the builtin `float`. To silence this warning, use `float` by itself. Doing this will not modify any behavior and is safe. If you specifically wanted the numpy scalar type, use `np.float64` here.\n",
      "Deprecated in NumPy 1.20; for more details and guidance: https://numpy.org/devdocs/release/1.20.0-notes.html#deprecations\n",
      "  if type(contentInput) == np.float:\n"
     ]
    }
   ],
   "source": [
    "for row in df.iterrows():\n",
    "    #extracting month data from row\n",
    "\n",
    "    # dateData = row[1]['date']\n",
    "    # tmp = dateData.find('/') \n",
    "\n",
    "    # monthData = dateData[tmp+1:] #removing day e.g '12/'\n",
    "    # if len(monthData) == 6:\n",
    "    #     monthData = \"0\"+monthData\n",
    "    \n",
    "    # if monthData in timeSplitData: # check if data is in range of date we want to analyse\n",
    "\n",
    "    monthData = row[1]['year_month']\n",
    "    content = row[1]['body']\n",
    "    #cleaning Data\n",
    "    cleaned = clean_content(content)\n",
    "    #Storing into time split dict\n",
    "    timeSplitData[monthData].append(cleaned)\n"
   ]
  },
  {
   "cell_type": "code",
   "execution_count": 54,
   "id": "d2b5814b",
   "metadata": {},
   "outputs": [
    {
     "name": "stderr",
     "output_type": "stream",
     "text": [
      "[nltk_data] Downloading package vader_lexicon to\n",
      "[nltk_data]     C:\\Users\\brand\\AppData\\Roaming\\nltk_data...\n",
      "[nltk_data]   Package vader_lexicon is already up-to-date!\n"
     ]
    }
   ],
   "source": [
    "import nltk\n",
    "nltk.download('vader_lexicon')\n",
    "from nltk.sentiment.vader import SentimentIntensityAnalyzer\n",
    "\n",
    "sid = SentimentIntensityAnalyzer()"
   ]
  },
  {
   "cell_type": "code",
   "execution_count": 55,
   "id": "c526934b",
   "metadata": {},
   "outputs": [],
   "source": [
    "# ## VADER testing and understanding\n",
    "\n",
    "# testText = \"really painful see sushi chart\"\n",
    "# negativeTest = sid.polarity_scores(testText)\n",
    "\n",
    "# testText = \"market doing well go up\"\n",
    "# positiveTest = sid.polarity_scores(testText)\n",
    "# ## compound can be use to net the sentiment.. negative mean bear\n",
    "\n",
    "# print(negativeTest)\n",
    "# print(positiveTest)"
   ]
  },
  {
   "cell_type": "code",
   "execution_count": 56,
   "id": "b6ef7c61",
   "metadata": {},
   "outputs": [],
   "source": [
    "## Geting Sentiment Score using VANDER's sentiment model\n",
    "for month in timeSplitData:\n",
    "    for content in timeSplitData[month]:\n",
    "        output = sid.polarity_scores(content)\n",
    "        timeSplitDataSentiment[month].append(output)\n"
   ]
  },
  {
   "cell_type": "code",
   "execution_count": 57,
   "id": "8845b700",
   "metadata": {},
   "outputs": [],
   "source": [
    "## Calculating Net Weighted Sentiment Score\n",
    "timeSplitDataNetScore = {}\n",
    "for month in monthList:\n",
    "    timeSplitDataNetScore[month] = 0 \n",
    "    \n",
    "for month in timeSplitDataSentiment:\n",
    "    for output in timeSplitDataSentiment[month]:\n",
    "        compound = output['compound']\n",
    "        compound = compound / len(timeSplitDataSentiment[month])\n",
    "        timeSplitDataNetScore[month] +=compound\n"
   ]
  },
  {
   "cell_type": "code",
   "execution_count": 58,
   "id": "bcdf6ce7",
   "metadata": {},
   "outputs": [
    {
     "data": {
      "text/plain": [
       "{'2021-01': 0.41351544715447147,\n",
       " '2021-02': 0.4565008230452676,\n",
       " '2021-03': 0.450128,\n",
       " '2021-04': 0.4097868243243244,\n",
       " '2021-05': 0.4093630681818182,\n",
       " '2021-06': 0.4387163934426227,\n",
       " '2021-07': 0.395510666666667,\n",
       " '2021-08': 0.4450438818565402,\n",
       " '2021-09': 0.3704373333333334,\n",
       " '2021-10': 0.4845904320987644,\n",
       " '2021-11': 0.4360376996805107,\n",
       " '2021-12': 0.43701957104557493}"
      ]
     },
     "execution_count": 58,
     "metadata": {},
     "output_type": "execute_result"
    }
   ],
   "source": [
    "timeSplitDataNetScore"
   ]
  },
  {
   "cell_type": "code",
   "execution_count": 59,
   "id": "d959e007",
   "metadata": {},
   "outputs": [
    {
     "data": {
      "image/png": "[encoded data removed]",
      "text/plain": [
       "<Figure size 432x288 with 1 Axes>"
      ]
     },
     "metadata": {
      "needs_background": "light"
     },
     "output_type": "display_data"
    }
   ],
   "source": [
    "import matplotlib.pyplot as plt\n",
    "\n",
    "xAxis = []\n",
    "yAxis = []\n",
    "\n",
    "for date in timeSplitDataNetScore:\n",
    "    xAxis.append(date)\n",
    "    yAxis.append(timeSplitDataNetScore[date])\n",
    "\n",
    "plt.plot(xAxis,yAxis, color='red', marker='o')\n",
    "plt.title('Reddit CryptoCurrency Sentimental Analysis')\n",
    "plt.xlabel('Month')\n",
    "plt.xticks(rotation=45)\n",
    "plt.ylabel('Net Sentiment')\n",
    "plt.grid(True)\n",
    "plt.show()"
   ]
  }
 ],
 "metadata": {
  "kernelspec": {
   "display_name": "Python 3 (ipykernel)",
   "language": "python",
   "name": "python3"
  },
  "language_info": {
   "codemirror_mode": {
    "name": "ipython",
    "version": 3
   },
   "file_extension": ".py",
   "mimetype": "text/x-python",
   "name": "python",
   "nbconvert_exporter": "python",
   "pygments_lexer": "ipython3",
   "version": "3.8.3"
  }
 },
 "nbformat": 4,
 "nbformat_minor": 5
}
