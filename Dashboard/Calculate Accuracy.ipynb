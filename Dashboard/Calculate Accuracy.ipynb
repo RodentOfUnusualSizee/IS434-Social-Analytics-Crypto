{
 "cells": [
  {
   "cell_type": "code",
   "execution_count": 16,
   "id": "8e3c605b",
   "metadata": {},
   "outputs": [
    {
     "name": "stdout",
     "output_type": "stream",
     "text": [
      "         Date  sentiment  changeSen\n",
      "0  2021-01-01   0.125934  -0.109870\n",
      "1  2021-02-01   0.112097   0.049781\n",
      "2  2021-03-01   0.117678   0.091044\n",
      "3  2021-04-01   0.128392  -0.155429\n",
      "4  2021-05-01   0.108436   0.243923\n",
      "5  2021-06-01   0.134886   0.189940\n",
      "6  2021-07-01   0.160506  -0.060958\n",
      "7  2021-08-01   0.150722  -0.053700\n",
      "8  2021-09-01   0.142628   0.016831\n",
      "9  2021-10-01   0.145029  -0.153827\n",
      "10 2021-11-01   0.122719  -0.082414\n",
      "11 2021-12-01   0.112605  -0.017533\n",
      "12 2022-01-01   0.110631   0.229142\n",
      "13 2022-02-01   0.135981   0.075208\n",
      "14 2022-03-01   0.146208        NaN\n",
      "None\n"
     ]
    }
   ],
   "source": [
    "import pandas as pd\n",
    "import json\n",
    "priceData = 'priceData/aave_price_data.csv'\n",
    "jsonFile = 'sentimentalOutput/discordGroup1.json'\n",
    "def calculateAccuracy(priceData,jsonFile):\n",
    "    monthlyPrice = pd.read_csv(priceData)\n",
    "    monthlyPrice = monthlyPrice[['Date','Price']]\n",
    "    monthlyPrice['Date'] = pd.to_datetime(monthlyPrice['Date'])\n",
    "    monthlyPrice['changePrice'] = monthlyPrice['Price'].pct_change(fill_method ='ffill')\n",
    "    with open(jsonFile) as json_file:\n",
    "        data = json.load(json_file)\n",
    "    date = []\n",
    "    senti = []\n",
    "    for key in data:\n",
    "        date.append(key)\n",
    "        senti.append(data[key])\n",
    "    s1={'Date':date,'sentiment':senti}\n",
    "    s1 = pd.DataFrame(s1)\n",
    "    \n",
    "    s1[\"Date\"] = pd.to_datetime(s1['Date'])\n",
    "    s1['changeSen'] = s1['sentiment'].pct_change(fill_method ='ffill')\n",
    "    s1['changeSen'] = s1['changeSen'][::-1].shift(periods=1)\n",
    "    print(s1)\n",
    "    new = s1.merge(monthlyPrice, on='Date')\n",
    "    compare = new[['changeSen','changePrice']]\n",
    "    compare = compare.dropna()\n",
    "    compare['changeSen'] = [True if x > 0 else False for x in compare['changeSen']]\n",
    "    compare['changePrice'] = [True if x > 0 else False for x in compare['changePrice']]\n",
    "    compare['res'] = compare['changePrice'] == compare['changeSen']\n",
    "    accuracy = compare['res'].mean()\n",
    "print(calculateAccuracy(priceData,jsonFile))"
   ]
  },
  {
   "cell_type": "code",
   "execution_count": null,
   "id": "c2508397",
   "metadata": {},
   "outputs": [],
   "source": []
  }
 ],
 "metadata": {
  "kernelspec": {
   "display_name": "Python 3 (ipykernel)",
   "language": "python",
   "name": "python3"
  },
  "language_info": {
   "codemirror_mode": {
    "name": "ipython",
    "version": 3
   },
   "file_extension": ".py",
   "mimetype": "text/x-python",
   "name": "python",
   "nbconvert_exporter": "python",
   "pygments_lexer": "ipython3",
   "version": "3.9.7"
  }
 },
 "nbformat": 4,
 "nbformat_minor": 5
}
