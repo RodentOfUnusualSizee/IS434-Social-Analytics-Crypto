{
 "cells": [
  {
   "cell_type": "code",
   "execution_count": 19,
   "id": "27af2557",
   "metadata": {},
   "outputs": [],
   "source": [
    "import pandas as pd\n",
    "import json\n",
    "def calculateAccuracy(priceData,jsonFile):\n",
    "    monthlyPrice = pd.read_csv(priceData)\n",
    "    monthlyPrice = monthlyPrice[['Date','Price']]\n",
    "    monthlyPrice['Date'] = pd.to_datetime(monthlyPrice['Date'])\n",
    "    monthlyPrice['changePrice'] = monthlyPrice['Price'].pct_change(fill_method ='ffill')\n",
    "    with open(jsonFile) as json_file:\n",
    "        data = json.load(json_file)\n",
    "    date = []\n",
    "    senti = []\n",
    "    for key in data:\n",
    "        date.append(key)\n",
    "        senti.append(data[key])\n",
    "    s1={'Date':date,'sentiment':senti}\n",
    "    s1 = pd.DataFrame(s1)\n",
    "    s1[\"Date\"] = pd.to_datetime(s1['Date'])\n",
    "    s1['changeSen'] = s1['sentiment'].pct_change(fill_method ='ffill')\n",
    "    s1['changeSen'] = s1['changeSen'][::-1].shift(periods=1)\n",
    "    new = s1.merge(monthlyPrice, on='Date')\n",
    "    compare = new[['changeSen','changePrice']]\n",
    "    compare = compare.dropna()\n",
    "    compare['changeSen'] = [True if x > 0 else False for x in compare['changeSen']]\n",
    "    compare['changePrice'] = [True if x > 0 else False for x in compare['changePrice']]\n",
    "    compare['res'] = compare['changePrice'] == compare['changeSen']\n",
    "    accuracy = compare['res'].mean()\n",
    "    return accuracy"
   ]
  },
  {
   "cell_type": "code",
   "execution_count": null,
   "id": "1486343a",
   "metadata": {},
   "outputs": [],
   "source": []
  }
 ],
 "metadata": {
  "kernelspec": {
   "display_name": "Python 3 (ipykernel)",
   "language": "python",
   "name": "python3"
  },
  "language_info": {
   "codemirror_mode": {
    "name": "ipython",
    "version": 3
   },
   "file_extension": ".py",
   "mimetype": "text/x-python",
   "name": "python",
   "nbconvert_exporter": "python",
   "pygments_lexer": "ipython3",
   "version": "3.9.7"
  }
 },
 "nbformat": 4,
 "nbformat_minor": 5
}
