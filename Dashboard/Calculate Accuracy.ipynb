{
 "cells": [
  {
   "cell_type": "code",
   "execution_count": 201,
   "id": "27af2557",
   "metadata": {},
   "outputs": [
    {
     "name": "stdout",
     "output_type": "stream",
     "text": [
      "0.8461538461538461\n"
     ]
    }
   ],
   "source": [
    "import pandas as pd\n",
    "import json\n",
    "priceData='priceData/maker_price_data.csv'\n",
    "jsonFile = 'sentimentalOutput/discordGroup1.json'\n",
    "def calculateAccuracy(priceData,jsonFile):\n",
    "    monthlyPrice = pd.read_csv(priceData)\n",
    "    if monthlyPrice['Price'].dtypes == 'object':\n",
    "        newPrice = []\n",
    "        for row in monthlyPrice.iterrows():\n",
    "            price = row[1][2]\n",
    "            if ',' in price:\n",
    "                price = price.split(',')\n",
    "                price = ''.join(price)\n",
    "                price = float(price)\n",
    "                newPrice.append(price)\n",
    "            else:\n",
    "                price = float(price)\n",
    "                newPrice.append(price)\n",
    "        monthlyPrice['Price'] = newPrice\n",
    "    monthlyPrice = monthlyPrice[['Date','Price']]\n",
    "    monthlyPrice['Date'] = pd.to_datetime(monthlyPrice['Date']).dt.to_period('M')\n",
    "    monthlyPrice = monthlyPrice.groupby(pd.Grouper(key='Date', axis=0)).max().reset_index()\n",
    "    monthlyPrice\n",
    "\n",
    "    with open(jsonFile) as json_file:\n",
    "        data = json.load(json_file)\n",
    "    date = []\n",
    "    senti = []\n",
    "    for key in data:\n",
    "        date.append(key)\n",
    "        senti.append(data[key])\n",
    "    s1={'Date':date,'sentiment':senti}\n",
    "    s1 = pd.DataFrame(s1)\n",
    "    s1[\"Date\"] = pd.to_datetime(s1['Date']).dt.to_period('M')\n",
    "    new = s1.merge(monthlyPrice, on='Date')\n",
    "    new['changePrice'] = new['Price'].pct_change(fill_method ='ffill')\n",
    "    new['changeSen'] = new['sentiment'].pct_change(fill_method ='ffill')\n",
    "    new['changeSen'] = new['changeSen'].shift(periods=1)\n",
    "    compare = new[['changeSen','changePrice']]\n",
    "    compare = compare.dropna()\n",
    "    compare['changeSen'] = [True if x > 0 else False for x in compare['changeSen']]\n",
    "    compare['changePrice'] = [True if x > 0 else False for x in compare['changePrice']]\n",
    "    compare['res'] = compare['changePrice'] == compare['changeSen']\n",
    "    accuracy = compare['res'].mean()\n",
    "    return accuracy\n",
    "print(calculateAccuracy(priceData,jsonFile))"
   ]
  }
 ],
 "metadata": {
  "kernelspec": {
   "display_name": "Python 3 (ipykernel)",
   "language": "python",
   "name": "python3"
  },
  "language_info": {
   "codemirror_mode": {
    "name": "ipython",
    "version": 3
   },
   "file_extension": ".py",
   "mimetype": "text/x-python",
   "name": "python",
   "nbconvert_exporter": "python",
   "pygments_lexer": "ipython3",
   "version": "3.9.7"
  }
 },
 "nbformat": 4,
 "nbformat_minor": 5
}
