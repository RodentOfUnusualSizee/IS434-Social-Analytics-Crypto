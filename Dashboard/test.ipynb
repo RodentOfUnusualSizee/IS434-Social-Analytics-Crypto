{
 "cells": [
  {
   "cell_type": "code",
   "execution_count": 2,
   "metadata": {},
   "outputs": [],
   "source": [
    "import pandas as pd\n",
    "import plotly.express as px"
   ]
  },
  {
   "cell_type": "code",
   "execution_count": 9,
   "metadata": {},
   "outputs": [
    {
     "data": {
      "application/vnd.plotly.v1+json": {
       "config": {
        "plotlyServerURL": "https://plotly.com"
       },
       "data": [
        {
         "hovertemplate": "Date=%{x}<br>Price=%{y}<extra></extra>",
         "legendgroup": "",
         "line": {
          "color": "#636efa",
          "dash": "solid"
         },
         "mode": "lines",
         "name": "",
         "orientation": "v",
         "showlegend": false,
         "type": "scatter",
         "x": [
          "Mar 07, 2022",
          "Mar 06, 2022",
          "Mar 05, 2022",
          "Mar 04, 2022",
          "Mar 03, 2022",
          "Mar 02, 2022",
          "Mar 01, 2022",
          "Feb 28, 2022",
          "Feb 27, 2022",
          "Feb 26, 2022",
          "Feb 25, 2022",
          "Feb 24, 2022",
          "Feb 23, 2022",
          "Feb 22, 2022",
          "Feb 21, 2022",
          "Feb 20, 2022",
          "Feb 19, 2022",
          "Feb 18, 2022",
          "Feb 17, 2022",
          "Feb 16, 2022",
          "Feb 15, 2022",
          "Feb 14, 2022",
          "Feb 13, 2022",
          "Feb 12, 2022",
          "Feb 11, 2022",
          "Feb 10, 2022",
          "Feb 09, 2022",
          "Feb 08, 2022",
          "Feb 07, 2022",
          "Feb 06, 2022",
          "Feb 05, 2022",
          "Feb 04, 2022",
          "Feb 03, 2022",
          "Feb 02, 2022",
          "Feb 01, 2022",
          "Jan 31, 2022",
          "Jan 30, 2022",
          "Jan 29, 2022",
          "Jan 28, 2022",
          "Jan 27, 2022",
          "Jan 26, 2022",
          "Jan 25, 2022",
          "Jan 24, 2022",
          "Jan 23, 2022",
          "Jan 22, 2022",
          "Jan 21, 2022",
          "Jan 20, 2022",
          "Jan 19, 2022",
          "Jan 18, 2022",
          "Jan 17, 2022",
          "Jan 16, 2022",
          "Jan 15, 2022",
          "Jan 14, 2022",
          "Jan 13, 2022",
          "Jan 12, 2022",
          "Jan 11, 2022",
          "Jan 10, 2022",
          "Jan 09, 2022",
          "Jan 08, 2022",
          "Jan 07, 2022",
          "Jan 06, 2022",
          "Jan 05, 2022",
          "Jan 04, 2022",
          "Jan 03, 2022",
          "Jan 02, 2022",
          "Jan 01, 2022",
          "Dec 31, 2021",
          "Dec 30, 2021",
          "Dec 29, 2021",
          "Dec 28, 2021",
          "Dec 27, 2021",
          "Dec 26, 2021",
          "Dec 25, 2021",
          "Dec 24, 2021",
          "Dec 23, 2021",
          "Dec 22, 2021",
          "Dec 21, 2021",
          "Dec 20, 2021",
          "Dec 19, 2021",
          "Dec 18, 2021",
          "Dec 17, 2021",
          "Dec 16, 2021",
          "Dec 15, 2021",
          "Dec 14, 2021",
          "Dec 13, 2021",
          "Dec 12, 2021",
          "Dec 11, 2021",
          "Dec 10, 2021",
          "Dec 09, 2021",
          "Dec 08, 2021",
          "Dec 07, 2021",
          "Dec 06, 2021",
          "Dec 05, 2021",
          "Dec 04, 2021",
          "Dec 03, 2021",
          "Dec 02, 2021",
          "Dec 01, 2021",
          "Nov 30, 2021",
          "Nov 29, 2021",
          "Nov 28, 2021",
          "Nov 27, 2021",
          "Nov 26, 2021",
          "Nov 25, 2021",
          "Nov 24, 2021",
          "Nov 23, 2021",
          "Nov 22, 2021",
          "Nov 21, 2021",
          "Nov 20, 2021",
          "Nov 19, 2021",
          "Nov 18, 2021",
          "Nov 17, 2021",
          "Nov 16, 2021",
          "Nov 15, 2021",
          "Nov 14, 2021",
          "Nov 13, 2021",
          "Nov 12, 2021",
          "Nov 11, 2021",
          "Nov 10, 2021",
          "Nov 09, 2021",
          "Nov 08, 2021",
          "Nov 07, 2021",
          "Nov 06, 2021",
          "Nov 05, 2021",
          "Nov 04, 2021",
          "Nov 03, 2021",
          "Nov 02, 2021",
          "Nov 01, 2021",
          "Oct 31, 2021",
          "Oct 30, 2021",
          "Oct 29, 2021",
          "Oct 28, 2021",
          "Oct 27, 2021",
          "Oct 26, 2021",
          "Oct 25, 2021",
          "Oct 24, 2021",
          "Oct 23, 2021",
          "Oct 22, 2021",
          "Oct 21, 2021",
          "Oct 20, 2021",
          "Oct 19, 2021",
          "Oct 18, 2021",
          "Oct 17, 2021",
          "Oct 16, 2021",
          "Oct 15, 2021",
          "Oct 14, 2021",
          "Oct 13, 2021",
          "Oct 12, 2021",
          "Oct 11, 2021",
          "Oct 10, 2021",
          "Oct 09, 2021",
          "Oct 08, 2021",
          "Oct 07, 2021",
          "Oct 06, 2021",
          "Oct 05, 2021",
          "Oct 04, 2021",
          "Oct 03, 2021",
          "Oct 02, 2021",
          "Oct 01, 2021",
          "Sep 30, 2021",
          "Sep 29, 2021",
          "Sep 28, 2021",
          "Sep 27, 2021",
          "Sep 26, 2021",
          "Sep 25, 2021",
          "Sep 24, 2021",
          "Sep 23, 2021",
          "Sep 22, 2021",
          "Sep 21, 2021",
          "Sep 20, 2021",
          "Sep 19, 2021",
          "Sep 18, 2021",
          "Sep 17, 2021",
          "Sep 16, 2021",
          "Sep 15, 2021",
          "Sep 14, 2021",
          "Sep 13, 2021",
          "Sep 12, 2021",
          "Sep 11, 2021",
          "Sep 10, 2021",
          "Sep 09, 2021",
          "Sep 08, 2021",
          "Sep 07, 2021",
          "Sep 06, 2021",
          "Sep 05, 2021",
          "Sep 04, 2021",
          "Sep 03, 2021",
          "Sep 02, 2021",
          "Sep 01, 2021",
          "Aug 31, 2021",
          "Aug 30, 2021",
          "Aug 29, 2021",
          "Aug 28, 2021",
          "Aug 27, 2021",
          "Aug 26, 2021",
          "Aug 25, 2021",
          "Aug 24, 2021",
          "Aug 23, 2021",
          "Aug 22, 2021",
          "Aug 21, 2021",
          "Aug 20, 2021",
          "Aug 19, 2021",
          "Aug 18, 2021",
          "Aug 17, 2021",
          "Aug 16, 2021",
          "Aug 15, 2021",
          "Aug 14, 2021",
          "Aug 13, 2021",
          "Aug 12, 2021",
          "Aug 11, 2021",
          "Aug 10, 2021",
          "Aug 09, 2021",
          "Aug 08, 2021",
          "Aug 07, 2021",
          "Aug 06, 2021",
          "Aug 05, 2021",
          "Aug 04, 2021",
          "Aug 03, 2021",
          "Aug 02, 2021",
          "Aug 01, 2021",
          "Jul 31, 2021",
          "Jul 30, 2021",
          "Jul 29, 2021",
          "Jul 28, 2021",
          "Jul 27, 2021",
          "Jul 26, 2021",
          "Jul 25, 2021",
          "Jul 24, 2021",
          "Jul 23, 2021",
          "Jul 22, 2021",
          "Jul 21, 2021",
          "Jul 20, 2021",
          "Jul 19, 2021",
          "Jul 18, 2021",
          "Jul 17, 2021",
          "Jul 16, 2021",
          "Jul 15, 2021",
          "Jul 14, 2021",
          "Jul 13, 2021",
          "Jul 12, 2021",
          "Jul 11, 2021",
          "Jul 10, 2021",
          "Jul 09, 2021",
          "Jul 08, 2021",
          "Jul 07, 2021",
          "Jul 06, 2021",
          "Jul 05, 2021",
          "Jul 04, 2021",
          "Jul 03, 2021",
          "Jul 02, 2021",
          "Jul 01, 2021",
          "Jun 30, 2021",
          "Jun 29, 2021",
          "Jun 28, 2021",
          "Jun 27, 2021",
          "Jun 26, 2021",
          "Jun 25, 2021",
          "Jun 24, 2021",
          "Jun 23, 2021",
          "Jun 22, 2021",
          "Jun 21, 2021",
          "Jun 20, 2021",
          "Jun 19, 2021",
          "Jun 18, 2021",
          "Jun 17, 2021",
          "Jun 16, 2021",
          "Jun 15, 2021",
          "Jun 14, 2021",
          "Jun 13, 2021",
          "Jun 12, 2021",
          "Jun 11, 2021",
          "Jun 10, 2021",
          "Jun 09, 2021",
          "Jun 08, 2021",
          "Jun 07, 2021",
          "Jun 06, 2021",
          "Jun 05, 2021",
          "Jun 04, 2021",
          "Jun 03, 2021",
          "Jun 02, 2021",
          "Jun 01, 2021"
         ],
         "xaxis": "x",
         "y": [
          123.4,
          116.6,
          124.6,
          124.2,
          129.99,
          137.51,
          143.2,
          145.9,
          131.6,
          136.29,
          139.5,
          125.48,
          130.64,
          134.33,
          128.52,
          137.08,
          146.21,
          145.6,
          153.1,
          170.3,
          172.38,
          161.07,
          157.87,
          162.11,
          163.37,
          175.38,
          187.88,
          183.71,
          181.31,
          173.39,
          166.38,
          166.99,
          152.79,
          151.35,
          163.61,
          157.79,
          149.11,
          153.7,
          148.99,
          144.52,
          146.28,
          151.92,
          152.1,
          158.5,
          146.91,
          171.38,
          198.81,
          210.3,
          232.6,
          226.6,
          242.61,
          238.61,
          223.9,
          209.13,
          218.19,
          213.37,
          200.09,
          209.31,
          211.7,
          211.2,
          221.3,
          230.55,
          252.03,
          266.51,
          265.3,
          266.52,
          254.01,
          262.88,
          236.27,
          252.3,
          277.16,
          268.09,
          263.96,
          270,
          247.23,
          206.48,
          186,
          180.68,
          183.31,
          193.28,
          186.72,
          174.18,
          173.2,
          169.5,
          162.28,
          179.9,
          180.53,
          166.96,
          177.13,
          202.9,
          186.9,
          185.1,
          191.59,
          203.19,
          225.98,
          244.8,
          250.7,
          256.5,
          249.79,
          238.9,
          232.73,
          232.01,
          262.61,
          254.5,
          269.91,
          263.78,
          267.18,
          274.09,
          279.19,
          262.51,
          284.6,
          278.3,
          301.69,
          315.11,
          312.5,
          308.38,
          312.11,
          312.8,
          336.47,
          331.81,
          319.61,
          318.19,
          326.6,
          333.21,
          324.31,
          324.23,
          324.03,
          314.02,
          318.1,
          327.71,
          338.38,
          324.51,
          329.17,
          313.12,
          307.7,
          324.09,
          310.26,
          314.95,
          316.48,
          303.6,
          294.21,
          304.4,
          304.5,
          301.31,
          303.67,
          297.57,
          283.99,
          290.6,
          288.09,
          306.91,
          307.31,
          305.68,
          311.79,
          307.78,
          300.93,
          310.5,
          314.36,
          302.57,
          276.49,
          265.2,
          260.82,
          273.13,
          293.83,
          274.39,
          280.77,
          308.82,
          301.79,
          270.56,
          291.01,
          340.09,
          355.38,
          353.98,
          384.04,
          416.32,
          383.67,
          330.83,
          333.48,
          328.44,
          312.1,
          330.02,
          329.98,
          344.63,
          408.6,
          416.79,
          397.8,
          394.9,
          399.61,
          413.19,
          392.08,
          357.69,
          364.12,
          367.09,
          372.61,
          350.12,
          384.21,
          378.16,
          408.31,
          400.96,
          399.84,
          409.19,
          405.18,
          380.47,
          381.24,
          412.95,
          410.28,
          414.5,
          427.5,
          392.05,
          402.88,
          384.22,
          374.34,
          360.73,
          385.16,
          369.25,
          372.78,
          339.01,
          308.28,
          320.55,
          316.49,
          330.81,
          320.47,
          311.5,
          297.72,
          300.19,
          302.76,
          287.96,
          291.11,
          289.76,
          278.42,
          259.05,
          223.25,
          238.22,
          254.14,
          252.69,
          253.67,
          271.85,
          279.42,
          271.19,
          297.1,
          304.49,
          294.58,
          303.23,
          293.12,
          314.94,
          316.74,
          308.63,
          277.09,
          261.15,
          234.23,
          230.82,
          250.53,
          236.61,
          226.52,
          203.04,
          186.96,
          187.1,
          211.3,
          207.88,
          205.9,
          213.44,
          272.85,
          254.75,
          264.31,
          293.18,
          290.41,
          312.49,
          318.16,
          316.37,
          278.24,
          285.2,
          310.08,
          338.47,
          330.12,
          334.92,
          365.29,
          356.64,
          372.98,
          397.38,
          384.14,
          372.55
         ],
         "yaxis": "y"
        }
       ],
       "layout": {
        "legend": {
         "tracegroupgap": 0
        },
        "margin": {
         "t": 60
        },
        "template": {
         "data": {
          "bar": [
           {
            "error_x": {
             "color": "#2a3f5f"
            },
            "error_y": {
             "color": "#2a3f5f"
            },
            "marker": {
             "line": {
              "color": "#E5ECF6",
              "width": 0.5
             },
             "pattern": {
              "fillmode": "overlay",
              "size": 10,
              "solidity": 0.2
             }
            },
            "type": "bar"
           }
          ],
          "barpolar": [
           {
            "marker": {
             "line": {
              "color": "#E5ECF6",
              "width": 0.5
             },
             "pattern": {
              "fillmode": "overlay",
              "size": 10,
              "solidity": 0.2
             }
            },
            "type": "barpolar"
           }
          ],
          "carpet": [
           {
            "aaxis": {
             "endlinecolor": "#2a3f5f",
             "gridcolor": "white",
             "linecolor": "white",
             "minorgridcolor": "white",
             "startlinecolor": "#2a3f5f"
            },
            "baxis": {
             "endlinecolor": "#2a3f5f",
             "gridcolor": "white",
             "linecolor": "white",
             "minorgridcolor": "white",
             "startlinecolor": "#2a3f5f"
            },
            "type": "carpet"
           }
          ],
          "choropleth": [
           {
            "colorbar": {
             "outlinewidth": 0,
             "ticks": ""
            },
            "type": "choropleth"
           }
          ],
          "contour": [
           {
            "colorbar": {
             "outlinewidth": 0,
             "ticks": ""
            },
            "colorscale": [
             [
              0,
              "#0d0887"
             ],
             [
              0.1111111111111111,
              "#46039f"
             ],
             [
              0.2222222222222222,
              "#7201a8"
             ],
             [
              0.3333333333333333,
              "#9c179e"
             ],
             [
              0.4444444444444444,
              "#bd3786"
             ],
             [
              0.5555555555555556,
              "#d8576b"
             ],
             [
              0.6666666666666666,
              "#ed7953"
             ],
             [
              0.7777777777777778,
              "#fb9f3a"
             ],
             [
              0.8888888888888888,
              "#fdca26"
             ],
             [
              1,
              "#f0f921"
             ]
            ],
            "type": "contour"
           }
          ],
          "contourcarpet": [
           {
            "colorbar": {
             "outlinewidth": 0,
             "ticks": ""
            },
            "type": "contourcarpet"
           }
          ],
          "heatmap": [
           {
            "colorbar": {
             "outlinewidth": 0,
             "ticks": ""
            },
            "colorscale": [
             [
              0,
              "#0d0887"
             ],
             [
              0.1111111111111111,
              "#46039f"
             ],
             [
              0.2222222222222222,
              "#7201a8"
             ],
             [
              0.3333333333333333,
              "#9c179e"
             ],
             [
              0.4444444444444444,
              "#bd3786"
             ],
             [
              0.5555555555555556,
              "#d8576b"
             ],
             [
              0.6666666666666666,
              "#ed7953"
             ],
             [
              0.7777777777777778,
              "#fb9f3a"
             ],
             [
              0.8888888888888888,
              "#fdca26"
             ],
             [
              1,
              "#f0f921"
             ]
            ],
            "type": "heatmap"
           }
          ],
          "heatmapgl": [
           {
            "colorbar": {
             "outlinewidth": 0,
             "ticks": ""
            },
            "colorscale": [
             [
              0,
              "#0d0887"
             ],
             [
              0.1111111111111111,
              "#46039f"
             ],
             [
              0.2222222222222222,
              "#7201a8"
             ],
             [
              0.3333333333333333,
              "#9c179e"
             ],
             [
              0.4444444444444444,
              "#bd3786"
             ],
             [
              0.5555555555555556,
              "#d8576b"
             ],
             [
              0.6666666666666666,
              "#ed7953"
             ],
             [
              0.7777777777777778,
              "#fb9f3a"
             ],
             [
              0.8888888888888888,
              "#fdca26"
             ],
             [
              1,
              "#f0f921"
             ]
            ],
            "type": "heatmapgl"
           }
          ],
          "histogram": [
           {
            "marker": {
             "pattern": {
              "fillmode": "overlay",
              "size": 10,
              "solidity": 0.2
             }
            },
            "type": "histogram"
           }
          ],
          "histogram2d": [
           {
            "colorbar": {
             "outlinewidth": 0,
             "ticks": ""
            },
            "colorscale": [
             [
              0,
              "#0d0887"
             ],
             [
              0.1111111111111111,
              "#46039f"
             ],
             [
              0.2222222222222222,
              "#7201a8"
             ],
             [
              0.3333333333333333,
              "#9c179e"
             ],
             [
              0.4444444444444444,
              "#bd3786"
             ],
             [
              0.5555555555555556,
              "#d8576b"
             ],
             [
              0.6666666666666666,
              "#ed7953"
             ],
             [
              0.7777777777777778,
              "#fb9f3a"
             ],
             [
              0.8888888888888888,
              "#fdca26"
             ],
             [
              1,
              "#f0f921"
             ]
            ],
            "type": "histogram2d"
           }
          ],
          "histogram2dcontour": [
           {
            "colorbar": {
             "outlinewidth": 0,
             "ticks": ""
            },
            "colorscale": [
             [
              0,
              "#0d0887"
             ],
             [
              0.1111111111111111,
              "#46039f"
             ],
             [
              0.2222222222222222,
              "#7201a8"
             ],
             [
              0.3333333333333333,
              "#9c179e"
             ],
             [
              0.4444444444444444,
              "#bd3786"
             ],
             [
              0.5555555555555556,
              "#d8576b"
             ],
             [
              0.6666666666666666,
              "#ed7953"
             ],
             [
              0.7777777777777778,
              "#fb9f3a"
             ],
             [
              0.8888888888888888,
              "#fdca26"
             ],
             [
              1,
              "#f0f921"
             ]
            ],
            "type": "histogram2dcontour"
           }
          ],
          "mesh3d": [
           {
            "colorbar": {
             "outlinewidth": 0,
             "ticks": ""
            },
            "type": "mesh3d"
           }
          ],
          "parcoords": [
           {
            "line": {
             "colorbar": {
              "outlinewidth": 0,
              "ticks": ""
             }
            },
            "type": "parcoords"
           }
          ],
          "pie": [
           {
            "automargin": true,
            "type": "pie"
           }
          ],
          "scatter": [
           {
            "marker": {
             "colorbar": {
              "outlinewidth": 0,
              "ticks": ""
             }
            },
            "type": "scatter"
           }
          ],
          "scatter3d": [
           {
            "line": {
             "colorbar": {
              "outlinewidth": 0,
              "ticks": ""
             }
            },
            "marker": {
             "colorbar": {
              "outlinewidth": 0,
              "ticks": ""
             }
            },
            "type": "scatter3d"
           }
          ],
          "scattercarpet": [
           {
            "marker": {
             "colorbar": {
              "outlinewidth": 0,
              "ticks": ""
             }
            },
            "type": "scattercarpet"
           }
          ],
          "scattergeo": [
           {
            "marker": {
             "colorbar": {
              "outlinewidth": 0,
              "ticks": ""
             }
            },
            "type": "scattergeo"
           }
          ],
          "scattergl": [
           {
            "marker": {
             "colorbar": {
              "outlinewidth": 0,
              "ticks": ""
             }
            },
            "type": "scattergl"
           }
          ],
          "scattermapbox": [
           {
            "marker": {
             "colorbar": {
              "outlinewidth": 0,
              "ticks": ""
             }
            },
            "type": "scattermapbox"
           }
          ],
          "scatterpolar": [
           {
            "marker": {
             "colorbar": {
              "outlinewidth": 0,
              "ticks": ""
             }
            },
            "type": "scatterpolar"
           }
          ],
          "scatterpolargl": [
           {
            "marker": {
             "colorbar": {
              "outlinewidth": 0,
              "ticks": ""
             }
            },
            "type": "scatterpolargl"
           }
          ],
          "scatterternary": [
           {
            "marker": {
             "colorbar": {
              "outlinewidth": 0,
              "ticks": ""
             }
            },
            "type": "scatterternary"
           }
          ],
          "surface": [
           {
            "colorbar": {
             "outlinewidth": 0,
             "ticks": ""
            },
            "colorscale": [
             [
              0,
              "#0d0887"
             ],
             [
              0.1111111111111111,
              "#46039f"
             ],
             [
              0.2222222222222222,
              "#7201a8"
             ],
             [
              0.3333333333333333,
              "#9c179e"
             ],
             [
              0.4444444444444444,
              "#bd3786"
             ],
             [
              0.5555555555555556,
              "#d8576b"
             ],
             [
              0.6666666666666666,
              "#ed7953"
             ],
             [
              0.7777777777777778,
              "#fb9f3a"
             ],
             [
              0.8888888888888888,
              "#fdca26"
             ],
             [
              1,
              "#f0f921"
             ]
            ],
            "type": "surface"
           }
          ],
          "table": [
           {
            "cells": {
             "fill": {
              "color": "#EBF0F8"
             },
             "line": {
              "color": "white"
             }
            },
            "header": {
             "fill": {
              "color": "#C8D4E3"
             },
             "line": {
              "color": "white"
             }
            },
            "type": "table"
           }
          ]
         },
         "layout": {
          "annotationdefaults": {
           "arrowcolor": "#2a3f5f",
           "arrowhead": 0,
           "arrowwidth": 1
          },
          "autotypenumbers": "strict",
          "coloraxis": {
           "colorbar": {
            "outlinewidth": 0,
            "ticks": ""
           }
          },
          "colorscale": {
           "diverging": [
            [
             0,
             "#8e0152"
            ],
            [
             0.1,
             "#c51b7d"
            ],
            [
             0.2,
             "#de77ae"
            ],
            [
             0.3,
             "#f1b6da"
            ],
            [
             0.4,
             "#fde0ef"
            ],
            [
             0.5,
             "#f7f7f7"
            ],
            [
             0.6,
             "#e6f5d0"
            ],
            [
             0.7,
             "#b8e186"
            ],
            [
             0.8,
             "#7fbc41"
            ],
            [
             0.9,
             "#4d9221"
            ],
            [
             1,
             "#276419"
            ]
           ],
           "sequential": [
            [
             0,
             "#0d0887"
            ],
            [
             0.1111111111111111,
             "#46039f"
            ],
            [
             0.2222222222222222,
             "#7201a8"
            ],
            [
             0.3333333333333333,
             "#9c179e"
            ],
            [
             0.4444444444444444,
             "#bd3786"
            ],
            [
             0.5555555555555556,
             "#d8576b"
            ],
            [
             0.6666666666666666,
             "#ed7953"
            ],
            [
             0.7777777777777778,
             "#fb9f3a"
            ],
            [
             0.8888888888888888,
             "#fdca26"
            ],
            [
             1,
             "#f0f921"
            ]
           ],
           "sequentialminus": [
            [
             0,
             "#0d0887"
            ],
            [
             0.1111111111111111,
             "#46039f"
            ],
            [
             0.2222222222222222,
             "#7201a8"
            ],
            [
             0.3333333333333333,
             "#9c179e"
            ],
            [
             0.4444444444444444,
             "#bd3786"
            ],
            [
             0.5555555555555556,
             "#d8576b"
            ],
            [
             0.6666666666666666,
             "#ed7953"
            ],
            [
             0.7777777777777778,
             "#fb9f3a"
            ],
            [
             0.8888888888888888,
             "#fdca26"
            ],
            [
             1,
             "#f0f921"
            ]
           ]
          },
          "colorway": [
           "#636efa",
           "#EF553B",
           "#00cc96",
           "#ab63fa",
           "#FFA15A",
           "#19d3f3",
           "#FF6692",
           "#B6E880",
           "#FF97FF",
           "#FECB52"
          ],
          "font": {
           "color": "#2a3f5f"
          },
          "geo": {
           "bgcolor": "white",
           "lakecolor": "white",
           "landcolor": "#E5ECF6",
           "showlakes": true,
           "showland": true,
           "subunitcolor": "white"
          },
          "hoverlabel": {
           "align": "left"
          },
          "hovermode": "closest",
          "mapbox": {
           "style": "light"
          },
          "paper_bgcolor": "white",
          "plot_bgcolor": "#E5ECF6",
          "polar": {
           "angularaxis": {
            "gridcolor": "white",
            "linecolor": "white",
            "ticks": ""
           },
           "bgcolor": "#E5ECF6",
           "radialaxis": {
            "gridcolor": "white",
            "linecolor": "white",
            "ticks": ""
           }
          },
          "scene": {
           "xaxis": {
            "backgroundcolor": "#E5ECF6",
            "gridcolor": "white",
            "gridwidth": 2,
            "linecolor": "white",
            "showbackground": true,
            "ticks": "",
            "zerolinecolor": "white"
           },
           "yaxis": {
            "backgroundcolor": "#E5ECF6",
            "gridcolor": "white",
            "gridwidth": 2,
            "linecolor": "white",
            "showbackground": true,
            "ticks": "",
            "zerolinecolor": "white"
           },
           "zaxis": {
            "backgroundcolor": "#E5ECF6",
            "gridcolor": "white",
            "gridwidth": 2,
            "linecolor": "white",
            "showbackground": true,
            "ticks": "",
            "zerolinecolor": "white"
           }
          },
          "shapedefaults": {
           "line": {
            "color": "#2a3f5f"
           }
          },
          "ternary": {
           "aaxis": {
            "gridcolor": "white",
            "linecolor": "white",
            "ticks": ""
           },
           "baxis": {
            "gridcolor": "white",
            "linecolor": "white",
            "ticks": ""
           },
           "bgcolor": "#E5ECF6",
           "caxis": {
            "gridcolor": "white",
            "linecolor": "white",
            "ticks": ""
           }
          },
          "title": {
           "x": 0.05
          },
          "xaxis": {
           "automargin": true,
           "gridcolor": "white",
           "linecolor": "white",
           "ticks": "",
           "title": {
            "standoff": 15
           },
           "zerolinecolor": "white",
           "zerolinewidth": 2
          },
          "yaxis": {
           "automargin": true,
           "gridcolor": "white",
           "linecolor": "white",
           "ticks": "",
           "title": {
            "standoff": 15
           },
           "zerolinecolor": "white",
           "zerolinewidth": 2
          }
         }
        },
        "xaxis": {
         "anchor": "y",
         "domain": [
          0,
          1
         ],
         "tickmode": "array",
         "ticktext": [
          "Mar 2022",
          "Feb 2022",
          "Jan 2022",
          "Dec 2021",
          "Nov 2021",
          "Oct 2021",
          "Sep 2021",
          "Aug 2021",
          "July 2021",
          "June 2021"
         ],
         "tickvals": [
          "Mar 01, 2022",
          "Feb 05, 2022",
          "Jan 06, 2022",
          "Dec 01, 2021",
          "Nov 01, 2021",
          "Oct 02, 2021",
          "Sep 02, 2021",
          "Aug 03, 2021",
          "Jul 04, 2021",
          "Jun 04, 2021"
         ],
         "title": {
          "text": "Date"
         }
        },
        "yaxis": {
         "anchor": "x",
         "domain": [
          0,
          1
         ],
         "title": {
          "text": "Price"
         }
        }
       }
      }
     },
     "metadata": {},
     "output_type": "display_data"
    }
   ],
   "source": [
    "df = pd.read_csv(\"aave_price_data.csv\")\n",
    "fig = px.line(df, x=\"Date\", y=\"Price\")\n",
    "\n",
    "# template=\"plotly_dark\"\n",
    "\n",
    "fig.update_layout(\n",
    "    xaxis = dict(\n",
    "        tickmode = \"array\",\n",
    "        tickvals = ['Mar 01, 2022', 'Feb 05, 2022', 'Jan 06, 2022', 'Dec 01, 2021',\n",
    "                    'Nov 01, 2021', 'Oct 02, 2021', 'Sep 02, 2021', 'Aug 03, 2021',\n",
    "                    'Jul 04, 2021', 'Jun 04, 2021'],\n",
    "        ticktext = ['Mar 2022', 'Feb 2022', 'Jan 2022', 'Dec 2021',\n",
    "                    'Nov 2021', 'Oct 2021', 'Sep 2021', 'Aug 2021',\n",
    "                    'July 2021', 'June 2021']\n",
    "    )\n",
    ")\n",
    "\n",
    "# # chart line color red\n",
    "# fig.update_traces(line_color='#FF0000')\n",
    "\n",
    "fig.show()"
   ]
  },
  {
   "cell_type": "code",
   "execution_count": 3,
   "metadata": {},
   "outputs": [
    {
     "data": {
      "application/vnd.plotly.v1+json": {
       "config": {
        "plotlyServerURL": "https://plotly.com"
       },
       "data": [
        {
         "hovertemplate": "Date=%{x}<br>Price=%{y}<extra></extra>",
         "legendgroup": "",
         "line": {
          "color": "#636efa",
          "dash": "solid"
         },
         "mode": "lines",
         "name": "",
         "orientation": "v",
         "showlegend": false,
         "type": "scatter",
         "x": [
          "Mar 07, 2022",
          "Mar 06, 2022",
          "Mar 05, 2022",
          "Mar 04, 2022",
          "Mar 03, 2022",
          "Mar 02, 2022",
          "Mar 01, 2022",
          "Feb 28, 2022",
          "Feb 27, 2022",
          "Feb 26, 2022",
          "Feb 25, 2022",
          "Feb 24, 2022",
          "Feb 23, 2022",
          "Feb 22, 2022",
          "Feb 21, 2022",
          "Feb 20, 2022",
          "Feb 19, 2022",
          "Feb 18, 2022",
          "Feb 17, 2022",
          "Feb 16, 2022",
          "Feb 15, 2022",
          "Feb 14, 2022",
          "Feb 13, 2022",
          "Feb 12, 2022",
          "Feb 11, 2022",
          "Feb 10, 2022",
          "Feb 09, 2022",
          "Feb 08, 2022",
          "Feb 07, 2022",
          "Feb 06, 2022",
          "Feb 05, 2022",
          "Feb 04, 2022",
          "Feb 03, 2022",
          "Feb 02, 2022",
          "Feb 01, 2022",
          "Jan 31, 2022",
          "Jan 30, 2022",
          "Jan 29, 2022",
          "Jan 28, 2022",
          "Jan 27, 2022",
          "Jan 26, 2022",
          "Jan 25, 2022",
          "Jan 24, 2022",
          "Jan 23, 2022",
          "Jan 22, 2022",
          "Jan 21, 2022",
          "Jan 20, 2022",
          "Jan 19, 2022",
          "Jan 18, 2022",
          "Jan 17, 2022",
          "Jan 16, 2022",
          "Jan 15, 2022",
          "Jan 14, 2022",
          "Jan 13, 2022",
          "Jan 12, 2022",
          "Jan 11, 2022",
          "Jan 10, 2022",
          "Jan 09, 2022",
          "Jan 08, 2022",
          "Jan 07, 2022",
          "Jan 06, 2022",
          "Jan 05, 2022",
          "Jan 04, 2022",
          "Jan 03, 2022",
          "Jan 02, 2022",
          "Jan 01, 2022",
          "Dec 31, 2021",
          "Dec 30, 2021",
          "Dec 29, 2021",
          "Dec 28, 2021",
          "Dec 27, 2021",
          "Dec 26, 2021",
          "Dec 25, 2021",
          "Dec 24, 2021",
          "Dec 23, 2021",
          "Dec 22, 2021",
          "Dec 21, 2021",
          "Dec 20, 2021",
          "Dec 19, 2021",
          "Dec 18, 2021",
          "Dec 17, 2021",
          "Dec 16, 2021",
          "Dec 15, 2021",
          "Dec 14, 2021",
          "Dec 13, 2021",
          "Dec 12, 2021",
          "Dec 11, 2021",
          "Dec 10, 2021",
          "Dec 09, 2021",
          "Dec 08, 2021",
          "Dec 07, 2021",
          "Dec 06, 2021",
          "Dec 05, 2021",
          "Dec 04, 2021",
          "Dec 03, 2021",
          "Dec 02, 2021",
          "Dec 01, 2021",
          "Nov 30, 2021",
          "Nov 29, 2021",
          "Nov 28, 2021",
          "Nov 27, 2021",
          "Nov 26, 2021",
          "Nov 25, 2021",
          "Nov 24, 2021",
          "Nov 23, 2021",
          "Nov 22, 2021",
          "Nov 21, 2021",
          "Nov 20, 2021",
          "Nov 19, 2021",
          "Nov 18, 2021",
          "Nov 17, 2021",
          "Nov 16, 2021",
          "Nov 15, 2021",
          "Nov 14, 2021",
          "Nov 13, 2021",
          "Nov 12, 2021",
          "Nov 11, 2021",
          "Nov 10, 2021",
          "Nov 09, 2021",
          "Nov 08, 2021",
          "Nov 07, 2021",
          "Nov 06, 2021",
          "Nov 05, 2021",
          "Nov 04, 2021",
          "Nov 03, 2021",
          "Nov 02, 2021",
          "Nov 01, 2021",
          "Oct 31, 2021",
          "Oct 30, 2021",
          "Oct 29, 2021",
          "Oct 28, 2021",
          "Oct 27, 2021",
          "Oct 26, 2021",
          "Oct 25, 2021",
          "Oct 24, 2021",
          "Oct 23, 2021",
          "Oct 22, 2021",
          "Oct 21, 2021",
          "Oct 20, 2021",
          "Oct 19, 2021",
          "Oct 18, 2021",
          "Oct 17, 2021",
          "Oct 16, 2021",
          "Oct 15, 2021",
          "Oct 14, 2021",
          "Oct 13, 2021",
          "Oct 12, 2021",
          "Oct 11, 2021",
          "Oct 10, 2021",
          "Oct 09, 2021",
          "Oct 08, 2021",
          "Oct 07, 2021",
          "Oct 06, 2021",
          "Oct 05, 2021",
          "Oct 04, 2021",
          "Oct 03, 2021",
          "Oct 02, 2021",
          "Oct 01, 2021",
          "Sep 30, 2021",
          "Sep 29, 2021",
          "Sep 28, 2021",
          "Sep 27, 2021",
          "Sep 26, 2021",
          "Sep 25, 2021",
          "Sep 24, 2021",
          "Sep 23, 2021",
          "Sep 22, 2021",
          "Sep 21, 2021",
          "Sep 20, 2021",
          "Sep 19, 2021",
          "Sep 18, 2021",
          "Sep 17, 2021",
          "Sep 16, 2021",
          "Sep 15, 2021",
          "Sep 14, 2021",
          "Sep 13, 2021",
          "Sep 12, 2021",
          "Sep 11, 2021",
          "Sep 10, 2021",
          "Sep 09, 2021",
          "Sep 08, 2021",
          "Sep 07, 2021",
          "Sep 06, 2021",
          "Sep 05, 2021",
          "Sep 04, 2021",
          "Sep 03, 2021",
          "Sep 02, 2021",
          "Sep 01, 2021",
          "Aug 31, 2021",
          "Aug 30, 2021",
          "Aug 29, 2021",
          "Aug 28, 2021",
          "Aug 27, 2021",
          "Aug 26, 2021",
          "Aug 25, 2021",
          "Aug 24, 2021",
          "Aug 23, 2021",
          "Aug 22, 2021",
          "Aug 21, 2021",
          "Aug 20, 2021",
          "Aug 19, 2021",
          "Aug 18, 2021",
          "Aug 17, 2021",
          "Aug 16, 2021",
          "Aug 15, 2021",
          "Aug 14, 2021",
          "Aug 13, 2021",
          "Aug 12, 2021",
          "Aug 11, 2021",
          "Aug 10, 2021",
          "Aug 09, 2021",
          "Aug 08, 2021",
          "Aug 07, 2021",
          "Aug 06, 2021",
          "Aug 05, 2021",
          "Aug 04, 2021",
          "Aug 03, 2021",
          "Aug 02, 2021",
          "Aug 01, 2021",
          "Jul 31, 2021",
          "Jul 30, 2021",
          "Jul 29, 2021",
          "Jul 28, 2021",
          "Jul 27, 2021",
          "Jul 26, 2021",
          "Jul 25, 2021",
          "Jul 24, 2021",
          "Jul 23, 2021",
          "Jul 22, 2021",
          "Jul 21, 2021",
          "Jul 20, 2021",
          "Jul 19, 2021",
          "Jul 18, 2021",
          "Jul 17, 2021",
          "Jul 16, 2021",
          "Jul 15, 2021",
          "Jul 14, 2021",
          "Jul 13, 2021",
          "Jul 12, 2021",
          "Jul 11, 2021",
          "Jul 10, 2021",
          "Jul 09, 2021",
          "Jul 08, 2021",
          "Jul 07, 2021",
          "Jul 06, 2021",
          "Jul 05, 2021",
          "Jul 04, 2021",
          "Jul 03, 2021",
          "Jul 02, 2021",
          "Jul 01, 2021",
          "Jun 30, 2021",
          "Jun 29, 2021",
          "Jun 28, 2021",
          "Jun 27, 2021",
          "Jun 26, 2021",
          "Jun 25, 2021",
          "Jun 24, 2021",
          "Jun 23, 2021",
          "Jun 22, 2021",
          "Jun 21, 2021",
          "Jun 20, 2021",
          "Jun 19, 2021",
          "Jun 18, 2021",
          "Jun 17, 2021",
          "Jun 16, 2021",
          "Jun 15, 2021",
          "Jun 14, 2021",
          "Jun 13, 2021",
          "Jun 12, 2021",
          "Jun 11, 2021",
          "Jun 10, 2021",
          "Jun 09, 2021",
          "Jun 08, 2021",
          "Jun 07, 2021",
          "Jun 06, 2021",
          "Jun 05, 2021",
          "Jun 04, 2021",
          "Jun 03, 2021",
          "Jun 02, 2021",
          "Jun 01, 2021"
         ],
         "xaxis": "x",
         "y": [
          8.32,
          8.48,
          9.02,
          8.79,
          9.55,
          10.04,
          10.35,
          10.54,
          9.76,
          9.04,
          9.24,
          8.81,
          8.72,
          8.86,
          8.51,
          9.34,
          10.02,
          10.16,
          10.41,
          11.21,
          11.47,
          10.61,
          10.34,
          10.65,
          10.66,
          11.41,
          12.32,
          11.93,
          12.34,
          11.68,
          11.25,
          11.19,
          10.39,
          10.52,
          11.1,
          11.77,
          10.8,
          11.13,
          10.68,
          10.3,
          10.56,
          10.59,
          10.67,
          11.42,
          11.15,
          12.67,
          14.48,
          15.12,
          16,
          16.64,
          17.82,
          16.48,
          15.86,
          15.43,
          16.28,
          15.96,
          15.12,
          15.8,
          14.93,
          15.73,
          17.09,
          17.11,
          18.22,
          18.45,
          18.41,
          17.47,
          17.02,
          17.8,
          17.13,
          18.38,
          19.09,
          18.65,
          17.46,
          17.48,
          18.16,
          16.23,
          15.07,
          14.49,
          14.96,
          15.58,
          15,
          14.41,
          15.18,
          15,
          14.16,
          16.04,
          15.87,
          15.14,
          16.18,
          18.69,
          17.16,
          17.34,
          16.53,
          17.23,
          19.96,
          22.45,
          20.95,
          21.25,
          20.28,
          20.16,
          19.5,
          19.19,
          21.36,
          20.82,
          22.22,
          20.96,
          21.62,
          22.02,
          21.2,
          20.11,
          21.9,
          21.69,
          24,
          24.57,
          24.66,
          24.57,
          25.4,
          25.34,
          26.35,
          26.25,
          25.29,
          25.15,
          25.57,
          25.77,
          26.83,
          26.17,
          25.62,
          24.99,
          24.89,
          25.53,
          24.89,
          24.13,
          26.57,
          26.73,
          25.79,
          26.85,
          25.63,
          26.1,
          27.12,
          26.03,
          25.66,
          25.91,
          27.03,
          25.89,
          26.41,
          24.68,
          23.45,
          24.17,
          24.17,
          25.14,
          24.76,
          25.5,
          25.24,
          25.64,
          25.34,
          26,
          26.15,
          25.64,
          23.54,
          23.02,
          23.08,
          22.38,
          24.09,
          19.47,
          19.66,
          21.5,
          21.63,
          19.01,
          20.9,
          23.89,
          24.53,
          24.28,
          26.23,
          27.45,
          25.62,
          22.66,
          23.73,
          22.72,
          22.3,
          23.29,
          23.13,
          24.2,
          28.83,
          29.35,
          28.56,
          28.63,
          29.94,
          31.33,
          29.4,
          26.81,
          26.78,
          26.8,
          27.41,
          25.51,
          27.049,
          26.634,
          28.775,
          28.409,
          28.235,
          28.886,
          27.962,
          26.299,
          26.409,
          29.095,
          30.253,
          30.118,
          30.557,
          28.059,
          28.999,
          28.755,
          28.368,
          26.709,
          28.309,
          26.148,
          25.435,
          23.533,
          21.326,
          22.382,
          22.007,
          21.746,
          20.908,
          19.58,
          19.012,
          18.894,
          18.527,
          18.27,
          18.463,
          18.594,
          17.578,
          16.694,
          14.554,
          15.712,
          16.312,
          16.098,
          16.342,
          17.077,
          17.891,
          18.446,
          19.576,
          20.669,
          20.254,
          20.976,
          20.442,
          22.259,
          22.297,
          20.072,
          20.773,
          19.033,
          18.224,
          17.824,
          19.258,
          18.537,
          17.69,
          17.072,
          16.113,
          15.88,
          18.051,
          17.8,
          16.366,
          15.871,
          20.705,
          19.783,
          20.354,
          22.169,
          21.811,
          23.439,
          24.155,
          23.264,
          21.248,
          21.85,
          23.56,
          25.105,
          23.429,
          24.212,
          25.85,
          25.614,
          26.42,
          28.664,
          27.626,
          27.413
         ],
         "yaxis": "y"
        }
       ],
       "layout": {
        "legend": {
         "tracegroupgap": 0
        },
        "margin": {
         "t": 60
        },
        "template": {
         "data": {
          "bar": [
           {
            "error_x": {
             "color": "#2a3f5f"
            },
            "error_y": {
             "color": "#2a3f5f"
            },
            "marker": {
             "line": {
              "color": "#E5ECF6",
              "width": 0.5
             },
             "pattern": {
              "fillmode": "overlay",
              "size": 10,
              "solidity": 0.2
             }
            },
            "type": "bar"
           }
          ],
          "barpolar": [
           {
            "marker": {
             "line": {
              "color": "#E5ECF6",
              "width": 0.5
             },
             "pattern": {
              "fillmode": "overlay",
              "size": 10,
              "solidity": 0.2
             }
            },
            "type": "barpolar"
           }
          ],
          "carpet": [
           {
            "aaxis": {
             "endlinecolor": "#2a3f5f",
             "gridcolor": "white",
             "linecolor": "white",
             "minorgridcolor": "white",
             "startlinecolor": "#2a3f5f"
            },
            "baxis": {
             "endlinecolor": "#2a3f5f",
             "gridcolor": "white",
             "linecolor": "white",
             "minorgridcolor": "white",
             "startlinecolor": "#2a3f5f"
            },
            "type": "carpet"
           }
          ],
          "choropleth": [
           {
            "colorbar": {
             "outlinewidth": 0,
             "ticks": ""
            },
            "type": "choropleth"
           }
          ],
          "contour": [
           {
            "colorbar": {
             "outlinewidth": 0,
             "ticks": ""
            },
            "colorscale": [
             [
              0,
              "#0d0887"
             ],
             [
              0.1111111111111111,
              "#46039f"
             ],
             [
              0.2222222222222222,
              "#7201a8"
             ],
             [
              0.3333333333333333,
              "#9c179e"
             ],
             [
              0.4444444444444444,
              "#bd3786"
             ],
             [
              0.5555555555555556,
              "#d8576b"
             ],
             [
              0.6666666666666666,
              "#ed7953"
             ],
             [
              0.7777777777777778,
              "#fb9f3a"
             ],
             [
              0.8888888888888888,
              "#fdca26"
             ],
             [
              1,
              "#f0f921"
             ]
            ],
            "type": "contour"
           }
          ],
          "contourcarpet": [
           {
            "colorbar": {
             "outlinewidth": 0,
             "ticks": ""
            },
            "type": "contourcarpet"
           }
          ],
          "heatmap": [
           {
            "colorbar": {
             "outlinewidth": 0,
             "ticks": ""
            },
            "colorscale": [
             [
              0,
              "#0d0887"
             ],
             [
              0.1111111111111111,
              "#46039f"
             ],
             [
              0.2222222222222222,
              "#7201a8"
             ],
             [
              0.3333333333333333,
              "#9c179e"
             ],
             [
              0.4444444444444444,
              "#bd3786"
             ],
             [
              0.5555555555555556,
              "#d8576b"
             ],
             [
              0.6666666666666666,
              "#ed7953"
             ],
             [
              0.7777777777777778,
              "#fb9f3a"
             ],
             [
              0.8888888888888888,
              "#fdca26"
             ],
             [
              1,
              "#f0f921"
             ]
            ],
            "type": "heatmap"
           }
          ],
          "heatmapgl": [
           {
            "colorbar": {
             "outlinewidth": 0,
             "ticks": ""
            },
            "colorscale": [
             [
              0,
              "#0d0887"
             ],
             [
              0.1111111111111111,
              "#46039f"
             ],
             [
              0.2222222222222222,
              "#7201a8"
             ],
             [
              0.3333333333333333,
              "#9c179e"
             ],
             [
              0.4444444444444444,
              "#bd3786"
             ],
             [
              0.5555555555555556,
              "#d8576b"
             ],
             [
              0.6666666666666666,
              "#ed7953"
             ],
             [
              0.7777777777777778,
              "#fb9f3a"
             ],
             [
              0.8888888888888888,
              "#fdca26"
             ],
             [
              1,
              "#f0f921"
             ]
            ],
            "type": "heatmapgl"
           }
          ],
          "histogram": [
           {
            "marker": {
             "pattern": {
              "fillmode": "overlay",
              "size": 10,
              "solidity": 0.2
             }
            },
            "type": "histogram"
           }
          ],
          "histogram2d": [
           {
            "colorbar": {
             "outlinewidth": 0,
             "ticks": ""
            },
            "colorscale": [
             [
              0,
              "#0d0887"
             ],
             [
              0.1111111111111111,
              "#46039f"
             ],
             [
              0.2222222222222222,
              "#7201a8"
             ],
             [
              0.3333333333333333,
              "#9c179e"
             ],
             [
              0.4444444444444444,
              "#bd3786"
             ],
             [
              0.5555555555555556,
              "#d8576b"
             ],
             [
              0.6666666666666666,
              "#ed7953"
             ],
             [
              0.7777777777777778,
              "#fb9f3a"
             ],
             [
              0.8888888888888888,
              "#fdca26"
             ],
             [
              1,
              "#f0f921"
             ]
            ],
            "type": "histogram2d"
           }
          ],
          "histogram2dcontour": [
           {
            "colorbar": {
             "outlinewidth": 0,
             "ticks": ""
            },
            "colorscale": [
             [
              0,
              "#0d0887"
             ],
             [
              0.1111111111111111,
              "#46039f"
             ],
             [
              0.2222222222222222,
              "#7201a8"
             ],
             [
              0.3333333333333333,
              "#9c179e"
             ],
             [
              0.4444444444444444,
              "#bd3786"
             ],
             [
              0.5555555555555556,
              "#d8576b"
             ],
             [
              0.6666666666666666,
              "#ed7953"
             ],
             [
              0.7777777777777778,
              "#fb9f3a"
             ],
             [
              0.8888888888888888,
              "#fdca26"
             ],
             [
              1,
              "#f0f921"
             ]
            ],
            "type": "histogram2dcontour"
           }
          ],
          "mesh3d": [
           {
            "colorbar": {
             "outlinewidth": 0,
             "ticks": ""
            },
            "type": "mesh3d"
           }
          ],
          "parcoords": [
           {
            "line": {
             "colorbar": {
              "outlinewidth": 0,
              "ticks": ""
             }
            },
            "type": "parcoords"
           }
          ],
          "pie": [
           {
            "automargin": true,
            "type": "pie"
           }
          ],
          "scatter": [
           {
            "marker": {
             "colorbar": {
              "outlinewidth": 0,
              "ticks": ""
             }
            },
            "type": "scatter"
           }
          ],
          "scatter3d": [
           {
            "line": {
             "colorbar": {
              "outlinewidth": 0,
              "ticks": ""
             }
            },
            "marker": {
             "colorbar": {
              "outlinewidth": 0,
              "ticks": ""
             }
            },
            "type": "scatter3d"
           }
          ],
          "scattercarpet": [
           {
            "marker": {
             "colorbar": {
              "outlinewidth": 0,
              "ticks": ""
             }
            },
            "type": "scattercarpet"
           }
          ],
          "scattergeo": [
           {
            "marker": {
             "colorbar": {
              "outlinewidth": 0,
              "ticks": ""
             }
            },
            "type": "scattergeo"
           }
          ],
          "scattergl": [
           {
            "marker": {
             "colorbar": {
              "outlinewidth": 0,
              "ticks": ""
             }
            },
            "type": "scattergl"
           }
          ],
          "scattermapbox": [
           {
            "marker": {
             "colorbar": {
              "outlinewidth": 0,
              "ticks": ""
             }
            },
            "type": "scattermapbox"
           }
          ],
          "scatterpolar": [
           {
            "marker": {
             "colorbar": {
              "outlinewidth": 0,
              "ticks": ""
             }
            },
            "type": "scatterpolar"
           }
          ],
          "scatterpolargl": [
           {
            "marker": {
             "colorbar": {
              "outlinewidth": 0,
              "ticks": ""
             }
            },
            "type": "scatterpolargl"
           }
          ],
          "scatterternary": [
           {
            "marker": {
             "colorbar": {
              "outlinewidth": 0,
              "ticks": ""
             }
            },
            "type": "scatterternary"
           }
          ],
          "surface": [
           {
            "colorbar": {
             "outlinewidth": 0,
             "ticks": ""
            },
            "colorscale": [
             [
              0,
              "#0d0887"
             ],
             [
              0.1111111111111111,
              "#46039f"
             ],
             [
              0.2222222222222222,
              "#7201a8"
             ],
             [
              0.3333333333333333,
              "#9c179e"
             ],
             [
              0.4444444444444444,
              "#bd3786"
             ],
             [
              0.5555555555555556,
              "#d8576b"
             ],
             [
              0.6666666666666666,
              "#ed7953"
             ],
             [
              0.7777777777777778,
              "#fb9f3a"
             ],
             [
              0.8888888888888888,
              "#fdca26"
             ],
             [
              1,
              "#f0f921"
             ]
            ],
            "type": "surface"
           }
          ],
          "table": [
           {
            "cells": {
             "fill": {
              "color": "#EBF0F8"
             },
             "line": {
              "color": "white"
             }
            },
            "header": {
             "fill": {
              "color": "#C8D4E3"
             },
             "line": {
              "color": "white"
             }
            },
            "type": "table"
           }
          ]
         },
         "layout": {
          "annotationdefaults": {
           "arrowcolor": "#2a3f5f",
           "arrowhead": 0,
           "arrowwidth": 1
          },
          "autotypenumbers": "strict",
          "coloraxis": {
           "colorbar": {
            "outlinewidth": 0,
            "ticks": ""
           }
          },
          "colorscale": {
           "diverging": [
            [
             0,
             "#8e0152"
            ],
            [
             0.1,
             "#c51b7d"
            ],
            [
             0.2,
             "#de77ae"
            ],
            [
             0.3,
             "#f1b6da"
            ],
            [
             0.4,
             "#fde0ef"
            ],
            [
             0.5,
             "#f7f7f7"
            ],
            [
             0.6,
             "#e6f5d0"
            ],
            [
             0.7,
             "#b8e186"
            ],
            [
             0.8,
             "#7fbc41"
            ],
            [
             0.9,
             "#4d9221"
            ],
            [
             1,
             "#276419"
            ]
           ],
           "sequential": [
            [
             0,
             "#0d0887"
            ],
            [
             0.1111111111111111,
             "#46039f"
            ],
            [
             0.2222222222222222,
             "#7201a8"
            ],
            [
             0.3333333333333333,
             "#9c179e"
            ],
            [
             0.4444444444444444,
             "#bd3786"
            ],
            [
             0.5555555555555556,
             "#d8576b"
            ],
            [
             0.6666666666666666,
             "#ed7953"
            ],
            [
             0.7777777777777778,
             "#fb9f3a"
            ],
            [
             0.8888888888888888,
             "#fdca26"
            ],
            [
             1,
             "#f0f921"
            ]
           ],
           "sequentialminus": [
            [
             0,
             "#0d0887"
            ],
            [
             0.1111111111111111,
             "#46039f"
            ],
            [
             0.2222222222222222,
             "#7201a8"
            ],
            [
             0.3333333333333333,
             "#9c179e"
            ],
            [
             0.4444444444444444,
             "#bd3786"
            ],
            [
             0.5555555555555556,
             "#d8576b"
            ],
            [
             0.6666666666666666,
             "#ed7953"
            ],
            [
             0.7777777777777778,
             "#fb9f3a"
            ],
            [
             0.8888888888888888,
             "#fdca26"
            ],
            [
             1,
             "#f0f921"
            ]
           ]
          },
          "colorway": [
           "#636efa",
           "#EF553B",
           "#00cc96",
           "#ab63fa",
           "#FFA15A",
           "#19d3f3",
           "#FF6692",
           "#B6E880",
           "#FF97FF",
           "#FECB52"
          ],
          "font": {
           "color": "#2a3f5f"
          },
          "geo": {
           "bgcolor": "white",
           "lakecolor": "white",
           "landcolor": "#E5ECF6",
           "showlakes": true,
           "showland": true,
           "subunitcolor": "white"
          },
          "hoverlabel": {
           "align": "left"
          },
          "hovermode": "closest",
          "mapbox": {
           "style": "light"
          },
          "paper_bgcolor": "white",
          "plot_bgcolor": "#E5ECF6",
          "polar": {
           "angularaxis": {
            "gridcolor": "white",
            "linecolor": "white",
            "ticks": ""
           },
           "bgcolor": "#E5ECF6",
           "radialaxis": {
            "gridcolor": "white",
            "linecolor": "white",
            "ticks": ""
           }
          },
          "scene": {
           "xaxis": {
            "backgroundcolor": "#E5ECF6",
            "gridcolor": "white",
            "gridwidth": 2,
            "linecolor": "white",
            "showbackground": true,
            "ticks": "",
            "zerolinecolor": "white"
           },
           "yaxis": {
            "backgroundcolor": "#E5ECF6",
            "gridcolor": "white",
            "gridwidth": 2,
            "linecolor": "white",
            "showbackground": true,
            "ticks": "",
            "zerolinecolor": "white"
           },
           "zaxis": {
            "backgroundcolor": "#E5ECF6",
            "gridcolor": "white",
            "gridwidth": 2,
            "linecolor": "white",
            "showbackground": true,
            "ticks": "",
            "zerolinecolor": "white"
           }
          },
          "shapedefaults": {
           "line": {
            "color": "#2a3f5f"
           }
          },
          "ternary": {
           "aaxis": {
            "gridcolor": "white",
            "linecolor": "white",
            "ticks": ""
           },
           "baxis": {
            "gridcolor": "white",
            "linecolor": "white",
            "ticks": ""
           },
           "bgcolor": "#E5ECF6",
           "caxis": {
            "gridcolor": "white",
            "linecolor": "white",
            "ticks": ""
           }
          },
          "title": {
           "x": 0.05
          },
          "xaxis": {
           "automargin": true,
           "gridcolor": "white",
           "linecolor": "white",
           "ticks": "",
           "title": {
            "standoff": 15
           },
           "zerolinecolor": "white",
           "zerolinewidth": 2
          },
          "yaxis": {
           "automargin": true,
           "gridcolor": "white",
           "linecolor": "white",
           "ticks": "",
           "title": {
            "standoff": 15
           },
           "zerolinecolor": "white",
           "zerolinewidth": 2
          }
         }
        },
        "xaxis": {
         "anchor": "y",
         "domain": [
          0,
          1
         ],
         "tickmode": "array",
         "ticktext": [
          "Mar 2022",
          "Feb 2022",
          "Jan 2022",
          "Dec 2021",
          "Nov 2021",
          "Oct 2021",
          "Sep 2021",
          "Aug 2021",
          "July 2021",
          "June 2021"
         ],
         "tickvals": [
          "Mar 01, 2022",
          "Feb 05, 2022",
          "Jan 06, 2022",
          "Dec 01, 2021",
          "Nov 01, 2021",
          "Oct 02, 2021",
          "Sep 02, 2021",
          "Aug 03, 2021",
          "Jul 04, 2021",
          "Jun 04, 2021"
         ],
         "title": {
          "text": "Date"
         }
        },
        "yaxis": {
         "anchor": "x",
         "domain": [
          0,
          1
         ],
         "title": {
          "text": "Price"
         }
        }
       }
      }
     },
     "metadata": {},
     "output_type": "display_data"
    }
   ],
   "source": [
    "df = pd.read_csv(\"uniswap_price_data.csv\")\n",
    "fig = px.line(df, x=\"Date\", y=\"Price\")\n",
    "\n",
    "# template=\"plotly_dark\"\n",
    "\n",
    "fig.update_layout(\n",
    "    xaxis = dict(\n",
    "        tickmode = \"array\",\n",
    "        tickvals = ['Mar 01, 2022', 'Feb 05, 2022', 'Jan 06, 2022', 'Dec 01, 2021',\n",
    "                    'Nov 01, 2021', 'Oct 02, 2021', 'Sep 02, 2021', 'Aug 03, 2021',\n",
    "                    'Jul 04, 2021', 'Jun 04, 2021'],\n",
    "        ticktext = ['Mar 2022', 'Feb 2022', 'Jan 2022', 'Dec 2021',\n",
    "                    'Nov 2021', 'Oct 2021', 'Sep 2021', 'Aug 2021',\n",
    "                    'July 2021', 'June 2021']\n",
    "    )\n",
    ")\n",
    "\n",
    "# # chart line color red\n",
    "# fig.update_traces(line_color='#FF0000')\n",
    "\n",
    "fig.show()"
   ]
  }
 ],
 "metadata": {
  "interpreter": {
   "hash": "40d3a090f54c6569ab1632332b64b2c03c39dcf918b08424e98f38b5ae0af88f"
  },
  "kernelspec": {
   "display_name": "Python 3.8.3 ('base')",
   "language": "python",
   "name": "python3"
  },
  "language_info": {
   "codemirror_mode": {
    "name": "ipython",
    "version": 3
   },
   "file_extension": ".py",
   "mimetype": "text/x-python",
   "name": "python",
   "nbconvert_exporter": "python",
   "pygments_lexer": "ipython3",
   "version": "3.8.3"
  },
  "orig_nbformat": 4
 },
 "nbformat": 4,
 "nbformat_minor": 2
}
