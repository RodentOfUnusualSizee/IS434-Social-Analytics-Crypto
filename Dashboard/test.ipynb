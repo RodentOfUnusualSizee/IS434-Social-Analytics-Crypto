{
 "cells": [
  {
   "cell_type": "code",
   "execution_count": 4,
   "metadata": {},
   "outputs": [],
   "source": [
    "import pandas as pd\n",
    "import plotly.express as px"
   ]
  },
  {
   "cell_type": "code",
   "execution_count": 5,
   "metadata": {},
   "outputs": [
    {
     "data": {
      "application/vnd.plotly.v1+json": {
       "config": {
        "plotlyServerURL": "https://plotly.com"
       },
       "data": [
        {
         "hovertemplate": "Date=%{x}<br>Price=%{y}<extra></extra>",
         "legendgroup": "",
         "line": {
          "color": "#636efa",
          "dash": "solid"
         },
         "mode": "lines",
         "name": "",
         "orientation": "v",
         "showlegend": false,
         "type": "scatter",
         "x": [
          "Mar 07, 2022",
          "Mar 06, 2022",
          "Mar 05, 2022",
          "Mar 04, 2022",
          "Mar 03, 2022",
          "Mar 02, 2022",
          "Mar 01, 2022",
          "Feb 28, 2022",
          "Feb 27, 2022",
          "Feb 26, 2022",
          "Feb 25, 2022",
          "Feb 24, 2022",
          "Feb 23, 2022",
          "Feb 22, 2022",
          "Feb 21, 2022",
          "Feb 20, 2022",
          "Feb 19, 2022",
          "Feb 18, 2022",
          "Feb 17, 2022",
          "Feb 16, 2022",
          "Feb 15, 2022",
          "Feb 14, 2022",
          "Feb 13, 2022",
          "Feb 12, 2022",
          "Feb 11, 2022",
          "Feb 10, 2022",
          "Feb 09, 2022",
          "Feb 08, 2022",
          "Feb 07, 2022",
          "Feb 06, 2022",
          "Feb 05, 2022",
          "Feb 04, 2022",
          "Feb 03, 2022",
          "Feb 02, 2022",
          "Feb 01, 2022",
          "Jan 31, 2022",
          "Jan 30, 2022",
          "Jan 29, 2022",
          "Jan 28, 2022",
          "Jan 27, 2022",
          "Jan 26, 2022",
          "Jan 25, 2022",
          "Jan 24, 2022",
          "Jan 23, 2022",
          "Jan 22, 2022",
          "Jan 21, 2022",
          "Jan 20, 2022",
          "Jan 19, 2022",
          "Jan 18, 2022",
          "Jan 17, 2022",
          "Jan 16, 2022",
          "Jan 15, 2022",
          "Jan 14, 2022",
          "Jan 13, 2022",
          "Jan 12, 2022",
          "Jan 11, 2022",
          "Jan 10, 2022",
          "Jan 09, 2022",
          "Jan 08, 2022",
          "Jan 07, 2022",
          "Jan 06, 2022",
          "Jan 05, 2022",
          "Jan 04, 2022",
          "Jan 03, 2022",
          "Jan 02, 2022",
          "Jan 01, 2022",
          "Dec 31, 2021",
          "Dec 30, 2021",
          "Dec 29, 2021",
          "Dec 28, 2021",
          "Dec 27, 2021",
          "Dec 26, 2021",
          "Dec 25, 2021",
          "Dec 24, 2021",
          "Dec 23, 2021",
          "Dec 22, 2021",
          "Dec 21, 2021",
          "Dec 20, 2021",
          "Dec 19, 2021",
          "Dec 18, 2021",
          "Dec 17, 2021",
          "Dec 16, 2021",
          "Dec 15, 2021",
          "Dec 14, 2021",
          "Dec 13, 2021",
          "Dec 12, 2021",
          "Dec 11, 2021",
          "Dec 10, 2021",
          "Dec 09, 2021",
          "Dec 08, 2021",
          "Dec 07, 2021",
          "Dec 06, 2021",
          "Dec 05, 2021",
          "Dec 04, 2021",
          "Dec 03, 2021",
          "Dec 02, 2021",
          "Dec 01, 2021",
          "Nov 30, 2021",
          "Nov 29, 2021",
          "Nov 28, 2021",
          "Nov 27, 2021",
          "Nov 26, 2021",
          "Nov 25, 2021",
          "Nov 24, 2021",
          "Nov 23, 2021",
          "Nov 22, 2021",
          "Nov 21, 2021",
          "Nov 20, 2021",
          "Nov 19, 2021",
          "Nov 18, 2021",
          "Nov 17, 2021",
          "Nov 16, 2021",
          "Nov 15, 2021",
          "Nov 14, 2021",
          "Nov 13, 2021",
          "Nov 12, 2021",
          "Nov 11, 2021",
          "Nov 10, 2021",
          "Nov 09, 2021",
          "Nov 08, 2021",
          "Nov 07, 2021",
          "Nov 06, 2021",
          "Nov 05, 2021",
          "Nov 04, 2021",
          "Nov 03, 2021",
          "Nov 02, 2021",
          "Nov 01, 2021",
          "Oct 31, 2021",
          "Oct 30, 2021",
          "Oct 29, 2021",
          "Oct 28, 2021",
          "Oct 27, 2021",
          "Oct 26, 2021",
          "Oct 25, 2021",
          "Oct 24, 2021",
          "Oct 23, 2021",
          "Oct 22, 2021",
          "Oct 21, 2021",
          "Oct 20, 2021",
          "Oct 19, 2021",
          "Oct 18, 2021",
          "Oct 17, 2021",
          "Oct 16, 2021",
          "Oct 15, 2021",
          "Oct 14, 2021",
          "Oct 13, 2021",
          "Oct 12, 2021",
          "Oct 11, 2021",
          "Oct 10, 2021",
          "Oct 09, 2021",
          "Oct 08, 2021",
          "Oct 07, 2021",
          "Oct 06, 2021",
          "Oct 05, 2021",
          "Oct 04, 2021",
          "Oct 03, 2021",
          "Oct 02, 2021",
          "Oct 01, 2021",
          "Sep 30, 2021",
          "Sep 29, 2021",
          "Sep 28, 2021",
          "Sep 27, 2021",
          "Sep 26, 2021",
          "Sep 25, 2021",
          "Sep 24, 2021",
          "Sep 23, 2021",
          "Sep 22, 2021",
          "Sep 21, 2021",
          "Sep 20, 2021",
          "Sep 19, 2021",
          "Sep 18, 2021",
          "Sep 17, 2021",
          "Sep 16, 2021",
          "Sep 15, 2021",
          "Sep 14, 2021",
          "Sep 13, 2021",
          "Sep 12, 2021",
          "Sep 11, 2021",
          "Sep 10, 2021",
          "Sep 09, 2021",
          "Sep 08, 2021",
          "Sep 07, 2021",
          "Sep 06, 2021",
          "Sep 05, 2021",
          "Sep 04, 2021",
          "Sep 03, 2021",
          "Sep 02, 2021",
          "Sep 01, 2021",
          "Aug 31, 2021",
          "Aug 30, 2021",
          "Aug 29, 2021",
          "Aug 28, 2021",
          "Aug 27, 2021",
          "Aug 26, 2021",
          "Aug 25, 2021",
          "Aug 24, 2021",
          "Aug 23, 2021",
          "Aug 22, 2021",
          "Aug 21, 2021",
          "Aug 20, 2021",
          "Aug 19, 2021",
          "Aug 18, 2021",
          "Aug 17, 2021",
          "Aug 16, 2021",
          "Aug 15, 2021",
          "Aug 14, 2021",
          "Aug 13, 2021",
          "Aug 12, 2021",
          "Aug 11, 2021",
          "Aug 10, 2021",
          "Aug 09, 2021",
          "Aug 08, 2021",
          "Aug 07, 2021",
          "Aug 06, 2021",
          "Aug 05, 2021",
          "Aug 04, 2021",
          "Aug 03, 2021",
          "Aug 02, 2021",
          "Aug 01, 2021",
          "Jul 31, 2021",
          "Jul 30, 2021",
          "Jul 29, 2021",
          "Jul 28, 2021",
          "Jul 27, 2021",
          "Jul 26, 2021",
          "Jul 25, 2021",
          "Jul 24, 2021",
          "Jul 23, 2021",
          "Jul 22, 2021",
          "Jul 21, 2021",
          "Jul 20, 2021",
          "Jul 19, 2021",
          "Jul 18, 2021",
          "Jul 17, 2021",
          "Jul 16, 2021",
          "Jul 15, 2021",
          "Jul 14, 2021",
          "Jul 13, 2021",
          "Jul 12, 2021",
          "Jul 11, 2021",
          "Jul 10, 2021",
          "Jul 09, 2021",
          "Jul 08, 2021",
          "Jul 07, 2021",
          "Jul 06, 2021",
          "Jul 05, 2021",
          "Jul 04, 2021",
          "Jul 03, 2021",
          "Jul 02, 2021",
          "Jul 01, 2021",
          "Jun 30, 2021",
          "Jun 29, 2021",
          "Jun 28, 2021",
          "Jun 27, 2021",
          "Jun 26, 2021",
          "Jun 25, 2021",
          "Jun 24, 2021",
          "Jun 23, 2021",
          "Jun 22, 2021",
          "Jun 21, 2021",
          "Jun 20, 2021",
          "Jun 19, 2021",
          "Jun 18, 2021",
          "Jun 17, 2021",
          "Jun 16, 2021",
          "Jun 15, 2021",
          "Jun 14, 2021",
          "Jun 13, 2021",
          "Jun 12, 2021",
          "Jun 11, 2021",
          "Jun 10, 2021",
          "Jun 09, 2021",
          "Jun 08, 2021",
          "Jun 07, 2021",
          "Jun 06, 2021",
          "Jun 05, 2021",
          "Jun 04, 2021",
          "Jun 03, 2021",
          "Jun 02, 2021",
          "Jun 01, 2021"
         ],
         "xaxis": "x",
         "y": [
          101.4,
          101.1,
          109.7,
          108.6,
          117.4,
          120.8,
          125.6,
          121.1,
          107,
          112.6,
          112.9,
          107.6,
          108.9,
          112.5,
          105.8,
          114.6,
          122.4,
          121.2,
          122.9,
          135.8,
          136,
          126.1,
          124.2,
          127.8,
          125.5,
          133.2,
          145,
          146.9,
          149.2,
          140.8,
          136.2,
          135.2,
          124.2,
          119.8,
          126,
          121.8,
          117.7,
          123.9,
          122.6,
          123.2,
          125.1,
          126.6,
          124.6,
          128.1,
          122.8,
          139.2,
          161.5,
          168,
          180.3,
          181.5,
          191.2,
          190.5,
          190.3,
          186.4,
          196.6,
          189.9,
          183.4,
          193.8,
          188.1,
          194.2,
          204,
          204.2,
          222.8,
          220.2,
          210.4,
          210.4,
          199.7,
          199.5,
          198.2,
          208.6,
          236.1,
          234.4,
          227.7,
          231.6,
          230,
          207,
          194.7,
          188.6,
          194.8,
          204.7,
          213.2,
          187.2,
          191.6,
          186.4,
          180.9,
          198.6,
          196,
          182.6,
          192.6,
          219.7,
          223.4,
          223.4,
          211.4,
          221.4,
          254.5,
          270.3,
          272.1,
          278.4,
          289.3,
          287.2,
          270,
          260.4,
          287.9,
          277.3,
          291.8,
          287.9,
          304.3,
          314.6,
          308.4,
          294.1,
          321.7,
          312.7,
          332.8,
          346,
          354.2,
          326.3,
          335.1,
          326.9,
          356.1,
          359.9,
          362.4,
          354.9,
          357.1,
          366.4,
          383.6,
          360.6,
          364.4,
          345.9,
          318.6,
          327.7,
          312.5,
          302.3,
          342,
          322.5,
          308.4,
          311.7,
          315.5,
          315.4,
          323.1,
          306.7,
          305.3,
          310.6,
          316.2,
          316.9,
          315.3,
          304.1,
          306.4,
          302.7,
          303.5,
          330.5,
          313,
          316.6,
          306,
          309.8,
          312.9,
          326.4,
          337.4,
          326.4,
          319.7,
          306.6,
          319.9,
          337.8,
          353.9,
          331.2,
          341.5,
          374,
          347.4,
          311.7,
          338,
          392.9,
          401.3,
          400.1,
          422.3,
          442.4,
          446.8,
          385.1,
          403,
          397.1,
          390.9,
          411.2,
          408.7,
          412.8,
          509.4,
          511.2,
          471,
          466.6,
          462.5,
          478.8,
          441.9,
          419.5,
          418.3,
          413.5,
          421,
          405,
          435.49,
          423.16,
          465.38,
          460,
          462.69,
          479.94,
          458.04,
          435.71,
          447.31,
          469.34,
          488.79,
          477.16,
          483.82,
          453.24,
          468.01,
          472.58,
          467.22,
          466.9,
          507.64,
          466.33,
          475.44,
          464.52,
          396.65,
          407.26,
          409.55,
          405.14,
          403.89,
          396.94,
          387.75,
          392.75,
          392.33,
          391.11,
          405.23,
          417.35,
          414.2,
          376.41,
          349.48,
          339,
          379.07,
          378.42,
          367.38,
          399.37,
          410.76,
          386.83,
          413.86,
          435.08,
          422.94,
          433.97,
          415.39,
          441.59,
          502,
          493,
          444.05,
          375.69,
          368.43,
          333.12,
          337.6,
          308.83,
          309.93,
          256.98,
          225.04,
          222.01,
          256.3,
          241.92,
          234.19,
          222.13,
          292.75,
          273.1,
          277.58,
          306.59,
          304.63,
          325.71,
          336.5,
          324.02,
          295.63,
          295.06,
          326.94,
          363.89,
          350.99,
          342.54,
          388.77,
          387.18,
          401.68,
          449.29,
          434.95,
          426.97
         ],
         "yaxis": "y"
        }
       ],
       "layout": {
        "legend": {
         "tracegroupgap": 0
        },
        "margin": {
         "t": 60
        },
        "template": {
         "data": {
          "bar": [
           {
            "error_x": {
             "color": "#2a3f5f"
            },
            "error_y": {
             "color": "#2a3f5f"
            },
            "marker": {
             "line": {
              "color": "#E5ECF6",
              "width": 0.5
             },
             "pattern": {
              "fillmode": "overlay",
              "size": 10,
              "solidity": 0.2
             }
            },
            "type": "bar"
           }
          ],
          "barpolar": [
           {
            "marker": {
             "line": {
              "color": "#E5ECF6",
              "width": 0.5
             },
             "pattern": {
              "fillmode": "overlay",
              "size": 10,
              "solidity": 0.2
             }
            },
            "type": "barpolar"
           }
          ],
          "carpet": [
           {
            "aaxis": {
             "endlinecolor": "#2a3f5f",
             "gridcolor": "white",
             "linecolor": "white",
             "minorgridcolor": "white",
             "startlinecolor": "#2a3f5f"
            },
            "baxis": {
             "endlinecolor": "#2a3f5f",
             "gridcolor": "white",
             "linecolor": "white",
             "minorgridcolor": "white",
             "startlinecolor": "#2a3f5f"
            },
            "type": "carpet"
           }
          ],
          "choropleth": [
           {
            "colorbar": {
             "outlinewidth": 0,
             "ticks": ""
            },
            "type": "choropleth"
           }
          ],
          "contour": [
           {
            "colorbar": {
             "outlinewidth": 0,
             "ticks": ""
            },
            "colorscale": [
             [
              0,
              "#0d0887"
             ],
             [
              0.1111111111111111,
              "#46039f"
             ],
             [
              0.2222222222222222,
              "#7201a8"
             ],
             [
              0.3333333333333333,
              "#9c179e"
             ],
             [
              0.4444444444444444,
              "#bd3786"
             ],
             [
              0.5555555555555556,
              "#d8576b"
             ],
             [
              0.6666666666666666,
              "#ed7953"
             ],
             [
              0.7777777777777778,
              "#fb9f3a"
             ],
             [
              0.8888888888888888,
              "#fdca26"
             ],
             [
              1,
              "#f0f921"
             ]
            ],
            "type": "contour"
           }
          ],
          "contourcarpet": [
           {
            "colorbar": {
             "outlinewidth": 0,
             "ticks": ""
            },
            "type": "contourcarpet"
           }
          ],
          "heatmap": [
           {
            "colorbar": {
             "outlinewidth": 0,
             "ticks": ""
            },
            "colorscale": [
             [
              0,
              "#0d0887"
             ],
             [
              0.1111111111111111,
              "#46039f"
             ],
             [
              0.2222222222222222,
              "#7201a8"
             ],
             [
              0.3333333333333333,
              "#9c179e"
             ],
             [
              0.4444444444444444,
              "#bd3786"
             ],
             [
              0.5555555555555556,
              "#d8576b"
             ],
             [
              0.6666666666666666,
              "#ed7953"
             ],
             [
              0.7777777777777778,
              "#fb9f3a"
             ],
             [
              0.8888888888888888,
              "#fdca26"
             ],
             [
              1,
              "#f0f921"
             ]
            ],
            "type": "heatmap"
           }
          ],
          "heatmapgl": [
           {
            "colorbar": {
             "outlinewidth": 0,
             "ticks": ""
            },
            "colorscale": [
             [
              0,
              "#0d0887"
             ],
             [
              0.1111111111111111,
              "#46039f"
             ],
             [
              0.2222222222222222,
              "#7201a8"
             ],
             [
              0.3333333333333333,
              "#9c179e"
             ],
             [
              0.4444444444444444,
              "#bd3786"
             ],
             [
              0.5555555555555556,
              "#d8576b"
             ],
             [
              0.6666666666666666,
              "#ed7953"
             ],
             [
              0.7777777777777778,
              "#fb9f3a"
             ],
             [
              0.8888888888888888,
              "#fdca26"
             ],
             [
              1,
              "#f0f921"
             ]
            ],
            "type": "heatmapgl"
           }
          ],
          "histogram": [
           {
            "marker": {
             "pattern": {
              "fillmode": "overlay",
              "size": 10,
              "solidity": 0.2
             }
            },
            "type": "histogram"
           }
          ],
          "histogram2d": [
           {
            "colorbar": {
             "outlinewidth": 0,
             "ticks": ""
            },
            "colorscale": [
             [
              0,
              "#0d0887"
             ],
             [
              0.1111111111111111,
              "#46039f"
             ],
             [
              0.2222222222222222,
              "#7201a8"
             ],
             [
              0.3333333333333333,
              "#9c179e"
             ],
             [
              0.4444444444444444,
              "#bd3786"
             ],
             [
              0.5555555555555556,
              "#d8576b"
             ],
             [
              0.6666666666666666,
              "#ed7953"
             ],
             [
              0.7777777777777778,
              "#fb9f3a"
             ],
             [
              0.8888888888888888,
              "#fdca26"
             ],
             [
              1,
              "#f0f921"
             ]
            ],
            "type": "histogram2d"
           }
          ],
          "histogram2dcontour": [
           {
            "colorbar": {
             "outlinewidth": 0,
             "ticks": ""
            },
            "colorscale": [
             [
              0,
              "#0d0887"
             ],
             [
              0.1111111111111111,
              "#46039f"
             ],
             [
              0.2222222222222222,
              "#7201a8"
             ],
             [
              0.3333333333333333,
              "#9c179e"
             ],
             [
              0.4444444444444444,
              "#bd3786"
             ],
             [
              0.5555555555555556,
              "#d8576b"
             ],
             [
              0.6666666666666666,
              "#ed7953"
             ],
             [
              0.7777777777777778,
              "#fb9f3a"
             ],
             [
              0.8888888888888888,
              "#fdca26"
             ],
             [
              1,
              "#f0f921"
             ]
            ],
            "type": "histogram2dcontour"
           }
          ],
          "mesh3d": [
           {
            "colorbar": {
             "outlinewidth": 0,
             "ticks": ""
            },
            "type": "mesh3d"
           }
          ],
          "parcoords": [
           {
            "line": {
             "colorbar": {
              "outlinewidth": 0,
              "ticks": ""
             }
            },
            "type": "parcoords"
           }
          ],
          "pie": [
           {
            "automargin": true,
            "type": "pie"
           }
          ],
          "scatter": [
           {
            "marker": {
             "colorbar": {
              "outlinewidth": 0,
              "ticks": ""
             }
            },
            "type": "scatter"
           }
          ],
          "scatter3d": [
           {
            "line": {
             "colorbar": {
              "outlinewidth": 0,
              "ticks": ""
             }
            },
            "marker": {
             "colorbar": {
              "outlinewidth": 0,
              "ticks": ""
             }
            },
            "type": "scatter3d"
           }
          ],
          "scattercarpet": [
           {
            "marker": {
             "colorbar": {
              "outlinewidth": 0,
              "ticks": ""
             }
            },
            "type": "scattercarpet"
           }
          ],
          "scattergeo": [
           {
            "marker": {
             "colorbar": {
              "outlinewidth": 0,
              "ticks": ""
             }
            },
            "type": "scattergeo"
           }
          ],
          "scattergl": [
           {
            "marker": {
             "colorbar": {
              "outlinewidth": 0,
              "ticks": ""
             }
            },
            "type": "scattergl"
           }
          ],
          "scattermapbox": [
           {
            "marker": {
             "colorbar": {
              "outlinewidth": 0,
              "ticks": ""
             }
            },
            "type": "scattermapbox"
           }
          ],
          "scatterpolar": [
           {
            "marker": {
             "colorbar": {
              "outlinewidth": 0,
              "ticks": ""
             }
            },
            "type": "scatterpolar"
           }
          ],
          "scatterpolargl": [
           {
            "marker": {
             "colorbar": {
              "outlinewidth": 0,
              "ticks": ""
             }
            },
            "type": "scatterpolargl"
           }
          ],
          "scatterternary": [
           {
            "marker": {
             "colorbar": {
              "outlinewidth": 0,
              "ticks": ""
             }
            },
            "type": "scatterternary"
           }
          ],
          "surface": [
           {
            "colorbar": {
             "outlinewidth": 0,
             "ticks": ""
            },
            "colorscale": [
             [
              0,
              "#0d0887"
             ],
             [
              0.1111111111111111,
              "#46039f"
             ],
             [
              0.2222222222222222,
              "#7201a8"
             ],
             [
              0.3333333333333333,
              "#9c179e"
             ],
             [
              0.4444444444444444,
              "#bd3786"
             ],
             [
              0.5555555555555556,
              "#d8576b"
             ],
             [
              0.6666666666666666,
              "#ed7953"
             ],
             [
              0.7777777777777778,
              "#fb9f3a"
             ],
             [
              0.8888888888888888,
              "#fdca26"
             ],
             [
              1,
              "#f0f921"
             ]
            ],
            "type": "surface"
           }
          ],
          "table": [
           {
            "cells": {
             "fill": {
              "color": "#EBF0F8"
             },
             "line": {
              "color": "white"
             }
            },
            "header": {
             "fill": {
              "color": "#C8D4E3"
             },
             "line": {
              "color": "white"
             }
            },
            "type": "table"
           }
          ]
         },
         "layout": {
          "annotationdefaults": {
           "arrowcolor": "#2a3f5f",
           "arrowhead": 0,
           "arrowwidth": 1
          },
          "autotypenumbers": "strict",
          "coloraxis": {
           "colorbar": {
            "outlinewidth": 0,
            "ticks": ""
           }
          },
          "colorscale": {
           "diverging": [
            [
             0,
             "#8e0152"
            ],
            [
             0.1,
             "#c51b7d"
            ],
            [
             0.2,
             "#de77ae"
            ],
            [
             0.3,
             "#f1b6da"
            ],
            [
             0.4,
             "#fde0ef"
            ],
            [
             0.5,
             "#f7f7f7"
            ],
            [
             0.6,
             "#e6f5d0"
            ],
            [
             0.7,
             "#b8e186"
            ],
            [
             0.8,
             "#7fbc41"
            ],
            [
             0.9,
             "#4d9221"
            ],
            [
             1,
             "#276419"
            ]
           ],
           "sequential": [
            [
             0,
             "#0d0887"
            ],
            [
             0.1111111111111111,
             "#46039f"
            ],
            [
             0.2222222222222222,
             "#7201a8"
            ],
            [
             0.3333333333333333,
             "#9c179e"
            ],
            [
             0.4444444444444444,
             "#bd3786"
            ],
            [
             0.5555555555555556,
             "#d8576b"
            ],
            [
             0.6666666666666666,
             "#ed7953"
            ],
            [
             0.7777777777777778,
             "#fb9f3a"
            ],
            [
             0.8888888888888888,
             "#fdca26"
            ],
            [
             1,
             "#f0f921"
            ]
           ],
           "sequentialminus": [
            [
             0,
             "#0d0887"
            ],
            [
             0.1111111111111111,
             "#46039f"
            ],
            [
             0.2222222222222222,
             "#7201a8"
            ],
            [
             0.3333333333333333,
             "#9c179e"
            ],
            [
             0.4444444444444444,
             "#bd3786"
            ],
            [
             0.5555555555555556,
             "#d8576b"
            ],
            [
             0.6666666666666666,
             "#ed7953"
            ],
            [
             0.7777777777777778,
             "#fb9f3a"
            ],
            [
             0.8888888888888888,
             "#fdca26"
            ],
            [
             1,
             "#f0f921"
            ]
           ]
          },
          "colorway": [
           "#636efa",
           "#EF553B",
           "#00cc96",
           "#ab63fa",
           "#FFA15A",
           "#19d3f3",
           "#FF6692",
           "#B6E880",
           "#FF97FF",
           "#FECB52"
          ],
          "font": {
           "color": "#2a3f5f"
          },
          "geo": {
           "bgcolor": "white",
           "lakecolor": "white",
           "landcolor": "#E5ECF6",
           "showlakes": true,
           "showland": true,
           "subunitcolor": "white"
          },
          "hoverlabel": {
           "align": "left"
          },
          "hovermode": "closest",
          "mapbox": {
           "style": "light"
          },
          "paper_bgcolor": "white",
          "plot_bgcolor": "#E5ECF6",
          "polar": {
           "angularaxis": {
            "gridcolor": "white",
            "linecolor": "white",
            "ticks": ""
           },
           "bgcolor": "#E5ECF6",
           "radialaxis": {
            "gridcolor": "white",
            "linecolor": "white",
            "ticks": ""
           }
          },
          "scene": {
           "xaxis": {
            "backgroundcolor": "#E5ECF6",
            "gridcolor": "white",
            "gridwidth": 2,
            "linecolor": "white",
            "showbackground": true,
            "ticks": "",
            "zerolinecolor": "white"
           },
           "yaxis": {
            "backgroundcolor": "#E5ECF6",
            "gridcolor": "white",
            "gridwidth": 2,
            "linecolor": "white",
            "showbackground": true,
            "ticks": "",
            "zerolinecolor": "white"
           },
           "zaxis": {
            "backgroundcolor": "#E5ECF6",
            "gridcolor": "white",
            "gridwidth": 2,
            "linecolor": "white",
            "showbackground": true,
            "ticks": "",
            "zerolinecolor": "white"
           }
          },
          "shapedefaults": {
           "line": {
            "color": "#2a3f5f"
           }
          },
          "ternary": {
           "aaxis": {
            "gridcolor": "white",
            "linecolor": "white",
            "ticks": ""
           },
           "baxis": {
            "gridcolor": "white",
            "linecolor": "white",
            "ticks": ""
           },
           "bgcolor": "#E5ECF6",
           "caxis": {
            "gridcolor": "white",
            "linecolor": "white",
            "ticks": ""
           }
          },
          "title": {
           "x": 0.05
          },
          "xaxis": {
           "automargin": true,
           "gridcolor": "white",
           "linecolor": "white",
           "ticks": "",
           "title": {
            "standoff": 15
           },
           "zerolinecolor": "white",
           "zerolinewidth": 2
          },
          "yaxis": {
           "automargin": true,
           "gridcolor": "white",
           "linecolor": "white",
           "ticks": "",
           "title": {
            "standoff": 15
           },
           "zerolinecolor": "white",
           "zerolinewidth": 2
          }
         }
        },
        "xaxis": {
         "anchor": "y",
         "domain": [
          0,
          1
         ],
         "tickmode": "array",
         "ticktext": [
          "Mar 2022",
          "Feb 2022",
          "Jan 2022",
          "Dec 2021",
          "Nov 2021",
          "Oct 2021",
          "Sep 2021",
          "Aug 2021",
          "July 2021",
          "June 2021"
         ],
         "tickvals": [
          "Mar 01, 2022",
          "Feb 05, 2022",
          "Jan 06, 2022",
          "Dec 01, 2021",
          "Nov 01, 2021",
          "Oct 02, 2021",
          "Sep 02, 2021",
          "Aug 03, 2021",
          "Jul 04, 2021",
          "Jun 04, 2021"
         ],
         "title": {
          "text": "Date"
         }
        },
        "yaxis": {
         "anchor": "x",
         "domain": [
          0,
          1
         ],
         "title": {
          "text": "Price"
         }
        }
       }
      }
     },
     "metadata": {},
     "output_type": "display_data"
    }
   ],
   "source": [
    "df = pd.read_csv(\"compound_price_data.csv\")\n",
    "fig = px.line(df, x=\"Date\", y=\"Price\")\n",
    "\n",
    "# template=\"plotly_dark\"\n",
    "\n",
    "fig.update_layout(\n",
    "    xaxis = dict(\n",
    "        tickmode = \"array\",\n",
    "        tickvals = ['Mar 01, 2022', 'Feb 05, 2022', 'Jan 06, 2022', 'Dec 01, 2021',\n",
    "                    'Nov 01, 2021', 'Oct 02, 2021', 'Sep 02, 2021', 'Aug 03, 2021',\n",
    "                    'Jul 04, 2021', 'Jun 04, 2021'],\n",
    "        ticktext = ['Mar 2022', 'Feb 2022', 'Jan 2022', 'Dec 2021',\n",
    "                    'Nov 2021', 'Oct 2021', 'Sep 2021', 'Aug 2021',\n",
    "                    'July 2021', 'June 2021']\n",
    "    )\n",
    ")\n",
    "\n",
    "# # chart line color red\n",
    "# fig.update_traces(line_color='#FF0000')\n",
    "\n",
    "fig.show()"
   ]
  },
  {
   "cell_type": "code",
   "execution_count": 6,
   "metadata": {},
   "outputs": [],
   "source": [
    "# df = pd.read_csv(\"uniswap_price_data.csv\")\n",
    "# fig = px.line(df, x=\"Date\", y=\"Price\")\n",
    "\n",
    "# # template=\"plotly_dark\"\n",
    "\n",
    "# fig.update_layout(\n",
    "#     xaxis = dict(\n",
    "#         tickmode = \"array\",\n",
    "#         tickvals = ['Mar 01, 2022', 'Feb 05, 2022', 'Jan 06, 2022', 'Dec 01, 2021',\n",
    "#                     'Nov 01, 2021', 'Oct 02, 2021', 'Sep 02, 2021', 'Aug 03, 2021',\n",
    "#                     'Jul 04, 2021', 'Jun 04, 2021'],\n",
    "#         ticktext = ['Mar 2022', 'Feb 2022', 'Jan 2022', 'Dec 2021',\n",
    "#                     'Nov 2021', 'Oct 2021', 'Sep 2021', 'Aug 2021',\n",
    "#                     'July 2021', 'June 2021']\n",
    "#     )\n",
    "# )\n",
    "\n",
    "# # chart line color red\n",
    "# fig.update_traces(line_color='#FF0000')\n",
    "\n",
    "# fig.show()"
   ]
  },
  {
   "cell_type": "code",
   "execution_count": 7,
   "metadata": {},
   "outputs": [
    {
     "name": "stderr",
     "output_type": "stream",
     "text": [
      "[nltk_data] Downloading package vader_lexicon to\n",
      "[nltk_data]     /Users/lamchingrou/nltk_data...\n",
      "[nltk_data]   Package vader_lexicon is already up-to-date!\n"
     ]
    }
   ],
   "source": [
    "from nltk.corpus import stopwords\n",
    "import nltk\n",
    "nltk.download('vader_lexicon')\n",
    "from nltk.sentiment.vader import SentimentIntensityAnalyzer"
   ]
  },
  {
   "cell_type": "code",
   "execution_count": 9,
   "metadata": {},
   "outputs": [],
   "source": [
    "def clean_content(contentInput):\n",
    "    if type(contentInput) == np.float:\n",
    "        return \"\"\n",
    "    contentInput = contentInput.lower()\n",
    "    contentInput = re.sub(\"'\", \"\", contentInput) # to avoid removing contractions in english\n",
    "    contentInput = re.sub(\"@[A-Za-z0-9_]+\",\"\", contentInput)\n",
    "    contentInput = re.sub(\"#[A-Za-z0-9_]+\",\"\", contentInput)\n",
    "    contentInput = re.sub(r'http\\S+', '', contentInput)\n",
    "    contentInput = re.sub('[()!?]', ' ', contentInput)\n",
    "    contentInput = re.sub('\\[.*?\\]',' ', contentInput)\n",
    "    contentInput = re.sub(\"[^a-z0-9]\",\" \", contentInput)\n",
    "    contentInput = contentInput.strip()\n",
    "    contentInput = contentInput.split()\n",
    "    contentInput = [w for w in contentInput if not w in stop]\n",
    "    contentInput = \" \".join(word for word in contentInput)\n",
    "    return contentInput\n",
    "\n",
    "stop = stopwords.words('english')"
   ]
  },
  {
   "cell_type": "code",
   "execution_count": 18,
   "metadata": {},
   "outputs": [],
   "source": [
    "import numpy as np\n",
    "import plotly.graph_objects as go\n",
    "import re\n",
    "from plotly.subplots import make_subplots"
   ]
  },
  {
   "cell_type": "code",
   "execution_count": 35,
   "metadata": {},
   "outputs": [
    {
     "name": "stderr",
     "output_type": "stream",
     "text": [
      "<ipython-input-9-5076fb747129>:2: DeprecationWarning:\n",
      "\n",
      "`np.float` is a deprecated alias for the builtin `float`. To silence this warning, use `float` by itself. Doing this will not modify any behavior and is safe. If you specifically wanted the numpy scalar type, use `np.float64` here.\n",
      "Deprecated in NumPy 1.20; for more details and guidance: https://numpy.org/devdocs/release/1.20.0-notes.html#deprecations\n",
      "\n"
     ]
    },
    {
     "data": {
      "application/vnd.plotly.v1+json": {
       "config": {
        "plotlyServerURL": "https://plotly.com"
       },
       "data": [
        {
         "name": "Price",
         "type": "scatter",
         "x": [
          "Dec 31, 2021",
          "Dec 30, 2021",
          "Dec 29, 2021",
          "Dec 28, 2021",
          "Dec 27, 2021",
          "Dec 26, 2021",
          "Dec 25, 2021",
          "Dec 24, 2021",
          "Dec 23, 2021",
          "Dec 22, 2021",
          "Dec 21, 2021",
          "Dec 20, 2021",
          "Dec 19, 2021",
          "Dec 18, 2021",
          "Dec 17, 2021",
          "Dec 16, 2021",
          "Dec 15, 2021",
          "Dec 14, 2021",
          "Dec 13, 2021",
          "Dec 12, 2021",
          "Dec 11, 2021",
          "Dec 10, 2021",
          "Dec 09, 2021",
          "Dec 08, 2021",
          "Dec 07, 2021",
          "Dec 06, 2021",
          "Dec 05, 2021",
          "Dec 04, 2021",
          "Dec 03, 2021",
          "Dec 02, 2021",
          "Dec 01, 2021",
          "Nov 30, 2021",
          "Nov 29, 2021",
          "Nov 28, 2021",
          "Nov 27, 2021",
          "Nov 26, 2021",
          "Nov 25, 2021",
          "Nov 24, 2021",
          "Nov 23, 2021",
          "Nov 22, 2021",
          "Nov 21, 2021",
          "Nov 20, 2021",
          "Nov 19, 2021",
          "Nov 18, 2021",
          "Nov 17, 2021",
          "Nov 16, 2021",
          "Nov 15, 2021",
          "Nov 14, 2021",
          "Nov 13, 2021",
          "Nov 12, 2021",
          "Nov 11, 2021",
          "Nov 10, 2021",
          "Nov 09, 2021",
          "Nov 08, 2021",
          "Nov 07, 2021",
          "Nov 06, 2021",
          "Nov 05, 2021",
          "Nov 04, 2021",
          "Nov 03, 2021",
          "Nov 02, 2021",
          "Nov 01, 2021",
          "Oct 31, 2021",
          "Oct 30, 2021",
          "Oct 29, 2021",
          "Oct 28, 2021",
          "Oct 27, 2021",
          "Oct 26, 2021",
          "Oct 25, 2021",
          "Oct 24, 2021",
          "Oct 23, 2021",
          "Oct 22, 2021",
          "Oct 21, 2021",
          "Oct 20, 2021",
          "Oct 19, 2021",
          "Oct 18, 2021",
          "Oct 17, 2021",
          "Oct 16, 2021",
          "Oct 15, 2021",
          "Oct 14, 2021",
          "Oct 13, 2021",
          "Oct 12, 2021",
          "Oct 11, 2021",
          "Oct 10, 2021",
          "Oct 09, 2021",
          "Oct 08, 2021",
          "Oct 07, 2021",
          "Oct 06, 2021",
          "Oct 05, 2021",
          "Oct 04, 2021",
          "Oct 03, 2021",
          "Oct 02, 2021",
          "Oct 01, 2021",
          "Sep 30, 2021",
          "Sep 29, 2021",
          "Sep 28, 2021",
          "Sep 27, 2021",
          "Sep 26, 2021",
          "Sep 25, 2021",
          "Sep 24, 2021",
          "Sep 23, 2021",
          "Sep 22, 2021",
          "Sep 21, 2021",
          "Sep 20, 2021",
          "Sep 19, 2021",
          "Sep 18, 2021",
          "Sep 17, 2021",
          "Sep 16, 2021",
          "Sep 15, 2021",
          "Sep 14, 2021",
          "Sep 13, 2021",
          "Sep 12, 2021",
          "Sep 11, 2021",
          "Sep 10, 2021",
          "Sep 09, 2021",
          "Sep 08, 2021",
          "Sep 07, 2021",
          "Sep 06, 2021",
          "Sep 05, 2021",
          "Sep 04, 2021",
          "Sep 03, 2021",
          "Sep 02, 2021",
          "Sep 01, 2021",
          "Aug 31, 2021",
          "Aug 30, 2021",
          "Aug 29, 2021",
          "Aug 28, 2021",
          "Aug 27, 2021",
          "Aug 26, 2021",
          "Aug 25, 2021",
          "Aug 24, 2021",
          "Aug 23, 2021",
          "Aug 22, 2021",
          "Aug 21, 2021",
          "Aug 20, 2021",
          "Aug 19, 2021",
          "Aug 18, 2021",
          "Aug 17, 2021",
          "Aug 16, 2021",
          "Aug 15, 2021",
          "Aug 14, 2021",
          "Aug 13, 2021",
          "Aug 12, 2021",
          "Aug 11, 2021",
          "Aug 10, 2021",
          "Aug 09, 2021",
          "Aug 08, 2021",
          "Aug 07, 2021",
          "Aug 06, 2021",
          "Aug 05, 2021",
          "Aug 04, 2021",
          "Aug 03, 2021",
          "Aug 02, 2021",
          "Aug 01, 2021",
          "Jul 31, 2021",
          "Jul 30, 2021",
          "Jul 29, 2021",
          "Jul 28, 2021",
          "Jul 27, 2021",
          "Jul 26, 2021",
          "Jul 25, 2021",
          "Jul 24, 2021",
          "Jul 23, 2021",
          "Jul 22, 2021",
          "Jul 21, 2021",
          "Jul 20, 2021",
          "Jul 19, 2021",
          "Jul 18, 2021",
          "Jul 17, 2021",
          "Jul 16, 2021",
          "Jul 15, 2021",
          "Jul 14, 2021",
          "Jul 13, 2021",
          "Jul 12, 2021",
          "Jul 11, 2021",
          "Jul 10, 2021",
          "Jul 09, 2021",
          "Jul 08, 2021",
          "Jul 07, 2021",
          "Jul 06, 2021",
          "Jul 05, 2021",
          "Jul 04, 2021",
          "Jul 03, 2021",
          "Jul 02, 2021",
          "Jul 01, 2021",
          "Jun 30, 2021",
          "Jun 29, 2021",
          "Jun 28, 2021",
          "Jun 27, 2021",
          "Jun 26, 2021",
          "Jun 25, 2021",
          "Jun 24, 2021",
          "Jun 23, 2021",
          "Jun 22, 2021",
          "Jun 21, 2021",
          "Jun 20, 2021",
          "Jun 19, 2021",
          "Jun 18, 2021",
          "Jun 17, 2021",
          "Jun 16, 2021",
          "Jun 15, 2021",
          "Jun 14, 2021",
          "Jun 13, 2021",
          "Jun 12, 2021",
          "Jun 11, 2021",
          "Jun 10, 2021",
          "Jun 09, 2021",
          "Jun 08, 2021",
          "Jun 07, 2021",
          "Jun 06, 2021",
          "Jun 05, 2021",
          "Jun 04, 2021",
          "Jun 03, 2021",
          "Jun 02, 2021",
          "Jun 01, 2021",
          "May 31, 2021",
          "May 30, 2021",
          "May 29, 2021",
          "May 28, 2021",
          "May 27, 2021",
          "May 26, 2021",
          "May 25, 2021",
          "May 24, 2021",
          "May 23, 2021",
          "May 22, 2021",
          "May 21, 2021",
          "May 20, 2021",
          "May 19, 2021",
          "May 18, 2021",
          "May 17, 2021",
          "May 16, 2021",
          "May 15, 2021",
          "May 14, 2021",
          "May 13, 2021",
          "May 12, 2021",
          "May 11, 2021",
          "May 10, 2021",
          "May 09, 2021",
          "May 08, 2021",
          "May 07, 2021",
          "May 06, 2021",
          "May 05, 2021",
          "May 04, 2021",
          "May 03, 2021",
          "May 02, 2021",
          "May 01, 2021",
          "Apr 30, 2021",
          "Apr 29, 2021",
          "Apr 28, 2021",
          "Apr 27, 2021",
          "Apr 26, 2021",
          "Apr 25, 2021",
          "Apr 24, 2021",
          "Apr 23, 2021",
          "Apr 22, 2021",
          "Apr 21, 2021",
          "Apr 20, 2021",
          "Apr 19, 2021",
          "Apr 18, 2021",
          "Apr 17, 2021",
          "Apr 16, 2021",
          "Apr 15, 2021",
          "Apr 14, 2021",
          "Apr 13, 2021",
          "Apr 12, 2021",
          "Apr 11, 2021",
          "Apr 10, 2021",
          "Apr 09, 2021",
          "Apr 08, 2021",
          "Apr 07, 2021",
          "Apr 06, 2021",
          "Apr 05, 2021",
          "Apr 04, 2021",
          "Apr 03, 2021",
          "Apr 02, 2021",
          "Apr 01, 2021",
          "Mar 31, 2021",
          "Mar 30, 2021",
          "Mar 29, 2021",
          "Mar 28, 2021",
          "Mar 27, 2021",
          "Mar 26, 2021",
          "Mar 25, 2021",
          "Mar 24, 2021",
          "Mar 23, 2021",
          "Mar 22, 2021",
          "Mar 21, 2021",
          "Mar 20, 2021",
          "Mar 19, 2021",
          "Mar 18, 2021",
          "Mar 17, 2021",
          "Mar 16, 2021",
          "Mar 15, 2021",
          "Mar 14, 2021",
          "Mar 13, 2021",
          "Mar 12, 2021",
          "Mar 11, 2021",
          "Mar 10, 2021",
          "Mar 09, 2021",
          "Mar 08, 2021",
          "Mar 07, 2021",
          "Mar 06, 2021",
          "Mar 05, 2021",
          "Mar 04, 2021",
          "Mar 03, 2021",
          "Mar 02, 2021",
          "Mar 01, 2021",
          "Feb 28, 2021",
          "Feb 27, 2021",
          "Feb 26, 2021",
          "Feb 25, 2021",
          "Feb 24, 2021",
          "Feb 23, 2021",
          "Feb 22, 2021",
          "Feb 21, 2021",
          "Feb 20, 2021",
          "Feb 19, 2021",
          "Feb 18, 2021",
          "Feb 17, 2021",
          "Feb 16, 2021",
          "Feb 15, 2021",
          "Feb 14, 2021",
          "Feb 13, 2021",
          "Feb 12, 2021",
          "Feb 11, 2021",
          "Feb 10, 2021",
          "Feb 09, 2021",
          "Feb 08, 2021",
          "Feb 07, 2021",
          "Feb 06, 2021",
          "Feb 05, 2021",
          "Feb 04, 2021",
          "Feb 03, 2021",
          "Feb 02, 2021",
          "Feb 01, 2021",
          "Jan 31, 2021",
          "Jan 30, 2021",
          "Jan 29, 2021",
          "Jan 28, 2021",
          "Jan 27, 2021",
          "Jan 26, 2021",
          "Jan 25, 2021",
          "Jan 24, 2021",
          "Jan 23, 2021",
          "Jan 22, 2021",
          "Jan 21, 2021",
          "Jan 20, 2021",
          "Jan 19, 2021",
          "Jan 18, 2021",
          "Jan 17, 2021",
          "Jan 16, 2021",
          "Jan 15, 2021",
          "Jan 14, 2021",
          "Jan 13, 2021",
          "Jan 12, 2021",
          "Jan 11, 2021",
          "Jan 10, 2021",
          "Jan 09, 2021",
          "Jan 08, 2021",
          "Jan 07, 2021",
          "Jan 06, 2021",
          "Jan 05, 2021",
          "Jan 04, 2021",
          "Jan 03, 2021",
          "Jan 02, 2021",
          "Jan 01, 2021"
         ],
         "xaxis": "x",
         "y": [
          199.7,
          199.5,
          198.2,
          208.6,
          236.1,
          234.4,
          227.7,
          231.6,
          230,
          207,
          194.7,
          188.6,
          194.8,
          204.7,
          213.2,
          187.2,
          191.6,
          186.4,
          180.9,
          198.6,
          196,
          182.6,
          192.6,
          219.7,
          223.4,
          223.4,
          211.4,
          221.4,
          254.5,
          270.3,
          272.1,
          278.4,
          289.3,
          287.2,
          270,
          260.4,
          287.9,
          277.3,
          291.8,
          287.9,
          304.3,
          314.6,
          308.4,
          294.1,
          321.7,
          312.7,
          332.8,
          346,
          354.2,
          326.3,
          335.1,
          326.9,
          356.1,
          359.9,
          362.4,
          354.9,
          357.1,
          366.4,
          383.6,
          360.6,
          364.4,
          345.9,
          318.6,
          327.7,
          312.5,
          302.3,
          342,
          322.5,
          308.4,
          311.7,
          315.5,
          315.4,
          323.1,
          306.7,
          305.3,
          310.6,
          316.2,
          316.9,
          315.3,
          304.1,
          306.4,
          302.7,
          303.5,
          330.5,
          313,
          316.6,
          306,
          309.8,
          312.9,
          326.4,
          337.4,
          326.4,
          319.7,
          306.6,
          319.9,
          337.8,
          353.9,
          331.2,
          341.5,
          374,
          347.4,
          311.7,
          338,
          392.9,
          401.3,
          400.1,
          422.3,
          442.4,
          446.8,
          385.1,
          403,
          397.1,
          390.9,
          411.2,
          408.7,
          412.8,
          509.4,
          511.2,
          471,
          466.6,
          462.5,
          478.8,
          441.9,
          419.5,
          418.3,
          413.5,
          421,
          405,
          435.49,
          423.16,
          465.38,
          460,
          462.69,
          479.94,
          458.04,
          435.71,
          447.31,
          469.34,
          488.79,
          477.16,
          483.82,
          453.24,
          468.01,
          472.58,
          467.22,
          466.9,
          507.64,
          466.33,
          475.44,
          464.52,
          396.65,
          407.26,
          409.55,
          405.14,
          403.89,
          396.94,
          387.75,
          392.75,
          392.33,
          391.11,
          405.23,
          417.35,
          414.2,
          376.41,
          349.48,
          339,
          379.07,
          378.42,
          367.38,
          399.37,
          410.76,
          386.83,
          413.86,
          435.08,
          422.94,
          433.97,
          415.39,
          441.59,
          502,
          493,
          444.05,
          375.69,
          368.43,
          333.12,
          337.6,
          308.83,
          309.93,
          256.98,
          225.04,
          222.01,
          256.3,
          241.92,
          234.19,
          222.13,
          292.75,
          273.1,
          277.58,
          306.59,
          304.63,
          325.71,
          336.5,
          324.02,
          295.63,
          295.06,
          326.94,
          363.89,
          350.99,
          342.54,
          388.77,
          387.18,
          401.68,
          449.29,
          434.95,
          426.97,
          436.82,
          406.47,
          354.05,
          377.56,
          421.23,
          462.28,
          426.67,
          425.82,
          340.66,
          383.87,
          448.41,
          544.58,
          473.5,
          666.75,
          694.27,
          685.08,
          688.13,
          775.07,
          767.51,
          725.09,
          854.11,
          780.83,
          769.77,
          781.67,
          714.85,
          740.81,
          786.74,
          751.71,
          831.96,
          805.04,
          804,
          741.64,
          642.57,
          647.79,
          658.36,
          642.09,
          553.54,
          568.47,
          623.51,
          529.98,
          492.83,
          485.59,
          477.65,
          487.73,
          535.64,
          564.7,
          562.7,
          484.75,
          484.87,
          465.93,
          458.41,
          451.16,
          454.1,
          456.68,
          441.57,
          482.19,
          512.94,
          548.2,
          479.48,
          486.23,
          450.11,
          399.01,
          402.37,
          408.94,
          362.01,
          363.01,
          368.89,
          361.09,
          345.55,
          360.92,
          379.7,
          403.56,
          411.56,
          443.61,
          429.31,
          435.56,
          431.67,
          430.73,
          438.66,
          465.84,
          434.3,
          465.11,
          461.04,
          500.7,
          477.22,
          490.44,
          491.22,
          477.69,
          470.34,
          491.15,
          499.79,
          493.51,
          404.42,
          399.49,
          397.84,
          393.77,
          437.24,
          383.95,
          423.19,
          453.67,
          453.79,
          450.98,
          456.54,
          474,
          457.61,
          460.77,
          471.27,
          511.56,
          536.51,
          501.36,
          474.48,
          489,
          454.52,
          457.24,
          462.97,
          531.69,
          454.16,
          389.55,
          356.45,
          361.84,
          346.72,
          338.2,
          293.65,
          251.75,
          219.4,
          238.41,
          212.72,
          250.11,
          206.98,
          200.26,
          176.17,
          212.74,
          211.9,
          225.91,
          216.96,
          207,
          202.56,
          215.15,
          211.23,
          183.8,
          168.6,
          195.33,
          179.95,
          165.37,
          172.32,
          184.06,
          161.63,
          151.27,
          146.33,
          136.6,
          145.49
         ],
         "yaxis": "y"
        },
        {
         "name": "Sentiment",
         "type": "scatter",
         "x": [
          "Jan 2021",
          "Feb 2021",
          "Mar 2021",
          "Apr 2021",
          "May 2021",
          "Jun 2021",
          "Jul 2021",
          "Aug 2021",
          "Sep 2021",
          "Oct 2021",
          "Nov 2021",
          "Dec 2021"
         ],
         "xaxis": "x",
         "y": [
          0.3987874125874128,
          0.5084216981132077,
          0.49451428571428574,
          0.6425643749999994,
          0.46996713615023467,
          0.5057185840707964,
          0.6883381578947367,
          0.6565422018348626,
          0.5430939393939398,
          0.5446525773195875,
          0.6926254237288133,
          0.6965793103448277
         ],
         "yaxis": "y2"
        }
       ],
       "layout": {
        "template": {
         "data": {
          "bar": [
           {
            "error_x": {
             "color": "#2a3f5f"
            },
            "error_y": {
             "color": "#2a3f5f"
            },
            "marker": {
             "line": {
              "color": "#E5ECF6",
              "width": 0.5
             },
             "pattern": {
              "fillmode": "overlay",
              "size": 10,
              "solidity": 0.2
             }
            },
            "type": "bar"
           }
          ],
          "barpolar": [
           {
            "marker": {
             "line": {
              "color": "#E5ECF6",
              "width": 0.5
             },
             "pattern": {
              "fillmode": "overlay",
              "size": 10,
              "solidity": 0.2
             }
            },
            "type": "barpolar"
           }
          ],
          "carpet": [
           {
            "aaxis": {
             "endlinecolor": "#2a3f5f",
             "gridcolor": "white",
             "linecolor": "white",
             "minorgridcolor": "white",
             "startlinecolor": "#2a3f5f"
            },
            "baxis": {
             "endlinecolor": "#2a3f5f",
             "gridcolor": "white",
             "linecolor": "white",
             "minorgridcolor": "white",
             "startlinecolor": "#2a3f5f"
            },
            "type": "carpet"
           }
          ],
          "choropleth": [
           {
            "colorbar": {
             "outlinewidth": 0,
             "ticks": ""
            },
            "type": "choropleth"
           }
          ],
          "contour": [
           {
            "colorbar": {
             "outlinewidth": 0,
             "ticks": ""
            },
            "colorscale": [
             [
              0,
              "#0d0887"
             ],
             [
              0.1111111111111111,
              "#46039f"
             ],
             [
              0.2222222222222222,
              "#7201a8"
             ],
             [
              0.3333333333333333,
              "#9c179e"
             ],
             [
              0.4444444444444444,
              "#bd3786"
             ],
             [
              0.5555555555555556,
              "#d8576b"
             ],
             [
              0.6666666666666666,
              "#ed7953"
             ],
             [
              0.7777777777777778,
              "#fb9f3a"
             ],
             [
              0.8888888888888888,
              "#fdca26"
             ],
             [
              1,
              "#f0f921"
             ]
            ],
            "type": "contour"
           }
          ],
          "contourcarpet": [
           {
            "colorbar": {
             "outlinewidth": 0,
             "ticks": ""
            },
            "type": "contourcarpet"
           }
          ],
          "heatmap": [
           {
            "colorbar": {
             "outlinewidth": 0,
             "ticks": ""
            },
            "colorscale": [
             [
              0,
              "#0d0887"
             ],
             [
              0.1111111111111111,
              "#46039f"
             ],
             [
              0.2222222222222222,
              "#7201a8"
             ],
             [
              0.3333333333333333,
              "#9c179e"
             ],
             [
              0.4444444444444444,
              "#bd3786"
             ],
             [
              0.5555555555555556,
              "#d8576b"
             ],
             [
              0.6666666666666666,
              "#ed7953"
             ],
             [
              0.7777777777777778,
              "#fb9f3a"
             ],
             [
              0.8888888888888888,
              "#fdca26"
             ],
             [
              1,
              "#f0f921"
             ]
            ],
            "type": "heatmap"
           }
          ],
          "heatmapgl": [
           {
            "colorbar": {
             "outlinewidth": 0,
             "ticks": ""
            },
            "colorscale": [
             [
              0,
              "#0d0887"
             ],
             [
              0.1111111111111111,
              "#46039f"
             ],
             [
              0.2222222222222222,
              "#7201a8"
             ],
             [
              0.3333333333333333,
              "#9c179e"
             ],
             [
              0.4444444444444444,
              "#bd3786"
             ],
             [
              0.5555555555555556,
              "#d8576b"
             ],
             [
              0.6666666666666666,
              "#ed7953"
             ],
             [
              0.7777777777777778,
              "#fb9f3a"
             ],
             [
              0.8888888888888888,
              "#fdca26"
             ],
             [
              1,
              "#f0f921"
             ]
            ],
            "type": "heatmapgl"
           }
          ],
          "histogram": [
           {
            "marker": {
             "pattern": {
              "fillmode": "overlay",
              "size": 10,
              "solidity": 0.2
             }
            },
            "type": "histogram"
           }
          ],
          "histogram2d": [
           {
            "colorbar": {
             "outlinewidth": 0,
             "ticks": ""
            },
            "colorscale": [
             [
              0,
              "#0d0887"
             ],
             [
              0.1111111111111111,
              "#46039f"
             ],
             [
              0.2222222222222222,
              "#7201a8"
             ],
             [
              0.3333333333333333,
              "#9c179e"
             ],
             [
              0.4444444444444444,
              "#bd3786"
             ],
             [
              0.5555555555555556,
              "#d8576b"
             ],
             [
              0.6666666666666666,
              "#ed7953"
             ],
             [
              0.7777777777777778,
              "#fb9f3a"
             ],
             [
              0.8888888888888888,
              "#fdca26"
             ],
             [
              1,
              "#f0f921"
             ]
            ],
            "type": "histogram2d"
           }
          ],
          "histogram2dcontour": [
           {
            "colorbar": {
             "outlinewidth": 0,
             "ticks": ""
            },
            "colorscale": [
             [
              0,
              "#0d0887"
             ],
             [
              0.1111111111111111,
              "#46039f"
             ],
             [
              0.2222222222222222,
              "#7201a8"
             ],
             [
              0.3333333333333333,
              "#9c179e"
             ],
             [
              0.4444444444444444,
              "#bd3786"
             ],
             [
              0.5555555555555556,
              "#d8576b"
             ],
             [
              0.6666666666666666,
              "#ed7953"
             ],
             [
              0.7777777777777778,
              "#fb9f3a"
             ],
             [
              0.8888888888888888,
              "#fdca26"
             ],
             [
              1,
              "#f0f921"
             ]
            ],
            "type": "histogram2dcontour"
           }
          ],
          "mesh3d": [
           {
            "colorbar": {
             "outlinewidth": 0,
             "ticks": ""
            },
            "type": "mesh3d"
           }
          ],
          "parcoords": [
           {
            "line": {
             "colorbar": {
              "outlinewidth": 0,
              "ticks": ""
             }
            },
            "type": "parcoords"
           }
          ],
          "pie": [
           {
            "automargin": true,
            "type": "pie"
           }
          ],
          "scatter": [
           {
            "marker": {
             "colorbar": {
              "outlinewidth": 0,
              "ticks": ""
             }
            },
            "type": "scatter"
           }
          ],
          "scatter3d": [
           {
            "line": {
             "colorbar": {
              "outlinewidth": 0,
              "ticks": ""
             }
            },
            "marker": {
             "colorbar": {
              "outlinewidth": 0,
              "ticks": ""
             }
            },
            "type": "scatter3d"
           }
          ],
          "scattercarpet": [
           {
            "marker": {
             "colorbar": {
              "outlinewidth": 0,
              "ticks": ""
             }
            },
            "type": "scattercarpet"
           }
          ],
          "scattergeo": [
           {
            "marker": {
             "colorbar": {
              "outlinewidth": 0,
              "ticks": ""
             }
            },
            "type": "scattergeo"
           }
          ],
          "scattergl": [
           {
            "marker": {
             "colorbar": {
              "outlinewidth": 0,
              "ticks": ""
             }
            },
            "type": "scattergl"
           }
          ],
          "scattermapbox": [
           {
            "marker": {
             "colorbar": {
              "outlinewidth": 0,
              "ticks": ""
             }
            },
            "type": "scattermapbox"
           }
          ],
          "scatterpolar": [
           {
            "marker": {
             "colorbar": {
              "outlinewidth": 0,
              "ticks": ""
             }
            },
            "type": "scatterpolar"
           }
          ],
          "scatterpolargl": [
           {
            "marker": {
             "colorbar": {
              "outlinewidth": 0,
              "ticks": ""
             }
            },
            "type": "scatterpolargl"
           }
          ],
          "scatterternary": [
           {
            "marker": {
             "colorbar": {
              "outlinewidth": 0,
              "ticks": ""
             }
            },
            "type": "scatterternary"
           }
          ],
          "surface": [
           {
            "colorbar": {
             "outlinewidth": 0,
             "ticks": ""
            },
            "colorscale": [
             [
              0,
              "#0d0887"
             ],
             [
              0.1111111111111111,
              "#46039f"
             ],
             [
              0.2222222222222222,
              "#7201a8"
             ],
             [
              0.3333333333333333,
              "#9c179e"
             ],
             [
              0.4444444444444444,
              "#bd3786"
             ],
             [
              0.5555555555555556,
              "#d8576b"
             ],
             [
              0.6666666666666666,
              "#ed7953"
             ],
             [
              0.7777777777777778,
              "#fb9f3a"
             ],
             [
              0.8888888888888888,
              "#fdca26"
             ],
             [
              1,
              "#f0f921"
             ]
            ],
            "type": "surface"
           }
          ],
          "table": [
           {
            "cells": {
             "fill": {
              "color": "#EBF0F8"
             },
             "line": {
              "color": "white"
             }
            },
            "header": {
             "fill": {
              "color": "#C8D4E3"
             },
             "line": {
              "color": "white"
             }
            },
            "type": "table"
           }
          ]
         },
         "layout": {
          "annotationdefaults": {
           "arrowcolor": "#2a3f5f",
           "arrowhead": 0,
           "arrowwidth": 1
          },
          "autotypenumbers": "strict",
          "coloraxis": {
           "colorbar": {
            "outlinewidth": 0,
            "ticks": ""
           }
          },
          "colorscale": {
           "diverging": [
            [
             0,
             "#8e0152"
            ],
            [
             0.1,
             "#c51b7d"
            ],
            [
             0.2,
             "#de77ae"
            ],
            [
             0.3,
             "#f1b6da"
            ],
            [
             0.4,
             "#fde0ef"
            ],
            [
             0.5,
             "#f7f7f7"
            ],
            [
             0.6,
             "#e6f5d0"
            ],
            [
             0.7,
             "#b8e186"
            ],
            [
             0.8,
             "#7fbc41"
            ],
            [
             0.9,
             "#4d9221"
            ],
            [
             1,
             "#276419"
            ]
           ],
           "sequential": [
            [
             0,
             "#0d0887"
            ],
            [
             0.1111111111111111,
             "#46039f"
            ],
            [
             0.2222222222222222,
             "#7201a8"
            ],
            [
             0.3333333333333333,
             "#9c179e"
            ],
            [
             0.4444444444444444,
             "#bd3786"
            ],
            [
             0.5555555555555556,
             "#d8576b"
            ],
            [
             0.6666666666666666,
             "#ed7953"
            ],
            [
             0.7777777777777778,
             "#fb9f3a"
            ],
            [
             0.8888888888888888,
             "#fdca26"
            ],
            [
             1,
             "#f0f921"
            ]
           ],
           "sequentialminus": [
            [
             0,
             "#0d0887"
            ],
            [
             0.1111111111111111,
             "#46039f"
            ],
            [
             0.2222222222222222,
             "#7201a8"
            ],
            [
             0.3333333333333333,
             "#9c179e"
            ],
            [
             0.4444444444444444,
             "#bd3786"
            ],
            [
             0.5555555555555556,
             "#d8576b"
            ],
            [
             0.6666666666666666,
             "#ed7953"
            ],
            [
             0.7777777777777778,
             "#fb9f3a"
            ],
            [
             0.8888888888888888,
             "#fdca26"
            ],
            [
             1,
             "#f0f921"
            ]
           ]
          },
          "colorway": [
           "#636efa",
           "#EF553B",
           "#00cc96",
           "#ab63fa",
           "#FFA15A",
           "#19d3f3",
           "#FF6692",
           "#B6E880",
           "#FF97FF",
           "#FECB52"
          ],
          "font": {
           "color": "#2a3f5f"
          },
          "geo": {
           "bgcolor": "white",
           "lakecolor": "white",
           "landcolor": "#E5ECF6",
           "showlakes": true,
           "showland": true,
           "subunitcolor": "white"
          },
          "hoverlabel": {
           "align": "left"
          },
          "hovermode": "closest",
          "mapbox": {
           "style": "light"
          },
          "paper_bgcolor": "white",
          "plot_bgcolor": "#E5ECF6",
          "polar": {
           "angularaxis": {
            "gridcolor": "white",
            "linecolor": "white",
            "ticks": ""
           },
           "bgcolor": "#E5ECF6",
           "radialaxis": {
            "gridcolor": "white",
            "linecolor": "white",
            "ticks": ""
           }
          },
          "scene": {
           "xaxis": {
            "backgroundcolor": "#E5ECF6",
            "gridcolor": "white",
            "gridwidth": 2,
            "linecolor": "white",
            "showbackground": true,
            "ticks": "",
            "zerolinecolor": "white"
           },
           "yaxis": {
            "backgroundcolor": "#E5ECF6",
            "gridcolor": "white",
            "gridwidth": 2,
            "linecolor": "white",
            "showbackground": true,
            "ticks": "",
            "zerolinecolor": "white"
           },
           "zaxis": {
            "backgroundcolor": "#E5ECF6",
            "gridcolor": "white",
            "gridwidth": 2,
            "linecolor": "white",
            "showbackground": true,
            "ticks": "",
            "zerolinecolor": "white"
           }
          },
          "shapedefaults": {
           "line": {
            "color": "#2a3f5f"
           }
          },
          "ternary": {
           "aaxis": {
            "gridcolor": "white",
            "linecolor": "white",
            "ticks": ""
           },
           "baxis": {
            "gridcolor": "white",
            "linecolor": "white",
            "ticks": ""
           },
           "bgcolor": "#E5ECF6",
           "caxis": {
            "gridcolor": "white",
            "linecolor": "white",
            "ticks": ""
           }
          },
          "title": {
           "x": 0.05
          },
          "xaxis": {
           "automargin": true,
           "gridcolor": "white",
           "linecolor": "white",
           "ticks": "",
           "title": {
            "standoff": 15
           },
           "zerolinecolor": "white",
           "zerolinewidth": 2
          },
          "yaxis": {
           "automargin": true,
           "gridcolor": "white",
           "linecolor": "white",
           "ticks": "",
           "title": {
            "standoff": 15
           },
           "zerolinecolor": "white",
           "zerolinewidth": 2
          }
         }
        },
        "xaxis": {
         "anchor": "y",
         "domain": [
          0,
          0.94
         ]
        },
        "yaxis": {
         "anchor": "x",
         "autorange": "reversed",
         "domain": [
          0,
          1
         ]
        },
        "yaxis2": {
         "anchor": "x",
         "autorange": "reversed",
         "overlaying": "y",
         "side": "right"
        }
       }
      }
     },
     "metadata": {},
     "output_type": "display_data"
    }
   ],
   "source": [
    "df = pd.read_csv(\"compound_price_data_2.csv\")\n",
    "# figure shared x axes true\n",
    "\n",
    "fig = make_subplots(specs=[[{\"secondary_y\": True,}]])\n",
    "\n",
    "# add trace to figure x as df date y as df price\n",
    "fig.add_trace(go.Scatter(x=df['Date'], y=df['Price'], name='Price'), secondary_y=False)\n",
    "\n",
    "# template=\"plotly_dark\"\n",
    "    \n",
    "string = \"maker.csv\"\n",
    "sentiment_df = pd.read_csv(string)\n",
    "sentiment_df['date'] = sentiment_df['created'].apply(lambda x: x.split(' ')[0])\n",
    "sentiment_df.sort_values(['date'], inplace=True)\n",
    "sentiment_df = sentiment_df.fillna(method='ffill')\n",
    "sentiment_df['year_month'] = sentiment_df['date'].apply(lambda x: x[0:x.rfind('-')])\n",
    "\n",
    "monthList = list(sentiment_df['year_month'].unique())\n",
    "timeSplitData={}\n",
    "timeSplitDataSentiment = {}\n",
    "\n",
    "for month in monthList: \n",
    "    timeSplitData[month] = []\n",
    "    timeSplitDataSentiment[month] = []  \n",
    "\n",
    "def split(x):\n",
    "    monthData = x['year_month']\n",
    "    content = x['body']\n",
    "    cleaned = clean_content(content)\n",
    "    timeSplitData[monthData].append(cleaned)\n",
    "\n",
    "sentiment_df.apply(lambda x: split(x), axis=1) \n",
    "sid = SentimentIntensityAnalyzer()\n",
    "for month in timeSplitData:\n",
    "    for content in timeSplitData[month]:\n",
    "        output = sid.polarity_scores(content)\n",
    "        timeSplitDataSentiment[month].append(output)  \n",
    "\n",
    "timeSplitDataNetScore = {}\n",
    "for month in monthList:\n",
    "    timeSplitDataNetScore[month] = 0 \n",
    "    \n",
    "for month in timeSplitDataSentiment:\n",
    "    for output in timeSplitDataSentiment[month]:\n",
    "        compound = output['compound']\n",
    "        compound = compound / len(timeSplitDataSentiment[month])\n",
    "        timeSplitDataNetScore[month] +=compound \n",
    "\n",
    "date_dict ={\n",
    "'2021-01': 'Jan 2021',\n",
    "'2021-02': 'Feb 2021',\n",
    "'2021-03': 'Mar 2021',\n",
    "'2021-04': 'Apr 2021',\n",
    "'2021-05': 'May 2021',\n",
    "'2021-06': 'Jun 2021',\n",
    "'2021-07': 'Jul 2021',\n",
    "'2021-08': 'Aug 2021',\n",
    "'2021-09': 'Sep 2021',\n",
    "'2021-10': 'Oct 2021',\n",
    "'2021-11': 'Nov 2021',\n",
    "'2021-12': 'Dec 2021',\n",
    "}\n",
    "\n",
    "final = {}\n",
    "for old_key in timeSplitDataNetScore.keys():\n",
    "    new_key = date_dict[old_key]\n",
    "    final[new_key] = timeSplitDataNetScore[old_key]\n",
    "\n",
    "fig.update_yaxes(autorange=\"reversed\")\n",
    "\n",
    "\n",
    "fig.add_trace(\n",
    "go.Scatter(x=list(final.keys()), y=list(final.values()), name=\"Sentiment\"),\n",
    "secondary_y=True,\n",
    ")\n",
    "\n",
    "# fig.update_layout(\n",
    "#     xaxis = dict(\n",
    "#         tickmode = \"array\",\n",
    "#         tickvals = ['Mar 01, 2022', 'Feb 01, 2022', 'Jan 01, 2022', 'Dec 01, 2021',\n",
    "#                     'Nov 01, 2021', 'Oct 01, 2021', 'Sep 01, 2021', 'Aug 01, 2021',\n",
    "#                     'Jul 01, 2021', 'Jun 01, 2021', 'May 01, 2021', 'Apr 01, 2021',\n",
    "#                     'Mar 01, 2021', 'Feb 01, 2021', 'Jan 01, 2021'],\n",
    "#         ticktext = ['Mar 2022', 'Feb 2022', 'Jan 2022', 'Dec 2021',\n",
    "#                     'Nov 2021', 'Oct 2021', 'Sep 2021', 'Aug 2021',\n",
    "#                     'July 2021', 'June 2021', 'May 2021', 'Apr 2021',\n",
    "#                     'Mar 2021', 'Feb 2021', 'Jan 2021']\n",
    "#     )\n",
    "# )\n",
    "\n",
    "fig.show()"
   ]
  }
 ],
 "metadata": {
  "interpreter": {
   "hash": "40d3a090f54c6569ab1632332b64b2c03c39dcf918b08424e98f38b5ae0af88f"
  },
  "kernelspec": {
   "display_name": "Python 3.8.3 ('base')",
   "language": "python",
   "name": "python3"
  },
  "language_info": {
   "codemirror_mode": {
    "name": "ipython",
    "version": 3
   },
   "file_extension": ".py",
   "mimetype": "text/x-python",
   "name": "python",
   "nbconvert_exporter": "python",
   "pygments_lexer": "ipython3",
   "version": "3.8.3"
  },
  "orig_nbformat": 4
 },
 "nbformat": 4,
 "nbformat_minor": 2
}
