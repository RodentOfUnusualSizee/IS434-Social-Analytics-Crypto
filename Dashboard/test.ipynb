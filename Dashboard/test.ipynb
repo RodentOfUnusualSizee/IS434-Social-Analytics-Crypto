{
 "cells": [
  {
   "cell_type": "code",
   "execution_count": 2,
   "metadata": {},
   "outputs": [],
   "source": [
    "import pandas as pd\n",
    "import plotly.express as px"
   ]
  },
  {
   "cell_type": "code",
   "execution_count": 9,
   "metadata": {},
   "outputs": [
    {
     "data": {
      "application/vnd.plotly.v1+json": {
       "config": {
        "plotlyServerURL": "https://plotly.com"
       },
       "data": [
        {
         "hovertemplate": "Date=%{x}<br>Price=%{y}<extra></extra>",
         "legendgroup": "",
         "line": {
          "color": "#636efa",
          "dash": "solid"
         },
         "mode": "lines",
         "name": "",
         "orientation": "v",
         "showlegend": false,
         "type": "scatter",
         "x": [
          "Mar 07, 2022",
          "Mar 06, 2022",
          "Mar 05, 2022",
          "Mar 04, 2022",
          "Mar 03, 2022",
          "Mar 02, 2022",
          "Mar 01, 2022",
          "Feb 28, 2022",
          "Feb 27, 2022",
          "Feb 26, 2022",
          "Feb 25, 2022",
          "Feb 24, 2022",
          "Feb 23, 2022",
          "Feb 22, 2022",
          "Feb 21, 2022",
          "Feb 20, 2022",
          "Feb 19, 2022",
          "Feb 18, 2022",
          "Feb 17, 2022",
          "Feb 16, 2022",
          "Feb 15, 2022",
          "Feb 14, 2022",
          "Feb 13, 2022",
          "Feb 12, 2022",
          "Feb 11, 2022",
          "Feb 10, 2022",
          "Feb 09, 2022",
          "Feb 08, 2022",
          "Feb 07, 2022",
          "Feb 06, 2022",
          "Feb 05, 2022",
          "Feb 04, 2022",
          "Feb 03, 2022",
          "Feb 02, 2022",
          "Feb 01, 2022",
          "Jan 31, 2022",
          "Jan 30, 2022",
          "Jan 29, 2022",
          "Jan 28, 2022",
          "Jan 27, 2022",
          "Jan 26, 2022",
          "Jan 25, 2022",
          "Jan 24, 2022",
          "Jan 23, 2022",
          "Jan 22, 2022",
          "Jan 21, 2022",
          "Jan 20, 2022",
          "Jan 19, 2022",
          "Jan 18, 2022",
          "Jan 17, 2022",
          "Jan 16, 2022",
          "Jan 15, 2022",
          "Jan 14, 2022",
          "Jan 13, 2022",
          "Jan 12, 2022",
          "Jan 11, 2022",
          "Jan 10, 2022",
          "Jan 09, 2022",
          "Jan 08, 2022",
          "Jan 07, 2022",
          "Jan 06, 2022",
          "Jan 05, 2022",
          "Jan 04, 2022",
          "Jan 03, 2022",
          "Jan 02, 2022",
          "Jan 01, 2022",
          "Dec 31, 2021",
          "Dec 30, 2021",
          "Dec 29, 2021",
          "Dec 28, 2021",
          "Dec 27, 2021",
          "Dec 26, 2021",
          "Dec 25, 2021",
          "Dec 24, 2021",
          "Dec 23, 2021",
          "Dec 22, 2021",
          "Dec 21, 2021",
          "Dec 20, 2021",
          "Dec 19, 2021",
          "Dec 18, 2021",
          "Dec 17, 2021",
          "Dec 16, 2021",
          "Dec 15, 2021",
          "Dec 14, 2021",
          "Dec 13, 2021",
          "Dec 12, 2021",
          "Dec 11, 2021",
          "Dec 10, 2021",
          "Dec 09, 2021",
          "Dec 08, 2021",
          "Dec 07, 2021",
          "Dec 06, 2021",
          "Dec 05, 2021",
          "Dec 04, 2021",
          "Dec 03, 2021",
          "Dec 02, 2021",
          "Dec 01, 2021",
          "Nov 30, 2021",
          "Nov 29, 2021",
          "Nov 28, 2021",
          "Nov 27, 2021",
          "Nov 26, 2021",
          "Nov 25, 2021",
          "Nov 24, 2021",
          "Nov 23, 2021",
          "Nov 22, 2021",
          "Nov 21, 2021",
          "Nov 20, 2021",
          "Nov 19, 2021",
          "Nov 18, 2021",
          "Nov 17, 2021",
          "Nov 16, 2021",
          "Nov 15, 2021",
          "Nov 14, 2021",
          "Nov 13, 2021",
          "Nov 12, 2021",
          "Nov 11, 2021",
          "Nov 10, 2021",
          "Nov 09, 2021",
          "Nov 08, 2021",
          "Nov 07, 2021",
          "Nov 06, 2021",
          "Nov 05, 2021",
          "Nov 04, 2021",
          "Nov 03, 2021",
          "Nov 02, 2021",
          "Nov 01, 2021",
          "Oct 31, 2021",
          "Oct 30, 2021",
          "Oct 29, 2021",
          "Oct 28, 2021",
          "Oct 27, 2021",
          "Oct 26, 2021",
          "Oct 25, 2021",
          "Oct 24, 2021",
          "Oct 23, 2021",
          "Oct 22, 2021",
          "Oct 21, 2021",
          "Oct 20, 2021",
          "Oct 19, 2021",
          "Oct 18, 2021",
          "Oct 17, 2021",
          "Oct 16, 2021",
          "Oct 15, 2021",
          "Oct 14, 2021",
          "Oct 13, 2021",
          "Oct 12, 2021",
          "Oct 11, 2021",
          "Oct 10, 2021",
          "Oct 09, 2021",
          "Oct 08, 2021",
          "Oct 07, 2021",
          "Oct 06, 2021",
          "Oct 05, 2021",
          "Oct 04, 2021",
          "Oct 03, 2021",
          "Oct 02, 2021",
          "Oct 01, 2021",
          "Sep 30, 2021",
          "Sep 29, 2021",
          "Sep 28, 2021",
          "Sep 27, 2021",
          "Sep 26, 2021",
          "Sep 25, 2021",
          "Sep 24, 2021",
          "Sep 23, 2021",
          "Sep 22, 2021",
          "Sep 21, 2021",
          "Sep 20, 2021",
          "Sep 19, 2021",
          "Sep 18, 2021",
          "Sep 17, 2021",
          "Sep 16, 2021",
          "Sep 15, 2021",
          "Sep 14, 2021",
          "Sep 13, 2021",
          "Sep 12, 2021",
          "Sep 11, 2021",
          "Sep 10, 2021",
          "Sep 09, 2021",
          "Sep 08, 2021",
          "Sep 07, 2021",
          "Sep 06, 2021",
          "Sep 05, 2021",
          "Sep 04, 2021",
          "Sep 03, 2021",
          "Sep 02, 2021",
          "Sep 01, 2021",
          "Aug 31, 2021",
          "Aug 30, 2021",
          "Aug 29, 2021",
          "Aug 28, 2021",
          "Aug 27, 2021",
          "Aug 26, 2021",
          "Aug 25, 2021",
          "Aug 24, 2021",
          "Aug 23, 2021",
          "Aug 22, 2021",
          "Aug 21, 2021",
          "Aug 20, 2021",
          "Aug 19, 2021",
          "Aug 18, 2021",
          "Aug 17, 2021",
          "Aug 16, 2021",
          "Aug 15, 2021",
          "Aug 14, 2021",
          "Aug 13, 2021",
          "Aug 12, 2021",
          "Aug 11, 2021",
          "Aug 10, 2021",
          "Aug 09, 2021",
          "Aug 08, 2021",
          "Aug 07, 2021",
          "Aug 06, 2021",
          "Aug 05, 2021",
          "Aug 04, 2021",
          "Aug 03, 2021",
          "Aug 02, 2021",
          "Aug 01, 2021",
          "Jul 31, 2021",
          "Jul 30, 2021",
          "Jul 29, 2021",
          "Jul 28, 2021",
          "Jul 27, 2021",
          "Jul 26, 2021",
          "Jul 25, 2021",
          "Jul 24, 2021",
          "Jul 23, 2021",
          "Jul 22, 2021",
          "Jul 21, 2021",
          "Jul 20, 2021",
          "Jul 19, 2021",
          "Jul 18, 2021",
          "Jul 17, 2021",
          "Jul 16, 2021",
          "Jul 15, 2021",
          "Jul 14, 2021",
          "Jul 13, 2021",
          "Jul 12, 2021",
          "Jul 11, 2021",
          "Jul 10, 2021",
          "Jul 09, 2021",
          "Jul 08, 2021",
          "Jul 07, 2021",
          "Jul 06, 2021",
          "Jul 05, 2021",
          "Jul 04, 2021",
          "Jul 03, 2021",
          "Jul 02, 2021",
          "Jul 01, 2021",
          "Jun 30, 2021",
          "Jun 29, 2021",
          "Jun 28, 2021",
          "Jun 27, 2021",
          "Jun 26, 2021",
          "Jun 25, 2021",
          "Jun 24, 2021",
          "Jun 23, 2021",
          "Jun 22, 2021",
          "Jun 21, 2021",
          "Jun 20, 2021",
          "Jun 19, 2021",
          "Jun 18, 2021",
          "Jun 17, 2021",
          "Jun 16, 2021",
          "Jun 15, 2021",
          "Jun 14, 2021",
          "Jun 13, 2021",
          "Jun 12, 2021",
          "Jun 11, 2021",
          "Jun 10, 2021",
          "Jun 09, 2021",
          "Jun 08, 2021",
          "Jun 07, 2021",
          "Jun 06, 2021",
          "Jun 05, 2021",
          "Jun 04, 2021",
          "Jun 03, 2021",
          "Jun 02, 2021",
          "Jun 01, 2021"
         ],
         "xaxis": "x",
         "y": [
          123.4,
          116.6,
          124.6,
          124.2,
          129.99,
          137.51,
          143.2,
          145.9,
          131.6,
          136.29,
          139.5,
          125.48,
          130.64,
          134.33,
          128.52,
          137.08,
          146.21,
          145.6,
          153.1,
          170.3,
          172.38,
          161.07,
          157.87,
          162.11,
          163.37,
          175.38,
          187.88,
          183.71,
          181.31,
          173.39,
          166.38,
          166.99,
          152.79,
          151.35,
          163.61,
          157.79,
          149.11,
          153.7,
          148.99,
          144.52,
          146.28,
          151.92,
          152.1,
          158.5,
          146.91,
          171.38,
          198.81,
          210.3,
          232.6,
          226.6,
          242.61,
          238.61,
          223.9,
          209.13,
          218.19,
          213.37,
          200.09,
          209.31,
          211.7,
          211.2,
          221.3,
          230.55,
          252.03,
          266.51,
          265.3,
          266.52,
          254.01,
          262.88,
          236.27,
          252.3,
          277.16,
          268.09,
          263.96,
          270,
          247.23,
          206.48,
          186,
          180.68,
          183.31,
          193.28,
          186.72,
          174.18,
          173.2,
          169.5,
          162.28,
          179.9,
          180.53,
          166.96,
          177.13,
          202.9,
          186.9,
          185.1,
          191.59,
          203.19,
          225.98,
          244.8,
          250.7,
          256.5,
          249.79,
          238.9,
          232.73,
          232.01,
          262.61,
          254.5,
          269.91,
          263.78,
          267.18,
          274.09,
          279.19,
          262.51,
          284.6,
          278.3,
          301.69,
          315.11,
          312.5,
          308.38,
          312.11,
          312.8,
          336.47,
          331.81,
          319.61,
          318.19,
          326.6,
          333.21,
          324.31,
          324.23,
          324.03,
          314.02,
          318.1,
          327.71,
          338.38,
          324.51,
          329.17,
          313.12,
          307.7,
          324.09,
          310.26,
          314.95,
          316.48,
          303.6,
          294.21,
          304.4,
          304.5,
          301.31,
          303.67,
          297.57,
          283.99,
          290.6,
          288.09,
          306.91,
          307.31,
          305.68,
          311.79,
          307.78,
          300.93,
          310.5,
          314.36,
          302.57,
          276.49,
          265.2,
          260.82,
          273.13,
          293.83,
          274.39,
          280.77,
          308.82,
          301.79,
          270.56,
          291.01,
          340.09,
          355.38,
          353.98,
          384.04,
          416.32,
          383.67,
          330.83,
          333.48,
          328.44,
          312.1,
          330.02,
          329.98,
          344.63,
          408.6,
          416.79,
          397.8,
          394.9,
          399.61,
          413.19,
          392.08,
          357.69,
          364.12,
          367.09,
          372.61,
          350.12,
          384.21,
          378.16,
          408.31,
          400.96,
          399.84,
          409.19,
          405.18,
          380.47,
          381.24,
          412.95,
          410.28,
          414.5,
          427.5,
          392.05,
          402.88,
          384.22,
          374.34,
          360.73,
          385.16,
          369.25,
          372.78,
          339.01,
          308.28,
          320.55,
          316.49,
          330.81,
          320.47,
          311.5,
          297.72,
          300.19,
          302.76,
          287.96,
          291.11,
          289.76,
          278.42,
          259.05,
          223.25,
          238.22,
          254.14,
          252.69,
          253.67,
          271.85,
          279.42,
          271.19,
          297.1,
          304.49,
          294.58,
          303.23,
          293.12,
          314.94,
          316.74,
          308.63,
          277.09,
          261.15,
          234.23,
          230.82,
          250.53,
          236.61,
          226.52,
          203.04,
          186.96,
          187.1,
          211.3,
          207.88,
          205.9,
          213.44,
          272.85,
          254.75,
          264.31,
          293.18,
          290.41,
          312.49,
          318.16,
          316.37,
          278.24,
          285.2,
          310.08,
          338.47,
          330.12,
          334.92,
          365.29,
          356.64,
          372.98,
          397.38,
          384.14,
          372.55
         ],
         "yaxis": "y"
        }
       ],
       "layout": {
        "legend": {
         "tracegroupgap": 0
        },
        "margin": {
         "t": 60
        },
        "template": {
         "data": {
          "bar": [
           {
            "error_x": {
             "color": "#2a3f5f"
            },
            "error_y": {
             "color": "#2a3f5f"
            },
            "marker": {
             "line": {
              "color": "#E5ECF6",
              "width": 0.5
             },
             "pattern": {
              "fillmode": "overlay",
              "size": 10,
              "solidity": 0.2
             }
            },
            "type": "bar"
           }
          ],
          "barpolar": [
           {
            "marker": {
             "line": {
              "color": "#E5ECF6",
              "width": 0.5
             },
             "pattern": {
              "fillmode": "overlay",
              "size": 10,
              "solidity": 0.2
             }
            },
            "type": "barpolar"
           }
          ],
          "carpet": [
           {
            "aaxis": {
             "endlinecolor": "#2a3f5f",
             "gridcolor": "white",
             "linecolor": "white",
             "minorgridcolor": "white",
             "startlinecolor": "#2a3f5f"
            },
            "baxis": {
             "endlinecolor": "#2a3f5f",
             "gridcolor": "white",
             "linecolor": "white",
             "minorgridcolor": "white",
             "startlinecolor": "#2a3f5f"
            },
            "type": "carpet"
           }
          ],
          "choropleth": [
           {
            "colorbar": {
             "outlinewidth": 0,
             "ticks": ""
            },
            "type": "choropleth"
           }
          ],
          "contour": [
           {
            "colorbar": {
             "outlinewidth": 0,
             "ticks": ""
            },
            "colorscale": [
             [
              0,
              "#0d0887"
             ],
             [
              0.1111111111111111,
              "#46039f"
             ],
             [
              0.2222222222222222,
              "#7201a8"
             ],
             [
              0.3333333333333333,
              "#9c179e"
             ],
             [
              0.4444444444444444,
              "#bd3786"
             ],
             [
              0.5555555555555556,
              "#d8576b"
             ],
             [
              0.6666666666666666,
              "#ed7953"
             ],
             [
              0.7777777777777778,
              "#fb9f3a"
             ],
             [
              0.8888888888888888,
              "#fdca26"
             ],
             [
              1,
              "#f0f921"
             ]
            ],
            "type": "contour"
           }
          ],
          "contourcarpet": [
           {
            "colorbar": {
             "outlinewidth": 0,
             "ticks": ""
            },
            "type": "contourcarpet"
           }
          ],
          "heatmap": [
           {
            "colorbar": {
             "outlinewidth": 0,
             "ticks": ""
            },
            "colorscale": [
             [
              0,
              "#0d0887"
             ],
             [
              0.1111111111111111,
              "#46039f"
             ],
             [
              0.2222222222222222,
              "#7201a8"
             ],
             [
              0.3333333333333333,
              "#9c179e"
             ],
             [
              0.4444444444444444,
              "#bd3786"
             ],
             [
              0.5555555555555556,
              "#d8576b"
             ],
             [
              0.6666666666666666,
              "#ed7953"
             ],
             [
              0.7777777777777778,
              "#fb9f3a"
             ],
             [
              0.8888888888888888,
              "#fdca26"
             ],
             [
              1,
              "#f0f921"
             ]
            ],
            "type": "heatmap"
           }
          ],
          "heatmapgl": [
           {
            "colorbar": {
             "outlinewidth": 0,
             "ticks": ""
            },
            "colorscale": [
             [
              0,
              "#0d0887"
             ],
             [
              0.1111111111111111,
              "#46039f"
             ],
             [
              0.2222222222222222,
              "#7201a8"
             ],
             [
              0.3333333333333333,
              "#9c179e"
             ],
             [
              0.4444444444444444,
              "#bd3786"
             ],
             [
              0.5555555555555556,
              "#d8576b"
             ],
             [
              0.6666666666666666,
              "#ed7953"
             ],
             [
              0.7777777777777778,
              "#fb9f3a"
             ],
             [
              0.8888888888888888,
              "#fdca26"
             ],
             [
              1,
              "#f0f921"
             ]
            ],
            "type": "heatmapgl"
           }
          ],
          "histogram": [
           {
            "marker": {
             "pattern": {
              "fillmode": "overlay",
              "size": 10,
              "solidity": 0.2
             }
            },
            "type": "histogram"
           }
          ],
          "histogram2d": [
           {
            "colorbar": {
             "outlinewidth": 0,
             "ticks": ""
            },
            "colorscale": [
             [
              0,
              "#0d0887"
             ],
             [
              0.1111111111111111,
              "#46039f"
             ],
             [
              0.2222222222222222,
              "#7201a8"
             ],
             [
              0.3333333333333333,
              "#9c179e"
             ],
             [
              0.4444444444444444,
              "#bd3786"
             ],
             [
              0.5555555555555556,
              "#d8576b"
             ],
             [
              0.6666666666666666,
              "#ed7953"
             ],
             [
              0.7777777777777778,
              "#fb9f3a"
             ],
             [
              0.8888888888888888,
              "#fdca26"
             ],
             [
              1,
              "#f0f921"
             ]
            ],
            "type": "histogram2d"
           }
          ],
          "histogram2dcontour": [
           {
            "colorbar": {
             "outlinewidth": 0,
             "ticks": ""
            },
            "colorscale": [
             [
              0,
              "#0d0887"
             ],
             [
              0.1111111111111111,
              "#46039f"
             ],
             [
              0.2222222222222222,
              "#7201a8"
             ],
             [
              0.3333333333333333,
              "#9c179e"
             ],
             [
              0.4444444444444444,
              "#bd3786"
             ],
             [
              0.5555555555555556,
              "#d8576b"
             ],
             [
              0.6666666666666666,
              "#ed7953"
             ],
             [
              0.7777777777777778,
              "#fb9f3a"
             ],
             [
              0.8888888888888888,
              "#fdca26"
             ],
             [
              1,
              "#f0f921"
             ]
            ],
            "type": "histogram2dcontour"
           }
          ],
          "mesh3d": [
           {
            "colorbar": {
             "outlinewidth": 0,
             "ticks": ""
            },
            "type": "mesh3d"
           }
          ],
          "parcoords": [
           {
            "line": {
             "colorbar": {
              "outlinewidth": 0,
              "ticks": ""
             }
            },
            "type": "parcoords"
           }
          ],
          "pie": [
           {
            "automargin": true,
            "type": "pie"
           }
          ],
          "scatter": [
           {
            "marker": {
             "colorbar": {
              "outlinewidth": 0,
              "ticks": ""
             }
            },
            "type": "scatter"
           }
          ],
          "scatter3d": [
           {
            "line": {
             "colorbar": {
              "outlinewidth": 0,
              "ticks": ""
             }
            },
            "marker": {
             "colorbar": {
              "outlinewidth": 0,
              "ticks": ""
             }
            },
            "type": "scatter3d"
           }
          ],
          "scattercarpet": [
           {
            "marker": {
             "colorbar": {
              "outlinewidth": 0,
              "ticks": ""
             }
            },
            "type": "scattercarpet"
           }
          ],
          "scattergeo": [
           {
            "marker": {
             "colorbar": {
              "outlinewidth": 0,
              "ticks": ""
             }
            },
            "type": "scattergeo"
           }
          ],
          "scattergl": [
           {
            "marker": {
             "colorbar": {
              "outlinewidth": 0,
              "ticks": ""
             }
            },
            "type": "scattergl"
           }
          ],
          "scattermapbox": [
           {
            "marker": {
             "colorbar": {
              "outlinewidth": 0,
              "ticks": ""
             }
            },
            "type": "scattermapbox"
           }
          ],
          "scatterpolar": [
           {
            "marker": {
             "colorbar": {
              "outlinewidth": 0,
              "ticks": ""
             }
            },
            "type": "scatterpolar"
           }
          ],
          "scatterpolargl": [
           {
            "marker": {
             "colorbar": {
              "outlinewidth": 0,
              "ticks": ""
             }
            },
            "type": "scatterpolargl"
           }
          ],
          "scatterternary": [
           {
            "marker": {
             "colorbar": {
              "outlinewidth": 0,
              "ticks": ""
             }
            },
            "type": "scatterternary"
           }
          ],
          "surface": [
           {
            "colorbar": {
             "outlinewidth": 0,
             "ticks": ""
            },
            "colorscale": [
             [
              0,
              "#0d0887"
             ],
             [
              0.1111111111111111,
              "#46039f"
             ],
             [
              0.2222222222222222,
              "#7201a8"
             ],
             [
              0.3333333333333333,
              "#9c179e"
             ],
             [
              0.4444444444444444,
              "#bd3786"
             ],
             [
              0.5555555555555556,
              "#d8576b"
             ],
             [
              0.6666666666666666,
              "#ed7953"
             ],
             [
              0.7777777777777778,
              "#fb9f3a"
             ],
             [
              0.8888888888888888,
              "#fdca26"
             ],
             [
              1,
              "#f0f921"
             ]
            ],
            "type": "surface"
           }
          ],
          "table": [
           {
            "cells": {
             "fill": {
              "color": "#EBF0F8"
             },
             "line": {
              "color": "white"
             }
            },
            "header": {
             "fill": {
              "color": "#C8D4E3"
             },
             "line": {
              "color": "white"
             }
            },
            "type": "table"
           }
          ]
         },
         "layout": {
          "annotationdefaults": {
           "arrowcolor": "#2a3f5f",
           "arrowhead": 0,
           "arrowwidth": 1
          },
          "autotypenumbers": "strict",
          "coloraxis": {
           "colorbar": {
            "outlinewidth": 0,
            "ticks": ""
           }
          },
          "colorscale": {
           "diverging": [
            [
             0,
             "#8e0152"
            ],
            [
             0.1,
             "#c51b7d"
            ],
            [
             0.2,
             "#de77ae"
            ],
            [
             0.3,
             "#f1b6da"
            ],
            [
             0.4,
             "#fde0ef"
            ],
            [
             0.5,
             "#f7f7f7"
            ],
            [
             0.6,
             "#e6f5d0"
            ],
            [
             0.7,
             "#b8e186"
            ],
            [
             0.8,
             "#7fbc41"
            ],
            [
             0.9,
             "#4d9221"
            ],
            [
             1,
             "#276419"
            ]
           ],
           "sequential": [
            [
             0,
             "#0d0887"
            ],
            [
             0.1111111111111111,
             "#46039f"
            ],
            [
             0.2222222222222222,
             "#7201a8"
            ],
            [
             0.3333333333333333,
             "#9c179e"
            ],
            [
             0.4444444444444444,
             "#bd3786"
            ],
            [
             0.5555555555555556,
             "#d8576b"
            ],
            [
             0.6666666666666666,
             "#ed7953"
            ],
            [
             0.7777777777777778,
             "#fb9f3a"
            ],
            [
             0.8888888888888888,
             "#fdca26"
            ],
            [
             1,
             "#f0f921"
            ]
           ],
           "sequentialminus": [
            [
             0,
             "#0d0887"
            ],
            [
             0.1111111111111111,
             "#46039f"
            ],
            [
             0.2222222222222222,
             "#7201a8"
            ],
            [
             0.3333333333333333,
             "#9c179e"
            ],
            [
             0.4444444444444444,
             "#bd3786"
            ],
            [
             0.5555555555555556,
             "#d8576b"
            ],
            [
             0.6666666666666666,
             "#ed7953"
            ],
            [
             0.7777777777777778,
             "#fb9f3a"
            ],
            [
             0.8888888888888888,
             "#fdca26"
            ],
            [
             1,
             "#f0f921"
            ]
           ]
          },
          "colorway": [
           "#636efa",
           "#EF553B",
           "#00cc96",
           "#ab63fa",
           "#FFA15A",
           "#19d3f3",
           "#FF6692",
           "#B6E880",
           "#FF97FF",
           "#FECB52"
          ],
          "font": {
           "color": "#2a3f5f"
          },
          "geo": {
           "bgcolor": "white",
           "lakecolor": "white",
           "landcolor": "#E5ECF6",
           "showlakes": true,
           "showland": true,
           "subunitcolor": "white"
          },
          "hoverlabel": {
           "align": "left"
          },
          "hovermode": "closest",
          "mapbox": {
           "style": "light"
          },
          "paper_bgcolor": "white",
          "plot_bgcolor": "#E5ECF6",
          "polar": {
           "angularaxis": {
            "gridcolor": "white",
            "linecolor": "white",
            "ticks": ""
           },
           "bgcolor": "#E5ECF6",
           "radialaxis": {
            "gridcolor": "white",
            "linecolor": "white",
            "ticks": ""
           }
          },
          "scene": {
           "xaxis": {
            "backgroundcolor": "#E5ECF6",
            "gridcolor": "white",
            "gridwidth": 2,
            "linecolor": "white",
            "showbackground": true,
            "ticks": "",
            "zerolinecolor": "white"
           },
           "yaxis": {
            "backgroundcolor": "#E5ECF6",
            "gridcolor": "white",
            "gridwidth": 2,
            "linecolor": "white",
            "showbackground": true,
            "ticks": "",
            "zerolinecolor": "white"
           },
           "zaxis": {
            "backgroundcolor": "#E5ECF6",
            "gridcolor": "white",
            "gridwidth": 2,
            "linecolor": "white",
            "showbackground": true,
            "ticks": "",
            "zerolinecolor": "white"
           }
          },
          "shapedefaults": {
           "line": {
            "color": "#2a3f5f"
           }
          },
          "ternary": {
           "aaxis": {
            "gridcolor": "white",
            "linecolor": "white",
            "ticks": ""
           },
           "baxis": {
            "gridcolor": "white",
            "linecolor": "white",
            "ticks": ""
           },
           "bgcolor": "#E5ECF6",
           "caxis": {
            "gridcolor": "white",
            "linecolor": "white",
            "ticks": ""
           }
          },
          "title": {
           "x": 0.05
          },
          "xaxis": {
           "automargin": true,
           "gridcolor": "white",
           "linecolor": "white",
           "ticks": "",
           "title": {
            "standoff": 15
           },
           "zerolinecolor": "white",
           "zerolinewidth": 2
          },
          "yaxis": {
           "automargin": true,
           "gridcolor": "white",
           "linecolor": "white",
           "ticks": "",
           "title": {
            "standoff": 15
           },
           "zerolinecolor": "white",
           "zerolinewidth": 2
          }
         }
        },
        "xaxis": {
         "anchor": "y",
         "domain": [
          0,
          1
         ],
         "tickmode": "array",
         "ticktext": [
          "Mar 2022",
          "Feb 2022",
          "Jan 2022",
          "Dec 2021",
          "Nov 2021",
          "Oct 2021",
          "Sep 2021",
          "Aug 2021",
          "July 2021",
          "June 2021"
         ],
         "tickvals": [
          "Mar 01, 2022",
          "Feb 05, 2022",
          "Jan 06, 2022",
          "Dec 01, 2021",
          "Nov 01, 2021",
          "Oct 02, 2021",
          "Sep 02, 2021",
          "Aug 03, 2021",
          "Jul 04, 2021",
          "Jun 04, 2021"
         ],
         "title": {
          "text": "Date"
         }
        },
        "yaxis": {
         "anchor": "x",
         "domain": [
          0,
          1
         ],
         "title": {
          "text": "Price"
         }
        }
       }
      }
     },
     "metadata": {},
     "output_type": "display_data"
    }
   ],
   "source": [
    "df = pd.read_csv(\"aave_price_data.csv\")\n",
    "fig = px.line(df, x=\"Date\", y=\"Price\")\n",
    "\n",
    "# template=\"plotly_dark\"\n",
    "\n",
    "fig.update_layout(\n",
    "    xaxis = dict(\n",
    "        tickmode = \"array\",\n",
    "        tickvals = ['Mar 01, 2022', 'Feb 05, 2022', 'Jan 06, 2022', 'Dec 01, 2021',\n",
    "                    'Nov 01, 2021', 'Oct 02, 2021', 'Sep 02, 2021', 'Aug 03, 2021',\n",
    "                    'Jul 04, 2021', 'Jun 04, 2021'],\n",
    "        ticktext = ['Mar 2022', 'Feb 2022', 'Jan 2022', 'Dec 2021',\n",
    "                    'Nov 2021', 'Oct 2021', 'Sep 2021', 'Aug 2021',\n",
    "                    'July 2021', 'June 2021']\n",
    "    )\n",
    ")\n",
    "\n",
    "# # chart line color red\n",
    "# fig.update_traces(line_color='#FF0000')\n",
    "\n",
    "fig.show()"
   ]
  },
  {
   "cell_type": "code",
   "execution_count": 3,
   "metadata": {},
   "outputs": [
    {
     "data": {
      "application/vnd.plotly.v1+json": {
       "config": {
        "plotlyServerURL": "https://plotly.com"
       },
       "data": [
        {
         "hovertemplate": "Date=%{x}<br>Price=%{y}<extra></extra>",
         "legendgroup": "",
         "line": {
          "color": "#636efa",
          "dash": "solid"
         },
         "mode": "lines",
         "name": "",
         "orientation": "v",
         "showlegend": false,
         "type": "scatter",
         "x": [
          "Mar 07, 2022",
          "Mar 06, 2022",
          "Mar 05, 2022",
          "Mar 04, 2022",
          "Mar 03, 2022",
          "Mar 02, 2022",
          "Mar 01, 2022",
          "Feb 28, 2022",
          "Feb 27, 2022",
          "Feb 26, 2022",
          "Feb 25, 2022",
          "Feb 24, 2022",
          "Feb 23, 2022",
          "Feb 22, 2022",
          "Feb 21, 2022",
          "Feb 20, 2022",
          "Feb 19, 2022",
          "Feb 18, 2022",
          "Feb 17, 2022",
          "Feb 16, 2022",
          "Feb 15, 2022",
          "Feb 14, 2022",
          "Feb 13, 2022",
          "Feb 12, 2022",
          "Feb 11, 2022",
          "Feb 10, 2022",
          "Feb 09, 2022",
          "Feb 08, 2022",
          "Feb 07, 2022",
          "Feb 06, 2022",
          "Feb 05, 2022",
          "Feb 04, 2022",
          "Feb 03, 2022",
          "Feb 02, 2022",
          "Feb 01, 2022",
          "Jan 31, 2022",
          "Jan 30, 2022",
          "Jan 29, 2022",
          "Jan 28, 2022",
          "Jan 27, 2022",
          "Jan 26, 2022",
          "Jan 25, 2022",
          "Jan 24, 2022",
          "Jan 23, 2022",
          "Jan 22, 2022",
          "Jan 21, 2022",
          "Jan 20, 2022",
          "Jan 19, 2022",
          "Jan 18, 2022",
          "Jan 17, 2022",
          "Jan 16, 2022",
          "Jan 15, 2022",
          "Jan 14, 2022",
          "Jan 13, 2022",
          "Jan 12, 2022",
          "Jan 11, 2022",
          "Jan 10, 2022",
          "Jan 09, 2022",
          "Jan 08, 2022",
          "Jan 07, 2022",
          "Jan 06, 2022",
          "Jan 05, 2022",
          "Jan 04, 2022",
          "Jan 03, 2022",
          "Jan 02, 2022",
          "Jan 01, 2022",
          "Dec 31, 2021",
          "Dec 30, 2021",
          "Dec 29, 2021",
          "Dec 28, 2021",
          "Dec 27, 2021",
          "Dec 26, 2021",
          "Dec 25, 2021",
          "Dec 24, 2021",
          "Dec 23, 2021",
          "Dec 22, 2021",
          "Dec 21, 2021",
          "Dec 20, 2021",
          "Dec 19, 2021",
          "Dec 18, 2021",
          "Dec 17, 2021",
          "Dec 16, 2021",
          "Dec 15, 2021",
          "Dec 14, 2021",
          "Dec 13, 2021",
          "Dec 12, 2021",
          "Dec 11, 2021",
          "Dec 10, 2021",
          "Dec 09, 2021",
          "Dec 08, 2021",
          "Dec 07, 2021",
          "Dec 06, 2021",
          "Dec 05, 2021",
          "Dec 04, 2021",
          "Dec 03, 2021",
          "Dec 02, 2021",
          "Dec 01, 2021",
          "Nov 30, 2021",
          "Nov 29, 2021",
          "Nov 28, 2021",
          "Nov 27, 2021",
          "Nov 26, 2021",
          "Nov 25, 2021",
          "Nov 24, 2021",
          "Nov 23, 2021",
          "Nov 22, 2021",
          "Nov 21, 2021",
          "Nov 20, 2021",
          "Nov 19, 2021",
          "Nov 18, 2021",
          "Nov 17, 2021",
          "Nov 16, 2021",
          "Nov 15, 2021",
          "Nov 14, 2021",
          "Nov 13, 2021",
          "Nov 12, 2021",
          "Nov 11, 2021",
          "Nov 10, 2021",
          "Nov 09, 2021",
          "Nov 08, 2021",
          "Nov 07, 2021",
          "Nov 06, 2021",
          "Nov 05, 2021",
          "Nov 04, 2021",
          "Nov 03, 2021",
          "Nov 02, 2021",
          "Nov 01, 2021",
          "Oct 31, 2021",
          "Oct 30, 2021",
          "Oct 29, 2021",
          "Oct 28, 2021",
          "Oct 27, 2021",
          "Oct 26, 2021",
          "Oct 25, 2021",
          "Oct 24, 2021",
          "Oct 23, 2021",
          "Oct 22, 2021",
          "Oct 21, 2021",
          "Oct 20, 2021",
          "Oct 19, 2021",
          "Oct 18, 2021",
          "Oct 17, 2021",
          "Oct 16, 2021",
          "Oct 15, 2021",
          "Oct 14, 2021",
          "Oct 13, 2021",
          "Oct 12, 2021",
          "Oct 11, 2021",
          "Oct 10, 2021",
          "Oct 09, 2021",
          "Oct 08, 2021",
          "Oct 07, 2021",
          "Oct 06, 2021",
          "Oct 05, 2021",
          "Oct 04, 2021",
          "Oct 03, 2021",
          "Oct 02, 2021",
          "Oct 01, 2021",
          "Sep 30, 2021",
          "Sep 29, 2021",
          "Sep 28, 2021",
          "Sep 27, 2021",
          "Sep 26, 2021",
          "Sep 25, 2021",
          "Sep 24, 2021",
          "Sep 23, 2021",
          "Sep 22, 2021",
          "Sep 21, 2021",
          "Sep 20, 2021",
          "Sep 19, 2021",
          "Sep 18, 2021",
          "Sep 17, 2021",
          "Sep 16, 2021",
          "Sep 15, 2021",
          "Sep 14, 2021",
          "Sep 13, 2021",
          "Sep 12, 2021",
          "Sep 11, 2021",
          "Sep 10, 2021",
          "Sep 09, 2021",
          "Sep 08, 2021",
          "Sep 07, 2021",
          "Sep 06, 2021",
          "Sep 05, 2021",
          "Sep 04, 2021",
          "Sep 03, 2021",
          "Sep 02, 2021",
          "Sep 01, 2021",
          "Aug 31, 2021",
          "Aug 30, 2021",
          "Aug 29, 2021",
          "Aug 28, 2021",
          "Aug 27, 2021",
          "Aug 26, 2021",
          "Aug 25, 2021",
          "Aug 24, 2021",
          "Aug 23, 2021",
          "Aug 22, 2021",
          "Aug 21, 2021",
          "Aug 20, 2021",
          "Aug 19, 2021",
          "Aug 18, 2021",
          "Aug 17, 2021",
          "Aug 16, 2021",
          "Aug 15, 2021",
          "Aug 14, 2021",
          "Aug 13, 2021",
          "Aug 12, 2021",
          "Aug 11, 2021",
          "Aug 10, 2021",
          "Aug 09, 2021",
          "Aug 08, 2021",
          "Aug 07, 2021",
          "Aug 06, 2021",
          "Aug 05, 2021",
          "Aug 04, 2021",
          "Aug 03, 2021",
          "Aug 02, 2021",
          "Aug 01, 2021",
          "Jul 31, 2021",
          "Jul 30, 2021",
          "Jul 29, 2021",
          "Jul 28, 2021",
          "Jul 27, 2021",
          "Jul 26, 2021",
          "Jul 25, 2021",
          "Jul 24, 2021",
          "Jul 23, 2021",
          "Jul 22, 2021",
          "Jul 21, 2021",
          "Jul 20, 2021",
          "Jul 19, 2021",
          "Jul 18, 2021",
          "Jul 17, 2021",
          "Jul 16, 2021",
          "Jul 15, 2021",
          "Jul 14, 2021",
          "Jul 13, 2021",
          "Jul 12, 2021",
          "Jul 11, 2021",
          "Jul 10, 2021",
          "Jul 09, 2021",
          "Jul 08, 2021",
          "Jul 07, 2021",
          "Jul 06, 2021",
          "Jul 05, 2021",
          "Jul 04, 2021",
          "Jul 03, 2021",
          "Jul 02, 2021",
          "Jul 01, 2021",
          "Jun 30, 2021",
          "Jun 29, 2021",
          "Jun 28, 2021",
          "Jun 27, 2021",
          "Jun 26, 2021",
          "Jun 25, 2021",
          "Jun 24, 2021",
          "Jun 23, 2021",
          "Jun 22, 2021",
          "Jun 21, 2021",
          "Jun 20, 2021",
          "Jun 19, 2021",
          "Jun 18, 2021",
          "Jun 17, 2021",
          "Jun 16, 2021",
          "Jun 15, 2021",
          "Jun 14, 2021",
          "Jun 13, 2021",
          "Jun 12, 2021",
          "Jun 11, 2021",
          "Jun 10, 2021",
          "Jun 09, 2021",
          "Jun 08, 2021",
          "Jun 07, 2021",
          "Jun 06, 2021",
          "Jun 05, 2021",
          "Jun 04, 2021",
          "Jun 03, 2021",
          "Jun 02, 2021",
          "Jun 01, 2021"
         ],
         "xaxis": "x",
         "y": [
          8.32,
          8.48,
          9.02,
          8.79,
          9.55,
          10.04,
          10.35,
          10.54,
          9.76,
          9.04,
          9.24,
          8.81,
          8.72,
          8.86,
          8.51,
          9.34,
          10.02,
          10.16,
          10.41,
          11.21,
          11.47,
          10.61,
          10.34,
          10.65,
          10.66,
          11.41,
          12.32,
          11.93,
          12.34,
          11.68,
          11.25,
          11.19,
          10.39,
          10.52,
          11.1,
          11.77,
          10.8,
          11.13,
          10.68,
          10.3,
          10.56,
          10.59,
          10.67,
          11.42,
          11.15,
          12.67,
          14.48,
          15.12,
          16,
          16.64,
          17.82,
          16.48,
          15.86,
          15.43,
          16.28,
          15.96,
          15.12,
          15.8,
          14.93,
          15.73,
          17.09,
          17.11,
          18.22,
          18.45,
          18.41,
          17.47,
          17.02,
          17.8,
          17.13,
          18.38,
          19.09,
          18.65,
          17.46,
          17.48,
          18.16,
          16.23,
          15.07,
          14.49,
          14.96,
          15.58,
          15,
          14.41,
          15.18,
          15,
          14.16,
          16.04,
          15.87,
          15.14,
          16.18,
          18.69,
          17.16,
          17.34,
          16.53,
          17.23,
          19.96,
          22.45,
          20.95,
          21.25,
          20.28,
          20.16,
          19.5,
          19.19,
          21.36,
          20.82,
          22.22,
          20.96,
          21.62,
          22.02,
          21.2,
          20.11,
          21.9,
          21.69,
          24,
          24.57,
          24.66,
          24.57,
          25.4,
          25.34,
          26.35,
          26.25,
          25.29,
          25.15,
          25.57,
          25.77,
          26.83,
          26.17,
          25.62,
          24.99,
          24.89,
          25.53,
          24.89,
          24.13,
          26.57,
          26.73,
          25.79,
          26.85,
          25.63,
          26.1,
          27.12,
          26.03,
          25.66,
          25.91,
          27.03,
          25.89,
          26.41,
          24.68,
          23.45,
          24.17,
          24.17,
          25.14,
          24.76,
          25.5,
          25.24,
          25.64,
          25.34,
          26,
          26.15,
          25.64,
          23.54,
          23.02,
          23.08,
          22.38,
          24.09,
          19.47,
          19.66,
          21.5,
          21.63,
          19.01,
          20.9,
          23.89,
          24.53,
          24.28,
          26.23,
          27.45,
          25.62,
          22.66,
          23.73,
          22.72,
          22.3,
          23.29,
          23.13,
          24.2,
          28.83,
          29.35,
          28.56,
          28.63,
          29.94,
          31.33,
          29.4,
          26.81,
          26.78,
          26.8,
          27.41,
          25.51,
          27.049,
          26.634,
          28.775,
          28.409,
          28.235,
          28.886,
          27.962,
          26.299,
          26.409,
          29.095,
          30.253,
          30.118,
          30.557,
          28.059,
          28.999,
          28.755,
          28.368,
          26.709,
          28.309,
          26.148,
          25.435,
          23.533,
          21.326,
          22.382,
          22.007,
          21.746,
          20.908,
          19.58,
          19.012,
          18.894,
          18.527,
          18.27,
          18.463,
          18.594,
          17.578,
          16.694,
          14.554,
          15.712,
          16.312,
          16.098,
          16.342,
          17.077,
          17.891,
          18.446,
          19.576,
          20.669,
          20.254,
          20.976,
          20.442,
          22.259,
          22.297,
          20.072,
          20.773,
          19.033,
          18.224,
          17.824,
          19.258,
          18.537,
          17.69,
          17.072,
          16.113,
          15.88,
          18.051,
          17.8,
          16.366,
          15.871,
          20.705,
          19.783,
          20.354,
          22.169,
          21.811,
          23.439,
          24.155,
          23.264,
          21.248,
          21.85,
          23.56,
          25.105,
          23.429,
          24.212,
          25.85,
          25.614,
          26.42,
          28.664,
          27.626,
          27.413
         ],
         "yaxis": "y"
        }
       ],
       "layout": {
        "legend": {
         "tracegroupgap": 0
        },
        "margin": {
         "t": 60
        },
        "template": {
         "data": {
          "bar": [
           {
            "error_x": {
             "color": "#2a3f5f"
            },
            "error_y": {
             "color": "#2a3f5f"
            },
            "marker": {
             "line": {
              "color": "#E5ECF6",
              "width": 0.5
             },
             "pattern": {
              "fillmode": "overlay",
              "size": 10,
              "solidity": 0.2
             }
            },
            "type": "bar"
           }
          ],
          "barpolar": [
           {
            "marker": {
             "line": {
              "color": "#E5ECF6",
              "width": 0.5
             },
             "pattern": {
              "fillmode": "overlay",
              "size": 10,
              "solidity": 0.2
             }
            },
            "type": "barpolar"
           }
          ],
          "carpet": [
           {
            "aaxis": {
             "endlinecolor": "#2a3f5f",
             "gridcolor": "white",
             "linecolor": "white",
             "minorgridcolor": "white",
             "startlinecolor": "#2a3f5f"
            },
            "baxis": {
             "endlinecolor": "#2a3f5f",
             "gridcolor": "white",
             "linecolor": "white",
             "minorgridcolor": "white",
             "startlinecolor": "#2a3f5f"
            },
            "type": "carpet"
           }
          ],
          "choropleth": [
           {
            "colorbar": {
             "outlinewidth": 0,
             "ticks": ""
            },
            "type": "choropleth"
           }
          ],
          "contour": [
           {
            "colorbar": {
             "outlinewidth": 0,
             "ticks": ""
            },
            "colorscale": [
             [
              0,
              "#0d0887"
             ],
             [
              0.1111111111111111,
              "#46039f"
             ],
             [
              0.2222222222222222,
              "#7201a8"
             ],
             [
              0.3333333333333333,
              "#9c179e"
             ],
             [
              0.4444444444444444,
              "#bd3786"
             ],
             [
              0.5555555555555556,
              "#d8576b"
             ],
             [
              0.6666666666666666,
              "#ed7953"
             ],
             [
              0.7777777777777778,
              "#fb9f3a"
             ],
             [
              0.8888888888888888,
              "#fdca26"
             ],
             [
              1,
              "#f0f921"
             ]
            ],
            "type": "contour"
           }
          ],
          "contourcarpet": [
           {
            "colorbar": {
             "outlinewidth": 0,
             "ticks": ""
            },
            "type": "contourcarpet"
           }
          ],
          "heatmap": [
           {
            "colorbar": {
             "outlinewidth": 0,
             "ticks": ""
            },
            "colorscale": [
             [
              0,
              "#0d0887"
             ],
             [
              0.1111111111111111,
              "#46039f"
             ],
             [
              0.2222222222222222,
              "#7201a8"
             ],
             [
              0.3333333333333333,
              "#9c179e"
             ],
             [
              0.4444444444444444,
              "#bd3786"
             ],
             [
              0.5555555555555556,
              "#d8576b"
             ],
             [
              0.6666666666666666,
              "#ed7953"
             ],
             [
              0.7777777777777778,
              "#fb9f3a"
             ],
             [
              0.8888888888888888,
              "#fdca26"
             ],
             [
              1,
              "#f0f921"
             ]
            ],
            "type": "heatmap"
           }
          ],
          "heatmapgl": [
           {
            "colorbar": {
             "outlinewidth": 0,
             "ticks": ""
            },
            "colorscale": [
             [
              0,
              "#0d0887"
             ],
             [
              0.1111111111111111,
              "#46039f"
             ],
             [
              0.2222222222222222,
              "#7201a8"
             ],
             [
              0.3333333333333333,
              "#9c179e"
             ],
             [
              0.4444444444444444,
              "#bd3786"
             ],
             [
              0.5555555555555556,
              "#d8576b"
             ],
             [
              0.6666666666666666,
              "#ed7953"
             ],
             [
              0.7777777777777778,
              "#fb9f3a"
             ],
             [
              0.8888888888888888,
              "#fdca26"
             ],
             [
              1,
              "#f0f921"
             ]
            ],
            "type": "heatmapgl"
           }
          ],
          "histogram": [
           {
            "marker": {
             "pattern": {
              "fillmode": "overlay",
              "size": 10,
              "solidity": 0.2
             }
            },
            "type": "histogram"
           }
          ],
          "histogram2d": [
           {
            "colorbar": {
             "outlinewidth": 0,
             "ticks": ""
            },
            "colorscale": [
             [
              0,
              "#0d0887"
             ],
             [
              0.1111111111111111,
              "#46039f"
             ],
             [
              0.2222222222222222,
              "#7201a8"
             ],
             [
              0.3333333333333333,
              "#9c179e"
             ],
             [
              0.4444444444444444,
              "#bd3786"
             ],
             [
              0.5555555555555556,
              "#d8576b"
             ],
             [
              0.6666666666666666,
              "#ed7953"
             ],
             [
              0.7777777777777778,
              "#fb9f3a"
             ],
             [
              0.8888888888888888,
              "#fdca26"
             ],
             [
              1,
              "#f0f921"
             ]
            ],
            "type": "histogram2d"
           }
          ],
          "histogram2dcontour": [
           {
            "colorbar": {
             "outlinewidth": 0,
             "ticks": ""
            },
            "colorscale": [
             [
              0,
              "#0d0887"
             ],
             [
              0.1111111111111111,
              "#46039f"
             ],
             [
              0.2222222222222222,
              "#7201a8"
             ],
             [
              0.3333333333333333,
              "#9c179e"
             ],
             [
              0.4444444444444444,
              "#bd3786"
             ],
             [
              0.5555555555555556,
              "#d8576b"
             ],
             [
              0.6666666666666666,
              "#ed7953"
             ],
             [
              0.7777777777777778,
              "#fb9f3a"
             ],
             [
              0.8888888888888888,
              "#fdca26"
             ],
             [
              1,
              "#f0f921"
             ]
            ],
            "type": "histogram2dcontour"
           }
          ],
          "mesh3d": [
           {
            "colorbar": {
             "outlinewidth": 0,
             "ticks": ""
            },
            "type": "mesh3d"
           }
          ],
          "parcoords": [
           {
            "line": {
             "colorbar": {
              "outlinewidth": 0,
              "ticks": ""
             }
            },
            "type": "parcoords"
           }
          ],
          "pie": [
           {
            "automargin": true,
            "type": "pie"
           }
          ],
          "scatter": [
           {
            "marker": {
             "colorbar": {
              "outlinewidth": 0,
              "ticks": ""
             }
            },
            "type": "scatter"
           }
          ],
          "scatter3d": [
           {
            "line": {
             "colorbar": {
              "outlinewidth": 0,
              "ticks": ""
             }
            },
            "marker": {
             "colorbar": {
              "outlinewidth": 0,
              "ticks": ""
             }
            },
            "type": "scatter3d"
           }
          ],
          "scattercarpet": [
           {
            "marker": {
             "colorbar": {
              "outlinewidth": 0,
              "ticks": ""
             }
            },
            "type": "scattercarpet"
           }
          ],
          "scattergeo": [
           {
            "marker": {
             "colorbar": {
              "outlinewidth": 0,
              "ticks": ""
             }
            },
            "type": "scattergeo"
           }
          ],
          "scattergl": [
           {
            "marker": {
             "colorbar": {
              "outlinewidth": 0,
              "ticks": ""
             }
            },
            "type": "scattergl"
           }
          ],
          "scattermapbox": [
           {
            "marker": {
             "colorbar": {
              "outlinewidth": 0,
              "ticks": ""
             }
            },
            "type": "scattermapbox"
           }
          ],
          "scatterpolar": [
           {
            "marker": {
             "colorbar": {
              "outlinewidth": 0,
              "ticks": ""
             }
            },
            "type": "scatterpolar"
           }
          ],
          "scatterpolargl": [
           {
            "marker": {
             "colorbar": {
              "outlinewidth": 0,
              "ticks": ""
             }
            },
            "type": "scatterpolargl"
           }
          ],
          "scatterternary": [
           {
            "marker": {
             "colorbar": {
              "outlinewidth": 0,
              "ticks": ""
             }
            },
            "type": "scatterternary"
           }
          ],
          "surface": [
           {
            "colorbar": {
             "outlinewidth": 0,
             "ticks": ""
            },
            "colorscale": [
             [
              0,
              "#0d0887"
             ],
             [
              0.1111111111111111,
              "#46039f"
             ],
             [
              0.2222222222222222,
              "#7201a8"
             ],
             [
              0.3333333333333333,
              "#9c179e"
             ],
             [
              0.4444444444444444,
              "#bd3786"
             ],
             [
              0.5555555555555556,
              "#d8576b"
             ],
             [
              0.6666666666666666,
              "#ed7953"
             ],
             [
              0.7777777777777778,
              "#fb9f3a"
             ],
             [
              0.8888888888888888,
              "#fdca26"
             ],
             [
              1,
              "#f0f921"
             ]
            ],
            "type": "surface"
           }
          ],
          "table": [
           {
            "cells": {
             "fill": {
              "color": "#EBF0F8"
             },
             "line": {
              "color": "white"
             }
            },
            "header": {
             "fill": {
              "color": "#C8D4E3"
             },
             "line": {
              "color": "white"
             }
            },
            "type": "table"
           }
          ]
         },
         "layout": {
          "annotationdefaults": {
           "arrowcolor": "#2a3f5f",
           "arrowhead": 0,
           "arrowwidth": 1
          },
          "autotypenumbers": "strict",
          "coloraxis": {
           "colorbar": {
            "outlinewidth": 0,
            "ticks": ""
           }
          },
          "colorscale": {
           "diverging": [
            [
             0,
             "#8e0152"
            ],
            [
             0.1,
             "#c51b7d"
            ],
            [
             0.2,
             "#de77ae"
            ],
            [
             0.3,
             "#f1b6da"
            ],
            [
             0.4,
             "#fde0ef"
            ],
            [
             0.5,
             "#f7f7f7"
            ],
            [
             0.6,
             "#e6f5d0"
            ],
            [
             0.7,
             "#b8e186"
            ],
            [
             0.8,
             "#7fbc41"
            ],
            [
             0.9,
             "#4d9221"
            ],
            [
             1,
             "#276419"
            ]
           ],
           "sequential": [
            [
             0,
             "#0d0887"
            ],
            [
             0.1111111111111111,
             "#46039f"
            ],
            [
             0.2222222222222222,
             "#7201a8"
            ],
            [
             0.3333333333333333,
             "#9c179e"
            ],
            [
             0.4444444444444444,
             "#bd3786"
            ],
            [
             0.5555555555555556,
             "#d8576b"
            ],
            [
             0.6666666666666666,
             "#ed7953"
            ],
            [
             0.7777777777777778,
             "#fb9f3a"
            ],
            [
             0.8888888888888888,
             "#fdca26"
            ],
            [
             1,
             "#f0f921"
            ]
           ],
           "sequentialminus": [
            [
             0,
             "#0d0887"
            ],
            [
             0.1111111111111111,
             "#46039f"
            ],
            [
             0.2222222222222222,
             "#7201a8"
            ],
            [
             0.3333333333333333,
             "#9c179e"
            ],
            [
             0.4444444444444444,
             "#bd3786"
            ],
            [
             0.5555555555555556,
             "#d8576b"
            ],
            [
             0.6666666666666666,
             "#ed7953"
            ],
            [
             0.7777777777777778,
             "#fb9f3a"
            ],
            [
             0.8888888888888888,
             "#fdca26"
            ],
            [
             1,
             "#f0f921"
            ]
           ]
          },
          "colorway": [
           "#636efa",
           "#EF553B",
           "#00cc96",
           "#ab63fa",
           "#FFA15A",
           "#19d3f3",
           "#FF6692",
           "#B6E880",
           "#FF97FF",
           "#FECB52"
          ],
          "font": {
           "color": "#2a3f5f"
          },
          "geo": {
           "bgcolor": "white",
           "lakecolor": "white",
           "landcolor": "#E5ECF6",
           "showlakes": true,
           "showland": true,
           "subunitcolor": "white"
          },
          "hoverlabel": {
           "align": "left"
          },
          "hovermode": "closest",
          "mapbox": {
           "style": "light"
          },
          "paper_bgcolor": "white",
          "plot_bgcolor": "#E5ECF6",
          "polar": {
           "angularaxis": {
            "gridcolor": "white",
            "linecolor": "white",
            "ticks": ""
           },
           "bgcolor": "#E5ECF6",
           "radialaxis": {
            "gridcolor": "white",
            "linecolor": "white",
            "ticks": ""
           }
          },
          "scene": {
           "xaxis": {
            "backgroundcolor": "#E5ECF6",
            "gridcolor": "white",
            "gridwidth": 2,
            "linecolor": "white",
            "showbackground": true,
            "ticks": "",
            "zerolinecolor": "white"
           },
           "yaxis": {
            "backgroundcolor": "#E5ECF6",
            "gridcolor": "white",
            "gridwidth": 2,
            "linecolor": "white",
            "showbackground": true,
            "ticks": "",
            "zerolinecolor": "white"
           },
           "zaxis": {
            "backgroundcolor": "#E5ECF6",
            "gridcolor": "white",
            "gridwidth": 2,
            "linecolor": "white",
            "showbackground": true,
            "ticks": "",
            "zerolinecolor": "white"
           }
          },
          "shapedefaults": {
           "line": {
            "color": "#2a3f5f"
           }
          },
          "ternary": {
           "aaxis": {
            "gridcolor": "white",
            "linecolor": "white",
            "ticks": ""
           },
           "baxis": {
            "gridcolor": "white",
            "linecolor": "white",
            "ticks": ""
           },
           "bgcolor": "#E5ECF6",
           "caxis": {
            "gridcolor": "white",
            "linecolor": "white",
            "ticks": ""
           }
          },
          "title": {
           "x": 0.05
          },
          "xaxis": {
           "automargin": true,
           "gridcolor": "white",
           "linecolor": "white",
           "ticks": "",
           "title": {
            "standoff": 15
           },
           "zerolinecolor": "white",
           "zerolinewidth": 2
          },
          "yaxis": {
           "automargin": true,
           "gridcolor": "white",
           "linecolor": "white",
           "ticks": "",
           "title": {
            "standoff": 15
           },
           "zerolinecolor": "white",
           "zerolinewidth": 2
          }
         }
        },
        "xaxis": {
         "anchor": "y",
         "domain": [
          0,
          1
         ],
         "tickmode": "array",
         "ticktext": [
          "Mar 2022",
          "Feb 2022",
          "Jan 2022",
          "Dec 2021",
          "Nov 2021",
          "Oct 2021",
          "Sep 2021",
          "Aug 2021",
          "July 2021",
          "June 2021"
         ],
         "tickvals": [
          "Mar 01, 2022",
          "Feb 05, 2022",
          "Jan 06, 2022",
          "Dec 01, 2021",
          "Nov 01, 2021",
          "Oct 02, 2021",
          "Sep 02, 2021",
          "Aug 03, 2021",
          "Jul 04, 2021",
          "Jun 04, 2021"
         ],
         "title": {
          "text": "Date"
         }
        },
        "yaxis": {
         "anchor": "x",
         "domain": [
          0,
          1
         ],
         "title": {
          "text": "Price"
         }
        }
       }
      }
     },
     "metadata": {},
     "output_type": "display_data"
    }
   ],
   "source": [
    "df = pd.read_csv(\"uniswap_price_data.csv\")\n",
    "fig = px.line(df, x=\"Date\", y=\"Price\")\n",
    "\n",
    "# template=\"plotly_dark\"\n",
    "\n",
    "fig.update_layout(\n",
    "    xaxis = dict(\n",
    "        tickmode = \"array\",\n",
    "        tickvals = ['Mar 01, 2022', 'Feb 05, 2022', 'Jan 06, 2022', 'Dec 01, 2021',\n",
    "                    'Nov 01, 2021', 'Oct 02, 2021', 'Sep 02, 2021', 'Aug 03, 2021',\n",
    "                    'Jul 04, 2021', 'Jun 04, 2021'],\n",
    "        ticktext = ['Mar 2022', 'Feb 2022', 'Jan 2022', 'Dec 2021',\n",
    "                    'Nov 2021', 'Oct 2021', 'Sep 2021', 'Aug 2021',\n",
    "                    'July 2021', 'June 2021']\n",
    "    )\n",
    ")\n",
    "\n",
    "# # chart line color red\n",
    "# fig.update_traces(line_color='#FF0000')\n",
    "\n",
    "fig.show()"
   ]
  },
  {
   "cell_type": "code",
   "execution_count": 3,
   "metadata": {},
   "outputs": [
    {
     "name": "stdout",
     "output_type": "stream",
     "text": [
      "Collecting dash\n",
      "  Downloading dash-2.3.1-py3-none-any.whl (9.6 MB)\n",
      "\u001b[K     |████████████████████████████████| 9.6 MB 3.7 MB/s eta 0:00:01\n",
      "\u001b[?25hCollecting flask-compress\n",
      "  Using cached Flask_Compress-1.11-py3-none-any.whl (7.9 kB)\n",
      "Collecting dash-core-components==2.0.0\n",
      "  Using cached dash_core_components-2.0.0-py3-none-any.whl (3.8 kB)\n",
      "Collecting dash-html-components==2.0.0\n",
      "  Using cached dash_html_components-2.0.0-py3-none-any.whl (4.1 kB)\n",
      "Collecting dash-table==5.0.0\n",
      "  Using cached dash_table-5.0.0-py3-none-any.whl (3.9 kB)\n",
      "Requirement already satisfied: plotly>=5.0.0 in /opt/anaconda3/lib/python3.8/site-packages (from dash) (5.0.0)\n",
      "Requirement already satisfied: Flask>=1.0.4 in /opt/anaconda3/lib/python3.8/site-packages (from dash) (1.1.2)\n",
      "Collecting brotli\n",
      "  Using cached Brotli-1.0.9-cp38-cp38-macosx_10_9_x86_64.whl (421 kB)\n",
      "Requirement already satisfied: tenacity>=6.2.0 in /opt/anaconda3/lib/python3.8/site-packages (from plotly>=5.0.0->dash) (7.0.0)\n",
      "Requirement already satisfied: six in /opt/anaconda3/lib/python3.8/site-packages (from plotly>=5.0.0->dash) (1.16.0)\n",
      "Requirement already satisfied: Jinja2>=2.10.1 in /opt/anaconda3/lib/python3.8/site-packages (from Flask>=1.0.4->dash) (2.11.2)\n",
      "Requirement already satisfied: Werkzeug>=0.15 in /opt/anaconda3/lib/python3.8/site-packages (from Flask>=1.0.4->dash) (1.0.1)\n",
      "Requirement already satisfied: itsdangerous>=0.24 in /opt/anaconda3/lib/python3.8/site-packages (from Flask>=1.0.4->dash) (1.1.0)\n",
      "Requirement already satisfied: click>=5.1 in /opt/anaconda3/lib/python3.8/site-packages (from Flask>=1.0.4->dash) (7.1.2)\n",
      "Requirement already satisfied: MarkupSafe>=0.23 in /opt/anaconda3/lib/python3.8/site-packages (from Jinja2>=2.10.1->Flask>=1.0.4->dash) (1.1.1)\n",
      "Installing collected packages: brotli, flask-compress, dash-core-components, dash-html-components, dash-table, dash\n",
      "Successfully installed brotli-1.0.9 dash-2.3.1 dash-core-components-2.0.0 dash-html-components-2.0.0 dash-table-5.0.0 flask-compress-1.11\n",
      "Note: you may need to restart the kernel to use updated packages.\n"
     ]
    }
   ],
   "source": [
    "%pip install dash"
   ]
  },
  {
   "cell_type": "code",
   "execution_count": 4,
   "metadata": {},
   "outputs": [
    {
     "name": "stdout",
     "output_type": "stream",
     "text": [
      "Collecting dash_bootstrap_components\n",
      "  Using cached dash_bootstrap_components-1.0.3-py3-none-any.whl (209 kB)\n",
      "Requirement already satisfied: dash>=2.0.0 in /opt/anaconda3/lib/python3.8/site-packages (from dash_bootstrap_components) (2.3.1)\n",
      "Requirement already satisfied: dash-html-components==2.0.0 in /opt/anaconda3/lib/python3.8/site-packages (from dash>=2.0.0->dash_bootstrap_components) (2.0.0)\n",
      "Requirement already satisfied: Flask>=1.0.4 in /opt/anaconda3/lib/python3.8/site-packages (from dash>=2.0.0->dash_bootstrap_components) (1.1.2)\n",
      "Requirement already satisfied: dash-core-components==2.0.0 in /opt/anaconda3/lib/python3.8/site-packages (from dash>=2.0.0->dash_bootstrap_components) (2.0.0)\n",
      "Requirement already satisfied: flask-compress in /opt/anaconda3/lib/python3.8/site-packages (from dash>=2.0.0->dash_bootstrap_components) (1.11)\n",
      "Requirement already satisfied: dash-table==5.0.0 in /opt/anaconda3/lib/python3.8/site-packages (from dash>=2.0.0->dash_bootstrap_components) (5.0.0)\n",
      "Requirement already satisfied: plotly>=5.0.0 in /opt/anaconda3/lib/python3.8/site-packages (from dash>=2.0.0->dash_bootstrap_components) (5.0.0)\n",
      "Requirement already satisfied: click>=5.1 in /opt/anaconda3/lib/python3.8/site-packages (from Flask>=1.0.4->dash>=2.0.0->dash_bootstrap_components) (7.1.2)\n",
      "Requirement already satisfied: itsdangerous>=0.24 in /opt/anaconda3/lib/python3.8/site-packages (from Flask>=1.0.4->dash>=2.0.0->dash_bootstrap_components) (1.1.0)\n",
      "Requirement already satisfied: Werkzeug>=0.15 in /opt/anaconda3/lib/python3.8/site-packages (from Flask>=1.0.4->dash>=2.0.0->dash_bootstrap_components) (1.0.1)\n",
      "Requirement already satisfied: Jinja2>=2.10.1 in /opt/anaconda3/lib/python3.8/site-packages (from Flask>=1.0.4->dash>=2.0.0->dash_bootstrap_components) (2.11.2)\n",
      "Requirement already satisfied: brotli in /opt/anaconda3/lib/python3.8/site-packages (from flask-compress->dash>=2.0.0->dash_bootstrap_components) (1.0.9)\n",
      "Requirement already satisfied: six in /opt/anaconda3/lib/python3.8/site-packages (from plotly>=5.0.0->dash>=2.0.0->dash_bootstrap_components) (1.16.0)\n",
      "Requirement already satisfied: tenacity>=6.2.0 in /opt/anaconda3/lib/python3.8/site-packages (from plotly>=5.0.0->dash>=2.0.0->dash_bootstrap_components) (7.0.0)\n",
      "Requirement already satisfied: MarkupSafe>=0.23 in /opt/anaconda3/lib/python3.8/site-packages (from Jinja2>=2.10.1->Flask>=1.0.4->dash>=2.0.0->dash_bootstrap_components) (1.1.1)\n",
      "Installing collected packages: dash-bootstrap-components\n",
      "Successfully installed dash-bootstrap-components-1.0.3\n",
      "Note: you may need to restart the kernel to use updated packages.\n"
     ]
    }
   ],
   "source": [
    "%pip install dash_bootstrap_components"
   ]
  },
  {
   "cell_type": "code",
   "execution_count": 5,
   "metadata": {},
   "outputs": [],
   "source": [
    "from distutils.command.build import build\n",
    "from dash import Dash, html, dcc, Output, Input, callback\n",
    "import dash_bootstrap_components as dbc\n",
    "import plotly.graph_objects as go\n",
    "import pandas as pd\n",
    "import plotly.express as px\n",
    "# for sentiment analysis\n",
    "import numpy as np\n",
    "import re\n",
    "from nltk.corpus import stopwords\n",
    "import nltk\n",
    "from nltk.sentiment.vader import SentimentIntensityAnalyzer"
   ]
  },
  {
   "cell_type": "code",
   "execution_count": 22,
   "metadata": {},
   "outputs": [],
   "source": [
    "def sentiment_analysis(chosen_defi_coin):\n",
    "    stop = stopwords.words('english')\n",
    "    def clean_content(contentInput):\n",
    "        if type(contentInput) == np.float:\n",
    "            return \"\"\n",
    "        contentInput = contentInput.lower()\n",
    "        contentInput = re.sub(\"'\", \"\", contentInput) # to avoid removing contractions in english\n",
    "        contentInput = re.sub(\"@[A-Za-z0-9_]+\",\"\", contentInput)\n",
    "        contentInput = re.sub(\"#[A-Za-z0-9_]+\",\"\", contentInput)\n",
    "        contentInput = re.sub(r'http\\S+', '', contentInput)\n",
    "        contentInput = re.sub('[()!?]', ' ', contentInput)\n",
    "        contentInput = re.sub('\\[.*?\\]',' ', contentInput)\n",
    "        contentInput = re.sub(\"[^a-z0-9]\",\" \", contentInput)\n",
    "        contentInput = contentInput.strip()\n",
    "        contentInput = contentInput.split()\n",
    "        contentInput = [w for w in contentInput if not w in stop]\n",
    "        contentInput = \" \".join(word for word in contentInput)\n",
    "        return contentInput\n",
    "    string = chosen_defi_coin.lower() + \".csv\"\n",
    "    df = pd.read_csv(string)\n",
    "\n",
    "    df['date'] = df['created'].apply(lambda x: x.split(' ')[0])\n",
    "    df.sort_values(['date'], inplace=True)\n",
    "\n",
    "    df['year_month'] = df['date'].apply(lambda x: x[0:x.rfind('-')])\n",
    "\n",
    "    df = df.fillna(method='ffill')\n",
    "    # monthList = pd.date_range('2021-01-01','2022-02-01', \n",
    "    #             freq='MS').strftime(\"%m/%Y\").tolist()\n",
    "    monthList = list(df['year_month'].unique())\n",
    "\n",
    "    timeSplitData={}\n",
    "    timeSplitDataSentiment = {}\n",
    "\n",
    "    for month in monthList: \n",
    "        timeSplitData[month] = []\n",
    "        timeSplitDataSentiment[month] = []  \n",
    "\n",
    "    for row in df.iterrows():\n",
    "        month = row[1]['year_month']\n",
    "        content = row[1]['body']\n",
    "        cleaned = clean_content(content)\n",
    "        timeSplitData[month].append(cleaned)\n",
    "\n",
    "    sid = SentimentIntensityAnalyzer()\n",
    "\n",
    "    for month in monthList: # for month in timeSplitData:\n",
    "        for content in timeSplitData[month]:\n",
    "            output = sid.polarity_scores(content)\n",
    "            timeSplitDataSentiment[month].append(output)\n",
    "    \n",
    "    timeSplitDataNetScore = {}\n",
    "    for month in monthList:\n",
    "        timeSplitDataNetScore[month] = 0 \n",
    "        for output in timeSplitDataSentiment[month]:\n",
    "            compound = output['compound']\n",
    "            compound = compound / len(timeSplitDataSentiment[month])\n",
    "            timeSplitDataNetScore[month] +=compound\n",
    "\n",
    "    return timeSplitDataNetScore\n",
    "\n",
    "    df = pd.DataFrame({'date': timeSplitDataNetScore.keys(), 'sentiment': timeSplitDataNetScore.values()})\n",
    "    fig = go.Figure()\n",
    "    fig.add_trace(go.Scatter(x=df['date'], y=df['sentiment']))\n",
    "    return fig"
   ]
  },
  {
   "cell_type": "code",
   "execution_count": 14,
   "metadata": {},
   "outputs": [
    {
     "name": "stderr",
     "output_type": "stream",
     "text": [
      "<ipython-input-13-b33d724b7c22>:4: DeprecationWarning: `np.float` is a deprecated alias for the builtin `float`. To silence this warning, use `float` by itself. Doing this will not modify any behavior and is safe. If you specifically wanted the numpy scalar type, use `np.float64` here.\n",
      "Deprecated in NumPy 1.20; for more details and guidance: https://numpy.org/devdocs/release/1.20.0-notes.html#deprecations\n",
      "  if type(contentInput) == np.float:\n"
     ]
    },
    {
     "data": {
      "application/vnd.plotly.v1+json": {
       "config": {
        "plotlyServerURL": "https://plotly.com"
       },
       "data": [
        {
         "type": "scatter",
         "x": [
          "2021-01",
          "2021-02",
          "2021-03",
          "2021-04",
          "2021-05",
          "2021-06",
          "2021-07",
          "2021-08",
          "2021-09",
          "2021-10",
          "2021-11",
          "2021-12"
         ],
         "y": [
          0.3987874125874128,
          0.5084216981132077,
          0.49451428571428574,
          0.6425643749999994,
          0.46996713615023467,
          0.5057185840707964,
          0.6883381578947367,
          0.6565422018348626,
          0.5430939393939398,
          0.5446525773195875,
          0.6926254237288133,
          0.6965793103448277
         ]
        }
       ],
       "layout": {
        "template": {
         "data": {
          "bar": [
           {
            "error_x": {
             "color": "#2a3f5f"
            },
            "error_y": {
             "color": "#2a3f5f"
            },
            "marker": {
             "line": {
              "color": "#E5ECF6",
              "width": 0.5
             },
             "pattern": {
              "fillmode": "overlay",
              "size": 10,
              "solidity": 0.2
             }
            },
            "type": "bar"
           }
          ],
          "barpolar": [
           {
            "marker": {
             "line": {
              "color": "#E5ECF6",
              "width": 0.5
             },
             "pattern": {
              "fillmode": "overlay",
              "size": 10,
              "solidity": 0.2
             }
            },
            "type": "barpolar"
           }
          ],
          "carpet": [
           {
            "aaxis": {
             "endlinecolor": "#2a3f5f",
             "gridcolor": "white",
             "linecolor": "white",
             "minorgridcolor": "white",
             "startlinecolor": "#2a3f5f"
            },
            "baxis": {
             "endlinecolor": "#2a3f5f",
             "gridcolor": "white",
             "linecolor": "white",
             "minorgridcolor": "white",
             "startlinecolor": "#2a3f5f"
            },
            "type": "carpet"
           }
          ],
          "choropleth": [
           {
            "colorbar": {
             "outlinewidth": 0,
             "ticks": ""
            },
            "type": "choropleth"
           }
          ],
          "contour": [
           {
            "colorbar": {
             "outlinewidth": 0,
             "ticks": ""
            },
            "colorscale": [
             [
              0,
              "#0d0887"
             ],
             [
              0.1111111111111111,
              "#46039f"
             ],
             [
              0.2222222222222222,
              "#7201a8"
             ],
             [
              0.3333333333333333,
              "#9c179e"
             ],
             [
              0.4444444444444444,
              "#bd3786"
             ],
             [
              0.5555555555555556,
              "#d8576b"
             ],
             [
              0.6666666666666666,
              "#ed7953"
             ],
             [
              0.7777777777777778,
              "#fb9f3a"
             ],
             [
              0.8888888888888888,
              "#fdca26"
             ],
             [
              1,
              "#f0f921"
             ]
            ],
            "type": "contour"
           }
          ],
          "contourcarpet": [
           {
            "colorbar": {
             "outlinewidth": 0,
             "ticks": ""
            },
            "type": "contourcarpet"
           }
          ],
          "heatmap": [
           {
            "colorbar": {
             "outlinewidth": 0,
             "ticks": ""
            },
            "colorscale": [
             [
              0,
              "#0d0887"
             ],
             [
              0.1111111111111111,
              "#46039f"
             ],
             [
              0.2222222222222222,
              "#7201a8"
             ],
             [
              0.3333333333333333,
              "#9c179e"
             ],
             [
              0.4444444444444444,
              "#bd3786"
             ],
             [
              0.5555555555555556,
              "#d8576b"
             ],
             [
              0.6666666666666666,
              "#ed7953"
             ],
             [
              0.7777777777777778,
              "#fb9f3a"
             ],
             [
              0.8888888888888888,
              "#fdca26"
             ],
             [
              1,
              "#f0f921"
             ]
            ],
            "type": "heatmap"
           }
          ],
          "heatmapgl": [
           {
            "colorbar": {
             "outlinewidth": 0,
             "ticks": ""
            },
            "colorscale": [
             [
              0,
              "#0d0887"
             ],
             [
              0.1111111111111111,
              "#46039f"
             ],
             [
              0.2222222222222222,
              "#7201a8"
             ],
             [
              0.3333333333333333,
              "#9c179e"
             ],
             [
              0.4444444444444444,
              "#bd3786"
             ],
             [
              0.5555555555555556,
              "#d8576b"
             ],
             [
              0.6666666666666666,
              "#ed7953"
             ],
             [
              0.7777777777777778,
              "#fb9f3a"
             ],
             [
              0.8888888888888888,
              "#fdca26"
             ],
             [
              1,
              "#f0f921"
             ]
            ],
            "type": "heatmapgl"
           }
          ],
          "histogram": [
           {
            "marker": {
             "pattern": {
              "fillmode": "overlay",
              "size": 10,
              "solidity": 0.2
             }
            },
            "type": "histogram"
           }
          ],
          "histogram2d": [
           {
            "colorbar": {
             "outlinewidth": 0,
             "ticks": ""
            },
            "colorscale": [
             [
              0,
              "#0d0887"
             ],
             [
              0.1111111111111111,
              "#46039f"
             ],
             [
              0.2222222222222222,
              "#7201a8"
             ],
             [
              0.3333333333333333,
              "#9c179e"
             ],
             [
              0.4444444444444444,
              "#bd3786"
             ],
             [
              0.5555555555555556,
              "#d8576b"
             ],
             [
              0.6666666666666666,
              "#ed7953"
             ],
             [
              0.7777777777777778,
              "#fb9f3a"
             ],
             [
              0.8888888888888888,
              "#fdca26"
             ],
             [
              1,
              "#f0f921"
             ]
            ],
            "type": "histogram2d"
           }
          ],
          "histogram2dcontour": [
           {
            "colorbar": {
             "outlinewidth": 0,
             "ticks": ""
            },
            "colorscale": [
             [
              0,
              "#0d0887"
             ],
             [
              0.1111111111111111,
              "#46039f"
             ],
             [
              0.2222222222222222,
              "#7201a8"
             ],
             [
              0.3333333333333333,
              "#9c179e"
             ],
             [
              0.4444444444444444,
              "#bd3786"
             ],
             [
              0.5555555555555556,
              "#d8576b"
             ],
             [
              0.6666666666666666,
              "#ed7953"
             ],
             [
              0.7777777777777778,
              "#fb9f3a"
             ],
             [
              0.8888888888888888,
              "#fdca26"
             ],
             [
              1,
              "#f0f921"
             ]
            ],
            "type": "histogram2dcontour"
           }
          ],
          "mesh3d": [
           {
            "colorbar": {
             "outlinewidth": 0,
             "ticks": ""
            },
            "type": "mesh3d"
           }
          ],
          "parcoords": [
           {
            "line": {
             "colorbar": {
              "outlinewidth": 0,
              "ticks": ""
             }
            },
            "type": "parcoords"
           }
          ],
          "pie": [
           {
            "automargin": true,
            "type": "pie"
           }
          ],
          "scatter": [
           {
            "marker": {
             "colorbar": {
              "outlinewidth": 0,
              "ticks": ""
             }
            },
            "type": "scatter"
           }
          ],
          "scatter3d": [
           {
            "line": {
             "colorbar": {
              "outlinewidth": 0,
              "ticks": ""
             }
            },
            "marker": {
             "colorbar": {
              "outlinewidth": 0,
              "ticks": ""
             }
            },
            "type": "scatter3d"
           }
          ],
          "scattercarpet": [
           {
            "marker": {
             "colorbar": {
              "outlinewidth": 0,
              "ticks": ""
             }
            },
            "type": "scattercarpet"
           }
          ],
          "scattergeo": [
           {
            "marker": {
             "colorbar": {
              "outlinewidth": 0,
              "ticks": ""
             }
            },
            "type": "scattergeo"
           }
          ],
          "scattergl": [
           {
            "marker": {
             "colorbar": {
              "outlinewidth": 0,
              "ticks": ""
             }
            },
            "type": "scattergl"
           }
          ],
          "scattermapbox": [
           {
            "marker": {
             "colorbar": {
              "outlinewidth": 0,
              "ticks": ""
             }
            },
            "type": "scattermapbox"
           }
          ],
          "scatterpolar": [
           {
            "marker": {
             "colorbar": {
              "outlinewidth": 0,
              "ticks": ""
             }
            },
            "type": "scatterpolar"
           }
          ],
          "scatterpolargl": [
           {
            "marker": {
             "colorbar": {
              "outlinewidth": 0,
              "ticks": ""
             }
            },
            "type": "scatterpolargl"
           }
          ],
          "scatterternary": [
           {
            "marker": {
             "colorbar": {
              "outlinewidth": 0,
              "ticks": ""
             }
            },
            "type": "scatterternary"
           }
          ],
          "surface": [
           {
            "colorbar": {
             "outlinewidth": 0,
             "ticks": ""
            },
            "colorscale": [
             [
              0,
              "#0d0887"
             ],
             [
              0.1111111111111111,
              "#46039f"
             ],
             [
              0.2222222222222222,
              "#7201a8"
             ],
             [
              0.3333333333333333,
              "#9c179e"
             ],
             [
              0.4444444444444444,
              "#bd3786"
             ],
             [
              0.5555555555555556,
              "#d8576b"
             ],
             [
              0.6666666666666666,
              "#ed7953"
             ],
             [
              0.7777777777777778,
              "#fb9f3a"
             ],
             [
              0.8888888888888888,
              "#fdca26"
             ],
             [
              1,
              "#f0f921"
             ]
            ],
            "type": "surface"
           }
          ],
          "table": [
           {
            "cells": {
             "fill": {
              "color": "#EBF0F8"
             },
             "line": {
              "color": "white"
             }
            },
            "header": {
             "fill": {
              "color": "#C8D4E3"
             },
             "line": {
              "color": "white"
             }
            },
            "type": "table"
           }
          ]
         },
         "layout": {
          "annotationdefaults": {
           "arrowcolor": "#2a3f5f",
           "arrowhead": 0,
           "arrowwidth": 1
          },
          "autotypenumbers": "strict",
          "coloraxis": {
           "colorbar": {
            "outlinewidth": 0,
            "ticks": ""
           }
          },
          "colorscale": {
           "diverging": [
            [
             0,
             "#8e0152"
            ],
            [
             0.1,
             "#c51b7d"
            ],
            [
             0.2,
             "#de77ae"
            ],
            [
             0.3,
             "#f1b6da"
            ],
            [
             0.4,
             "#fde0ef"
            ],
            [
             0.5,
             "#f7f7f7"
            ],
            [
             0.6,
             "#e6f5d0"
            ],
            [
             0.7,
             "#b8e186"
            ],
            [
             0.8,
             "#7fbc41"
            ],
            [
             0.9,
             "#4d9221"
            ],
            [
             1,
             "#276419"
            ]
           ],
           "sequential": [
            [
             0,
             "#0d0887"
            ],
            [
             0.1111111111111111,
             "#46039f"
            ],
            [
             0.2222222222222222,
             "#7201a8"
            ],
            [
             0.3333333333333333,
             "#9c179e"
            ],
            [
             0.4444444444444444,
             "#bd3786"
            ],
            [
             0.5555555555555556,
             "#d8576b"
            ],
            [
             0.6666666666666666,
             "#ed7953"
            ],
            [
             0.7777777777777778,
             "#fb9f3a"
            ],
            [
             0.8888888888888888,
             "#fdca26"
            ],
            [
             1,
             "#f0f921"
            ]
           ],
           "sequentialminus": [
            [
             0,
             "#0d0887"
            ],
            [
             0.1111111111111111,
             "#46039f"
            ],
            [
             0.2222222222222222,
             "#7201a8"
            ],
            [
             0.3333333333333333,
             "#9c179e"
            ],
            [
             0.4444444444444444,
             "#bd3786"
            ],
            [
             0.5555555555555556,
             "#d8576b"
            ],
            [
             0.6666666666666666,
             "#ed7953"
            ],
            [
             0.7777777777777778,
             "#fb9f3a"
            ],
            [
             0.8888888888888888,
             "#fdca26"
            ],
            [
             1,
             "#f0f921"
            ]
           ]
          },
          "colorway": [
           "#636efa",
           "#EF553B",
           "#00cc96",
           "#ab63fa",
           "#FFA15A",
           "#19d3f3",
           "#FF6692",
           "#B6E880",
           "#FF97FF",
           "#FECB52"
          ],
          "font": {
           "color": "#2a3f5f"
          },
          "geo": {
           "bgcolor": "white",
           "lakecolor": "white",
           "landcolor": "#E5ECF6",
           "showlakes": true,
           "showland": true,
           "subunitcolor": "white"
          },
          "hoverlabel": {
           "align": "left"
          },
          "hovermode": "closest",
          "mapbox": {
           "style": "light"
          },
          "paper_bgcolor": "white",
          "plot_bgcolor": "#E5ECF6",
          "polar": {
           "angularaxis": {
            "gridcolor": "white",
            "linecolor": "white",
            "ticks": ""
           },
           "bgcolor": "#E5ECF6",
           "radialaxis": {
            "gridcolor": "white",
            "linecolor": "white",
            "ticks": ""
           }
          },
          "scene": {
           "xaxis": {
            "backgroundcolor": "#E5ECF6",
            "gridcolor": "white",
            "gridwidth": 2,
            "linecolor": "white",
            "showbackground": true,
            "ticks": "",
            "zerolinecolor": "white"
           },
           "yaxis": {
            "backgroundcolor": "#E5ECF6",
            "gridcolor": "white",
            "gridwidth": 2,
            "linecolor": "white",
            "showbackground": true,
            "ticks": "",
            "zerolinecolor": "white"
           },
           "zaxis": {
            "backgroundcolor": "#E5ECF6",
            "gridcolor": "white",
            "gridwidth": 2,
            "linecolor": "white",
            "showbackground": true,
            "ticks": "",
            "zerolinecolor": "white"
           }
          },
          "shapedefaults": {
           "line": {
            "color": "#2a3f5f"
           }
          },
          "ternary": {
           "aaxis": {
            "gridcolor": "white",
            "linecolor": "white",
            "ticks": ""
           },
           "baxis": {
            "gridcolor": "white",
            "linecolor": "white",
            "ticks": ""
           },
           "bgcolor": "#E5ECF6",
           "caxis": {
            "gridcolor": "white",
            "linecolor": "white",
            "ticks": ""
           }
          },
          "title": {
           "x": 0.05
          },
          "xaxis": {
           "automargin": true,
           "gridcolor": "white",
           "linecolor": "white",
           "ticks": "",
           "title": {
            "standoff": 15
           },
           "zerolinecolor": "white",
           "zerolinewidth": 2
          },
          "yaxis": {
           "automargin": true,
           "gridcolor": "white",
           "linecolor": "white",
           "ticks": "",
           "title": {
            "standoff": 15
           },
           "zerolinecolor": "white",
           "zerolinewidth": 2
          }
         }
        }
       }
      }
     },
     "metadata": {},
     "output_type": "display_data"
    }
   ],
   "source": [
    "sentiment_analysis(\"maker\")"
   ]
  },
  {
   "cell_type": "code",
   "execution_count": 20,
   "metadata": {},
   "outputs": [],
   "source": [
    "from plotly.subplots import make_subplots"
   ]
  },
  {
   "cell_type": "code",
   "execution_count": 52,
   "metadata": {},
   "outputs": [
    {
     "data": {
      "application/vnd.plotly.v1+json": {
       "config": {
        "plotlyServerURL": "https://plotly.com"
       },
       "data": [
        {
         "name": "Price",
         "type": "scatter",
         "x": [
          "2021-12-31",
          "2021-12-30",
          "2021-12-29",
          "2021-12-28",
          "2021-12-27",
          "2021-12-26",
          "2021-12-25",
          "2021-12-24",
          "2021-12-23",
          "2021-12-22",
          "2021-12-21",
          "2021-12-20",
          "2021-12-19",
          "2021-12-18",
          "2021-12-17",
          "2021-12-16",
          "2021-12-15",
          "2021-12-14",
          "2021-12-13",
          "2021-12-12",
          "2021-12-11",
          "2021-12-10",
          "2021-12-09",
          "2021-12-08",
          "2021-12-07",
          "2021-12-06",
          "2021-12-05",
          "2021-12-04",
          "2021-12-03",
          "2021-12-02",
          "2021-12-01",
          "2021-11-30",
          "2021-11-29",
          "2021-11-28",
          "2021-11-27",
          "2021-11-26",
          "2021-11-25",
          "2021-11-24",
          "2021-11-23",
          "2021-11-22",
          "2021-11-21",
          "2021-11-20",
          "2021-11-19",
          "2021-11-18",
          "2021-11-17",
          "2021-11-16",
          "2021-11-15",
          "2021-11-14",
          "2021-11-13",
          "2021-11-12",
          "2021-11-11",
          "2021-11-10",
          "2021-11-09",
          "2021-11-08",
          "2021-11-07",
          "2021-11-06",
          "2021-11-05",
          "2021-11-04",
          "2021-11-03",
          "2021-11-02",
          "2021-11-01",
          "2021-10-31",
          "2021-10-30",
          "2021-10-29",
          "2021-10-28",
          "2021-10-27",
          "2021-10-26",
          "2021-10-25",
          "2021-10-24",
          "2021-10-23",
          "2021-10-22",
          "2021-10-21",
          "2021-10-20",
          "2021-10-19",
          "2021-10-18",
          "2021-10-17",
          "2021-10-16",
          "2021-10-15",
          "2021-10-14",
          "2021-10-13",
          "2021-10-12",
          "2021-10-11",
          "2021-10-10",
          "2021-10-09",
          "2021-10-08",
          "2021-10-07",
          "2021-10-06",
          "2021-10-05",
          "2021-10-04",
          "2021-10-03",
          "2021-10-02",
          "2021-10-01",
          "2021-09-30",
          "2021-09-29",
          "2021-09-28",
          "2021-09-27",
          "2021-09-26",
          "2021-09-25",
          "2021-09-24",
          "2021-09-23",
          "2021-09-22",
          "2021-09-21",
          "2021-09-20",
          "2021-09-19",
          "2021-09-18",
          "2021-09-17",
          "2021-09-16",
          "2021-09-15",
          "2021-09-14",
          "2021-09-13",
          "2021-09-12",
          "2021-09-11",
          "2021-09-10",
          "2021-09-09",
          "2021-09-08",
          "2021-09-07",
          "2021-09-06",
          "2021-09-05",
          "2021-09-04",
          "2021-09-03",
          "2021-09-02",
          "2021-09-01",
          "2021-08-31",
          "2021-08-30",
          "2021-08-29",
          "2021-08-28",
          "2021-08-27",
          "2021-08-26",
          "2021-08-25",
          "2021-08-24",
          "2021-08-23",
          "2021-08-22",
          "2021-08-21",
          "2021-08-20",
          "2021-08-19",
          "2021-08-18",
          "2021-08-17",
          "2021-08-16",
          "2021-08-15",
          "2021-08-14",
          "2021-08-13",
          "2021-08-12",
          "2021-08-11",
          "2021-08-10",
          "2021-08-09",
          "2021-08-08",
          "2021-08-07",
          "2021-08-06",
          "2021-08-05",
          "2021-08-04",
          "2021-08-03",
          "2021-08-02",
          "2021-08-01",
          "2021-07-31",
          "2021-07-30",
          "2021-07-29",
          "2021-07-28",
          "2021-07-27",
          "2021-07-26",
          "2021-07-25",
          "2021-07-24",
          "2021-07-23",
          "2021-07-22",
          "2021-07-21",
          "2021-07-20",
          "2021-07-19",
          "2021-07-18",
          "2021-07-17",
          "2021-07-16",
          "2021-07-15",
          "2021-07-14",
          "2021-07-13",
          "2021-07-12",
          "2021-07-11",
          "2021-07-10",
          "2021-07-09",
          "2021-07-08",
          "2021-07-07",
          "2021-07-06",
          "2021-07-05",
          "2021-07-04",
          "2021-07-03",
          "2021-07-02",
          "2021-07-01",
          "2021-06-30",
          "2021-06-29",
          "2021-06-28",
          "2021-06-27",
          "2021-06-26",
          "2021-06-25",
          "2021-06-24",
          "2021-06-23",
          "2021-06-22",
          "2021-06-21",
          "2021-06-20",
          "2021-06-19",
          "2021-06-18",
          "2021-06-17",
          "2021-06-16",
          "2021-06-15",
          "2021-06-14",
          "2021-06-13",
          "2021-06-12",
          "2021-06-11",
          "2021-06-10",
          "2021-06-09",
          "2021-06-08",
          "2021-06-07",
          "2021-06-06",
          "2021-06-05",
          "2021-06-04",
          "2021-06-03",
          "2021-06-02",
          "2021-06-01",
          "2021-05-31",
          "2021-05-30",
          "2021-05-29",
          "2021-05-28",
          "2021-05-27",
          "2021-05-26",
          "2021-05-25",
          "2021-05-24",
          "2021-05-23",
          "2021-05-22",
          "2021-05-21",
          "2021-05-20",
          "2021-05-19",
          "2021-05-18",
          "2021-05-17",
          "2021-05-16",
          "2021-05-15",
          "2021-05-14",
          "2021-05-13",
          "2021-05-12",
          "2021-05-11",
          "2021-05-10",
          "2021-05-09",
          "2021-05-08",
          "2021-05-07",
          "2021-05-06",
          "2021-05-05",
          "2021-05-04",
          "2021-05-03",
          "2021-05-02",
          "2021-05-01",
          "2021-04-30",
          "2021-04-29",
          "2021-04-28",
          "2021-04-27",
          "2021-04-26",
          "2021-04-25",
          "2021-04-24",
          "2021-04-23",
          "2021-04-22",
          "2021-04-21",
          "2021-04-20",
          "2021-04-19",
          "2021-04-18",
          "2021-04-17",
          "2021-04-16",
          "2021-04-15",
          "2021-04-14",
          "2021-04-13",
          "2021-04-12",
          "2021-04-11",
          "2021-04-10",
          "2021-04-09",
          "2021-04-08",
          "2021-04-07",
          "2021-04-06",
          "2021-04-05",
          "2021-04-04",
          "2021-04-03",
          "2021-04-02",
          "2021-04-01",
          "2021-03-31",
          "2021-03-30",
          "2021-03-29",
          "2021-03-28",
          "2021-03-27",
          "2021-03-26",
          "2021-03-25",
          "2021-03-24",
          "2021-03-23",
          "2021-03-22",
          "2021-03-21",
          "2021-03-20",
          "2021-03-19",
          "2021-03-18",
          "2021-03-17",
          "2021-03-16",
          "2021-03-15",
          "2021-03-14",
          "2021-03-13",
          "2021-03-12",
          "2021-03-11",
          "2021-03-10",
          "2021-03-09",
          "2021-03-08",
          "2021-03-07",
          "2021-03-06",
          "2021-03-05",
          "2021-03-04",
          "2021-03-03",
          "2021-03-02",
          "2021-03-01",
          "2021-02-28",
          "2021-02-27",
          "2021-02-26",
          "2021-02-25",
          "2021-02-24",
          "2021-02-23",
          "2021-02-22",
          "2021-02-21",
          "2021-02-20",
          "2021-02-19",
          "2021-02-18",
          "2021-02-17",
          "2021-02-16",
          "2021-02-15",
          "2021-02-14",
          "2021-02-13",
          "2021-02-12",
          "2021-02-11",
          "2021-02-10",
          "2021-02-09",
          "2021-02-08"
         ],
         "xaxis": "x",
         "y": [
          5.3268,
          5.1137,
          4.8342,
          4.7229,
          5.2773,
          5.7299,
          5.8416,
          5.1786,
          5.1908,
          5.0556,
          4.6247,
          4.1102,
          4.1701,
          4.5277,
          4.2828,
          3.8258,
          3.706,
          3.4345,
          3.3272,
          3.852,
          3.7353,
          3.3505,
          3.6619,
          4.1663,
          4.1503,
          3.7176,
          3.6037,
          3.7603,
          4.3941,
          4.7458,
          4.987,
          5.0596,
          4.6836,
          4.8814,
          4.8456,
          4.9292,
          5.9253,
          5.8505,
          5.051,
          4.264,
          3.8085,
          3.9384,
          3.9596,
          4.1308,
          4.0289,
          3.7065,
          3.9347,
          4.1261,
          4.2231,
          4.0317,
          4.171,
          4.0945,
          4.5157,
          4.6352,
          4.4907,
          4.1063,
          4.0821,
          4.1574,
          4.3646,
          4.2726,
          4.4803,
          4.419,
          4.7121,
          4.6607,
          4.7755,
          4.4085,
          4.6374,
          4.7834,
          3.5032,
          3.694,
          3.3303,
          2.857,
          2.9356,
          2.7926,
          2.7958,
          2.8686,
          2.9051,
          2.8979,
          2.8894,
          2.9633,
          2.6881,
          2.6979,
          2.7003,
          2.9035,
          2.949,
          2.811,
          2.737,
          2.9353,
          2.8817,
          2.8152,
          2.538,
          2.5351,
          2.3366,
          2.2889,
          2.2305,
          2.3698,
          2.5554,
          2.3114,
          2.4268,
          2.7875,
          2.4511,
          2.1902,
          2.4087,
          3.0409,
          2.8809,
          2.8027,
          3.1055,
          3.0144,
          2.792,
          2.3619,
          2.4319,
          2.2696,
          2.1421,
          2.3729,
          1.9753,
          1.9782,
          2.4888,
          2.4801,
          2.2697,
          2.2049,
          2.205,
          2.3105,
          2.2372,
          2.0984,
          2.1024,
          2.0934,
          2.1805,
          2.0474,
          2.1982,
          2.0971,
          2.3656,
          2.4415,
          2.2205,
          2.27,
          2.1502,
          1.9135,
          1.9229,
          2.1237,
          2.2201,
          2.2609,
          2.3622,
          2.0284,
          2.0391,
          2.0689,
          1.8755,
          1.7561,
          1.9142,
          1.9213,
          1.7719,
          1.6233,
          1.5677,
          1.6263,
          1.6576,
          1.7033,
          1.6955,
          1.6216,
          1.5412,
          1.573,
          1.531,
          1.5237,
          1.5594,
          1.6,
          1.5407,
          1.4463,
          1.2801,
          1.3415,
          1.4129,
          1.4253,
          1.419,
          1.5008,
          1.5981,
          1.6032,
          1.6796,
          1.7565,
          1.7524,
          1.7655,
          1.7586,
          1.943,
          1.9737,
          1.7984,
          1.8398,
          1.7752,
          1.6601,
          1.6989,
          1.8155,
          1.7935,
          1.6099,
          1.5857,
          1.4888,
          1.4441,
          1.6805,
          1.5053,
          1.4008,
          1.4515,
          1.9215,
          1.8573,
          1.9259,
          2.0952,
          2.0676,
          2.2407,
          2.2799,
          2.2052,
          2.0782,
          2.1527,
          2.2588,
          2.5216,
          2.3186,
          2.151,
          2.4567,
          2.5292,
          2.6946,
          2.5019,
          2.3325,
          2.0486,
          1.9619,
          1.6811,
          1.7401,
          1.5904,
          1.7459,
          1.8916,
          1.6113,
          1.625,
          1.3208,
          1.6272,
          1.845,
          2.196,
          1.9509,
          3.4947,
          3.083,
          3.2716,
          3.2081,
          3.6752,
          3.3655,
          3.3073,
          3.3147,
          3.0933,
          3.4432,
          3.5715,
          3.65,
          3.2454,
          3.0929,
          2.8289,
          3.2434,
          3.2724,
          3.4022,
          3.3296,
          3.0185,
          3.0431,
          3.1273,
          2.7775,
          2.3819,
          2.372,
          2.6428,
          2.7682,
          2.8944,
          3.0316,
          2.8204,
          3.2173,
          3.7802,
          3.9124,
          4.0201,
          3.1676,
          3.1208,
          3.0335,
          3.1104,
          2.9633,
          2.9836,
          3.0724,
          2.8922,
          3.1715,
          3.3196,
          3.102,
          2.9186,
          3.3505,
          3.3082,
          3.1339,
          3.2846,
          3.5288,
          3.0236,
          3.1233,
          2.6227,
          2.3873,
          2.5165,
          2.8899,
          2.3587,
          2.597,
          2.6986,
          2.746,
          2.6042,
          2.425,
          2.6022,
          2.2248,
          2.1097,
          2.3803,
          2.061,
          2.1701,
          2.2163,
          2.3993,
          2.3921,
          2.2461,
          2.0473,
          2.05,
          2.0836,
          2.2801,
          2.5108,
          2.002,
          1.7629,
          1.9614,
          1.9252,
          2.0102,
          2.154,
          2.1362,
          2.5746,
          2.9098,
          2.8931,
          2.6261,
          2.8125,
          2.7841,
          2.6777,
          2.7184,
          2.9563,
          3.2922,
          3.3892,
          3.5574,
          3.0928,
          3.1761,
          3.0616
         ],
         "yaxis": "y"
        },
        {
         "name": "Sentiment",
         "type": "scatter",
         "x": [
          "2021-01",
          "2021-02",
          "2021-03",
          "2021-04",
          "2021-05",
          "2021-06",
          "2021-07",
          "2021-08",
          "2021-09",
          "2021-10",
          "2021-11",
          "2021-12"
         ],
         "xaxis": "x",
         "y": [
          0.7531018181818184,
          0.7464490909090912,
          0.8344196721311479,
          0.7618340659340657,
          0.764964285714286,
          0.7687678899082567,
          0.6829008695652179,
          0.7594174311926607,
          0.7428989898989897,
          0.8419863636363627,
          0.8954664335664339,
          0.7432068376068381
         ],
         "yaxis": "y2"
        }
       ],
       "layout": {
        "template": {
         "data": {
          "bar": [
           {
            "error_x": {
             "color": "#2a3f5f"
            },
            "error_y": {
             "color": "#2a3f5f"
            },
            "marker": {
             "line": {
              "color": "#E5ECF6",
              "width": 0.5
             },
             "pattern": {
              "fillmode": "overlay",
              "size": 10,
              "solidity": 0.2
             }
            },
            "type": "bar"
           }
          ],
          "barpolar": [
           {
            "marker": {
             "line": {
              "color": "#E5ECF6",
              "width": 0.5
             },
             "pattern": {
              "fillmode": "overlay",
              "size": 10,
              "solidity": 0.2
             }
            },
            "type": "barpolar"
           }
          ],
          "carpet": [
           {
            "aaxis": {
             "endlinecolor": "#2a3f5f",
             "gridcolor": "white",
             "linecolor": "white",
             "minorgridcolor": "white",
             "startlinecolor": "#2a3f5f"
            },
            "baxis": {
             "endlinecolor": "#2a3f5f",
             "gridcolor": "white",
             "linecolor": "white",
             "minorgridcolor": "white",
             "startlinecolor": "#2a3f5f"
            },
            "type": "carpet"
           }
          ],
          "choropleth": [
           {
            "colorbar": {
             "outlinewidth": 0,
             "ticks": ""
            },
            "type": "choropleth"
           }
          ],
          "contour": [
           {
            "colorbar": {
             "outlinewidth": 0,
             "ticks": ""
            },
            "colorscale": [
             [
              0,
              "#0d0887"
             ],
             [
              0.1111111111111111,
              "#46039f"
             ],
             [
              0.2222222222222222,
              "#7201a8"
             ],
             [
              0.3333333333333333,
              "#9c179e"
             ],
             [
              0.4444444444444444,
              "#bd3786"
             ],
             [
              0.5555555555555556,
              "#d8576b"
             ],
             [
              0.6666666666666666,
              "#ed7953"
             ],
             [
              0.7777777777777778,
              "#fb9f3a"
             ],
             [
              0.8888888888888888,
              "#fdca26"
             ],
             [
              1,
              "#f0f921"
             ]
            ],
            "type": "contour"
           }
          ],
          "contourcarpet": [
           {
            "colorbar": {
             "outlinewidth": 0,
             "ticks": ""
            },
            "type": "contourcarpet"
           }
          ],
          "heatmap": [
           {
            "colorbar": {
             "outlinewidth": 0,
             "ticks": ""
            },
            "colorscale": [
             [
              0,
              "#0d0887"
             ],
             [
              0.1111111111111111,
              "#46039f"
             ],
             [
              0.2222222222222222,
              "#7201a8"
             ],
             [
              0.3333333333333333,
              "#9c179e"
             ],
             [
              0.4444444444444444,
              "#bd3786"
             ],
             [
              0.5555555555555556,
              "#d8576b"
             ],
             [
              0.6666666666666666,
              "#ed7953"
             ],
             [
              0.7777777777777778,
              "#fb9f3a"
             ],
             [
              0.8888888888888888,
              "#fdca26"
             ],
             [
              1,
              "#f0f921"
             ]
            ],
            "type": "heatmap"
           }
          ],
          "heatmapgl": [
           {
            "colorbar": {
             "outlinewidth": 0,
             "ticks": ""
            },
            "colorscale": [
             [
              0,
              "#0d0887"
             ],
             [
              0.1111111111111111,
              "#46039f"
             ],
             [
              0.2222222222222222,
              "#7201a8"
             ],
             [
              0.3333333333333333,
              "#9c179e"
             ],
             [
              0.4444444444444444,
              "#bd3786"
             ],
             [
              0.5555555555555556,
              "#d8576b"
             ],
             [
              0.6666666666666666,
              "#ed7953"
             ],
             [
              0.7777777777777778,
              "#fb9f3a"
             ],
             [
              0.8888888888888888,
              "#fdca26"
             ],
             [
              1,
              "#f0f921"
             ]
            ],
            "type": "heatmapgl"
           }
          ],
          "histogram": [
           {
            "marker": {
             "pattern": {
              "fillmode": "overlay",
              "size": 10,
              "solidity": 0.2
             }
            },
            "type": "histogram"
           }
          ],
          "histogram2d": [
           {
            "colorbar": {
             "outlinewidth": 0,
             "ticks": ""
            },
            "colorscale": [
             [
              0,
              "#0d0887"
             ],
             [
              0.1111111111111111,
              "#46039f"
             ],
             [
              0.2222222222222222,
              "#7201a8"
             ],
             [
              0.3333333333333333,
              "#9c179e"
             ],
             [
              0.4444444444444444,
              "#bd3786"
             ],
             [
              0.5555555555555556,
              "#d8576b"
             ],
             [
              0.6666666666666666,
              "#ed7953"
             ],
             [
              0.7777777777777778,
              "#fb9f3a"
             ],
             [
              0.8888888888888888,
              "#fdca26"
             ],
             [
              1,
              "#f0f921"
             ]
            ],
            "type": "histogram2d"
           }
          ],
          "histogram2dcontour": [
           {
            "colorbar": {
             "outlinewidth": 0,
             "ticks": ""
            },
            "colorscale": [
             [
              0,
              "#0d0887"
             ],
             [
              0.1111111111111111,
              "#46039f"
             ],
             [
              0.2222222222222222,
              "#7201a8"
             ],
             [
              0.3333333333333333,
              "#9c179e"
             ],
             [
              0.4444444444444444,
              "#bd3786"
             ],
             [
              0.5555555555555556,
              "#d8576b"
             ],
             [
              0.6666666666666666,
              "#ed7953"
             ],
             [
              0.7777777777777778,
              "#fb9f3a"
             ],
             [
              0.8888888888888888,
              "#fdca26"
             ],
             [
              1,
              "#f0f921"
             ]
            ],
            "type": "histogram2dcontour"
           }
          ],
          "mesh3d": [
           {
            "colorbar": {
             "outlinewidth": 0,
             "ticks": ""
            },
            "type": "mesh3d"
           }
          ],
          "parcoords": [
           {
            "line": {
             "colorbar": {
              "outlinewidth": 0,
              "ticks": ""
             }
            },
            "type": "parcoords"
           }
          ],
          "pie": [
           {
            "automargin": true,
            "type": "pie"
           }
          ],
          "scatter": [
           {
            "marker": {
             "colorbar": {
              "outlinewidth": 0,
              "ticks": ""
             }
            },
            "type": "scatter"
           }
          ],
          "scatter3d": [
           {
            "line": {
             "colorbar": {
              "outlinewidth": 0,
              "ticks": ""
             }
            },
            "marker": {
             "colorbar": {
              "outlinewidth": 0,
              "ticks": ""
             }
            },
            "type": "scatter3d"
           }
          ],
          "scattercarpet": [
           {
            "marker": {
             "colorbar": {
              "outlinewidth": 0,
              "ticks": ""
             }
            },
            "type": "scattercarpet"
           }
          ],
          "scattergeo": [
           {
            "marker": {
             "colorbar": {
              "outlinewidth": 0,
              "ticks": ""
             }
            },
            "type": "scattergeo"
           }
          ],
          "scattergl": [
           {
            "marker": {
             "colorbar": {
              "outlinewidth": 0,
              "ticks": ""
             }
            },
            "type": "scattergl"
           }
          ],
          "scattermapbox": [
           {
            "marker": {
             "colorbar": {
              "outlinewidth": 0,
              "ticks": ""
             }
            },
            "type": "scattermapbox"
           }
          ],
          "scatterpolar": [
           {
            "marker": {
             "colorbar": {
              "outlinewidth": 0,
              "ticks": ""
             }
            },
            "type": "scatterpolar"
           }
          ],
          "scatterpolargl": [
           {
            "marker": {
             "colorbar": {
              "outlinewidth": 0,
              "ticks": ""
             }
            },
            "type": "scatterpolargl"
           }
          ],
          "scatterternary": [
           {
            "marker": {
             "colorbar": {
              "outlinewidth": 0,
              "ticks": ""
             }
            },
            "type": "scatterternary"
           }
          ],
          "surface": [
           {
            "colorbar": {
             "outlinewidth": 0,
             "ticks": ""
            },
            "colorscale": [
             [
              0,
              "#0d0887"
             ],
             [
              0.1111111111111111,
              "#46039f"
             ],
             [
              0.2222222222222222,
              "#7201a8"
             ],
             [
              0.3333333333333333,
              "#9c179e"
             ],
             [
              0.4444444444444444,
              "#bd3786"
             ],
             [
              0.5555555555555556,
              "#d8576b"
             ],
             [
              0.6666666666666666,
              "#ed7953"
             ],
             [
              0.7777777777777778,
              "#fb9f3a"
             ],
             [
              0.8888888888888888,
              "#fdca26"
             ],
             [
              1,
              "#f0f921"
             ]
            ],
            "type": "surface"
           }
          ],
          "table": [
           {
            "cells": {
             "fill": {
              "color": "#EBF0F8"
             },
             "line": {
              "color": "white"
             }
            },
            "header": {
             "fill": {
              "color": "#C8D4E3"
             },
             "line": {
              "color": "white"
             }
            },
            "type": "table"
           }
          ]
         },
         "layout": {
          "annotationdefaults": {
           "arrowcolor": "#2a3f5f",
           "arrowhead": 0,
           "arrowwidth": 1
          },
          "autotypenumbers": "strict",
          "coloraxis": {
           "colorbar": {
            "outlinewidth": 0,
            "ticks": ""
           }
          },
          "colorscale": {
           "diverging": [
            [
             0,
             "#8e0152"
            ],
            [
             0.1,
             "#c51b7d"
            ],
            [
             0.2,
             "#de77ae"
            ],
            [
             0.3,
             "#f1b6da"
            ],
            [
             0.4,
             "#fde0ef"
            ],
            [
             0.5,
             "#f7f7f7"
            ],
            [
             0.6,
             "#e6f5d0"
            ],
            [
             0.7,
             "#b8e186"
            ],
            [
             0.8,
             "#7fbc41"
            ],
            [
             0.9,
             "#4d9221"
            ],
            [
             1,
             "#276419"
            ]
           ],
           "sequential": [
            [
             0,
             "#0d0887"
            ],
            [
             0.1111111111111111,
             "#46039f"
            ],
            [
             0.2222222222222222,
             "#7201a8"
            ],
            [
             0.3333333333333333,
             "#9c179e"
            ],
            [
             0.4444444444444444,
             "#bd3786"
            ],
            [
             0.5555555555555556,
             "#d8576b"
            ],
            [
             0.6666666666666666,
             "#ed7953"
            ],
            [
             0.7777777777777778,
             "#fb9f3a"
            ],
            [
             0.8888888888888888,
             "#fdca26"
            ],
            [
             1,
             "#f0f921"
            ]
           ],
           "sequentialminus": [
            [
             0,
             "#0d0887"
            ],
            [
             0.1111111111111111,
             "#46039f"
            ],
            [
             0.2222222222222222,
             "#7201a8"
            ],
            [
             0.3333333333333333,
             "#9c179e"
            ],
            [
             0.4444444444444444,
             "#bd3786"
            ],
            [
             0.5555555555555556,
             "#d8576b"
            ],
            [
             0.6666666666666666,
             "#ed7953"
            ],
            [
             0.7777777777777778,
             "#fb9f3a"
            ],
            [
             0.8888888888888888,
             "#fdca26"
            ],
            [
             1,
             "#f0f921"
            ]
           ]
          },
          "colorway": [
           "#636efa",
           "#EF553B",
           "#00cc96",
           "#ab63fa",
           "#FFA15A",
           "#19d3f3",
           "#FF6692",
           "#B6E880",
           "#FF97FF",
           "#FECB52"
          ],
          "font": {
           "color": "#2a3f5f"
          },
          "geo": {
           "bgcolor": "white",
           "lakecolor": "white",
           "landcolor": "#E5ECF6",
           "showlakes": true,
           "showland": true,
           "subunitcolor": "white"
          },
          "hoverlabel": {
           "align": "left"
          },
          "hovermode": "closest",
          "mapbox": {
           "style": "light"
          },
          "paper_bgcolor": "white",
          "plot_bgcolor": "#E5ECF6",
          "polar": {
           "angularaxis": {
            "gridcolor": "white",
            "linecolor": "white",
            "ticks": ""
           },
           "bgcolor": "#E5ECF6",
           "radialaxis": {
            "gridcolor": "white",
            "linecolor": "white",
            "ticks": ""
           }
          },
          "scene": {
           "xaxis": {
            "backgroundcolor": "#E5ECF6",
            "gridcolor": "white",
            "gridwidth": 2,
            "linecolor": "white",
            "showbackground": true,
            "ticks": "",
            "zerolinecolor": "white"
           },
           "yaxis": {
            "backgroundcolor": "#E5ECF6",
            "gridcolor": "white",
            "gridwidth": 2,
            "linecolor": "white",
            "showbackground": true,
            "ticks": "",
            "zerolinecolor": "white"
           },
           "zaxis": {
            "backgroundcolor": "#E5ECF6",
            "gridcolor": "white",
            "gridwidth": 2,
            "linecolor": "white",
            "showbackground": true,
            "ticks": "",
            "zerolinecolor": "white"
           }
          },
          "shapedefaults": {
           "line": {
            "color": "#2a3f5f"
           }
          },
          "ternary": {
           "aaxis": {
            "gridcolor": "white",
            "linecolor": "white",
            "ticks": ""
           },
           "baxis": {
            "gridcolor": "white",
            "linecolor": "white",
            "ticks": ""
           },
           "bgcolor": "#E5ECF6",
           "caxis": {
            "gridcolor": "white",
            "linecolor": "white",
            "ticks": ""
           }
          },
          "title": {
           "x": 0.05
          },
          "xaxis": {
           "automargin": true,
           "gridcolor": "white",
           "linecolor": "white",
           "ticks": "",
           "title": {
            "standoff": 15
           },
           "zerolinecolor": "white",
           "zerolinewidth": 2
          },
          "yaxis": {
           "automargin": true,
           "gridcolor": "white",
           "linecolor": "white",
           "ticks": "",
           "title": {
            "standoff": 15
           },
           "zerolinecolor": "white",
           "zerolinewidth": 2
          }
         }
        },
        "title": {
         "text": "Curve Data Price against Sentiment",
         "x": 0.5
        },
        "xaxis": {
         "anchor": "y",
         "autorange": "reversed",
         "domain": [
          0,
          0.94
         ],
         "title": {
          "text": "Date"
         }
        },
        "yaxis": {
         "anchor": "x",
         "domain": [
          0,
          1
         ],
         "title": {
          "text": "Price"
         }
        },
        "yaxis2": {
         "anchor": "x",
         "overlaying": "y",
         "side": "right",
         "title": {
          "text": "Sentiment"
         }
        }
       }
      }
     },
     "metadata": {},
     "output_type": "display_data"
    }
   ],
   "source": [
    "price_df = pd.read_csv(\"curve_price_data.csv\")\n",
    "# timeSplitDataNetScore = sentiment_analysis(\"curve\")\n",
    "sentiment_df = pd.DataFrame({'date': timeSplitDataNetScore.keys(), 'sentiment': timeSplitDataNetScore.values()})\n",
    "\n",
    "def mdy_to_ymd(d):\n",
    "    return datetime.strptime(d, '%b %d, %Y').strftime('%Y-%m-%d')\n",
    "\n",
    "price_df['format_date'] = price_df['Date'].apply(lambda x:  mdy_to_ymd(x))\n",
    "\n",
    "fig = make_subplots(specs=[[{\"secondary_y\": True}]])\n",
    "fig.add_trace(go.Scatter(x=price_df['format_date'], y=price_df['Price'], name='Price'), secondary_y= False)\n",
    "fig.update_xaxes(autorange=\"reversed\") \n",
    "# fig.update_xaxes(dtick=\"M1\")\n",
    "\n",
    "fig.add_trace(go.Scatter(x=sentiment_df['date'], y=sentiment_df['sentiment'], name='Sentiment'), secondary_y= True)\n",
    "\n",
    "fig.update_layout(\n",
    "    title_text=\"Curve Data Price against Sentiment\",\n",
    "    title_x=0.5\n",
    ")\n",
    "fig.update_xaxes(title_text=\"Date\")\n",
    "fig.update_yaxes(title_text=\"Price\", secondary_y=False)\n",
    "fig.update_yaxes(title_text=\"Sentiment\", secondary_y=True)"
   ]
  },
  {
   "cell_type": "code",
   "execution_count": 46,
   "metadata": {},
   "outputs": [
    {
     "data": {
      "text/plain": [
       "array(['2021-12', '2021-11', '2021-10', '2021-09', '2021-08', '2021-07',\n",
       "       '2021-06', '2021-05', '2021-04', '2021-03', '2021-02'],\n",
       "      dtype=object)"
      ]
     },
     "execution_count": 46,
     "metadata": {},
     "output_type": "execute_result"
    }
   ],
   "source": [
    "price_df['format_date'].unique()"
   ]
  },
  {
   "cell_type": "code",
   "execution_count": 50,
   "metadata": {},
   "outputs": [
    {
     "data": {
      "application/vnd.plotly.v1+json": {
       "config": {
        "plotlyServerURL": "https://plotly.com"
       },
       "data": [
        {
         "name": "Price",
         "type": "scatter",
         "x": [
          "Dec 31, 2021",
          "Dec 30, 2021",
          "Dec 29, 2021",
          "Dec 28, 2021",
          "Dec 27, 2021",
          "Dec 26, 2021",
          "Dec 25, 2021",
          "Dec 24, 2021",
          "Dec 23, 2021",
          "Dec 22, 2021",
          "Dec 21, 2021",
          "Dec 20, 2021",
          "Dec 19, 2021",
          "Dec 18, 2021",
          "Dec 17, 2021",
          "Dec 16, 2021",
          "Dec 15, 2021",
          "Dec 14, 2021",
          "Dec 13, 2021",
          "Dec 12, 2021",
          "Dec 11, 2021",
          "Dec 10, 2021",
          "Dec 09, 2021",
          "Dec 08, 2021",
          "Dec 07, 2021",
          "Dec 06, 2021",
          "Dec 05, 2021",
          "Dec 04, 2021",
          "Dec 03, 2021",
          "Dec 02, 2021",
          "Dec 01, 2021",
          "Nov 30, 2021",
          "Nov 29, 2021",
          "Nov 28, 2021",
          "Nov 27, 2021",
          "Nov 26, 2021",
          "Nov 25, 2021",
          "Nov 24, 2021",
          "Nov 23, 2021",
          "Nov 22, 2021",
          "Nov 21, 2021",
          "Nov 20, 2021",
          "Nov 19, 2021",
          "Nov 18, 2021",
          "Nov 17, 2021",
          "Nov 16, 2021",
          "Nov 15, 2021",
          "Nov 14, 2021",
          "Nov 13, 2021",
          "Nov 12, 2021",
          "Nov 11, 2021",
          "Nov 10, 2021",
          "Nov 09, 2021",
          "Nov 08, 2021",
          "Nov 07, 2021",
          "Nov 06, 2021",
          "Nov 05, 2021",
          "Nov 04, 2021",
          "Nov 03, 2021",
          "Nov 02, 2021",
          "Nov 01, 2021",
          "Oct 31, 2021",
          "Oct 30, 2021",
          "Oct 29, 2021",
          "Oct 28, 2021",
          "Oct 27, 2021",
          "Oct 26, 2021",
          "Oct 25, 2021",
          "Oct 24, 2021",
          "Oct 23, 2021",
          "Oct 22, 2021",
          "Oct 21, 2021",
          "Oct 20, 2021",
          "Oct 19, 2021",
          "Oct 18, 2021",
          "Oct 17, 2021",
          "Oct 16, 2021",
          "Oct 15, 2021",
          "Oct 14, 2021",
          "Oct 13, 2021",
          "Oct 12, 2021",
          "Oct 11, 2021",
          "Oct 10, 2021",
          "Oct 09, 2021",
          "Oct 08, 2021",
          "Oct 07, 2021",
          "Oct 06, 2021",
          "Oct 05, 2021",
          "Oct 04, 2021",
          "Oct 03, 2021",
          "Oct 02, 2021",
          "Oct 01, 2021",
          "Sep 30, 2021",
          "Sep 29, 2021",
          "Sep 28, 2021",
          "Sep 27, 2021",
          "Sep 26, 2021",
          "Sep 25, 2021",
          "Sep 24, 2021",
          "Sep 23, 2021",
          "Sep 22, 2021",
          "Sep 21, 2021",
          "Sep 20, 2021",
          "Sep 19, 2021",
          "Sep 18, 2021",
          "Sep 17, 2021",
          "Sep 16, 2021",
          "Sep 15, 2021",
          "Sep 14, 2021",
          "Sep 13, 2021",
          "Sep 12, 2021",
          "Sep 11, 2021",
          "Sep 10, 2021",
          "Sep 09, 2021",
          "Sep 08, 2021",
          "Sep 07, 2021",
          "Sep 06, 2021",
          "Sep 05, 2021",
          "Sep 04, 2021",
          "Sep 03, 2021",
          "Sep 02, 2021",
          "Sep 01, 2021",
          "Aug 31, 2021",
          "Aug 30, 2021",
          "Aug 29, 2021",
          "Aug 28, 2021",
          "Aug 27, 2021",
          "Aug 26, 2021",
          "Aug 25, 2021",
          "Aug 24, 2021",
          "Aug 23, 2021",
          "Aug 22, 2021",
          "Aug 21, 2021",
          "Aug 20, 2021",
          "Aug 19, 2021",
          "Aug 18, 2021",
          "Aug 17, 2021",
          "Aug 16, 2021",
          "Aug 15, 2021",
          "Aug 14, 2021",
          "Aug 13, 2021",
          "Aug 12, 2021",
          "Aug 11, 2021",
          "Aug 10, 2021",
          "Aug 09, 2021",
          "Aug 08, 2021",
          "Aug 07, 2021",
          "Aug 06, 2021",
          "Aug 05, 2021",
          "Aug 04, 2021",
          "Aug 03, 2021",
          "Aug 02, 2021",
          "Aug 01, 2021",
          "Jul 31, 2021",
          "Jul 30, 2021",
          "Jul 29, 2021",
          "Jul 28, 2021",
          "Jul 27, 2021",
          "Jul 26, 2021",
          "Jul 25, 2021",
          "Jul 24, 2021",
          "Jul 23, 2021",
          "Jul 22, 2021",
          "Jul 21, 2021",
          "Jul 20, 2021",
          "Jul 19, 2021",
          "Jul 18, 2021",
          "Jul 17, 2021",
          "Jul 16, 2021",
          "Jul 15, 2021",
          "Jul 14, 2021",
          "Jul 13, 2021",
          "Jul 12, 2021",
          "Jul 11, 2021",
          "Jul 10, 2021",
          "Jul 09, 2021",
          "Jul 08, 2021",
          "Jul 07, 2021",
          "Jul 06, 2021",
          "Jul 05, 2021",
          "Jul 04, 2021",
          "Jul 03, 2021",
          "Jul 02, 2021",
          "Jul 01, 2021",
          "Jun 30, 2021",
          "Jun 29, 2021",
          "Jun 28, 2021",
          "Jun 27, 2021",
          "Jun 26, 2021",
          "Jun 25, 2021",
          "Jun 24, 2021",
          "Jun 23, 2021",
          "Jun 22, 2021",
          "Jun 21, 2021",
          "Jun 20, 2021",
          "Jun 19, 2021",
          "Jun 18, 2021",
          "Jun 17, 2021",
          "Jun 16, 2021",
          "Jun 15, 2021",
          "Jun 14, 2021",
          "Jun 13, 2021",
          "Jun 12, 2021",
          "Jun 11, 2021",
          "Jun 10, 2021",
          "Jun 09, 2021",
          "Jun 08, 2021",
          "Jun 07, 2021",
          "Jun 06, 2021",
          "Jun 05, 2021",
          "Jun 04, 2021",
          "Jun 03, 2021",
          "Jun 02, 2021",
          "Jun 01, 2021",
          "May 31, 2021",
          "May 30, 2021",
          "May 29, 2021",
          "May 28, 2021",
          "May 27, 2021",
          "May 26, 2021",
          "May 25, 2021",
          "May 24, 2021",
          "May 23, 2021",
          "May 22, 2021",
          "May 21, 2021",
          "May 20, 2021",
          "May 19, 2021",
          "May 18, 2021",
          "May 17, 2021",
          "May 16, 2021",
          "May 15, 2021",
          "May 14, 2021",
          "May 13, 2021",
          "May 12, 2021",
          "May 11, 2021",
          "May 10, 2021",
          "May 09, 2021",
          "May 08, 2021",
          "May 07, 2021",
          "May 06, 2021",
          "May 05, 2021",
          "May 04, 2021",
          "May 03, 2021",
          "May 02, 2021",
          "May 01, 2021",
          "Apr 30, 2021",
          "Apr 29, 2021",
          "Apr 28, 2021",
          "Apr 27, 2021",
          "Apr 26, 2021",
          "Apr 25, 2021",
          "Apr 24, 2021",
          "Apr 23, 2021",
          "Apr 22, 2021",
          "Apr 21, 2021",
          "Apr 20, 2021",
          "Apr 19, 2021",
          "Apr 18, 2021",
          "Apr 17, 2021",
          "Apr 16, 2021",
          "Apr 15, 2021",
          "Apr 14, 2021",
          "Apr 13, 2021",
          "Apr 12, 2021",
          "Apr 11, 2021",
          "Apr 10, 2021",
          "Apr 09, 2021",
          "Apr 08, 2021",
          "Apr 07, 2021",
          "Apr 06, 2021",
          "Apr 05, 2021",
          "Apr 04, 2021",
          "Apr 03, 2021",
          "Apr 02, 2021",
          "Apr 01, 2021",
          "Mar 31, 2021",
          "Mar 30, 2021",
          "Mar 29, 2021",
          "Mar 28, 2021",
          "Mar 27, 2021",
          "Mar 26, 2021",
          "Mar 25, 2021",
          "Mar 24, 2021",
          "Mar 23, 2021",
          "Mar 22, 2021",
          "Mar 21, 2021",
          "Mar 20, 2021",
          "Mar 19, 2021",
          "Mar 18, 2021",
          "Mar 17, 2021",
          "Mar 16, 2021",
          "Mar 15, 2021",
          "Mar 14, 2021",
          "Mar 13, 2021",
          "Mar 12, 2021",
          "Mar 11, 2021",
          "Mar 10, 2021",
          "Mar 09, 2021",
          "Mar 08, 2021",
          "Mar 07, 2021",
          "Mar 06, 2021",
          "Mar 05, 2021",
          "Mar 04, 2021",
          "Mar 03, 2021",
          "Mar 02, 2021",
          "Mar 01, 2021",
          "Feb 28, 2021",
          "Feb 27, 2021",
          "Feb 26, 2021",
          "Feb 25, 2021",
          "Feb 24, 2021",
          "Feb 23, 2021",
          "Feb 22, 2021",
          "Feb 21, 2021",
          "Feb 20, 2021",
          "Feb 19, 2021",
          "Feb 18, 2021",
          "Feb 17, 2021",
          "Feb 16, 2021",
          "Feb 15, 2021",
          "Feb 14, 2021",
          "Feb 13, 2021",
          "Feb 12, 2021",
          "Feb 11, 2021",
          "Feb 10, 2021",
          "Feb 09, 2021",
          "Feb 08, 2021"
         ],
         "y": [
          5.3268,
          5.1137,
          4.8342,
          4.7229,
          5.2773,
          5.7299,
          5.8416,
          5.1786,
          5.1908,
          5.0556,
          4.6247,
          4.1102,
          4.1701,
          4.5277,
          4.2828,
          3.8258,
          3.706,
          3.4345,
          3.3272,
          3.852,
          3.7353,
          3.3505,
          3.6619,
          4.1663,
          4.1503,
          3.7176,
          3.6037,
          3.7603,
          4.3941,
          4.7458,
          4.987,
          5.0596,
          4.6836,
          4.8814,
          4.8456,
          4.9292,
          5.9253,
          5.8505,
          5.051,
          4.264,
          3.8085,
          3.9384,
          3.9596,
          4.1308,
          4.0289,
          3.7065,
          3.9347,
          4.1261,
          4.2231,
          4.0317,
          4.171,
          4.0945,
          4.5157,
          4.6352,
          4.4907,
          4.1063,
          4.0821,
          4.1574,
          4.3646,
          4.2726,
          4.4803,
          4.419,
          4.7121,
          4.6607,
          4.7755,
          4.4085,
          4.6374,
          4.7834,
          3.5032,
          3.694,
          3.3303,
          2.857,
          2.9356,
          2.7926,
          2.7958,
          2.8686,
          2.9051,
          2.8979,
          2.8894,
          2.9633,
          2.6881,
          2.6979,
          2.7003,
          2.9035,
          2.949,
          2.811,
          2.737,
          2.9353,
          2.8817,
          2.8152,
          2.538,
          2.5351,
          2.3366,
          2.2889,
          2.2305,
          2.3698,
          2.5554,
          2.3114,
          2.4268,
          2.7875,
          2.4511,
          2.1902,
          2.4087,
          3.0409,
          2.8809,
          2.8027,
          3.1055,
          3.0144,
          2.792,
          2.3619,
          2.4319,
          2.2696,
          2.1421,
          2.3729,
          1.9753,
          1.9782,
          2.4888,
          2.4801,
          2.2697,
          2.2049,
          2.205,
          2.3105,
          2.2372,
          2.0984,
          2.1024,
          2.0934,
          2.1805,
          2.0474,
          2.1982,
          2.0971,
          2.3656,
          2.4415,
          2.2205,
          2.27,
          2.1502,
          1.9135,
          1.9229,
          2.1237,
          2.2201,
          2.2609,
          2.3622,
          2.0284,
          2.0391,
          2.0689,
          1.8755,
          1.7561,
          1.9142,
          1.9213,
          1.7719,
          1.6233,
          1.5677,
          1.6263,
          1.6576,
          1.7033,
          1.6955,
          1.6216,
          1.5412,
          1.573,
          1.531,
          1.5237,
          1.5594,
          1.6,
          1.5407,
          1.4463,
          1.2801,
          1.3415,
          1.4129,
          1.4253,
          1.419,
          1.5008,
          1.5981,
          1.6032,
          1.6796,
          1.7565,
          1.7524,
          1.7655,
          1.7586,
          1.943,
          1.9737,
          1.7984,
          1.8398,
          1.7752,
          1.6601,
          1.6989,
          1.8155,
          1.7935,
          1.6099,
          1.5857,
          1.4888,
          1.4441,
          1.6805,
          1.5053,
          1.4008,
          1.4515,
          1.9215,
          1.8573,
          1.9259,
          2.0952,
          2.0676,
          2.2407,
          2.2799,
          2.2052,
          2.0782,
          2.1527,
          2.2588,
          2.5216,
          2.3186,
          2.151,
          2.4567,
          2.5292,
          2.6946,
          2.5019,
          2.3325,
          2.0486,
          1.9619,
          1.6811,
          1.7401,
          1.5904,
          1.7459,
          1.8916,
          1.6113,
          1.625,
          1.3208,
          1.6272,
          1.845,
          2.196,
          1.9509,
          3.4947,
          3.083,
          3.2716,
          3.2081,
          3.6752,
          3.3655,
          3.3073,
          3.3147,
          3.0933,
          3.4432,
          3.5715,
          3.65,
          3.2454,
          3.0929,
          2.8289,
          3.2434,
          3.2724,
          3.4022,
          3.3296,
          3.0185,
          3.0431,
          3.1273,
          2.7775,
          2.3819,
          2.372,
          2.6428,
          2.7682,
          2.8944,
          3.0316,
          2.8204,
          3.2173,
          3.7802,
          3.9124,
          4.0201,
          3.1676,
          3.1208,
          3.0335,
          3.1104,
          2.9633,
          2.9836,
          3.0724,
          2.8922,
          3.1715,
          3.3196,
          3.102,
          2.9186,
          3.3505,
          3.3082,
          3.1339,
          3.2846,
          3.5288,
          3.0236,
          3.1233,
          2.6227,
          2.3873,
          2.5165,
          2.8899,
          2.3587,
          2.597,
          2.6986,
          2.746,
          2.6042,
          2.425,
          2.6022,
          2.2248,
          2.1097,
          2.3803,
          2.061,
          2.1701,
          2.2163,
          2.3993,
          2.3921,
          2.2461,
          2.0473,
          2.05,
          2.0836,
          2.2801,
          2.5108,
          2.002,
          1.7629,
          1.9614,
          1.9252,
          2.0102,
          2.154,
          2.1362,
          2.5746,
          2.9098,
          2.8931,
          2.6261,
          2.8125,
          2.7841,
          2.6777,
          2.7184,
          2.9563,
          3.2922,
          3.3892,
          3.5574,
          3.0928,
          3.1761,
          3.0616
         ]
        }
       ],
       "layout": {
        "template": {
         "data": {
          "bar": [
           {
            "error_x": {
             "color": "#2a3f5f"
            },
            "error_y": {
             "color": "#2a3f5f"
            },
            "marker": {
             "line": {
              "color": "#E5ECF6",
              "width": 0.5
             },
             "pattern": {
              "fillmode": "overlay",
              "size": 10,
              "solidity": 0.2
             }
            },
            "type": "bar"
           }
          ],
          "barpolar": [
           {
            "marker": {
             "line": {
              "color": "#E5ECF6",
              "width": 0.5
             },
             "pattern": {
              "fillmode": "overlay",
              "size": 10,
              "solidity": 0.2
             }
            },
            "type": "barpolar"
           }
          ],
          "carpet": [
           {
            "aaxis": {
             "endlinecolor": "#2a3f5f",
             "gridcolor": "white",
             "linecolor": "white",
             "minorgridcolor": "white",
             "startlinecolor": "#2a3f5f"
            },
            "baxis": {
             "endlinecolor": "#2a3f5f",
             "gridcolor": "white",
             "linecolor": "white",
             "minorgridcolor": "white",
             "startlinecolor": "#2a3f5f"
            },
            "type": "carpet"
           }
          ],
          "choropleth": [
           {
            "colorbar": {
             "outlinewidth": 0,
             "ticks": ""
            },
            "type": "choropleth"
           }
          ],
          "contour": [
           {
            "colorbar": {
             "outlinewidth": 0,
             "ticks": ""
            },
            "colorscale": [
             [
              0,
              "#0d0887"
             ],
             [
              0.1111111111111111,
              "#46039f"
             ],
             [
              0.2222222222222222,
              "#7201a8"
             ],
             [
              0.3333333333333333,
              "#9c179e"
             ],
             [
              0.4444444444444444,
              "#bd3786"
             ],
             [
              0.5555555555555556,
              "#d8576b"
             ],
             [
              0.6666666666666666,
              "#ed7953"
             ],
             [
              0.7777777777777778,
              "#fb9f3a"
             ],
             [
              0.8888888888888888,
              "#fdca26"
             ],
             [
              1,
              "#f0f921"
             ]
            ],
            "type": "contour"
           }
          ],
          "contourcarpet": [
           {
            "colorbar": {
             "outlinewidth": 0,
             "ticks": ""
            },
            "type": "contourcarpet"
           }
          ],
          "heatmap": [
           {
            "colorbar": {
             "outlinewidth": 0,
             "ticks": ""
            },
            "colorscale": [
             [
              0,
              "#0d0887"
             ],
             [
              0.1111111111111111,
              "#46039f"
             ],
             [
              0.2222222222222222,
              "#7201a8"
             ],
             [
              0.3333333333333333,
              "#9c179e"
             ],
             [
              0.4444444444444444,
              "#bd3786"
             ],
             [
              0.5555555555555556,
              "#d8576b"
             ],
             [
              0.6666666666666666,
              "#ed7953"
             ],
             [
              0.7777777777777778,
              "#fb9f3a"
             ],
             [
              0.8888888888888888,
              "#fdca26"
             ],
             [
              1,
              "#f0f921"
             ]
            ],
            "type": "heatmap"
           }
          ],
          "heatmapgl": [
           {
            "colorbar": {
             "outlinewidth": 0,
             "ticks": ""
            },
            "colorscale": [
             [
              0,
              "#0d0887"
             ],
             [
              0.1111111111111111,
              "#46039f"
             ],
             [
              0.2222222222222222,
              "#7201a8"
             ],
             [
              0.3333333333333333,
              "#9c179e"
             ],
             [
              0.4444444444444444,
              "#bd3786"
             ],
             [
              0.5555555555555556,
              "#d8576b"
             ],
             [
              0.6666666666666666,
              "#ed7953"
             ],
             [
              0.7777777777777778,
              "#fb9f3a"
             ],
             [
              0.8888888888888888,
              "#fdca26"
             ],
             [
              1,
              "#f0f921"
             ]
            ],
            "type": "heatmapgl"
           }
          ],
          "histogram": [
           {
            "marker": {
             "pattern": {
              "fillmode": "overlay",
              "size": 10,
              "solidity": 0.2
             }
            },
            "type": "histogram"
           }
          ],
          "histogram2d": [
           {
            "colorbar": {
             "outlinewidth": 0,
             "ticks": ""
            },
            "colorscale": [
             [
              0,
              "#0d0887"
             ],
             [
              0.1111111111111111,
              "#46039f"
             ],
             [
              0.2222222222222222,
              "#7201a8"
             ],
             [
              0.3333333333333333,
              "#9c179e"
             ],
             [
              0.4444444444444444,
              "#bd3786"
             ],
             [
              0.5555555555555556,
              "#d8576b"
             ],
             [
              0.6666666666666666,
              "#ed7953"
             ],
             [
              0.7777777777777778,
              "#fb9f3a"
             ],
             [
              0.8888888888888888,
              "#fdca26"
             ],
             [
              1,
              "#f0f921"
             ]
            ],
            "type": "histogram2d"
           }
          ],
          "histogram2dcontour": [
           {
            "colorbar": {
             "outlinewidth": 0,
             "ticks": ""
            },
            "colorscale": [
             [
              0,
              "#0d0887"
             ],
             [
              0.1111111111111111,
              "#46039f"
             ],
             [
              0.2222222222222222,
              "#7201a8"
             ],
             [
              0.3333333333333333,
              "#9c179e"
             ],
             [
              0.4444444444444444,
              "#bd3786"
             ],
             [
              0.5555555555555556,
              "#d8576b"
             ],
             [
              0.6666666666666666,
              "#ed7953"
             ],
             [
              0.7777777777777778,
              "#fb9f3a"
             ],
             [
              0.8888888888888888,
              "#fdca26"
             ],
             [
              1,
              "#f0f921"
             ]
            ],
            "type": "histogram2dcontour"
           }
          ],
          "mesh3d": [
           {
            "colorbar": {
             "outlinewidth": 0,
             "ticks": ""
            },
            "type": "mesh3d"
           }
          ],
          "parcoords": [
           {
            "line": {
             "colorbar": {
              "outlinewidth": 0,
              "ticks": ""
             }
            },
            "type": "parcoords"
           }
          ],
          "pie": [
           {
            "automargin": true,
            "type": "pie"
           }
          ],
          "scatter": [
           {
            "marker": {
             "colorbar": {
              "outlinewidth": 0,
              "ticks": ""
             }
            },
            "type": "scatter"
           }
          ],
          "scatter3d": [
           {
            "line": {
             "colorbar": {
              "outlinewidth": 0,
              "ticks": ""
             }
            },
            "marker": {
             "colorbar": {
              "outlinewidth": 0,
              "ticks": ""
             }
            },
            "type": "scatter3d"
           }
          ],
          "scattercarpet": [
           {
            "marker": {
             "colorbar": {
              "outlinewidth": 0,
              "ticks": ""
             }
            },
            "type": "scattercarpet"
           }
          ],
          "scattergeo": [
           {
            "marker": {
             "colorbar": {
              "outlinewidth": 0,
              "ticks": ""
             }
            },
            "type": "scattergeo"
           }
          ],
          "scattergl": [
           {
            "marker": {
             "colorbar": {
              "outlinewidth": 0,
              "ticks": ""
             }
            },
            "type": "scattergl"
           }
          ],
          "scattermapbox": [
           {
            "marker": {
             "colorbar": {
              "outlinewidth": 0,
              "ticks": ""
             }
            },
            "type": "scattermapbox"
           }
          ],
          "scatterpolar": [
           {
            "marker": {
             "colorbar": {
              "outlinewidth": 0,
              "ticks": ""
             }
            },
            "type": "scatterpolar"
           }
          ],
          "scatterpolargl": [
           {
            "marker": {
             "colorbar": {
              "outlinewidth": 0,
              "ticks": ""
             }
            },
            "type": "scatterpolargl"
           }
          ],
          "scatterternary": [
           {
            "marker": {
             "colorbar": {
              "outlinewidth": 0,
              "ticks": ""
             }
            },
            "type": "scatterternary"
           }
          ],
          "surface": [
           {
            "colorbar": {
             "outlinewidth": 0,
             "ticks": ""
            },
            "colorscale": [
             [
              0,
              "#0d0887"
             ],
             [
              0.1111111111111111,
              "#46039f"
             ],
             [
              0.2222222222222222,
              "#7201a8"
             ],
             [
              0.3333333333333333,
              "#9c179e"
             ],
             [
              0.4444444444444444,
              "#bd3786"
             ],
             [
              0.5555555555555556,
              "#d8576b"
             ],
             [
              0.6666666666666666,
              "#ed7953"
             ],
             [
              0.7777777777777778,
              "#fb9f3a"
             ],
             [
              0.8888888888888888,
              "#fdca26"
             ],
             [
              1,
              "#f0f921"
             ]
            ],
            "type": "surface"
           }
          ],
          "table": [
           {
            "cells": {
             "fill": {
              "color": "#EBF0F8"
             },
             "line": {
              "color": "white"
             }
            },
            "header": {
             "fill": {
              "color": "#C8D4E3"
             },
             "line": {
              "color": "white"
             }
            },
            "type": "table"
           }
          ]
         },
         "layout": {
          "annotationdefaults": {
           "arrowcolor": "#2a3f5f",
           "arrowhead": 0,
           "arrowwidth": 1
          },
          "autotypenumbers": "strict",
          "coloraxis": {
           "colorbar": {
            "outlinewidth": 0,
            "ticks": ""
           }
          },
          "colorscale": {
           "diverging": [
            [
             0,
             "#8e0152"
            ],
            [
             0.1,
             "#c51b7d"
            ],
            [
             0.2,
             "#de77ae"
            ],
            [
             0.3,
             "#f1b6da"
            ],
            [
             0.4,
             "#fde0ef"
            ],
            [
             0.5,
             "#f7f7f7"
            ],
            [
             0.6,
             "#e6f5d0"
            ],
            [
             0.7,
             "#b8e186"
            ],
            [
             0.8,
             "#7fbc41"
            ],
            [
             0.9,
             "#4d9221"
            ],
            [
             1,
             "#276419"
            ]
           ],
           "sequential": [
            [
             0,
             "#0d0887"
            ],
            [
             0.1111111111111111,
             "#46039f"
            ],
            [
             0.2222222222222222,
             "#7201a8"
            ],
            [
             0.3333333333333333,
             "#9c179e"
            ],
            [
             0.4444444444444444,
             "#bd3786"
            ],
            [
             0.5555555555555556,
             "#d8576b"
            ],
            [
             0.6666666666666666,
             "#ed7953"
            ],
            [
             0.7777777777777778,
             "#fb9f3a"
            ],
            [
             0.8888888888888888,
             "#fdca26"
            ],
            [
             1,
             "#f0f921"
            ]
           ],
           "sequentialminus": [
            [
             0,
             "#0d0887"
            ],
            [
             0.1111111111111111,
             "#46039f"
            ],
            [
             0.2222222222222222,
             "#7201a8"
            ],
            [
             0.3333333333333333,
             "#9c179e"
            ],
            [
             0.4444444444444444,
             "#bd3786"
            ],
            [
             0.5555555555555556,
             "#d8576b"
            ],
            [
             0.6666666666666666,
             "#ed7953"
            ],
            [
             0.7777777777777778,
             "#fb9f3a"
            ],
            [
             0.8888888888888888,
             "#fdca26"
            ],
            [
             1,
             "#f0f921"
            ]
           ]
          },
          "colorway": [
           "#636efa",
           "#EF553B",
           "#00cc96",
           "#ab63fa",
           "#FFA15A",
           "#19d3f3",
           "#FF6692",
           "#B6E880",
           "#FF97FF",
           "#FECB52"
          ],
          "font": {
           "color": "#2a3f5f"
          },
          "geo": {
           "bgcolor": "white",
           "lakecolor": "white",
           "landcolor": "#E5ECF6",
           "showlakes": true,
           "showland": true,
           "subunitcolor": "white"
          },
          "hoverlabel": {
           "align": "left"
          },
          "hovermode": "closest",
          "mapbox": {
           "style": "light"
          },
          "paper_bgcolor": "white",
          "plot_bgcolor": "#E5ECF6",
          "polar": {
           "angularaxis": {
            "gridcolor": "white",
            "linecolor": "white",
            "ticks": ""
           },
           "bgcolor": "#E5ECF6",
           "radialaxis": {
            "gridcolor": "white",
            "linecolor": "white",
            "ticks": ""
           }
          },
          "scene": {
           "xaxis": {
            "backgroundcolor": "#E5ECF6",
            "gridcolor": "white",
            "gridwidth": 2,
            "linecolor": "white",
            "showbackground": true,
            "ticks": "",
            "zerolinecolor": "white"
           },
           "yaxis": {
            "backgroundcolor": "#E5ECF6",
            "gridcolor": "white",
            "gridwidth": 2,
            "linecolor": "white",
            "showbackground": true,
            "ticks": "",
            "zerolinecolor": "white"
           },
           "zaxis": {
            "backgroundcolor": "#E5ECF6",
            "gridcolor": "white",
            "gridwidth": 2,
            "linecolor": "white",
            "showbackground": true,
            "ticks": "",
            "zerolinecolor": "white"
           }
          },
          "shapedefaults": {
           "line": {
            "color": "#2a3f5f"
           }
          },
          "ternary": {
           "aaxis": {
            "gridcolor": "white",
            "linecolor": "white",
            "ticks": ""
           },
           "baxis": {
            "gridcolor": "white",
            "linecolor": "white",
            "ticks": ""
           },
           "bgcolor": "#E5ECF6",
           "caxis": {
            "gridcolor": "white",
            "linecolor": "white",
            "ticks": ""
           }
          },
          "title": {
           "x": 0.05
          },
          "xaxis": {
           "automargin": true,
           "gridcolor": "white",
           "linecolor": "white",
           "ticks": "",
           "title": {
            "standoff": 15
           },
           "zerolinecolor": "white",
           "zerolinewidth": 2
          },
          "yaxis": {
           "automargin": true,
           "gridcolor": "white",
           "linecolor": "white",
           "ticks": "",
           "title": {
            "standoff": 15
           },
           "zerolinecolor": "white",
           "zerolinewidth": 2
          }
         }
        },
        "xaxis": {
         "autorange": "reversed"
        }
       }
      }
     },
     "metadata": {},
     "output_type": "display_data"
    }
   ],
   "source": [
    "fig = go.Figure()\n",
    "fig.add_trace(go.Scatter(x=price_df['Date'], y=price_df['Price'], name='Price'))\n",
    "fig.update_xaxes(autorange=\"reversed\") "
   ]
  },
  {
   "cell_type": "code",
   "execution_count": 26,
   "metadata": {},
   "outputs": [],
   "source": [
    "date = {'2021-01': 'Jan 01, 2021',\n",
    "'2021-02': 'Feb 01, 2021',\n",
    "'2021-03': 'Mar 01, 2021',\n",
    "'2021-04': 'Apr 01, 2021',\n",
    "'2021-05': 'May 01, 2021',\n",
    "'2021-06': 'Jun 01, 2021',\n",
    "'2021-07': 'Jul 01, 2021',\n",
    "'2021-08': 'Aug 01, 2021',\n",
    "'2021-09': 'Sep 01, 2021',\n",
    "'2021-10': 'Oct 01, 2021',\n",
    "'2021-11': 'Nov 01, 2021',\n",
    "'2021-12': 'Dec 01, 2021',}"
   ]
  },
  {
   "cell_type": "code",
   "execution_count": 30,
   "metadata": {},
   "outputs": [
    {
     "data": {
      "application/vnd.plotly.v1+json": {
       "config": {
        "plotlyServerURL": "https://plotly.com"
       },
       "data": [
        {
         "hovertemplate": "variable=GOOG<br>date=%{x}<br>value=%{y}<extra></extra>",
         "legendgroup": "GOOG",
         "line": {
          "color": "#636efa",
          "dash": "solid"
         },
         "mode": "lines",
         "name": "GOOG",
         "orientation": "v",
         "showlegend": true,
         "type": "scatter",
         "x": [
          "2018-01-01",
          "2018-01-08",
          "2018-01-15",
          "2018-01-22",
          "2018-01-29",
          "2018-02-05",
          "2018-02-12",
          "2018-02-19",
          "2018-02-26",
          "2018-03-05",
          "2018-03-12",
          "2018-03-19",
          "2018-03-26",
          "2018-04-02",
          "2018-04-09",
          "2018-04-16",
          "2018-04-23",
          "2018-04-30",
          "2018-05-07",
          "2018-05-14",
          "2018-05-21",
          "2018-05-28",
          "2018-06-04",
          "2018-06-11",
          "2018-06-18",
          "2018-06-25",
          "2018-07-02",
          "2018-07-09",
          "2018-07-16",
          "2018-07-23",
          "2018-07-30",
          "2018-08-06",
          "2018-08-13",
          "2018-08-20",
          "2018-08-27",
          "2018-09-03",
          "2018-09-10",
          "2018-09-17",
          "2018-09-24",
          "2018-10-01",
          "2018-10-08",
          "2018-10-15",
          "2018-10-22",
          "2018-10-29",
          "2018-11-05",
          "2018-11-12",
          "2018-11-19",
          "2018-11-26",
          "2018-12-03",
          "2018-12-10",
          "2018-12-17",
          "2018-12-24",
          "2018-12-31",
          "2019-01-07",
          "2019-01-14",
          "2019-01-21",
          "2019-01-28",
          "2019-02-04",
          "2019-02-11",
          "2019-02-18",
          "2019-02-25",
          "2019-03-04",
          "2019-03-11",
          "2019-03-18",
          "2019-03-25",
          "2019-04-01",
          "2019-04-08",
          "2019-04-15",
          "2019-04-22",
          "2019-04-29",
          "2019-05-06",
          "2019-05-13",
          "2019-05-20",
          "2019-05-27",
          "2019-06-03",
          "2019-06-10",
          "2019-06-17",
          "2019-06-24",
          "2019-07-01",
          "2019-07-08",
          "2019-07-15",
          "2019-07-22",
          "2019-07-29",
          "2019-08-05",
          "2019-08-12",
          "2019-08-19",
          "2019-08-26",
          "2019-09-02",
          "2019-09-09",
          "2019-09-16",
          "2019-09-23",
          "2019-09-30",
          "2019-10-07",
          "2019-10-14",
          "2019-10-21",
          "2019-10-28",
          "2019-11-04",
          "2019-11-11",
          "2019-11-18",
          "2019-11-25",
          "2019-12-02",
          "2019-12-09",
          "2019-12-16",
          "2019-12-23",
          "2019-12-30"
         ],
         "xaxis": "x",
         "y": [
          1,
          1.018172278347936,
          1.032007866452698,
          1.066782783389724,
          1.0087731636550117,
          0.9415276737437316,
          0.99325918262539,
          1.0222821547641083,
          0.9788520214265992,
          1.0524482730908842,
          1.0303929312465263,
          0.926821104067592,
          0.9360932452590338,
          0.913638710861412,
          0.93380695379017,
          0.9734447261178653,
          0.9345146364100892,
          0.9509902470625956,
          0.9963982380519172,
          0.9674568868105002,
          0.9758943718805396,
          1.015668254641377,
          1.0169111849053498,
          1.0453898287179595,
          1.0483111519067918,
          1.0121753574512644,
          1.0344211867653972,
          1.0785588920381208,
          1.075011617811375,
          1.1236312044424703,
          1.1102129167272332,
          1.1228237368393843,
          1.0895729410299655,
          1.1074367837463466,
          1.1052048693141154,
          1.0567939333314087,
          1.0637798374890872,
          1.0579370795194665,
          1.0827776350267664,
          1.0500077089175164,
          1.0071219039061161,
          0.9947651405743836,
          0.9720929301886708,
          0.959681788913054,
          0.9672663993407256,
          0.9630385756700248,
          0.9289168536315806,
          0.992923504040418,
          0.9404389054995582,
          0.945446952912676,
          0.8886892896888904,
          0.9408925313390586,
          0.9714034098401132,
          0.9591373489949891,
          0.9963982380519172,
          0.989802500200548,
          1.0077298024501202,
          0.9934950771344468,
          1.0103608540932627,
          1.0073850422758417,
          1.035165084150587,
          1.0363716889645844,
          1.0746032883264525,
          1.0936918990354445,
          1.064487521016258,
          1.095188886079836,
          1.1049145977684258,
          1.1216987538299403,
          1.1541874899828073,
          1.075456162061569,
          1.0562859304552756,
          1.0544986709579427,
          1.0283425342867192,
          1.0012701750318929,
          0.9671666152648106,
          0.98468558802946,
          1.0178275181736574,
          0.980657443195294,
          1.0266368965939394,
          1.0387124690620373,
          1.025285100664745,
          1.1344366027859267,
          1.0832494231376286,
          1.0778240762422375,
          1.068379555417282,
          1.0445098208996275,
          1.0779056980467905,
          1.0931748145700046,
          1.12459294475006,
          1.1158561065450243,
          1.1114649285805127,
          1.0968672799119472,
          1.1027190087861698,
          1.129972884606169,
          1.1477913211905195,
          1.1556027445379409,
          1.189742629754999,
          1.2110630442115171,
          1.1751993590303178,
          1.1839271156460471,
          1.216279741365772,
          1.222820990588552,
          1.22441776261611,
          1.2265044859331442,
          1.213013658002661
         ],
         "yaxis": "y"
        },
        {
         "hovertemplate": "variable=AAPL<br>date=%{x}<br>value=%{y}<extra></extra>",
         "legendgroup": "AAPL",
         "line": {
          "color": "#EF553B",
          "dash": "solid"
         },
         "mode": "lines",
         "name": "AAPL",
         "orientation": "v",
         "showlegend": true,
         "type": "scatter",
         "x": [
          "2018-01-01",
          "2018-01-08",
          "2018-01-15",
          "2018-01-22",
          "2018-01-29",
          "2018-02-05",
          "2018-02-12",
          "2018-02-19",
          "2018-02-26",
          "2018-03-05",
          "2018-03-12",
          "2018-03-19",
          "2018-03-26",
          "2018-04-02",
          "2018-04-09",
          "2018-04-16",
          "2018-04-23",
          "2018-04-30",
          "2018-05-07",
          "2018-05-14",
          "2018-05-21",
          "2018-05-28",
          "2018-06-04",
          "2018-06-11",
          "2018-06-18",
          "2018-06-25",
          "2018-07-02",
          "2018-07-09",
          "2018-07-16",
          "2018-07-23",
          "2018-07-30",
          "2018-08-06",
          "2018-08-13",
          "2018-08-20",
          "2018-08-27",
          "2018-09-03",
          "2018-09-10",
          "2018-09-17",
          "2018-09-24",
          "2018-10-01",
          "2018-10-08",
          "2018-10-15",
          "2018-10-22",
          "2018-10-29",
          "2018-11-05",
          "2018-11-12",
          "2018-11-19",
          "2018-11-26",
          "2018-12-03",
          "2018-12-10",
          "2018-12-17",
          "2018-12-24",
          "2018-12-31",
          "2019-01-07",
          "2019-01-14",
          "2019-01-21",
          "2019-01-28",
          "2019-02-04",
          "2019-02-11",
          "2019-02-18",
          "2019-02-25",
          "2019-03-04",
          "2019-03-11",
          "2019-03-18",
          "2019-03-25",
          "2019-04-01",
          "2019-04-08",
          "2019-04-15",
          "2019-04-22",
          "2019-04-29",
          "2019-05-06",
          "2019-05-13",
          "2019-05-20",
          "2019-05-27",
          "2019-06-03",
          "2019-06-10",
          "2019-06-17",
          "2019-06-24",
          "2019-07-01",
          "2019-07-08",
          "2019-07-15",
          "2019-07-22",
          "2019-07-29",
          "2019-08-05",
          "2019-08-12",
          "2019-08-19",
          "2019-08-26",
          "2019-09-02",
          "2019-09-09",
          "2019-09-16",
          "2019-09-23",
          "2019-09-30",
          "2019-10-07",
          "2019-10-14",
          "2019-10-21",
          "2019-10-28",
          "2019-11-04",
          "2019-11-11",
          "2019-11-18",
          "2019-11-25",
          "2019-12-02",
          "2019-12-09",
          "2019-12-16",
          "2019-12-23",
          "2019-12-30"
         ],
         "xaxis": "x",
         "y": [
          1,
          1.0119428342857142,
          1.0197714685714288,
          0.9800571142857144,
          0.9171428571428571,
          0.8937714514285715,
          0.9853142457142856,
          1.002857142857143,
          1.006914325714286,
          1.02845712,
          1.0172571657142857,
          0.9425142971428572,
          0.9587428514285714,
          0.9621714571428572,
          0.99845712,
          0.9469714342857144,
          0.9275428971428572,
          1.0504571542857144,
          1.07765712,
          1.06462856,
          1.0776000114285715,
          1.0870857428571428,
          1.0954285542857145,
          1.0790856914285714,
          1.0566857028571428,
          1.0577714342857143,
          1.0741142914285715,
          1.093314297142857,
          1.0939428685714283,
          1.0913142628571428,
          1.1885143142857142,
          1.1858857085714285,
          1.2433142971428572,
          1.2352000228571431,
          1.3007428857142855,
          1.2645714457142856,
          1.279085691428571,
          1.2437714514285716,
          1.2899428857142856,
          1.2816571028571428,
          1.2692000057142856,
          1.253199988571429,
          1.236000017142857,
          1.1855999771428571,
          1.1684000057142856,
          1.1058857085714286,
          0.9845142457142856,
          1.0204571542857144,
          0.9628000285714284,
          0.9455999771428572,
          0.8613142628571429,
          0.8927428342857143,
          0.8471999714285714,
          0.8702285314285714,
          0.8961143257142857,
          0.9014856857142858,
          0.95154288,
          0.9737714514285716,
          0.97382856,
          0.9884000057142855,
          0.9998285771428572,
          0.9880571657142858,
          1.0635428285714286,
          1.0917143028571428,
          1.0854285542857145,
          1.1257142857142857,
          1.1363999714285713,
          1.1649142914285715,
          1.1674285885714286,
          1.21,
          1.1267428171428568,
          1.08,
          1.02268572,
          1.00040004,
          1.0865713942857145,
          1.1013714571428572,
          1.135885708571429,
          1.1309714171428569,
          1.167028548571429,
          1.1617143028571428,
          1.15765712,
          1.1870857428571429,
          1.1658285942857145,
          1.1485143142857142,
          1.18,
          1.1579428514285717,
          1.1928000285714286,
          1.218628542857143,
          1.25,
          1.2441714057142856,
          1.25040004,
          1.2971999714285716,
          1.3497714685714286,
          1.3509143085714286,
          1.409028582857143,
          1.4618286114285712,
          1.4865143714285716,
          1.5186286285714288,
          1.4958857085714288,
          1.5271428571428571,
          1.5469142342857145,
          1.57228568,
          1.5968000114285714,
          1.6559999314285714,
          1.6779999657142857
         ],
         "yaxis": "y"
        },
        {
         "hovertemplate": "variable=AMZN<br>date=%{x}<br>value=%{y}<extra></extra>",
         "legendgroup": "AMZN",
         "line": {
          "color": "#00cc96",
          "dash": "solid"
         },
         "mode": "lines",
         "name": "AMZN",
         "orientation": "v",
         "showlegend": true,
         "type": "scatter",
         "x": [
          "2018-01-01",
          "2018-01-08",
          "2018-01-15",
          "2018-01-22",
          "2018-01-29",
          "2018-02-05",
          "2018-02-12",
          "2018-02-19",
          "2018-02-26",
          "2018-03-05",
          "2018-03-12",
          "2018-03-19",
          "2018-03-26",
          "2018-04-02",
          "2018-04-09",
          "2018-04-16",
          "2018-04-23",
          "2018-04-30",
          "2018-05-07",
          "2018-05-14",
          "2018-05-21",
          "2018-05-28",
          "2018-06-04",
          "2018-06-11",
          "2018-06-18",
          "2018-06-25",
          "2018-07-02",
          "2018-07-09",
          "2018-07-16",
          "2018-07-23",
          "2018-07-30",
          "2018-08-06",
          "2018-08-13",
          "2018-08-20",
          "2018-08-27",
          "2018-09-03",
          "2018-09-10",
          "2018-09-17",
          "2018-09-24",
          "2018-10-01",
          "2018-10-08",
          "2018-10-15",
          "2018-10-22",
          "2018-10-29",
          "2018-11-05",
          "2018-11-12",
          "2018-11-19",
          "2018-11-26",
          "2018-12-03",
          "2018-12-10",
          "2018-12-17",
          "2018-12-24",
          "2018-12-31",
          "2019-01-07",
          "2019-01-14",
          "2019-01-21",
          "2019-01-28",
          "2019-02-04",
          "2019-02-11",
          "2019-02-18",
          "2019-02-25",
          "2019-03-04",
          "2019-03-11",
          "2019-03-18",
          "2019-03-25",
          "2019-04-01",
          "2019-04-08",
          "2019-04-15",
          "2019-04-22",
          "2019-04-29",
          "2019-05-06",
          "2019-05-13",
          "2019-05-20",
          "2019-05-27",
          "2019-06-03",
          "2019-06-10",
          "2019-06-17",
          "2019-06-24",
          "2019-07-01",
          "2019-07-08",
          "2019-07-15",
          "2019-07-22",
          "2019-07-29",
          "2019-08-05",
          "2019-08-12",
          "2019-08-19",
          "2019-08-26",
          "2019-09-02",
          "2019-09-09",
          "2019-09-16",
          "2019-09-23",
          "2019-09-30",
          "2019-10-07",
          "2019-10-14",
          "2019-10-21",
          "2019-10-28",
          "2019-11-04",
          "2019-11-11",
          "2019-11-18",
          "2019-11-25",
          "2019-12-02",
          "2019-12-09",
          "2019-12-16",
          "2019-12-23",
          "2019-12-30"
         ],
         "xaxis": "x",
         "y": [
          1,
          1.0618806117055757,
          1.0532404284307677,
          1.1406756202628388,
          1.1633743377885228,
          1.0898676795580526,
          1.1786207619316666,
          1.2203654438831366,
          1.2205688381237838,
          1.284548542665418,
          1.2786826844946546,
          1.2167532101702832,
          1.1775224533715958,
          1.1432627388670606,
          1.16405781403187,
          1.2427306664489322,
          1.2794473988384474,
          1.2862244591394254,
          1.3040906767647622,
          1.2808711585229775,
          1.3099809658381354,
          1.3355191588974509,
          1.3700554610940725,
          1.3960736368996989,
          1.3958296232020404,
          1.3829181608736414,
          1.391729163581091,
          1.4750394640760272,
          1.4755844971819587,
          1.4784890230752108,
          1.4833867718479574,
          1.5346502643964448,
          1.5313308069300795,
          1.5501814209506477,
          1.637494456642517,
          1.5881591374274802,
          1.6029011479217037,
          1.5580080272628667,
          1.6295946560652816,
          1.5373757268816928,
          1.4551718788522234,
          1.435174192909178,
          1.3365524179114776,
          1.3550368620941855,
          1.3931936419790223,
          1.2963616956201691,
          1.22204146042711,
          1.3750834106560272,
          1.3254226411301075,
          1.295141330176286,
          1.1206615472526131,
          1.2024830385169751,
          1.2817010232963573,
          1.334721869745653,
          1.3799892040777797,
          1.3591372224587452,
          1.3230632475991762,
          1.2921391799289847,
          1.3081910371293215,
          1.3273996770823542,
          1.3600809993969647,
          1.3186455808291295,
          1.393136635454831,
          1.4357762325393009,
          1.4487771761299302,
          1.4947687054188046,
          1.4994712046698764,
          1.5146280474808236,
          1.5869876346023932,
          1.596612214272432,
          1.537644171481961,
          1.5205753430783882,
          1.4833786279425618,
          1.44415601504927,
          1.4677172714127285,
          1.521120475440709,
          1.5549896884611636,
          1.540613747734834,
          1.58070684404494,
          1.6361032717659916,
          1.5982882308164057,
          1.5808207570233568,
          1.4833460531345568,
          1.4706054102388,
          1.4583936118945735,
          1.4234505212166575,
          1.445148654606286,
          1.491701504811883,
          1.4964446227063888,
          1.4596872708598625,
          1.4037863302335007,
          1.4153391824933792,
          1.4090502488441077,
          1.4298696556551374,
          1.43297747571907,
          1.4574742658589632,
          1.452950830015895,
          1.4152089825177483,
          1.420277551536714,
          1.4650894340951057,
          1.425061388144621,
          1.4326601685000062,
          1.4534552436648156,
          1.52122624451373,
          1.503360026888393
         ],
         "yaxis": "y"
        },
        {
         "hovertemplate": "variable=FB<br>date=%{x}<br>value=%{y}<extra></extra>",
         "legendgroup": "FB",
         "line": {
          "color": "#ab63fa",
          "dash": "solid"
         },
         "mode": "lines",
         "name": "FB",
         "orientation": "v",
         "showlegend": true,
         "type": "scatter",
         "x": [
          "2018-01-01",
          "2018-01-08",
          "2018-01-15",
          "2018-01-22",
          "2018-01-29",
          "2018-02-05",
          "2018-02-12",
          "2018-02-19",
          "2018-02-26",
          "2018-03-05",
          "2018-03-12",
          "2018-03-19",
          "2018-03-26",
          "2018-04-02",
          "2018-04-09",
          "2018-04-16",
          "2018-04-23",
          "2018-04-30",
          "2018-05-07",
          "2018-05-14",
          "2018-05-21",
          "2018-05-28",
          "2018-06-04",
          "2018-06-11",
          "2018-06-18",
          "2018-06-25",
          "2018-07-02",
          "2018-07-09",
          "2018-07-16",
          "2018-07-23",
          "2018-07-30",
          "2018-08-06",
          "2018-08-13",
          "2018-08-20",
          "2018-08-27",
          "2018-09-03",
          "2018-09-10",
          "2018-09-17",
          "2018-09-24",
          "2018-10-01",
          "2018-10-08",
          "2018-10-15",
          "2018-10-22",
          "2018-10-29",
          "2018-11-05",
          "2018-11-12",
          "2018-11-19",
          "2018-11-26",
          "2018-12-03",
          "2018-12-10",
          "2018-12-17",
          "2018-12-24",
          "2018-12-31",
          "2019-01-07",
          "2019-01-14",
          "2019-01-21",
          "2019-01-28",
          "2019-02-04",
          "2019-02-11",
          "2019-02-18",
          "2019-02-25",
          "2019-03-04",
          "2019-03-11",
          "2019-03-18",
          "2019-03-25",
          "2019-04-01",
          "2019-04-08",
          "2019-04-15",
          "2019-04-22",
          "2019-04-29",
          "2019-05-06",
          "2019-05-13",
          "2019-05-20",
          "2019-05-27",
          "2019-06-03",
          "2019-06-10",
          "2019-06-17",
          "2019-06-24",
          "2019-07-01",
          "2019-07-08",
          "2019-07-15",
          "2019-07-22",
          "2019-07-29",
          "2019-08-05",
          "2019-08-12",
          "2019-08-19",
          "2019-08-26",
          "2019-09-02",
          "2019-09-09",
          "2019-09-16",
          "2019-09-23",
          "2019-09-30",
          "2019-10-07",
          "2019-10-14",
          "2019-10-21",
          "2019-10-28",
          "2019-11-04",
          "2019-11-11",
          "2019-11-18",
          "2019-11-25",
          "2019-12-02",
          "2019-12-09",
          "2019-12-16",
          "2019-12-23",
          "2019-12-30"
         ],
         "xaxis": "x",
         "y": [
          1,
          0.9599678310954936,
          0.9702434422185674,
          1.0168584099483515,
          1.0183569327795472,
          0.9425207136466456,
          0.949210571606832,
          0.9809472149548658,
          0.9452501435830832,
          0.9913298905647344,
          0.9905806264731936,
          0.8530371628674177,
          0.8551778853033591,
          0.8413165210173983,
          0.8804923666954552,
          0.8899116599439659,
          0.9290339332394776,
          0.9451966568307202,
          1.0007492587396545,
          0.9776825642702948,
          0.9896708164943808,
          1.0382124633166991,
          1.0120417443283358,
          1.048166977313343,
          1.0796895826698554,
          1.039978596521961,
          1.0876638451914205,
          1.109553119307901,
          1.12357503483302,
          0.9359914015737306,
          0.951458353177682,
          0.9647310099631464,
          0.9301578668399936,
          0.934706922085943,
          0.9404869700673171,
          0.8725715159998442,
          0.8687182327411859,
          0.8719828084993478,
          0.8801712695690254,
          0.8420122930046896,
          0.8227990369986931,
          0.8244581110690464,
          0.7780036945784202,
          0.8046561475625534,
          0.7758094853901156,
          0.7467486995959743,
          0.7050039698687512,
          0.7525287475773482,
          0.735456214007293,
          0.7709927394918039,
          0.6687181856445861,
          0.7128712481818171,
          0.7382927084305257,
          0.7696012757955171,
          0.8029969932139043,
          0.7974845609584834,
          0.8868611275292119,
          0.8955311566861818,
          0.8696815348242483,
          0.8664168787877908,
          0.8685041144713691,
          0.9076799601494259,
          0.8883060779778621,
          0.8795289843340972,
          0.8921059494105662,
          0.9404334779630672,
          0.9585228806468435,
          0.9541342963617566,
          1.024832747396326,
          1.0461332337340143,
          1.0079742571696786,
          0.9917045600737096,
          0.9690125351133252,
          0.9497992791073284,
          0.9277495340299856,
          0.9704575658402708,
          1.0229595550561554,
          1.0329140690527994,
          1.0511104505931883,
          1.0964409334832987,
          1.0616001853379655,
          1.0690393020378066,
          1.011613582715111,
          1.0053518863681492,
          0.9831415097733526,
          0.951297801938524,
          0.993684731270493,
          1.003425201923729,
          1.0018196199576253,
          1.0164837404393767,
          0.9478191079105452,
          0.9657478790768677,
          0.9857639608531776,
          0.9946481136318508,
          1.0055659243596704,
          1.03623221184162,
          1.0213539730900516,
          1.044153062537231,
          1.0640620851786324,
          1.0791543619217223,
          1.07599677037206,
          1.0388546682733315,
          1.1040941738048429,
          1.113727585323171,
          1.0984746770626277
         ],
         "yaxis": "y"
        },
        {
         "hovertemplate": "variable=NFLX<br>date=%{x}<br>value=%{y}<extra></extra>",
         "legendgroup": "NFLX",
         "line": {
          "color": "#FFA15A",
          "dash": "solid"
         },
         "mode": "lines",
         "name": "NFLX",
         "orientation": "v",
         "showlegend": true,
         "type": "scatter",
         "x": [
          "2018-01-01",
          "2018-01-08",
          "2018-01-15",
          "2018-01-22",
          "2018-01-29",
          "2018-02-05",
          "2018-02-12",
          "2018-02-19",
          "2018-02-26",
          "2018-03-05",
          "2018-03-12",
          "2018-03-19",
          "2018-03-26",
          "2018-04-02",
          "2018-04-09",
          "2018-04-16",
          "2018-04-23",
          "2018-04-30",
          "2018-05-07",
          "2018-05-14",
          "2018-05-21",
          "2018-05-28",
          "2018-06-04",
          "2018-06-11",
          "2018-06-18",
          "2018-06-25",
          "2018-07-02",
          "2018-07-09",
          "2018-07-16",
          "2018-07-23",
          "2018-07-30",
          "2018-08-06",
          "2018-08-13",
          "2018-08-20",
          "2018-08-27",
          "2018-09-03",
          "2018-09-10",
          "2018-09-17",
          "2018-09-24",
          "2018-10-01",
          "2018-10-08",
          "2018-10-15",
          "2018-10-22",
          "2018-10-29",
          "2018-11-05",
          "2018-11-12",
          "2018-11-19",
          "2018-11-26",
          "2018-12-03",
          "2018-12-10",
          "2018-12-17",
          "2018-12-24",
          "2018-12-31",
          "2019-01-07",
          "2019-01-14",
          "2019-01-21",
          "2019-01-28",
          "2019-02-04",
          "2019-02-11",
          "2019-02-18",
          "2019-02-25",
          "2019-03-04",
          "2019-03-11",
          "2019-03-18",
          "2019-03-25",
          "2019-04-01",
          "2019-04-08",
          "2019-04-15",
          "2019-04-22",
          "2019-04-29",
          "2019-05-06",
          "2019-05-13",
          "2019-05-20",
          "2019-05-27",
          "2019-06-03",
          "2019-06-10",
          "2019-06-17",
          "2019-06-24",
          "2019-07-01",
          "2019-07-08",
          "2019-07-15",
          "2019-07-22",
          "2019-07-29",
          "2019-08-05",
          "2019-08-12",
          "2019-08-19",
          "2019-08-26",
          "2019-09-02",
          "2019-09-09",
          "2019-09-16",
          "2019-09-23",
          "2019-09-30",
          "2019-10-07",
          "2019-10-14",
          "2019-10-21",
          "2019-10-28",
          "2019-11-04",
          "2019-11-11",
          "2019-11-18",
          "2019-11-25",
          "2019-12-02",
          "2019-12-09",
          "2019-12-16",
          "2019-12-23",
          "2019-12-30"
         ],
         "xaxis": "x",
         "y": [
          1,
          1.0535263142643383,
          1.0498595254569378,
          1.3076813155940448,
          1.273536771428717,
          1.188008929282134,
          1.3263487897912096,
          1.3616362026373592,
          1.4336396058469547,
          1.5783608462698024,
          1.5165008067883996,
          1.4331158380609592,
          1.4064955424902252,
          1.3755416882817828,
          1.484118227436587,
          1.5608837620628662,
          1.484642138086525,
          1.5243106261176576,
          1.5546453794312736,
          1.5437877293254985,
          1.6728891882258874,
          1.7140339274719294,
          1.7170817582484463,
          1.866660325094997,
          1.9576645850358447,
          1.864041067097456,
          1.94414015086099,
          1.8848515575777052,
          1.7193674908479577,
          1.691556657660921,
          1.633839648701375,
          1.647078369277624,
          1.50854798541483,
          1.7087480282692504,
          1.7509404459512254,
          1.660459949034241,
          1.7360826197418304,
          1.720034255916133,
          1.7816562507344105,
          1.6731749018244944,
          1.617029334324746,
          1.5842183202957685,
          1.4278298007564696,
          1.4719748494696214,
          1.4451640257830367,
          1.3629695899097676,
          1.2325348866009125,
          1.3625886860662726,
          1.262631595251403,
          1.2707271281792676,
          1.1733415549944868,
          1.2194865512765718,
          1.4170674789973934,
          1.6076479259096166,
          1.6148387919701228,
          1.6098384682642397,
          1.6184103905326357,
          1.6551740498315624,
          1.699461814861141,
          1.7287488945009553,
          1.7016048311442251,
          1.6648411718452985,
          1.7213199790151918,
          1.7191771103581814,
          1.6979855684083631,
          1.7405113638622944,
          1.6721748970861734,
          1.716034084574645,
          1.7850849901165535,
          1.8335634546034707,
          1.7193199695385504,
          1.6879375377890014,
          1.6876518241903944,
          1.6347444679569396,
          1.7185103405278743,
          1.6178389585732904,
          1.758226497494488,
          1.7492261453110591,
          1.8122290534732837,
          1.7774655512770718,
          1.5005476379697218,
          1.5990284823318142,
          1.518310297673454,
          1.471165225221077,
          1.4419733358261506,
          1.3878755896024673,
          1.398876103650743,
          1.381827735086725,
          1.400780927644628,
          1.2893470810670251,
          1.2528214711933554,
          1.299061872016242,
          1.347349808387309,
          1.3110147218673576,
          1.3182532521012131,
          1.3658269020946976,
          1.3884946904972928,
          1.4049716271019663,
          1.4785466146353017,
          1.4984522906221185,
          1.4636411194904255,
          1.4214962278799892,
          1.6043620457078422,
          1.567169808867808,
          1.5408828958311611
         ],
         "yaxis": "y"
        },
        {
         "hovertemplate": "variable=MSFT<br>date=%{x}<br>value=%{y}<extra></extra>",
         "legendgroup": "MSFT",
         "line": {
          "color": "#19d3f3",
          "dash": "solid"
         },
         "mode": "lines",
         "name": "MSFT",
         "orientation": "v",
         "showlegend": true,
         "type": "scatter",
         "x": [
          "2018-01-01",
          "2018-01-08",
          "2018-01-15",
          "2018-01-22",
          "2018-01-29",
          "2018-02-05",
          "2018-02-12",
          "2018-02-19",
          "2018-02-26",
          "2018-03-05",
          "2018-03-12",
          "2018-03-19",
          "2018-03-26",
          "2018-04-02",
          "2018-04-09",
          "2018-04-16",
          "2018-04-23",
          "2018-04-30",
          "2018-05-07",
          "2018-05-14",
          "2018-05-21",
          "2018-05-28",
          "2018-06-04",
          "2018-06-11",
          "2018-06-18",
          "2018-06-25",
          "2018-07-02",
          "2018-07-09",
          "2018-07-16",
          "2018-07-23",
          "2018-07-30",
          "2018-08-06",
          "2018-08-13",
          "2018-08-20",
          "2018-08-27",
          "2018-09-03",
          "2018-09-10",
          "2018-09-17",
          "2018-09-24",
          "2018-10-01",
          "2018-10-08",
          "2018-10-15",
          "2018-10-22",
          "2018-10-29",
          "2018-11-05",
          "2018-11-12",
          "2018-11-19",
          "2018-11-26",
          "2018-12-03",
          "2018-12-10",
          "2018-12-17",
          "2018-12-24",
          "2018-12-31",
          "2019-01-07",
          "2019-01-14",
          "2019-01-21",
          "2019-01-28",
          "2019-02-04",
          "2019-02-11",
          "2019-02-18",
          "2019-02-25",
          "2019-03-04",
          "2019-03-11",
          "2019-03-18",
          "2019-03-25",
          "2019-04-01",
          "2019-04-08",
          "2019-04-15",
          "2019-04-22",
          "2019-04-29",
          "2019-05-06",
          "2019-05-13",
          "2019-05-20",
          "2019-05-27",
          "2019-06-03",
          "2019-06-10",
          "2019-06-17",
          "2019-06-24",
          "2019-07-01",
          "2019-07-08",
          "2019-07-15",
          "2019-07-22",
          "2019-07-29",
          "2019-08-05",
          "2019-08-12",
          "2019-08-19",
          "2019-08-26",
          "2019-09-02",
          "2019-09-09",
          "2019-09-16",
          "2019-09-23",
          "2019-09-30",
          "2019-10-07",
          "2019-10-14",
          "2019-10-21",
          "2019-10-28",
          "2019-11-04",
          "2019-11-11",
          "2019-11-18",
          "2019-11-25",
          "2019-12-02",
          "2019-12-09",
          "2019-12-16",
          "2019-12-23",
          "2019-12-30"
         ],
         "xaxis": "x",
         "y": [
          1,
          1.015988161560536,
          1.0205238457756245,
          1.0665607876956391,
          1.0407075282751441,
          0.9998865857832728,
          1.043202153459527,
          1.0665607876956391,
          1.0551082990110374,
          1.0946819232411402,
          1.0726839307702931,
          0.9885474319413214,
          1.034924537137441,
          1.0231318851767346,
          1.0554484622871425,
          1.0772196149853812,
          1.0865177211357813,
          1.0790339249567087,
          1.1078352963411884,
          1.0926408755495889,
          1.1153191832334917,
          1.1428733270694336,
          1.1523981709400573,
          1.1353894401771305,
          1.1385644826269534,
          1.1181539716939797,
          1.147068848008417,
          1.1954869895569342,
          1.2050118447667115,
          1.2210000857013248,
          1.225082192423581,
          1.2359677687727004,
          1.2198661929954373,
          1.2291642991458374,
          1.2737271737447062,
          1.227009825898405,
          1.2855199050794894,
          1.2956117406596723,
          1.2968590589214408,
          1.2714592862805467,
          1.242431086462613,
          1.2321125018230523,
          1.2128358835959658,
          1.203764617218174,
          1.242431086462613,
          1.2279169808840689,
          1.1687265864899288,
          1.2573987581948347,
          1.1885701057133435,
          1.2022904705229511,
          1.1138451159123457,
          1.1383376428543452,
          1.1557999511101045,
          1.1656650489700635,
          1.2213402489774292,
          1.2152170945636216,
          1.1654382205366092,
          1.1982083638006946,
          1.2271232401151322,
          1.2583059131804986,
          1.275994970495635,
          1.2530899137523548,
          1.3143213671771998,
          1.3272479912178707,
          1.3373398267980536,
          1.3594511427723972,
          1.371470623166558,
          1.398911443499003,
          1.4728426811919109,
          1.4616168621926098,
          1.4415465939098175,
          1.45220551191279,
          1.4314547583296346,
          1.4024265471725468,
          1.489964746797488,
          1.5018708923489987,
          1.5531239130712344,
          1.518993128041884,
          1.5541444028995486,
          1.5750084006121237,
          1.5491551411916282,
          1.6026759586647925,
          1.5523300929282209,
          1.5615149549492018,
          1.5435990692006107,
          1.5125297196387406,
          1.5632157599905712,
          1.5772763674503605,
          1.5570926849508404,
          1.581131634400008,
          1.5617416132953483,
          1.5661638719545554,
          1.583852929269692,
          1.5581131747791548,
          1.5957590748212025,
          1.629663201504406,
          1.655062974145301,
          1.7005329130166025,
          1.6962239778608914,
          1.7165211652903694,
          1.720716595516122,
          1.7522394318575931,
          1.7848962516181823,
          1.8024719740906685,
          1.7881845268582712
         ],
         "yaxis": "y"
        }
       ],
       "layout": {
        "legend": {
         "title": {
          "text": "variable"
         },
         "tracegroupgap": 0
        },
        "template": {
         "data": {
          "bar": [
           {
            "error_x": {
             "color": "#2a3f5f"
            },
            "error_y": {
             "color": "#2a3f5f"
            },
            "marker": {
             "line": {
              "color": "#E5ECF6",
              "width": 0.5
             },
             "pattern": {
              "fillmode": "overlay",
              "size": 10,
              "solidity": 0.2
             }
            },
            "type": "bar"
           }
          ],
          "barpolar": [
           {
            "marker": {
             "line": {
              "color": "#E5ECF6",
              "width": 0.5
             },
             "pattern": {
              "fillmode": "overlay",
              "size": 10,
              "solidity": 0.2
             }
            },
            "type": "barpolar"
           }
          ],
          "carpet": [
           {
            "aaxis": {
             "endlinecolor": "#2a3f5f",
             "gridcolor": "white",
             "linecolor": "white",
             "minorgridcolor": "white",
             "startlinecolor": "#2a3f5f"
            },
            "baxis": {
             "endlinecolor": "#2a3f5f",
             "gridcolor": "white",
             "linecolor": "white",
             "minorgridcolor": "white",
             "startlinecolor": "#2a3f5f"
            },
            "type": "carpet"
           }
          ],
          "choropleth": [
           {
            "colorbar": {
             "outlinewidth": 0,
             "ticks": ""
            },
            "type": "choropleth"
           }
          ],
          "contour": [
           {
            "colorbar": {
             "outlinewidth": 0,
             "ticks": ""
            },
            "colorscale": [
             [
              0,
              "#0d0887"
             ],
             [
              0.1111111111111111,
              "#46039f"
             ],
             [
              0.2222222222222222,
              "#7201a8"
             ],
             [
              0.3333333333333333,
              "#9c179e"
             ],
             [
              0.4444444444444444,
              "#bd3786"
             ],
             [
              0.5555555555555556,
              "#d8576b"
             ],
             [
              0.6666666666666666,
              "#ed7953"
             ],
             [
              0.7777777777777778,
              "#fb9f3a"
             ],
             [
              0.8888888888888888,
              "#fdca26"
             ],
             [
              1,
              "#f0f921"
             ]
            ],
            "type": "contour"
           }
          ],
          "contourcarpet": [
           {
            "colorbar": {
             "outlinewidth": 0,
             "ticks": ""
            },
            "type": "contourcarpet"
           }
          ],
          "heatmap": [
           {
            "colorbar": {
             "outlinewidth": 0,
             "ticks": ""
            },
            "colorscale": [
             [
              0,
              "#0d0887"
             ],
             [
              0.1111111111111111,
              "#46039f"
             ],
             [
              0.2222222222222222,
              "#7201a8"
             ],
             [
              0.3333333333333333,
              "#9c179e"
             ],
             [
              0.4444444444444444,
              "#bd3786"
             ],
             [
              0.5555555555555556,
              "#d8576b"
             ],
             [
              0.6666666666666666,
              "#ed7953"
             ],
             [
              0.7777777777777778,
              "#fb9f3a"
             ],
             [
              0.8888888888888888,
              "#fdca26"
             ],
             [
              1,
              "#f0f921"
             ]
            ],
            "type": "heatmap"
           }
          ],
          "heatmapgl": [
           {
            "colorbar": {
             "outlinewidth": 0,
             "ticks": ""
            },
            "colorscale": [
             [
              0,
              "#0d0887"
             ],
             [
              0.1111111111111111,
              "#46039f"
             ],
             [
              0.2222222222222222,
              "#7201a8"
             ],
             [
              0.3333333333333333,
              "#9c179e"
             ],
             [
              0.4444444444444444,
              "#bd3786"
             ],
             [
              0.5555555555555556,
              "#d8576b"
             ],
             [
              0.6666666666666666,
              "#ed7953"
             ],
             [
              0.7777777777777778,
              "#fb9f3a"
             ],
             [
              0.8888888888888888,
              "#fdca26"
             ],
             [
              1,
              "#f0f921"
             ]
            ],
            "type": "heatmapgl"
           }
          ],
          "histogram": [
           {
            "marker": {
             "pattern": {
              "fillmode": "overlay",
              "size": 10,
              "solidity": 0.2
             }
            },
            "type": "histogram"
           }
          ],
          "histogram2d": [
           {
            "colorbar": {
             "outlinewidth": 0,
             "ticks": ""
            },
            "colorscale": [
             [
              0,
              "#0d0887"
             ],
             [
              0.1111111111111111,
              "#46039f"
             ],
             [
              0.2222222222222222,
              "#7201a8"
             ],
             [
              0.3333333333333333,
              "#9c179e"
             ],
             [
              0.4444444444444444,
              "#bd3786"
             ],
             [
              0.5555555555555556,
              "#d8576b"
             ],
             [
              0.6666666666666666,
              "#ed7953"
             ],
             [
              0.7777777777777778,
              "#fb9f3a"
             ],
             [
              0.8888888888888888,
              "#fdca26"
             ],
             [
              1,
              "#f0f921"
             ]
            ],
            "type": "histogram2d"
           }
          ],
          "histogram2dcontour": [
           {
            "colorbar": {
             "outlinewidth": 0,
             "ticks": ""
            },
            "colorscale": [
             [
              0,
              "#0d0887"
             ],
             [
              0.1111111111111111,
              "#46039f"
             ],
             [
              0.2222222222222222,
              "#7201a8"
             ],
             [
              0.3333333333333333,
              "#9c179e"
             ],
             [
              0.4444444444444444,
              "#bd3786"
             ],
             [
              0.5555555555555556,
              "#d8576b"
             ],
             [
              0.6666666666666666,
              "#ed7953"
             ],
             [
              0.7777777777777778,
              "#fb9f3a"
             ],
             [
              0.8888888888888888,
              "#fdca26"
             ],
             [
              1,
              "#f0f921"
             ]
            ],
            "type": "histogram2dcontour"
           }
          ],
          "mesh3d": [
           {
            "colorbar": {
             "outlinewidth": 0,
             "ticks": ""
            },
            "type": "mesh3d"
           }
          ],
          "parcoords": [
           {
            "line": {
             "colorbar": {
              "outlinewidth": 0,
              "ticks": ""
             }
            },
            "type": "parcoords"
           }
          ],
          "pie": [
           {
            "automargin": true,
            "type": "pie"
           }
          ],
          "scatter": [
           {
            "marker": {
             "colorbar": {
              "outlinewidth": 0,
              "ticks": ""
             }
            },
            "type": "scatter"
           }
          ],
          "scatter3d": [
           {
            "line": {
             "colorbar": {
              "outlinewidth": 0,
              "ticks": ""
             }
            },
            "marker": {
             "colorbar": {
              "outlinewidth": 0,
              "ticks": ""
             }
            },
            "type": "scatter3d"
           }
          ],
          "scattercarpet": [
           {
            "marker": {
             "colorbar": {
              "outlinewidth": 0,
              "ticks": ""
             }
            },
            "type": "scattercarpet"
           }
          ],
          "scattergeo": [
           {
            "marker": {
             "colorbar": {
              "outlinewidth": 0,
              "ticks": ""
             }
            },
            "type": "scattergeo"
           }
          ],
          "scattergl": [
           {
            "marker": {
             "colorbar": {
              "outlinewidth": 0,
              "ticks": ""
             }
            },
            "type": "scattergl"
           }
          ],
          "scattermapbox": [
           {
            "marker": {
             "colorbar": {
              "outlinewidth": 0,
              "ticks": ""
             }
            },
            "type": "scattermapbox"
           }
          ],
          "scatterpolar": [
           {
            "marker": {
             "colorbar": {
              "outlinewidth": 0,
              "ticks": ""
             }
            },
            "type": "scatterpolar"
           }
          ],
          "scatterpolargl": [
           {
            "marker": {
             "colorbar": {
              "outlinewidth": 0,
              "ticks": ""
             }
            },
            "type": "scatterpolargl"
           }
          ],
          "scatterternary": [
           {
            "marker": {
             "colorbar": {
              "outlinewidth": 0,
              "ticks": ""
             }
            },
            "type": "scatterternary"
           }
          ],
          "surface": [
           {
            "colorbar": {
             "outlinewidth": 0,
             "ticks": ""
            },
            "colorscale": [
             [
              0,
              "#0d0887"
             ],
             [
              0.1111111111111111,
              "#46039f"
             ],
             [
              0.2222222222222222,
              "#7201a8"
             ],
             [
              0.3333333333333333,
              "#9c179e"
             ],
             [
              0.4444444444444444,
              "#bd3786"
             ],
             [
              0.5555555555555556,
              "#d8576b"
             ],
             [
              0.6666666666666666,
              "#ed7953"
             ],
             [
              0.7777777777777778,
              "#fb9f3a"
             ],
             [
              0.8888888888888888,
              "#fdca26"
             ],
             [
              1,
              "#f0f921"
             ]
            ],
            "type": "surface"
           }
          ],
          "table": [
           {
            "cells": {
             "fill": {
              "color": "#EBF0F8"
             },
             "line": {
              "color": "white"
             }
            },
            "header": {
             "fill": {
              "color": "#C8D4E3"
             },
             "line": {
              "color": "white"
             }
            },
            "type": "table"
           }
          ]
         },
         "layout": {
          "annotationdefaults": {
           "arrowcolor": "#2a3f5f",
           "arrowhead": 0,
           "arrowwidth": 1
          },
          "autotypenumbers": "strict",
          "coloraxis": {
           "colorbar": {
            "outlinewidth": 0,
            "ticks": ""
           }
          },
          "colorscale": {
           "diverging": [
            [
             0,
             "#8e0152"
            ],
            [
             0.1,
             "#c51b7d"
            ],
            [
             0.2,
             "#de77ae"
            ],
            [
             0.3,
             "#f1b6da"
            ],
            [
             0.4,
             "#fde0ef"
            ],
            [
             0.5,
             "#f7f7f7"
            ],
            [
             0.6,
             "#e6f5d0"
            ],
            [
             0.7,
             "#b8e186"
            ],
            [
             0.8,
             "#7fbc41"
            ],
            [
             0.9,
             "#4d9221"
            ],
            [
             1,
             "#276419"
            ]
           ],
           "sequential": [
            [
             0,
             "#0d0887"
            ],
            [
             0.1111111111111111,
             "#46039f"
            ],
            [
             0.2222222222222222,
             "#7201a8"
            ],
            [
             0.3333333333333333,
             "#9c179e"
            ],
            [
             0.4444444444444444,
             "#bd3786"
            ],
            [
             0.5555555555555556,
             "#d8576b"
            ],
            [
             0.6666666666666666,
             "#ed7953"
            ],
            [
             0.7777777777777778,
             "#fb9f3a"
            ],
            [
             0.8888888888888888,
             "#fdca26"
            ],
            [
             1,
             "#f0f921"
            ]
           ],
           "sequentialminus": [
            [
             0,
             "#0d0887"
            ],
            [
             0.1111111111111111,
             "#46039f"
            ],
            [
             0.2222222222222222,
             "#7201a8"
            ],
            [
             0.3333333333333333,
             "#9c179e"
            ],
            [
             0.4444444444444444,
             "#bd3786"
            ],
            [
             0.5555555555555556,
             "#d8576b"
            ],
            [
             0.6666666666666666,
             "#ed7953"
            ],
            [
             0.7777777777777778,
             "#fb9f3a"
            ],
            [
             0.8888888888888888,
             "#fdca26"
            ],
            [
             1,
             "#f0f921"
            ]
           ]
          },
          "colorway": [
           "#636efa",
           "#EF553B",
           "#00cc96",
           "#ab63fa",
           "#FFA15A",
           "#19d3f3",
           "#FF6692",
           "#B6E880",
           "#FF97FF",
           "#FECB52"
          ],
          "font": {
           "color": "#2a3f5f"
          },
          "geo": {
           "bgcolor": "white",
           "lakecolor": "white",
           "landcolor": "#E5ECF6",
           "showlakes": true,
           "showland": true,
           "subunitcolor": "white"
          },
          "hoverlabel": {
           "align": "left"
          },
          "hovermode": "closest",
          "mapbox": {
           "style": "light"
          },
          "paper_bgcolor": "white",
          "plot_bgcolor": "#E5ECF6",
          "polar": {
           "angularaxis": {
            "gridcolor": "white",
            "linecolor": "white",
            "ticks": ""
           },
           "bgcolor": "#E5ECF6",
           "radialaxis": {
            "gridcolor": "white",
            "linecolor": "white",
            "ticks": ""
           }
          },
          "scene": {
           "xaxis": {
            "backgroundcolor": "#E5ECF6",
            "gridcolor": "white",
            "gridwidth": 2,
            "linecolor": "white",
            "showbackground": true,
            "ticks": "",
            "zerolinecolor": "white"
           },
           "yaxis": {
            "backgroundcolor": "#E5ECF6",
            "gridcolor": "white",
            "gridwidth": 2,
            "linecolor": "white",
            "showbackground": true,
            "ticks": "",
            "zerolinecolor": "white"
           },
           "zaxis": {
            "backgroundcolor": "#E5ECF6",
            "gridcolor": "white",
            "gridwidth": 2,
            "linecolor": "white",
            "showbackground": true,
            "ticks": "",
            "zerolinecolor": "white"
           }
          },
          "shapedefaults": {
           "line": {
            "color": "#2a3f5f"
           }
          },
          "ternary": {
           "aaxis": {
            "gridcolor": "white",
            "linecolor": "white",
            "ticks": ""
           },
           "baxis": {
            "gridcolor": "white",
            "linecolor": "white",
            "ticks": ""
           },
           "bgcolor": "#E5ECF6",
           "caxis": {
            "gridcolor": "white",
            "linecolor": "white",
            "ticks": ""
           }
          },
          "title": {
           "x": 0.05
          },
          "xaxis": {
           "automargin": true,
           "gridcolor": "white",
           "linecolor": "white",
           "ticks": "",
           "title": {
            "standoff": 15
           },
           "zerolinecolor": "white",
           "zerolinewidth": 2
          },
          "yaxis": {
           "automargin": true,
           "gridcolor": "white",
           "linecolor": "white",
           "ticks": "",
           "title": {
            "standoff": 15
           },
           "zerolinecolor": "white",
           "zerolinewidth": 2
          }
         }
        },
        "title": {
         "text": "custom tick labels"
        },
        "xaxis": {
         "anchor": "y",
         "domain": [
          0,
          1
         ],
         "dtick": "M1",
         "title": {
          "text": "date"
         }
        },
        "yaxis": {
         "anchor": "x",
         "domain": [
          0,
          1
         ],
         "title": {
          "text": "value"
         }
        }
       }
      }
     },
     "metadata": {},
     "output_type": "display_data"
    }
   ],
   "source": [
    "import plotly.express as px\n",
    "df = px.data.stocks()\n",
    "fig = px.line(df, x=\"date\", y=df.columns,\n",
    "            #   hover_data={\"date\": \"|%B %d, %Y\"},\n",
    "              title='custom tick labels')\n",
    "fig.update_xaxes(\n",
    "    dtick=\"M1\")\n",
    "    # tickformat=\"%b\\n%Y\")\n",
    "fig.show()"
   ]
  },
  {
   "cell_type": "code",
   "execution_count": 36,
   "metadata": {},
   "outputs": [
    {
     "data": {
      "text/html": [
       "<div>\n",
       "<style scoped>\n",
       "    .dataframe tbody tr th:only-of-type {\n",
       "        vertical-align: middle;\n",
       "    }\n",
       "\n",
       "    .dataframe tbody tr th {\n",
       "        vertical-align: top;\n",
       "    }\n",
       "\n",
       "    .dataframe thead th {\n",
       "        text-align: right;\n",
       "    }\n",
       "</style>\n",
       "<table border=\"1\" class=\"dataframe\">\n",
       "  <thead>\n",
       "    <tr style=\"text-align: right;\">\n",
       "      <th></th>\n",
       "      <th>Date</th>\n",
       "      <th>Price</th>\n",
       "      <th>Open</th>\n",
       "      <th>High</th>\n",
       "      <th>Low</th>\n",
       "      <th>Vol.</th>\n",
       "      <th>Change %</th>\n",
       "      <th>format_date</th>\n",
       "    </tr>\n",
       "  </thead>\n",
       "  <tbody>\n",
       "    <tr>\n",
       "      <th>0</th>\n",
       "      <td>Dec 31, 2021</td>\n",
       "      <td>5.3268</td>\n",
       "      <td>5.1097</td>\n",
       "      <td>5.7109</td>\n",
       "      <td>5.0087</td>\n",
       "      <td>4.54M</td>\n",
       "      <td>4.17%</td>\n",
       "      <td>2021-12</td>\n",
       "    </tr>\n",
       "    <tr>\n",
       "      <th>1</th>\n",
       "      <td>Dec 30, 2021</td>\n",
       "      <td>5.1137</td>\n",
       "      <td>4.8500</td>\n",
       "      <td>5.2745</td>\n",
       "      <td>4.6619</td>\n",
       "      <td>3.09M</td>\n",
       "      <td>5.78%</td>\n",
       "      <td>2021-12</td>\n",
       "    </tr>\n",
       "    <tr>\n",
       "      <th>2</th>\n",
       "      <td>Dec 29, 2021</td>\n",
       "      <td>4.8342</td>\n",
       "      <td>4.7181</td>\n",
       "      <td>5.1932</td>\n",
       "      <td>4.7102</td>\n",
       "      <td>4.26M</td>\n",
       "      <td>2.36%</td>\n",
       "      <td>2021-12</td>\n",
       "    </tr>\n",
       "    <tr>\n",
       "      <th>3</th>\n",
       "      <td>Dec 28, 2021</td>\n",
       "      <td>4.7229</td>\n",
       "      <td>5.2765</td>\n",
       "      <td>5.2873</td>\n",
       "      <td>4.6516</td>\n",
       "      <td>5.30M</td>\n",
       "      <td>-10.51%</td>\n",
       "      <td>2021-12</td>\n",
       "    </tr>\n",
       "    <tr>\n",
       "      <th>4</th>\n",
       "      <td>Dec 27, 2021</td>\n",
       "      <td>5.2773</td>\n",
       "      <td>5.7339</td>\n",
       "      <td>5.7992</td>\n",
       "      <td>5.2729</td>\n",
       "      <td>2.47M</td>\n",
       "      <td>-7.90%</td>\n",
       "      <td>2021-12</td>\n",
       "    </tr>\n",
       "  </tbody>\n",
       "</table>\n",
       "</div>"
      ],
      "text/plain": [
       "           Date   Price    Open    High     Low   Vol. Change % format_date\n",
       "0  Dec 31, 2021  5.3268  5.1097  5.7109  5.0087  4.54M    4.17%     2021-12\n",
       "1  Dec 30, 2021  5.1137  4.8500  5.2745  4.6619  3.09M    5.78%     2021-12\n",
       "2  Dec 29, 2021  4.8342  4.7181  5.1932  4.7102  4.26M    2.36%     2021-12\n",
       "3  Dec 28, 2021  4.7229  5.2765  5.2873  4.6516  5.30M  -10.51%     2021-12\n",
       "4  Dec 27, 2021  5.2773  5.7339  5.7992  5.2729  2.47M   -7.90%     2021-12"
      ]
     },
     "execution_count": 36,
     "metadata": {},
     "output_type": "execute_result"
    }
   ],
   "source": [
    "from datetime import datetime\n",
    "\n",
    "\n",
    "def mdy_to_ymd(d):\n",
    "    return datetime.strptime(d, '%b %d, %Y').strftime('%Y-%m-%d')\n",
    "\n",
    "price_df['format_date'] = price_df['Date'].apply(lambda x:  mdy_to_ymd(x)[0: mdy_to_ymd(x).rfind('-')])\n",
    "\n",
    "# mdy_to_ymd('Jan 01, 2021')\n",
    "price_df.head(5)"
   ]
  },
  {
   "cell_type": "code",
   "execution_count": 35,
   "metadata": {},
   "outputs": [
    {
     "data": {
      "text/html": [
       "<div>\n",
       "<style scoped>\n",
       "    .dataframe tbody tr th:only-of-type {\n",
       "        vertical-align: middle;\n",
       "    }\n",
       "\n",
       "    .dataframe tbody tr th {\n",
       "        vertical-align: top;\n",
       "    }\n",
       "\n",
       "    .dataframe thead th {\n",
       "        text-align: right;\n",
       "    }\n",
       "</style>\n",
       "<table border=\"1\" class=\"dataframe\">\n",
       "  <thead>\n",
       "    <tr style=\"text-align: right;\">\n",
       "      <th></th>\n",
       "      <th>date</th>\n",
       "      <th>sentiment</th>\n",
       "    </tr>\n",
       "  </thead>\n",
       "  <tbody>\n",
       "    <tr>\n",
       "      <th>0</th>\n",
       "      <td>2021-01</td>\n",
       "      <td>0.753102</td>\n",
       "    </tr>\n",
       "    <tr>\n",
       "      <th>1</th>\n",
       "      <td>2021-02</td>\n",
       "      <td>0.746449</td>\n",
       "    </tr>\n",
       "    <tr>\n",
       "      <th>2</th>\n",
       "      <td>2021-03</td>\n",
       "      <td>0.834420</td>\n",
       "    </tr>\n",
       "    <tr>\n",
       "      <th>3</th>\n",
       "      <td>2021-04</td>\n",
       "      <td>0.761834</td>\n",
       "    </tr>\n",
       "    <tr>\n",
       "      <th>4</th>\n",
       "      <td>2021-05</td>\n",
       "      <td>0.764964</td>\n",
       "    </tr>\n",
       "  </tbody>\n",
       "</table>\n",
       "</div>"
      ],
      "text/plain": [
       "      date  sentiment\n",
       "0  2021-01   0.753102\n",
       "1  2021-02   0.746449\n",
       "2  2021-03   0.834420\n",
       "3  2021-04   0.761834\n",
       "4  2021-05   0.764964"
      ]
     },
     "execution_count": 35,
     "metadata": {},
     "output_type": "execute_result"
    }
   ],
   "source": [
    "sentiment_df.head(5)"
   ]
  },
  {
   "cell_type": "code",
   "execution_count": 54,
   "metadata": {},
   "outputs": [
    {
     "name": "stdout",
     "output_type": "stream",
     "text": [
      "Collecting dash_daq\n",
      "  Using cached dash_daq-0.5.0.tar.gz (642 kB)\n",
      "Requirement already satisfied: dash>=1.6.1 in /opt/anaconda3/lib/python3.8/site-packages (from dash_daq) (2.3.1)\n",
      "Requirement already satisfied: flask-compress in /opt/anaconda3/lib/python3.8/site-packages (from dash>=1.6.1->dash_daq) (1.11)\n",
      "Requirement already satisfied: dash-html-components==2.0.0 in /opt/anaconda3/lib/python3.8/site-packages (from dash>=1.6.1->dash_daq) (2.0.0)\n",
      "Requirement already satisfied: dash-core-components==2.0.0 in /opt/anaconda3/lib/python3.8/site-packages (from dash>=1.6.1->dash_daq) (2.0.0)\n",
      "Requirement already satisfied: Flask>=1.0.4 in /opt/anaconda3/lib/python3.8/site-packages (from dash>=1.6.1->dash_daq) (1.1.2)\n",
      "Requirement already satisfied: dash-table==5.0.0 in /opt/anaconda3/lib/python3.8/site-packages (from dash>=1.6.1->dash_daq) (5.0.0)\n",
      "Requirement already satisfied: plotly>=5.0.0 in /opt/anaconda3/lib/python3.8/site-packages (from dash>=1.6.1->dash_daq) (5.0.0)\n",
      "Requirement already satisfied: brotli in /opt/anaconda3/lib/python3.8/site-packages (from flask-compress->dash>=1.6.1->dash_daq) (1.0.9)\n",
      "Requirement already satisfied: Werkzeug>=0.15 in /opt/anaconda3/lib/python3.8/site-packages (from Flask>=1.0.4->dash>=1.6.1->dash_daq) (1.0.1)\n",
      "Requirement already satisfied: itsdangerous>=0.24 in /opt/anaconda3/lib/python3.8/site-packages (from Flask>=1.0.4->dash>=1.6.1->dash_daq) (1.1.0)\n",
      "Requirement already satisfied: click>=5.1 in /opt/anaconda3/lib/python3.8/site-packages (from Flask>=1.0.4->dash>=1.6.1->dash_daq) (7.1.2)\n",
      "Requirement already satisfied: Jinja2>=2.10.1 in /opt/anaconda3/lib/python3.8/site-packages (from Flask>=1.0.4->dash>=1.6.1->dash_daq) (2.11.2)\n",
      "Requirement already satisfied: six in /opt/anaconda3/lib/python3.8/site-packages (from plotly>=5.0.0->dash>=1.6.1->dash_daq) (1.16.0)\n",
      "Requirement already satisfied: tenacity>=6.2.0 in /opt/anaconda3/lib/python3.8/site-packages (from plotly>=5.0.0->dash>=1.6.1->dash_daq) (7.0.0)\n",
      "Requirement already satisfied: MarkupSafe>=0.23 in /opt/anaconda3/lib/python3.8/site-packages (from Jinja2>=2.10.1->Flask>=1.0.4->dash>=1.6.1->dash_daq) (1.1.1)\n",
      "Building wheels for collected packages: dash-daq\n",
      "  Building wheel for dash-daq (setup.py) ... \u001b[?25ldone\n",
      "\u001b[?25h  Created wheel for dash-daq: filename=dash_daq-0.5.0-py3-none-any.whl size=669701 sha256=d37a12d3bb223e05ace80bf8ed7b3b591c245c4a0457d15c6375e3aab4f979e9\n",
      "  Stored in directory: /Users/lamchingrou/Library/Caches/pip/wheels/00/35/e5/57e90f10c529601c6627400513cb65dd5adb09752411f5a050\n",
      "Successfully built dash-daq\n",
      "Installing collected packages: dash-daq\n",
      "Successfully installed dash-daq-0.5.0\n",
      "Note: you may need to restart the kernel to use updated packages.\n"
     ]
    }
   ],
   "source": [
    "%pip install dash_daq"
   ]
  },
  {
   "cell_type": "code",
   "execution_count": 57,
   "metadata": {},
   "outputs": [],
   "source": [
    "import json\n",
    "with open('sentimentalOutput/discord.json') as json_file:\n",
    "    data = json.load(json_file)"
   ]
  },
  {
   "cell_type": "code",
   "execution_count": 59,
   "metadata": {},
   "outputs": [
    {
     "data": {
      "text/plain": [
       "dict"
      ]
     },
     "execution_count": 59,
     "metadata": {},
     "output_type": "execute_result"
    }
   ],
   "source": [
    "type(data)"
   ]
  },
  {
   "cell_type": "code",
   "execution_count": 1,
   "metadata": {},
   "outputs": [],
   "source": [
    "import plotly.graph_objects as go\n",
    "\n",
    "import networkx as nx\n",
    "\n",
    "G = nx.random_geometric_graph(200, 0.125)"
   ]
  },
  {
   "cell_type": "code",
   "execution_count": 2,
   "metadata": {},
   "outputs": [
    {
     "data": {
      "text/plain": [
       "<networkx.classes.graph.Graph at 0x7f824388c190>"
      ]
     },
     "execution_count": 2,
     "metadata": {},
     "output_type": "execute_result"
    }
   ],
   "source": [
    "G"
   ]
  }
 ],
 "metadata": {
  "interpreter": {
   "hash": "40d3a090f54c6569ab1632332b64b2c03c39dcf918b08424e98f38b5ae0af88f"
  },
  "kernelspec": {
   "display_name": "Python 3.8.3 ('base')",
   "language": "python",
   "name": "python3"
  },
  "language_info": {
   "codemirror_mode": {
    "name": "ipython",
    "version": 3
   },
   "file_extension": ".py",
   "mimetype": "text/x-python",
   "name": "python",
   "nbconvert_exporter": "python",
   "pygments_lexer": "ipython3",
   "version": "3.8.3"
  },
  "orig_nbformat": 4
 },
 "nbformat": 4,
 "nbformat_minor": 2
}
