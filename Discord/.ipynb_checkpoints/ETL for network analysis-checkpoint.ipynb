{
 "cells": [
  {
   "cell_type": "code",
   "execution_count": 1,
   "id": "cc064f74",
   "metadata": {},
   "outputs": [],
   "source": [
    "import pandas as pd\n",
    "import numpy as np\n",
    "import seaborn as sns\n",
    "import matplotlib.pyplot as plt"
   ]
  },
  {
   "cell_type": "code",
   "execution_count": 2,
   "id": "fb088ece",
   "metadata": {},
   "outputs": [
    {
     "data": {
      "text/html": [
       "<div>\n",
       "<style scoped>\n",
       "    .dataframe tbody tr th:only-of-type {\n",
       "        vertical-align: middle;\n",
       "    }\n",
       "\n",
       "    .dataframe tbody tr th {\n",
       "        vertical-align: top;\n",
       "    }\n",
       "\n",
       "    .dataframe thead th {\n",
       "        text-align: right;\n",
       "    }\n",
       "</style>\n",
       "<table border=\"1\" class=\"dataframe\">\n",
       "  <thead>\n",
       "    <tr style=\"text-align: right;\">\n",
       "      <th></th>\n",
       "      <th>messageID</th>\n",
       "      <th>author_id</th>\n",
       "      <th>author_username</th>\n",
       "      <th>content</th>\n",
       "      <th>timestamp</th>\n",
       "      <th>serverName</th>\n",
       "      <th>channelName</th>\n",
       "      <th>date</th>\n",
       "      <th>time</th>\n",
       "    </tr>\n",
       "  </thead>\n",
       "  <tbody>\n",
       "    <tr>\n",
       "      <th>0</th>\n",
       "      <td>9.495640e+17</td>\n",
       "      <td>1.355640e+17</td>\n",
       "      <td>Zapacheenie</td>\n",
       "      <td>Gas mighty cheap right now</td>\n",
       "      <td>5/3/2022 3:09:44 pm</td>\n",
       "      <td>SushiSwap Community</td>\n",
       "      <td>Price Talk</td>\n",
       "      <td>5/3/2022</td>\n",
       "      <td>3:09:44 PM</td>\n",
       "    </tr>\n",
       "    <tr>\n",
       "      <th>1</th>\n",
       "      <td>9.495640e+17</td>\n",
       "      <td>1.355640e+17</td>\n",
       "      <td>Zapacheenie</td>\n",
       "      <td>Learn'd and shided</td>\n",
       "      <td>5/3/2022 3:09:37 pm</td>\n",
       "      <td>SushiSwap Community</td>\n",
       "      <td>Price Talk</td>\n",
       "      <td>5/3/2022</td>\n",
       "      <td>3:09:37 PM</td>\n",
       "    </tr>\n",
       "    <tr>\n",
       "      <th>2</th>\n",
       "      <td>9.495090e+17</td>\n",
       "      <td>3.264530e+17</td>\n",
       "      <td>terrarekt</td>\n",
       "      <td>https://tenor.com/view/the-more-you-learn-and-...</td>\n",
       "      <td>5/3/2022 11:30:35 am</td>\n",
       "      <td>SushiSwap Community</td>\n",
       "      <td>Price Talk</td>\n",
       "      <td>5/3/2022</td>\n",
       "      <td>11:30:35 AM</td>\n",
       "    </tr>\n",
       "    <tr>\n",
       "      <th>3</th>\n",
       "      <td>9.494940e+17</td>\n",
       "      <td>2.850350e+17</td>\n",
       "      <td>ChronoFury</td>\n",
       "      <td>bots don't care about fundamentals, they just ...</td>\n",
       "      <td>5/3/2022 10:31:49 am</td>\n",
       "      <td>SushiSwap Community</td>\n",
       "      <td>Price Talk</td>\n",
       "      <td>5/3/2022</td>\n",
       "      <td>10:31:49 AM</td>\n",
       "    </tr>\n",
       "    <tr>\n",
       "      <th>4</th>\n",
       "      <td>9.494920e+17</td>\n",
       "      <td>7.884360e+17</td>\n",
       "      <td>WT Wizard</td>\n",
       "      <td>I was thinking same thing. Didn't know if I wa...</td>\n",
       "      <td>5/3/2022 10:23:36 am</td>\n",
       "      <td>SushiSwap Community</td>\n",
       "      <td>Price Talk</td>\n",
       "      <td>5/3/2022</td>\n",
       "      <td>10:23:36 AM</td>\n",
       "    </tr>\n",
       "  </tbody>\n",
       "</table>\n",
       "</div>"
      ],
      "text/plain": [
       "      messageID     author_id author_username  \\\n",
       "0  9.495640e+17  1.355640e+17     Zapacheenie   \n",
       "1  9.495640e+17  1.355640e+17     Zapacheenie   \n",
       "2  9.495090e+17  3.264530e+17       terrarekt   \n",
       "3  9.494940e+17  2.850350e+17      ChronoFury   \n",
       "4  9.494920e+17  7.884360e+17       WT Wizard   \n",
       "\n",
       "                                             content             timestamp  \\\n",
       "0                         Gas mighty cheap right now   5/3/2022 3:09:44 pm   \n",
       "1                                 Learn'd and shided   5/3/2022 3:09:37 pm   \n",
       "2  https://tenor.com/view/the-more-you-learn-and-...  5/3/2022 11:30:35 am   \n",
       "3  bots don't care about fundamentals, they just ...  5/3/2022 10:31:49 am   \n",
       "4  I was thinking same thing. Didn't know if I wa...  5/3/2022 10:23:36 am   \n",
       "\n",
       "            serverName channelName      date         time  \n",
       "0  SushiSwap Community  Price Talk  5/3/2022   3:09:44 PM  \n",
       "1  SushiSwap Community  Price Talk  5/3/2022   3:09:37 PM  \n",
       "2  SushiSwap Community  Price Talk  5/3/2022  11:30:35 AM  \n",
       "3  SushiSwap Community  Price Talk  5/3/2022  10:31:49 AM  \n",
       "4  SushiSwap Community  Price Talk  5/3/2022  10:23:36 AM  "
      ]
     },
     "execution_count": 2,
     "metadata": {},
     "output_type": "execute_result"
    }
   ],
   "source": [
    "df = pd.read_csv(\"discordDeFiScrape700.csv\",encoding = \"ISO-8859-1\")\n",
    "df.head()"
   ]
  },
  {
   "cell_type": "code",
   "execution_count": 16,
   "id": "a328da95",
   "metadata": {},
   "outputs": [
    {
     "ename": "ValueError",
     "evalue": "columns overlap but no suffix specified: Index(['messageID', 'author_username', 'content', 'timestamp', 'serverName',\n       'channelName', 'date', 'time'],\n      dtype='object')",
     "output_type": "error",
     "traceback": [
      "\u001b[1;31m---------------------------------------------------------------------------\u001b[0m",
      "\u001b[1;31mValueError\u001b[0m                                Traceback (most recent call last)",
      "\u001b[1;32m~\\AppData\\Local\\Temp/ipykernel_20548/2032653851.py\u001b[0m in \u001b[0;36m<module>\u001b[1;34m\u001b[0m\n\u001b[0;32m      1\u001b[0m \u001b[0mdf\u001b[0m\u001b[1;33m=\u001b[0m \u001b[0mdf\u001b[0m\u001b[1;33m.\u001b[0m\u001b[0mdropna\u001b[0m\u001b[1;33m(\u001b[0m\u001b[1;33m)\u001b[0m\u001b[1;33m\u001b[0m\u001b[1;33m\u001b[0m\u001b[0m\n\u001b[0;32m      2\u001b[0m \u001b[0mdf3\u001b[0m \u001b[1;33m=\u001b[0m \u001b[0mdf\u001b[0m\u001b[1;33m.\u001b[0m\u001b[0mgroupby\u001b[0m\u001b[1;33m(\u001b[0m\u001b[1;34m'author_id'\u001b[0m\u001b[1;33m)\u001b[0m\u001b[1;33m.\u001b[0m\u001b[0mcount\u001b[0m\u001b[1;33m(\u001b[0m\u001b[1;33m)\u001b[0m\u001b[1;33m\u001b[0m\u001b[1;33m\u001b[0m\u001b[0m\n\u001b[1;32m----> 3\u001b[1;33m \u001b[0mdf4\u001b[0m \u001b[1;33m=\u001b[0m \u001b[0mdf3\u001b[0m\u001b[1;33m.\u001b[0m\u001b[0mjoin\u001b[0m\u001b[1;33m(\u001b[0m\u001b[0mdf\u001b[0m\u001b[1;33m,\u001b[0m \u001b[0mon\u001b[0m\u001b[1;33m=\u001b[0m\u001b[1;34m'author_id'\u001b[0m\u001b[1;33m)\u001b[0m\u001b[1;33m\u001b[0m\u001b[1;33m\u001b[0m\u001b[0m\n\u001b[0m",
      "\u001b[1;32mC:\\ProgramData\\Anaconda3\\lib\\site-packages\\pandas\\core\\frame.py\u001b[0m in \u001b[0;36mjoin\u001b[1;34m(self, other, on, how, lsuffix, rsuffix, sort)\u001b[0m\n\u001b[0;32m   9097\u001b[0m         \u001b[1;36m5\u001b[0m  \u001b[0mK5\u001b[0m  \u001b[0mA5\u001b[0m  \u001b[0mNaN\u001b[0m\u001b[1;33m\u001b[0m\u001b[1;33m\u001b[0m\u001b[0m\n\u001b[0;32m   9098\u001b[0m         \"\"\"\n\u001b[1;32m-> 9099\u001b[1;33m         return self._join_compat(\n\u001b[0m\u001b[0;32m   9100\u001b[0m             \u001b[0mother\u001b[0m\u001b[1;33m,\u001b[0m \u001b[0mon\u001b[0m\u001b[1;33m=\u001b[0m\u001b[0mon\u001b[0m\u001b[1;33m,\u001b[0m \u001b[0mhow\u001b[0m\u001b[1;33m=\u001b[0m\u001b[0mhow\u001b[0m\u001b[1;33m,\u001b[0m \u001b[0mlsuffix\u001b[0m\u001b[1;33m=\u001b[0m\u001b[0mlsuffix\u001b[0m\u001b[1;33m,\u001b[0m \u001b[0mrsuffix\u001b[0m\u001b[1;33m=\u001b[0m\u001b[0mrsuffix\u001b[0m\u001b[1;33m,\u001b[0m \u001b[0msort\u001b[0m\u001b[1;33m=\u001b[0m\u001b[0msort\u001b[0m\u001b[1;33m\u001b[0m\u001b[1;33m\u001b[0m\u001b[0m\n\u001b[0;32m   9101\u001b[0m         )\n",
      "\u001b[1;32mC:\\ProgramData\\Anaconda3\\lib\\site-packages\\pandas\\core\\frame.py\u001b[0m in \u001b[0;36m_join_compat\u001b[1;34m(self, other, on, how, lsuffix, rsuffix, sort)\u001b[0m\n\u001b[0;32m   9128\u001b[0m                     \u001b[0msort\u001b[0m\u001b[1;33m=\u001b[0m\u001b[0msort\u001b[0m\u001b[1;33m,\u001b[0m\u001b[1;33m\u001b[0m\u001b[1;33m\u001b[0m\u001b[0m\n\u001b[0;32m   9129\u001b[0m                 )\n\u001b[1;32m-> 9130\u001b[1;33m             return merge(\n\u001b[0m\u001b[0;32m   9131\u001b[0m                 \u001b[0mself\u001b[0m\u001b[1;33m,\u001b[0m\u001b[1;33m\u001b[0m\u001b[1;33m\u001b[0m\u001b[0m\n\u001b[0;32m   9132\u001b[0m                 \u001b[0mother\u001b[0m\u001b[1;33m,\u001b[0m\u001b[1;33m\u001b[0m\u001b[1;33m\u001b[0m\u001b[0m\n",
      "\u001b[1;32mC:\\ProgramData\\Anaconda3\\lib\\site-packages\\pandas\\core\\reshape\\merge.py\u001b[0m in \u001b[0;36mmerge\u001b[1;34m(left, right, how, on, left_on, right_on, left_index, right_index, sort, suffixes, copy, indicator, validate)\u001b[0m\n\u001b[0;32m    119\u001b[0m         \u001b[0mvalidate\u001b[0m\u001b[1;33m=\u001b[0m\u001b[0mvalidate\u001b[0m\u001b[1;33m,\u001b[0m\u001b[1;33m\u001b[0m\u001b[1;33m\u001b[0m\u001b[0m\n\u001b[0;32m    120\u001b[0m     )\n\u001b[1;32m--> 121\u001b[1;33m     \u001b[1;32mreturn\u001b[0m \u001b[0mop\u001b[0m\u001b[1;33m.\u001b[0m\u001b[0mget_result\u001b[0m\u001b[1;33m(\u001b[0m\u001b[1;33m)\u001b[0m\u001b[1;33m\u001b[0m\u001b[1;33m\u001b[0m\u001b[0m\n\u001b[0m\u001b[0;32m    122\u001b[0m \u001b[1;33m\u001b[0m\u001b[0m\n\u001b[0;32m    123\u001b[0m \u001b[1;33m\u001b[0m\u001b[0m\n",
      "\u001b[1;32mC:\\ProgramData\\Anaconda3\\lib\\site-packages\\pandas\\core\\reshape\\merge.py\u001b[0m in \u001b[0;36mget_result\u001b[1;34m(self)\u001b[0m\n\u001b[0;32m    715\u001b[0m         \u001b[0mjoin_index\u001b[0m\u001b[1;33m,\u001b[0m \u001b[0mleft_indexer\u001b[0m\u001b[1;33m,\u001b[0m \u001b[0mright_indexer\u001b[0m \u001b[1;33m=\u001b[0m \u001b[0mself\u001b[0m\u001b[1;33m.\u001b[0m\u001b[0m_get_join_info\u001b[0m\u001b[1;33m(\u001b[0m\u001b[1;33m)\u001b[0m\u001b[1;33m\u001b[0m\u001b[1;33m\u001b[0m\u001b[0m\n\u001b[0;32m    716\u001b[0m \u001b[1;33m\u001b[0m\u001b[0m\n\u001b[1;32m--> 717\u001b[1;33m         llabels, rlabels = _items_overlap_with_suffix(\n\u001b[0m\u001b[0;32m    718\u001b[0m             \u001b[0mself\u001b[0m\u001b[1;33m.\u001b[0m\u001b[0mleft\u001b[0m\u001b[1;33m.\u001b[0m\u001b[0m_info_axis\u001b[0m\u001b[1;33m,\u001b[0m \u001b[0mself\u001b[0m\u001b[1;33m.\u001b[0m\u001b[0mright\u001b[0m\u001b[1;33m.\u001b[0m\u001b[0m_info_axis\u001b[0m\u001b[1;33m,\u001b[0m \u001b[0mself\u001b[0m\u001b[1;33m.\u001b[0m\u001b[0msuffixes\u001b[0m\u001b[1;33m\u001b[0m\u001b[1;33m\u001b[0m\u001b[0m\n\u001b[0;32m    719\u001b[0m         )\n",
      "\u001b[1;32mC:\\ProgramData\\Anaconda3\\lib\\site-packages\\pandas\\core\\reshape\\merge.py\u001b[0m in \u001b[0;36m_items_overlap_with_suffix\u001b[1;34m(left, right, suffixes)\u001b[0m\n\u001b[0;32m   2306\u001b[0m \u001b[1;33m\u001b[0m\u001b[0m\n\u001b[0;32m   2307\u001b[0m     \u001b[1;32mif\u001b[0m \u001b[1;32mnot\u001b[0m \u001b[0mlsuffix\u001b[0m \u001b[1;32mand\u001b[0m \u001b[1;32mnot\u001b[0m \u001b[0mrsuffix\u001b[0m\u001b[1;33m:\u001b[0m\u001b[1;33m\u001b[0m\u001b[1;33m\u001b[0m\u001b[0m\n\u001b[1;32m-> 2308\u001b[1;33m         \u001b[1;32mraise\u001b[0m \u001b[0mValueError\u001b[0m\u001b[1;33m(\u001b[0m\u001b[1;34mf\"columns overlap but no suffix specified: {to_rename}\"\u001b[0m\u001b[1;33m)\u001b[0m\u001b[1;33m\u001b[0m\u001b[1;33m\u001b[0m\u001b[0m\n\u001b[0m\u001b[0;32m   2309\u001b[0m \u001b[1;33m\u001b[0m\u001b[0m\n\u001b[0;32m   2310\u001b[0m     \u001b[1;32mdef\u001b[0m \u001b[0mrenamer\u001b[0m\u001b[1;33m(\u001b[0m\u001b[0mx\u001b[0m\u001b[1;33m,\u001b[0m \u001b[0msuffix\u001b[0m\u001b[1;33m)\u001b[0m\u001b[1;33m:\u001b[0m\u001b[1;33m\u001b[0m\u001b[1;33m\u001b[0m\u001b[0m\n",
      "\u001b[1;31mValueError\u001b[0m: columns overlap but no suffix specified: Index(['messageID', 'author_username', 'content', 'timestamp', 'serverName',\n       'channelName', 'date', 'time'],\n      dtype='object')"
     ]
    }
   ],
   "source": [
    "df= df.dropna()\n",
    "df3 = df.groupby('author_id').count()\n",
    "df4 = df3.join(df, on='author_id', lsuffix = 'author_username',rsuffix='')"
   ]
  },
  {
   "cell_type": "code",
   "execution_count": 9,
   "id": "05f4bfe8",
   "metadata": {},
   "outputs": [],
   "source": [
    "df2 = df[['author_username','serverName']]\n",
    "df2 = df2.dropna()\n",
    "df2.to_csv('network_analysis.csv')"
   ]
  },
  {
   "cell_type": "code",
   "execution_count": null,
   "id": "0f5bfa1a",
   "metadata": {},
   "outputs": [],
   "source": [
    "\n",
    "\n",
    "df3 = df2.groupby(['author_username','serverName'])\n",
    "df4 = df3.sum().reset_index()\n"
   ]
  },
  {
   "cell_type": "code",
   "execution_count": null,
   "id": "90f0ff33",
   "metadata": {},
   "outputs": [],
   "source": [
    "user_dict = {}\n",
    "n = 0\n",
    "for index, row in df4.iterrows():\n",
    "    name = row[0].strip('!')\n",
    "    name = name.strip(' ')\n",
    "    server = row[1]\n",
    "    count = row[2]\n",
    "    if name not in user_dict:\n",
    "        user_dict[name] = [[server],count]\n",
    "    else:\n",
    "        user_dict[name][0].append(server)\n",
    "        new = user_dict[name][1]+count\n",
    "        user_dict[name][1]=new\n",
    "user_dict"
   ]
  },
  {
   "cell_type": "code",
   "execution_count": null,
   "id": "c9c52423",
   "metadata": {},
   "outputs": [],
   "source": [
    "user_dict = {}\n",
    "n = 0\n",
    "for index, row in df4.iterrows():\n",
    "    name = row[0].strip('!')\n",
    "    name = name.strip(' ')\n",
    "    server = row[1]\n",
    "    count = row[2]\n",
    "    if name not in user_dict:\n",
    "        user_dict[name] = [[server],count]\n",
    "    else:\n",
    "        user_dict[name][0].append(server)\n",
    "        new = user_dict[name][1]+count\n",
    "        user_dict[name][1]=new\n",
    "user_dict"
   ]
  },
  {
   "cell_type": "code",
   "execution_count": null,
   "id": "ba82ebea",
   "metadata": {},
   "outputs": [],
   "source": [
    "pd.DataFrame(user_dict)"
   ]
  },
  {
   "cell_type": "code",
   "execution_count": null,
   "id": "cf3c5465",
   "metadata": {
    "scrolled": false
   },
   "outputs": [],
   "source": [
    "user_dict"
   ]
  }
 ],
 "metadata": {
  "kernelspec": {
   "display_name": "Python 3 (ipykernel)",
   "language": "python",
   "name": "python3"
  },
  "language_info": {
   "codemirror_mode": {
    "name": "ipython",
    "version": 3
   },
   "file_extension": ".py",
   "mimetype": "text/x-python",
   "name": "python",
   "nbconvert_exporter": "python",
   "pygments_lexer": "ipython3",
   "version": "3.9.7"
  }
 },
 "nbformat": 4,
 "nbformat_minor": 5
}
