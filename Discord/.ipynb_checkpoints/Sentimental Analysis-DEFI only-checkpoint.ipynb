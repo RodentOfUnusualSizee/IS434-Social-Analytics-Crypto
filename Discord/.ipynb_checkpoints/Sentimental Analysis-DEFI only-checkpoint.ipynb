{
 "cells": [
  {
   "cell_type": "code",
   "execution_count": 17,
   "id": "c0535bf1",
   "metadata": {},
   "outputs": [],
   "source": [
    "import pandas as pd"
   ]
  },
  {
   "cell_type": "code",
   "execution_count": 18,
   "id": "5ae977cc",
   "metadata": {},
   "outputs": [],
   "source": [
    "df = pd.read_csv(\"C:/Users/caleb/Documents/tmp/ssa/discordDeFiScrape700.csv\",encoding = \"ISO-8859-1\")"
   ]
  },
  {
   "cell_type": "code",
   "execution_count": 19,
   "id": "7415bb51",
   "metadata": {},
   "outputs": [
    {
     "data": {
      "text/html": [
       "<div>\n",
       "<style scoped>\n",
       "    .dataframe tbody tr th:only-of-type {\n",
       "        vertical-align: middle;\n",
       "    }\n",
       "\n",
       "    .dataframe tbody tr th {\n",
       "        vertical-align: top;\n",
       "    }\n",
       "\n",
       "    .dataframe thead th {\n",
       "        text-align: right;\n",
       "    }\n",
       "</style>\n",
       "<table border=\"1\" class=\"dataframe\">\n",
       "  <thead>\n",
       "    <tr style=\"text-align: right;\">\n",
       "      <th></th>\n",
       "      <th>messageID</th>\n",
       "      <th>author_id</th>\n",
       "      <th>author_username</th>\n",
       "      <th>content</th>\n",
       "      <th>timestamp</th>\n",
       "      <th>serverName</th>\n",
       "      <th>channelName</th>\n",
       "      <th>date</th>\n",
       "      <th>time</th>\n",
       "    </tr>\n",
       "  </thead>\n",
       "  <tbody>\n",
       "    <tr>\n",
       "      <th>0</th>\n",
       "      <td>9.495640e+17</td>\n",
       "      <td>1.355640e+17</td>\n",
       "      <td>Zapacheenie</td>\n",
       "      <td>Gas mighty cheap right now</td>\n",
       "      <td>5/3/2022 3:09:44 pm</td>\n",
       "      <td>SushiSwap Community</td>\n",
       "      <td>Price Talk</td>\n",
       "      <td>5/3/2022</td>\n",
       "      <td>3:09:44 PM</td>\n",
       "    </tr>\n",
       "    <tr>\n",
       "      <th>1</th>\n",
       "      <td>9.495640e+17</td>\n",
       "      <td>1.355640e+17</td>\n",
       "      <td>Zapacheenie</td>\n",
       "      <td>Learn'd and shided</td>\n",
       "      <td>5/3/2022 3:09:37 pm</td>\n",
       "      <td>SushiSwap Community</td>\n",
       "      <td>Price Talk</td>\n",
       "      <td>5/3/2022</td>\n",
       "      <td>3:09:37 PM</td>\n",
       "    </tr>\n",
       "    <tr>\n",
       "      <th>2</th>\n",
       "      <td>9.495090e+17</td>\n",
       "      <td>3.264530e+17</td>\n",
       "      <td>terrarekt</td>\n",
       "      <td>https://tenor.com/view/the-more-you-learn-and-...</td>\n",
       "      <td>5/3/2022 11:30:35 am</td>\n",
       "      <td>SushiSwap Community</td>\n",
       "      <td>Price Talk</td>\n",
       "      <td>5/3/2022</td>\n",
       "      <td>11:30:35 AM</td>\n",
       "    </tr>\n",
       "    <tr>\n",
       "      <th>3</th>\n",
       "      <td>9.494940e+17</td>\n",
       "      <td>2.850350e+17</td>\n",
       "      <td>ChronoFury</td>\n",
       "      <td>bots don't care about fundamentals, they just ...</td>\n",
       "      <td>5/3/2022 10:31:49 am</td>\n",
       "      <td>SushiSwap Community</td>\n",
       "      <td>Price Talk</td>\n",
       "      <td>5/3/2022</td>\n",
       "      <td>10:31:49 AM</td>\n",
       "    </tr>\n",
       "    <tr>\n",
       "      <th>4</th>\n",
       "      <td>9.494920e+17</td>\n",
       "      <td>7.884360e+17</td>\n",
       "      <td>WT Wizard</td>\n",
       "      <td>I was thinking same thing. Didn't know if I wa...</td>\n",
       "      <td>5/3/2022 10:23:36 am</td>\n",
       "      <td>SushiSwap Community</td>\n",
       "      <td>Price Talk</td>\n",
       "      <td>5/3/2022</td>\n",
       "      <td>10:23:36 AM</td>\n",
       "    </tr>\n",
       "  </tbody>\n",
       "</table>\n",
       "</div>"
      ],
      "text/plain": [
       "      messageID     author_id author_username  \\\n",
       "0  9.495640e+17  1.355640e+17     Zapacheenie   \n",
       "1  9.495640e+17  1.355640e+17     Zapacheenie   \n",
       "2  9.495090e+17  3.264530e+17       terrarekt   \n",
       "3  9.494940e+17  2.850350e+17      ChronoFury   \n",
       "4  9.494920e+17  7.884360e+17       WT Wizard   \n",
       "\n",
       "                                             content             timestamp  \\\n",
       "0                         Gas mighty cheap right now   5/3/2022 3:09:44 pm   \n",
       "1                                 Learn'd and shided   5/3/2022 3:09:37 pm   \n",
       "2  https://tenor.com/view/the-more-you-learn-and-...  5/3/2022 11:30:35 am   \n",
       "3  bots don't care about fundamentals, they just ...  5/3/2022 10:31:49 am   \n",
       "4  I was thinking same thing. Didn't know if I wa...  5/3/2022 10:23:36 am   \n",
       "\n",
       "            serverName channelName      date         time  \n",
       "0  SushiSwap Community  Price Talk  5/3/2022   3:09:44 PM  \n",
       "1  SushiSwap Community  Price Talk  5/3/2022   3:09:37 PM  \n",
       "2  SushiSwap Community  Price Talk  5/3/2022  11:30:35 AM  \n",
       "3  SushiSwap Community  Price Talk  5/3/2022  10:31:49 AM  \n",
       "4  SushiSwap Community  Price Talk  5/3/2022  10:23:36 AM  "
      ]
     },
     "execution_count": 19,
     "metadata": {},
     "output_type": "execute_result"
    }
   ],
   "source": [
    "df.head()"
   ]
  },
  {
   "cell_type": "code",
   "execution_count": 20,
   "id": "99ea91bf",
   "metadata": {},
   "outputs": [],
   "source": [
    "#extacting date from timestamp\n"
   ]
  },
  {
   "cell_type": "code",
   "execution_count": null,
   "id": "e638d596",
   "metadata": {},
   "outputs": [],
   "source": []
  },
  {
   "cell_type": "code",
   "execution_count": 21,
   "id": "e3fad000",
   "metadata": {},
   "outputs": [
    {
     "name": "stdout",
     "output_type": "stream",
     "text": [
      "<class 'pandas.core.frame.DataFrame'>\n",
      "RangeIndex: 585314 entries, 0 to 585313\n",
      "Data columns (total 9 columns):\n",
      " #   Column           Non-Null Count   Dtype  \n",
      "---  ------           --------------   -----  \n",
      " 0   messageID        585299 non-null  float64\n",
      " 1   author_id        585299 non-null  float64\n",
      " 2   author_username  585232 non-null  object \n",
      " 3   content          574370 non-null  object \n",
      " 4   timestamp        585299 non-null  object \n",
      " 5   serverName       585314 non-null  object \n",
      " 6   channelName      585314 non-null  object \n",
      " 7   date             585299 non-null  object \n",
      " 8   time             585299 non-null  object \n",
      "dtypes: float64(2), object(7)\n",
      "memory usage: 40.2+ MB\n"
     ]
    }
   ],
   "source": [
    "df.info()"
   ]
  },
  {
   "cell_type": "code",
   "execution_count": 22,
   "id": "dfd1c530",
   "metadata": {},
   "outputs": [],
   "source": [
    "#filling na with forward fill. \n",
    "df = df.fillna(method='ffill')"
   ]
  },
  {
   "cell_type": "code",
   "execution_count": 23,
   "id": "1e1c81a8",
   "metadata": {},
   "outputs": [
    {
     "name": "stdout",
     "output_type": "stream",
     "text": [
      "<class 'pandas.core.frame.DataFrame'>\n",
      "RangeIndex: 585314 entries, 0 to 585313\n",
      "Data columns (total 9 columns):\n",
      " #   Column           Non-Null Count   Dtype  \n",
      "---  ------           --------------   -----  \n",
      " 0   messageID        585314 non-null  float64\n",
      " 1   author_id        585314 non-null  float64\n",
      " 2   author_username  585314 non-null  object \n",
      " 3   content          585314 non-null  object \n",
      " 4   timestamp        585314 non-null  object \n",
      " 5   serverName       585314 non-null  object \n",
      " 6   channelName      585314 non-null  object \n",
      " 7   date             585314 non-null  object \n",
      " 8   time             585314 non-null  object \n",
      "dtypes: float64(2), object(7)\n",
      "memory usage: 40.2+ MB\n"
     ]
    }
   ],
   "source": [
    "df.info()"
   ]
  },
  {
   "cell_type": "code",
   "execution_count": 24,
   "id": "c56899c5",
   "metadata": {},
   "outputs": [],
   "source": [
    "# Preparing Text Data for Sentimental Analysis\n",
    "\n",
    "import numpy as np\n",
    "import re\n",
    "from nltk.corpus import stopwords\n",
    "\n",
    "stop = stopwords.words('english')\n",
    "\n",
    "def clean_content(contentInput):\n",
    "    if type(contentInput) == np.float:\n",
    "        return \"\"\n",
    "    contentInput = contentInput.lower()\n",
    "    contentInput = re.sub(\"'\", \"\", contentInput) # to avoid removing contractions in english\n",
    "    contentInput = re.sub(\"@[A-Za-z0-9_]+\",\"\", contentInput)\n",
    "    contentInput = re.sub(\"#[A-Za-z0-9_]+\",\"\", contentInput)\n",
    "    contentInput = re.sub(r'http\\S+', '', contentInput)\n",
    "    contentInput = re.sub('[()!?]', ' ', contentInput)\n",
    "    contentInput = re.sub('\\[.*?\\]',' ', contentInput)\n",
    "    contentInput = re.sub(\"[^a-z0-9]\",\" \", contentInput)\n",
    "    contentInput = contentInput.strip()\n",
    "    contentInput = contentInput.split()\n",
    "    contentInput = [w for w in contentInput if not w in stop]\n",
    "    contentInput = \" \".join(word for word in contentInput)\n",
    "    return contentInput"
   ]
  },
  {
   "cell_type": "code",
   "execution_count": 25,
   "id": "d83efab8",
   "metadata": {},
   "outputs": [],
   "source": [
    "#spliting data into months as for time series sentimental analysis\n",
    "#Geting start and end date of data\n",
    "monthList = pd.date_range('2021-01-01','2022-02-01', \n",
    "              freq='MS').strftime(\"%m/%Y\").tolist()\n",
    "\n",
    "#creating blank dict for later\n",
    "\n",
    "timeSplitData={}\n",
    "timeSplitDataSentiment = {}\n",
    "\n",
    "for month in monthList: \n",
    "    timeSplitData[month] = []\n",
    "    timeSplitDataSentiment[month] = []    \n"
   ]
  },
  {
   "cell_type": "code",
   "execution_count": 26,
   "id": "b716d6e0",
   "metadata": {},
   "outputs": [
    {
     "name": "stderr",
     "output_type": "stream",
     "text": [
      "C:\\Users\\caleb\\AppData\\Local\\Temp/ipykernel_11532/2008552245.py:10: DeprecationWarning: `np.float` is a deprecated alias for the builtin `float`. To silence this warning, use `float` by itself. Doing this will not modify any behavior and is safe. If you specifically wanted the numpy scalar type, use `np.float64` here.\n",
      "Deprecated in NumPy 1.20; for more details and guidance: https://numpy.org/devdocs/release/1.20.0-notes.html#deprecations\n",
      "  if type(contentInput) == np.float:\n"
     ]
    }
   ],
   "source": [
    "for row in df.iterrows():\n",
    "    #extracting month data from row\n",
    "    dateData = row[1]['date']\n",
    "    tmp = dateData.find('/') \n",
    "    monthData = dateData[tmp+1:] #removing day e.g '12/'\n",
    "    if len(monthData) == 6:\n",
    "        monthData = \"0\"+monthData\n",
    "    \n",
    "    if monthData in timeSplitData: # check if data is in range of date we want to analyli\n",
    "        content = row[1]['content']\n",
    "        #cleaning Data\n",
    "        cleaned = clean_content(content)\n",
    "        #Storing into time split dict\n",
    "        timeSplitData[monthData].append(cleaned)\n"
   ]
  },
  {
   "cell_type": "code",
   "execution_count": 27,
   "id": "d2b5814b",
   "metadata": {},
   "outputs": [
    {
     "name": "stderr",
     "output_type": "stream",
     "text": [
      "[nltk_data] Downloading package vader_lexicon to\n",
      "[nltk_data]     C:\\Users\\caleb\\AppData\\Roaming\\nltk_data...\n",
      "[nltk_data]   Package vader_lexicon is already up-to-date!\n"
     ]
    }
   ],
   "source": [
    "import nltk\n",
    "nltk.download('vader_lexicon')\n",
    "from nltk.sentiment.vader import SentimentIntensityAnalyzer\n",
    "\n",
    "sid = SentimentIntensityAnalyzer()"
   ]
  },
  {
   "cell_type": "code",
   "execution_count": 28,
   "id": "c526934b",
   "metadata": {},
   "outputs": [
    {
     "name": "stdout",
     "output_type": "stream",
     "text": [
      "{'neg': 0.444, 'neu': 0.556, 'pos': 0.0, 'compound': -0.4927}\n",
      "{'neg': 0.0, 'neu': 0.656, 'pos': 0.344, 'compound': 0.2732}\n"
     ]
    }
   ],
   "source": [
    "## VADER testing and understanding\n",
    "\n",
    "testText = \"really painful see sushi chart\"\n",
    "negativeTest = sid.polarity_scores(testText)\n",
    "\n",
    "testText = \"market doing well go up\"\n",
    "positiveTest = sid.polarity_scores(testText)\n",
    "## compound can be use to net the sentiment.. negative mean bear\n",
    "\n",
    "print(negativeTest)\n",
    "print(positiveTest)"
   ]
  },
  {
   "cell_type": "code",
   "execution_count": 29,
   "id": "b6ef7c61",
   "metadata": {},
   "outputs": [],
   "source": [
    "## Geting Sentiment Score using VANDER's sentiment model\n",
    "for month in timeSplitData:\n",
    "    for content in timeSplitData[month]:\n",
    "        output = sid.polarity_scores(content)\n",
    "        timeSplitDataSentiment[month].append(output)\n"
   ]
  },
  {
   "cell_type": "code",
   "execution_count": 30,
   "id": "8845b700",
   "metadata": {},
   "outputs": [],
   "source": [
    "## Calculating Net Weighted Sentiment Score\n",
    "timeSplitDataNetScore = {}\n",
    "for month in monthList:\n",
    "    timeSplitDataNetScore[month] = 0 \n",
    "    \n",
    "for month in timeSplitDataSentiment:\n",
    "    for output in timeSplitDataSentiment[month]:\n",
    "        compound = output['compound']\n",
    "        compound = compound / len(timeSplitDataSentiment[month])\n",
    "        timeSplitDataNetScore[month] +=compound\n"
   ]
  },
  {
   "cell_type": "code",
   "execution_count": 31,
   "id": "bcdf6ce7",
   "metadata": {},
   "outputs": [
    {
     "data": {
      "text/plain": [
       "{'01/2021': 0.1285764868271029,\n",
       " '02/2021': 0.11603631265814265,\n",
       " '03/2021': 0.11916227489252676,\n",
       " '04/2021': 0.12824395467269123,\n",
       " '05/2021': 0.11030108636611352,\n",
       " '06/2021': 0.1338788863891997,\n",
       " '07/2021': 0.16329197087571948,\n",
       " '08/2021': 0.156825176252318,\n",
       " '09/2021': 0.1381636323903369,\n",
       " '10/2021': 0.14414375289300024,\n",
       " '11/2021': 0.12255589635853548,\n",
       " '12/2021': 0.11297744831012566,\n",
       " '01/2022': 0.11114532860467297,\n",
       " '02/2022': 0.13490676511195052}"
      ]
     },
     "execution_count": 31,
     "metadata": {},
     "output_type": "execute_result"
    }
   ],
   "source": [
    "timeSplitDataNetScore"
   ]
  },
  {
   "cell_type": "code",
   "execution_count": 34,
   "id": "d959e007",
   "metadata": {},
   "outputs": [
    {
     "data": {
      "image/png": "[encoded data removed]",
      "text/plain": [
       "<Figure size 432x288 with 1 Axes>"
      ]
     },
     "metadata": {
      "needs_background": "light"
     },
     "output_type": "display_data"
    }
   ],
   "source": [
    "import matplotlib.pyplot as plt\n",
    "\n",
    "xAxis = []\n",
    "yAxis = []\n",
    "\n",
    "for date in timeSplitDataNetScore:\n",
    "    xAxis.append(date)\n",
    "    yAxis.append(timeSplitDataNetScore[date])\n",
    "\n",
    "plt.plot(xAxis,yAxis, color='red', marker='o')\n",
    "plt.title('Discord DEFI CryptoCurrency Sentimental Analysis')\n",
    "plt.xlabel('Month')\n",
    "plt.xticks(rotation=45)\n",
    "plt.ylabel('Net Sentiment')\n",
    "# plt.grid(True)\n",
    "plt.show()"
   ]
  }
 ],
 "metadata": {
  "kernelspec": {
   "display_name": "Python 3 (ipykernel)",
   "language": "python",
   "name": "python3"
  },
  "language_info": {
   "codemirror_mode": {
    "name": "ipython",
    "version": 3
   },
   "file_extension": ".py",
   "mimetype": "text/x-python",
   "name": "python",
   "nbconvert_exporter": "python",
   "pygments_lexer": "ipython3",
   "version": "3.9.7"
  }
 },
 "nbformat": 4,
 "nbformat_minor": 5
}
