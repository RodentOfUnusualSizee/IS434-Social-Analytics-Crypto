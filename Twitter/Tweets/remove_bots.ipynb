{
 "cells": [
  {
   "cell_type": "code",
   "execution_count": 53,
   "metadata": {},
   "outputs": [],
   "source": [
    "#imports \n",
    "import pandas as pd"
   ]
  },
  {
   "cell_type": "code",
   "execution_count": 54,
   "metadata": {},
   "outputs": [
    {
     "data": {
      "text/plain": [
       "Date                       ID            Content                                                                                                                                                                                                                                                                                                                                            Username       \n",
       "2021-09-01 00:03:00+00:00  1.432856e+18  ðŸš¨ Don't miss the next move in a few hours ðŸ‘ŒðŸ‘ŒðŸ‘ŒðŸ‘ŒðŸ‘ŒðŸ‘Œ ðŸ‘ŒðŸ‘Œ  $TRX $EOS $SHIB $AAVE $CRO $BSV $ALGO $MKR $FIL $LUNA $FTT $XTZ $BTCB  $CAKE $KLAY $AMP $ATOM $NEO $LEO $MIOTA $TFUEL $AVAX $XMR  ðŸŽ¯ Chat-R00m details in B!0 ðŸŽ¯ https://t.co/sUykmTqY3t                                                                       Richardsscrypto    1\n",
       "2021-12-26 06:06:32+00:00  1.474985e+18  Patients receive medical care of low quality, due to the lack of an effective mechanisms for monitoring and developing the healthcare industry and @DeHealth_World is here to fix this https://t.co/SS2gnY4rb7 $DOT $LINK $SNX $BADGER $AAVE $COMP $ATOM $1INCH $MATIC $INJ $COMP $AAVE                                                            ButlErnest         1\n",
       "2021-12-26 06:47:41+00:00  1.474995e+18  Good morning â›…ï¸â›…ï¸â›…ï¸ $AAVE pulling back after a beautiful 55% and hitting 2 out of 3 exits for me.  A pullback is expected as discussed, will see how deep we go - ideally we hold the 208$ region (if we do - I will add back what I sold) and trade it as per W chart.  ðŸ™ŒðŸ™ŒðŸ™Œ https://t.co/6KHcYwrggB https://t.co/3ahwxkNXDW  ValCoins           1\n",
       "2021-12-26 06:42:36+00:00  1.474994e+18  easiest and most passive (but also high yield) way is @anchor_protocol, which currently pays out ~19.5% APY in $UST.  $Luna $MIR $ANC $UST $BTC $RUNE $ATOM  $OCEAN $cake $shib $BNB $AXS $MATIC $LINK $MINE $EGLD $ENJ $AAVE $Lota $SPEC $AVAX $ETH $FLOKI  $CAKE $EGLD https://t.co/fwDdyPd3HD                                                   Corp_promotion     1\n",
       "2021-12-26 06:37:18+00:00  1.474993e+18  Top 5 Mentions Updated Every 15 Minutes    [BETA STAGE] Except BTC and ETH      1- $ATOM:223874 point ðŸš€    2- $MKR:174167 point ðŸš€    3- $ALGO:168965 point ðŸš€    4- $CRV:168382 point ðŸš€    5- $AAVE:165590 point ðŸš€                                                                                                                   cryptotrendin      1\n",
       "                                                                                                                                                                                                                                                                                                                                                                                                              ..\n",
       "2021-10-27 15:18:40+00:00  1.453381e+18  @avalanche_esp @AaveAave @CurveFinance https://t.co/DeVI0ti7CO tiene sentido que tether en 24 hora mueva casi el doble de su capitalisacion del mercado?                                                                                                                                                                                           babuOO3            1\n",
       "2021-10-27 15:17:34+00:00  1.453380e+18  $AAVE is up sharply today by upbit, effectively breaking the 120-day SMA, but after the market heat waned, it still fell sharply by $BTC. k-line pattern is poor, pay attention to the risk if it falls below support. Support 326 Pressure 413 https://t.co/EdFcBcElHW #BTC #altcoin https://t.co/TAZYqTPl2y                                      Crypto_Expertse    1\n",
       "2021-10-27 15:17:08+00:00  1.453380e+18  $AAVE is up sharply today by upbit, effectively breaking the 120-day SMA, but after the market heat waned, it still fell sharply by $BTC. k-line pattern is poor, pay attention to the risk if it falls below support. Support 326 Pressure 413 https://t.co/8GeGmVBDME #BTC #altcoin https://t.co/p2g5qpx9HZ                                      Crypto_llon        1\n",
       "2021-10-27 15:16:56+00:00  1.453380e+18  Which coin should I analyze next for u ? ;) $dydx $mana #aave $aave #dydx  #mana #omg $omg                                                                                                                                                                                                                                                         CMarshallAlison    1\n",
       "2022-03-05 23:46:39+00:00  1.500257e+18  Swing ðŸš¥  $FLOW ðŸŸ¡ $5.83 $WAVES ðŸŸ¡ $17.08 $MKR ðŸŸ¡ $1,837.00 $BTT ðŸŸ¡ $0.00 $AAVE ðŸŸ¡ $124.20 $CAKE ðŸŸ¡ $6.19 $ONE ðŸŸ¡ $0.14 $GRT ðŸŸ¡ $0.35 $ZEC ðŸŸ¡ $116.20 $RUNE ðŸŸ¡ $4.79  https://t.co/xzqH6Lzadq                                                                                                                                quant_coin         1\n",
       "Length: 97564, dtype: int64"
      ]
     },
     "execution_count": 54,
     "metadata": {},
     "output_type": "execute_result"
    }
   ],
   "source": [
    "#import xlsx as pd\n",
    "data = pd.read_excel('aave.xlsx',sheet_name='AAVETweets',header=0)\n",
    "\n",
    "data.value_counts()"
   ]
  },
  {
   "cell_type": "code",
   "execution_count": 56,
   "metadata": {},
   "outputs": [
    {
     "ename": "TypeError",
     "evalue": "bad operand type for unary ~: 'float'",
     "output_type": "error",
     "traceback": [
      "\u001b[1;31m---------------------------------------------------------------------------\u001b[0m",
      "\u001b[1;31mTypeError\u001b[0m                                 Traceback (most recent call last)",
      "\u001b[1;32m<ipython-input-56-9dce4eb82ed1>\u001b[0m in \u001b[0;36m<module>\u001b[1;34m\u001b[0m\n\u001b[0;32m      1\u001b[0m \u001b[1;31m#remove row if content contains bot\u001b[0m\u001b[1;33m\u001b[0m\u001b[1;33m\u001b[0m\u001b[1;33m\u001b[0m\u001b[0m\n\u001b[1;32m----> 2\u001b[1;33m \u001b[0mdata\u001b[0m \u001b[1;33m=\u001b[0m \u001b[0mdata\u001b[0m\u001b[1;33m[\u001b[0m\u001b[1;33m~\u001b[0m\u001b[0mdata\u001b[0m\u001b[1;33m[\u001b[0m\u001b[1;34m'Content'\u001b[0m\u001b[1;33m]\u001b[0m\u001b[1;33m.\u001b[0m\u001b[0mstr\u001b[0m\u001b[1;33m.\u001b[0m\u001b[0mcontains\u001b[0m\u001b[1;33m(\u001b[0m\u001b[1;34m'bot'\u001b[0m\u001b[1;33m)\u001b[0m\u001b[1;33m]\u001b[0m\u001b[1;33m\u001b[0m\u001b[1;33m\u001b[0m\u001b[0m\n\u001b[0m\u001b[0;32m      3\u001b[0m \u001b[1;33m\u001b[0m\u001b[0m\n\u001b[0;32m      4\u001b[0m \u001b[1;33m\u001b[0m\u001b[0m\n\u001b[0;32m      5\u001b[0m \u001b[0mdata\u001b[0m\u001b[1;33m.\u001b[0m\u001b[0mvalue_counts\u001b[0m\u001b[1;33m(\u001b[0m\u001b[1;33m)\u001b[0m\u001b[1;33m\u001b[0m\u001b[1;33m\u001b[0m\u001b[0m\n",
      "\u001b[1;32mC:\\ProgramData\\Anaconda3\\lib\\site-packages\\pandas\\core\\generic.py\u001b[0m in \u001b[0;36m__invert__\u001b[1;34m(self)\u001b[0m\n\u001b[0;32m   1528\u001b[0m             \u001b[1;32mreturn\u001b[0m \u001b[0mself\u001b[0m\u001b[1;33m\u001b[0m\u001b[1;33m\u001b[0m\u001b[0m\n\u001b[0;32m   1529\u001b[0m \u001b[1;33m\u001b[0m\u001b[0m\n\u001b[1;32m-> 1530\u001b[1;33m         \u001b[0mnew_data\u001b[0m \u001b[1;33m=\u001b[0m \u001b[0mself\u001b[0m\u001b[1;33m.\u001b[0m\u001b[0m_mgr\u001b[0m\u001b[1;33m.\u001b[0m\u001b[0mapply\u001b[0m\u001b[1;33m(\u001b[0m\u001b[0moperator\u001b[0m\u001b[1;33m.\u001b[0m\u001b[0minvert\u001b[0m\u001b[1;33m)\u001b[0m\u001b[1;33m\u001b[0m\u001b[1;33m\u001b[0m\u001b[0m\n\u001b[0m\u001b[0;32m   1531\u001b[0m         \u001b[1;32mreturn\u001b[0m \u001b[0mself\u001b[0m\u001b[1;33m.\u001b[0m\u001b[0m_constructor\u001b[0m\u001b[1;33m(\u001b[0m\u001b[0mnew_data\u001b[0m\u001b[1;33m)\u001b[0m\u001b[1;33m.\u001b[0m\u001b[0m__finalize__\u001b[0m\u001b[1;33m(\u001b[0m\u001b[0mself\u001b[0m\u001b[1;33m,\u001b[0m \u001b[0mmethod\u001b[0m\u001b[1;33m=\u001b[0m\u001b[1;34m\"__invert__\"\u001b[0m\u001b[1;33m)\u001b[0m\u001b[1;33m\u001b[0m\u001b[1;33m\u001b[0m\u001b[0m\n\u001b[0;32m   1532\u001b[0m \u001b[1;33m\u001b[0m\u001b[0m\n",
      "\u001b[1;32mC:\\ProgramData\\Anaconda3\\lib\\site-packages\\pandas\\core\\internals\\managers.py\u001b[0m in \u001b[0;36mapply\u001b[1;34m(self, f, align_keys, ignore_failures, **kwargs)\u001b[0m\n\u001b[0;32m    300\u001b[0m             \u001b[1;32mtry\u001b[0m\u001b[1;33m:\u001b[0m\u001b[1;33m\u001b[0m\u001b[1;33m\u001b[0m\u001b[0m\n\u001b[0;32m    301\u001b[0m                 \u001b[1;32mif\u001b[0m \u001b[0mcallable\u001b[0m\u001b[1;33m(\u001b[0m\u001b[0mf\u001b[0m\u001b[1;33m)\u001b[0m\u001b[1;33m:\u001b[0m\u001b[1;33m\u001b[0m\u001b[1;33m\u001b[0m\u001b[0m\n\u001b[1;32m--> 302\u001b[1;33m                     \u001b[0mapplied\u001b[0m \u001b[1;33m=\u001b[0m \u001b[0mb\u001b[0m\u001b[1;33m.\u001b[0m\u001b[0mapply\u001b[0m\u001b[1;33m(\u001b[0m\u001b[0mf\u001b[0m\u001b[1;33m,\u001b[0m \u001b[1;33m**\u001b[0m\u001b[0mkwargs\u001b[0m\u001b[1;33m)\u001b[0m\u001b[1;33m\u001b[0m\u001b[1;33m\u001b[0m\u001b[0m\n\u001b[0m\u001b[0;32m    303\u001b[0m                 \u001b[1;32melse\u001b[0m\u001b[1;33m:\u001b[0m\u001b[1;33m\u001b[0m\u001b[1;33m\u001b[0m\u001b[0m\n\u001b[0;32m    304\u001b[0m                     \u001b[0mapplied\u001b[0m \u001b[1;33m=\u001b[0m \u001b[0mgetattr\u001b[0m\u001b[1;33m(\u001b[0m\u001b[0mb\u001b[0m\u001b[1;33m,\u001b[0m \u001b[0mf\u001b[0m\u001b[1;33m)\u001b[0m\u001b[1;33m(\u001b[0m\u001b[1;33m**\u001b[0m\u001b[0mkwargs\u001b[0m\u001b[1;33m)\u001b[0m\u001b[1;33m\u001b[0m\u001b[1;33m\u001b[0m\u001b[0m\n",
      "\u001b[1;32mC:\\ProgramData\\Anaconda3\\lib\\site-packages\\pandas\\core\\internals\\blocks.py\u001b[0m in \u001b[0;36mapply\u001b[1;34m(self, func, **kwargs)\u001b[0m\n\u001b[0;32m    400\u001b[0m         \u001b[0mone\u001b[0m\u001b[1;33m\u001b[0m\u001b[1;33m\u001b[0m\u001b[0m\n\u001b[0;32m    401\u001b[0m         \"\"\"\n\u001b[1;32m--> 402\u001b[1;33m         \u001b[0mresult\u001b[0m \u001b[1;33m=\u001b[0m \u001b[0mfunc\u001b[0m\u001b[1;33m(\u001b[0m\u001b[0mself\u001b[0m\u001b[1;33m.\u001b[0m\u001b[0mvalues\u001b[0m\u001b[1;33m,\u001b[0m \u001b[1;33m**\u001b[0m\u001b[0mkwargs\u001b[0m\u001b[1;33m)\u001b[0m\u001b[1;33m\u001b[0m\u001b[1;33m\u001b[0m\u001b[0m\n\u001b[0m\u001b[0;32m    403\u001b[0m \u001b[1;33m\u001b[0m\u001b[0m\n\u001b[0;32m    404\u001b[0m         \u001b[1;32mreturn\u001b[0m \u001b[0mself\u001b[0m\u001b[1;33m.\u001b[0m\u001b[0m_split_op_result\u001b[0m\u001b[1;33m(\u001b[0m\u001b[0mresult\u001b[0m\u001b[1;33m)\u001b[0m\u001b[1;33m\u001b[0m\u001b[1;33m\u001b[0m\u001b[0m\n",
      "\u001b[1;31mTypeError\u001b[0m: bad operand type for unary ~: 'float'"
     ]
    }
   ],
   "source": [
    "#remove row if content contains bot\n",
    "data = data[~data['Username'].str.contains('bot')]\n",
    "data = data[~data['Username'].str.contains('Bot')]\n",
    "data = data[~data['Content'].str.contains('bot')]\n",
    "data = data[~data['Content'].str.contains('Bot')]\n",
    "\n",
    "data.value_counts()\n"
   ]
  },
  {
   "cell_type": "code",
   "execution_count": null,
   "metadata": {},
   "outputs": [],
   "source": [
    "#remove duplicate of content\n",
    "data = data.drop_duplicates(subset=['Content'])\n",
    "data.value_counts()\n"
   ]
  },
  {
   "cell_type": "code",
   "execution_count": null,
   "metadata": {},
   "outputs": [],
   "source": [
    "#clean tweets\n",
    "import re\n",
    "\n",
    "#iterate through content\n",
    "for i in range(len(data)):\n",
    "    #remove links\n",
    "    data['Content'][i] = re.sub(r'http\\S+', '', data['Content'][i])\n",
    "    #remove hashtags\n",
    "    data['Content'][i] = re.sub(r'#\\S+', '', data['Content'][i])\n",
    "    #remove mentions\n",
    "    data['Content'][i] = re.sub(r'@\\S+', '', data['Content'][i])\n",
    "    #remove punctuation\n",
    "    data['Content'][i] = re.sub(r'[^\\w\\s]','',data['Content'][i])\n",
    "    #remove numbers\n",
    "    data['Content'][i] = re.sub(r'\\d+','',data['Content'][i])\n",
    "    #remove multiple spaces\n",
    "    data['Content'][i] = re.sub(r'\\s+',' ',data['Content'][i])\n",
    "    #remove leading and trailing spaces\n",
    "    data['Content'][i] = data['Content'][i].strip()\n",
    "    #remove leading and trailing spaces\n",
    "    data['Content'][i] = data['Content'][i].strip()\n",
    "\n",
    "data.head()"
   ]
  },
  {
   "cell_type": "code",
   "execution_count": null,
   "metadata": {},
   "outputs": [],
   "source": [
    "#save dataframe back to sheet\n",
    "data.to_excel('aave.xlsx',sheet_name='AAVETweets',index=False)\n"
   ]
  }
 ],
 "metadata": {
  "interpreter": {
   "hash": "b3ba2566441a7c06988d0923437866b63cedc61552a5af99d1f4fb67d367b25f"
  },
  "kernelspec": {
   "display_name": "Python 3.8.3 ('base')",
   "language": "python",
   "name": "python3"
  },
  "language_info": {
   "codemirror_mode": {
    "name": "ipython",
    "version": 3
   },
   "file_extension": ".py",
   "mimetype": "text/x-python",
   "name": "python",
   "nbconvert_exporter": "python",
   "pygments_lexer": "ipython3",
   "version": "3.8.3"
  },
  "orig_nbformat": 4
 },
 "nbformat": 4,
 "nbformat_minor": 2
}
