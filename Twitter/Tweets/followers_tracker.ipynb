{
 "cells": [
  {
   "cell_type": "markdown",
   "metadata": {},
   "source": [
    "Find unique tweeters and number of tweets"
   ]
  },
  {
   "cell_type": "code",
   "execution_count": 156,
   "metadata": {},
   "outputs": [],
   "source": [
    "#imports \n",
    "import pandas as pd"
   ]
  },
  {
   "cell_type": "code",
   "execution_count": 157,
   "metadata": {},
   "outputs": [],
   "source": [
    "#import xlsx as pd\n",
    "data = pd.read_excel('aave.xlsx',sheet_name='AAVETweets',header=0)"
   ]
  },
  {
   "cell_type": "code",
   "execution_count": 158,
   "metadata": {},
   "outputs": [
    {
     "data": {
      "text/html": [
       "<div>\n",
       "<style scoped>\n",
       "    .dataframe tbody tr th:only-of-type {\n",
       "        vertical-align: middle;\n",
       "    }\n",
       "\n",
       "    .dataframe tbody tr th {\n",
       "        vertical-align: top;\n",
       "    }\n",
       "\n",
       "    .dataframe thead th {\n",
       "        text-align: right;\n",
       "    }\n",
       "</style>\n",
       "<table border=\"1\" class=\"dataframe\">\n",
       "  <thead>\n",
       "    <tr style=\"text-align: right;\">\n",
       "      <th></th>\n",
       "      <th>Date</th>\n",
       "      <th>ID</th>\n",
       "      <th>Content</th>\n",
       "      <th>Username</th>\n",
       "    </tr>\n",
       "  </thead>\n",
       "  <tbody>\n",
       "    <tr>\n",
       "      <th>0</th>\n",
       "      <td>2022-03-05 23:46:39+00:00</td>\n",
       "      <td>1.500257e+18</td>\n",
       "      <td>Swing ðŸš¥  $FLOW ðŸŸ¡ $5.83 $WAVES ðŸŸ¡ $17.0...</td>\n",
       "      <td>quant_coin</td>\n",
       "    </tr>\n",
       "    <tr>\n",
       "      <th>1</th>\n",
       "      <td>2022-03-05 23:33:59+00:00</td>\n",
       "      <td>1.500253e+18</td>\n",
       "      <td>@apyfinance All of the folks in this chat are ...</td>\n",
       "      <td>MarkJoh16435560</td>\n",
       "    </tr>\n",
       "    <tr>\n",
       "      <th>2</th>\n",
       "      <td>2022-03-05 23:31:11+00:00</td>\n",
       "      <td>1.500253e+18</td>\n",
       "      <td>7/19 âž¡ï¸ Why is this so important for the @...</td>\n",
       "      <td>daic_capital</td>\n",
       "    </tr>\n",
       "    <tr>\n",
       "      <th>3</th>\n",
       "      <td>2022-03-05 23:30:15+00:00</td>\n",
       "      <td>1.500252e+18</td>\n",
       "      <td>Aave $AAVE Price IDR: Rp 1,797,656 Price USD: ...</td>\n",
       "      <td>GetCuan</td>\n",
       "    </tr>\n",
       "    <tr>\n",
       "      <th>4</th>\n",
       "      <td>2022-03-05 23:29:38+00:00</td>\n",
       "      <td>1.500252e+18</td>\n",
       "      <td>$AAVE  Was looking for a breakout, but looks w...</td>\n",
       "      <td>Tao_Of_Trading</td>\n",
       "    </tr>\n",
       "  </tbody>\n",
       "</table>\n",
       "</div>"
      ],
      "text/plain": [
       "                        Date            ID  \\\n",
       "0  2022-03-05 23:46:39+00:00  1.500257e+18   \n",
       "1  2022-03-05 23:33:59+00:00  1.500253e+18   \n",
       "2  2022-03-05 23:31:11+00:00  1.500253e+18   \n",
       "3  2022-03-05 23:30:15+00:00  1.500252e+18   \n",
       "4  2022-03-05 23:29:38+00:00  1.500252e+18   \n",
       "\n",
       "                                             Content         Username  \n",
       "0  Swing ðŸš¥  $FLOW ðŸŸ¡ $5.83 $WAVES ðŸŸ¡ $17.0...       quant_coin  \n",
       "1  @apyfinance All of the folks in this chat are ...  MarkJoh16435560  \n",
       "2  7/19 âž¡ï¸ Why is this so important for the @...     daic_capital  \n",
       "3  Aave $AAVE Price IDR: Rp 1,797,656 Price USD: ...          GetCuan  \n",
       "4  $AAVE  Was looking for a breakout, but looks w...   Tao_Of_Trading  "
      ]
     },
     "execution_count": 158,
     "metadata": {},
     "output_type": "execute_result"
    }
   ],
   "source": [
    "#view data\n",
    "data.head()"
   ]
  },
  {
   "cell_type": "code",
   "execution_count": 159,
   "metadata": {},
   "outputs": [],
   "source": [
    "#remove content and date and id\n",
    "data = data.drop(['Content','Date','ID'],axis=1)\n"
   ]
  },
  {
   "cell_type": "code",
   "execution_count": 160,
   "metadata": {},
   "outputs": [],
   "source": [
    "#new column named community\n",
    "data['community'] = 'Aave'"
   ]
  },
  {
   "cell_type": "code",
   "execution_count": 161,
   "metadata": {},
   "outputs": [],
   "source": [
    "#retrieve communities.csv\n",
    "communities = pd.read_csv('communities.csv')\n",
    "\n"
   ]
  },
  {
   "cell_type": "code",
   "execution_count": 162,
   "metadata": {},
   "outputs": [
    {
     "name": "stderr",
     "output_type": "stream",
     "text": [
      "<ipython-input-162-737d3efaa6c5>:2: FutureWarning: The frame.append method is deprecated and will be removed from pandas in a future version. Use pandas.concat instead.\n",
      "  communities = communities.append(data)\n"
     ]
    },
    {
     "data": {
      "text/plain": [
       "array(['UniSwap', 'SushiSwap', 'MakerDAO', 'Curve Finance', 'Compound',\n",
       "       'Aave'], dtype=object)"
      ]
     },
     "execution_count": 162,
     "metadata": {},
     "output_type": "execute_result"
    }
   ],
   "source": [
    "#append data to communities\n",
    "communities = communities.append(data)\n",
    "\n",
    "#communities to csv\n",
    "communities.to_csv('communities.csv',index=False)\n",
    "\n",
    "#see unique values of communities\n",
    "communities.community.unique()"
   ]
  }
 ],
 "metadata": {
  "interpreter": {
   "hash": "b3ba2566441a7c06988d0923437866b63cedc61552a5af99d1f4fb67d367b25f"
  },
  "kernelspec": {
   "display_name": "Python 3.8.3 ('base')",
   "language": "python",
   "name": "python3"
  },
  "language_info": {
   "codemirror_mode": {
    "name": "ipython",
    "version": 3
   },
   "file_extension": ".py",
   "mimetype": "text/x-python",
   "name": "python",
   "nbconvert_exporter": "python",
   "pygments_lexer": "ipython3",
   "version": "3.8.3"
  },
  "orig_nbformat": 4
 },
 "nbformat": 4,
 "nbformat_minor": 2
}
